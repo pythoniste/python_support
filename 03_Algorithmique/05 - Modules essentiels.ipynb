{
 "cells": [
  {
   "cell_type": "markdown",
   "id": "medieval-statement",
   "metadata": {},
   "source": [
    "String\n",
    "--"
   ]
  },
  {
   "cell_type": "code",
   "execution_count": null,
   "id": "productive-ottawa",
   "metadata": {},
   "outputs": [],
   "source": [
    "import string\n",
    "dir(string)"
   ]
  },
  {
   "cell_type": "code",
   "execution_count": null,
   "id": "friendly-sheet",
   "metadata": {},
   "outputs": [],
   "source": [
    "string.whitespace"
   ]
  },
  {
   "cell_type": "code",
   "execution_count": null,
   "id": "wrong-pledge",
   "metadata": {},
   "outputs": [],
   "source": [
    "string.printable"
   ]
  },
  {
   "cell_type": "code",
   "execution_count": null,
   "id": "swiss-floating",
   "metadata": {},
   "outputs": [],
   "source": [
    "string.ascii_letters"
   ]
  },
  {
   "cell_type": "markdown",
   "id": "silent-nerve",
   "metadata": {},
   "source": [
    "Random\n",
    "--"
   ]
  },
  {
   "cell_type": "code",
   "execution_count": null,
   "id": "willing-understanding",
   "metadata": {},
   "outputs": [],
   "source": [
    "from random import randint"
   ]
  },
  {
   "cell_type": "code",
   "execution_count": null,
   "id": "anticipated-startup",
   "metadata": {},
   "outputs": [],
   "source": [
    "help(randint)"
   ]
  },
  {
   "cell_type": "code",
   "execution_count": null,
   "id": "facial-process",
   "metadata": {},
   "outputs": [],
   "source": [
    "randint(50, 100)"
   ]
  },
  {
   "cell_type": "code",
   "execution_count": null,
   "id": "overall-massage",
   "metadata": {},
   "outputs": [],
   "source": [
    "from random import choice\n",
    "choice(string.ascii_letters)"
   ]
  },
  {
   "cell_type": "code",
   "execution_count": null,
   "id": "unlike-lodge",
   "metadata": {},
   "outputs": [],
   "source": [
    "from random import choices\n",
    "choices(string.ascii_letters, k=16)"
   ]
  },
  {
   "cell_type": "code",
   "execution_count": null,
   "id": "reported-barrier",
   "metadata": {},
   "outputs": [],
   "source": [
    "from random import choices\n",
    "choices(string.ascii_lowercase, range(26))"
   ]
  },
  {
   "cell_type": "code",
   "execution_count": null,
   "id": "warming-dating",
   "metadata": {},
   "outputs": [],
   "source": [
    "choices(\n",
    "    *(string.ascii_lowercase, range(26))\n",
    ")"
   ]
  },
  {
   "cell_type": "code",
   "execution_count": null,
   "id": "adult-algorithm",
   "metadata": {},
   "outputs": [],
   "source": [
    "d = {\"a\": 95, \"b\": 3, \"c\": 1, \"d\": 1}\n",
    "choices(*list(zip(*d.items())), k=1)"
   ]
  },
  {
   "cell_type": "code",
   "execution_count": null,
   "id": "awful-breakdown",
   "metadata": {},
   "outputs": [],
   "source": [
    "from random import sample\n",
    "sample(string.ascii_letters, 3)"
   ]
  },
  {
   "cell_type": "code",
   "execution_count": null,
   "id": "billion-essay",
   "metadata": {},
   "outputs": [],
   "source": [
    "from random import shuffle\n",
    "l = list(string.ascii_letters)\n",
    "shuffle(l)\n",
    "print(l)"
   ]
  },
  {
   "cell_type": "markdown",
   "id": "velvet-battle",
   "metadata": {},
   "source": [
    "**functools**\n",
    "--"
   ]
  },
  {
   "cell_type": "code",
   "execution_count": null,
   "id": "adopted-firmware",
   "metadata": {},
   "outputs": [],
   "source": [
    "from datetime import datetime\n",
    "from pytz import timezone\n",
    "\n",
    "print(datetime(2021, 1, 1))\n",
    "print(datetime(2021, 1, 1, tzinfo=timezone(\"Europe/Paris\")))"
   ]
  },
  {
   "cell_type": "code",
   "execution_count": null,
   "id": "piano-denmark",
   "metadata": {},
   "outputs": [],
   "source": [
    "from functools import partial\n",
    "datetime = partial(datetime, tzinfo=timezone(\"Europe/Paris\"))\n",
    "\n",
    "print(datetime(2021, 1, 1))"
   ]
  },
  {
   "cell_type": "code",
   "execution_count": null,
   "id": "civilian-switch",
   "metadata": {},
   "outputs": [],
   "source": [
    "from datetime import datetime\n",
    "from functools import partial\n",
    "datetime = partial(datetime, 2021, tzinfo=timezone(\"Europe/Paris\"))\n",
    "\n",
    "print(datetime(1, 1))"
   ]
  },
  {
   "cell_type": "code",
   "execution_count": null,
   "id": "manufactured-nigeria",
   "metadata": {},
   "outputs": [],
   "source": [
    "from functools import lru_cache\n",
    "\n",
    "@lru_cache(maxsize=None)\n",
    "def fib(n):\n",
    "    if n < 2:\n",
    "        return n\n",
    "    return fib(n-1) + fib(n-2)\n",
    "\n",
    "print(fib(6))"
   ]
  },
  {
   "cell_type": "code",
   "execution_count": null,
   "id": "variable-appearance",
   "metadata": {},
   "outputs": [],
   "source": [
    "fib.cache_info()"
   ]
  },
  {
   "cell_type": "code",
   "execution_count": null,
   "id": "dress-cradle",
   "metadata": {},
   "outputs": [],
   "source": [
    "print(fib(3))\n",
    "fib.cache_info()"
   ]
  },
  {
   "cell_type": "code",
   "execution_count": null,
   "id": "identified-shift",
   "metadata": {},
   "outputs": [],
   "source": [
    "print(fib(8))\n",
    "fib.cache_info()"
   ]
  },
  {
   "cell_type": "markdown",
   "id": "residential-space",
   "metadata": {},
   "source": [
    "Itertools\n",
    "--\n",
    "\n",
    "Ensemble des cases dans une bataille navale"
   ]
  },
  {
   "cell_type": "code",
   "execution_count": null,
   "id": "straight-honduras",
   "metadata": {},
   "outputs": [],
   "source": [
    "from itertools import product\n",
    "{f\"{a}{b}\" for a, b in product(\"AB\", range(2))}"
   ]
  },
  {
   "cell_type": "code",
   "execution_count": null,
   "id": "bridal-lotus",
   "metadata": {},
   "outputs": [],
   "source": [
    "from itertools import permutations\n",
    "{f\"{a}{b}\" for a, b in permutations(\"ABC\", 2)}"
   ]
  },
  {
   "cell_type": "code",
   "execution_count": null,
   "id": "silver-withdrawal",
   "metadata": {},
   "outputs": [],
   "source": [
    "from itertools import combinations\n",
    "{f\"{a}{b}\" for a, b in combinations(\"ABC\", 2)}"
   ]
  },
  {
   "cell_type": "code",
   "execution_count": null,
   "id": "personalized-guidance",
   "metadata": {},
   "outputs": [],
   "source": [
    "from itertools import combinations_with_replacement\n",
    "{f\"{a}{b}\" for a, b in combinations_with_replacement(\"ABC\", 2)}"
   ]
  },
  {
   "cell_type": "code",
   "execution_count": null,
   "id": "collect-chicago",
   "metadata": {},
   "outputs": [],
   "source": [
    "{f\"{a}{b}{c}\" for a, b, c in combinations(\"ABC\", 3)}"
   ]
  },
  {
   "cell_type": "code",
   "execution_count": null,
   "id": "embedded-relay",
   "metadata": {},
   "outputs": [],
   "source": [
    "{f\"{a}{b}{c}\" for a, b, c in combinations_with_replacement(\"ABC\", 3)}"
   ]
  },
  {
   "cell_type": "code",
   "execution_count": null,
   "id": "binding-bryan",
   "metadata": {},
   "outputs": [],
   "source": [
    "a = [1, 2, 3]\n",
    "b = [11, 12, 13]\n",
    "\n",
    "list(zip(a, b))"
   ]
  },
  {
   "cell_type": "code",
   "execution_count": null,
   "id": "institutional-vaccine",
   "metadata": {},
   "outputs": [],
   "source": [
    "tableau = [[1, 2, 3],\n",
    "           [11, 12, 13]]\n",
    "\n",
    "list(zip(*tableau))"
   ]
  },
  {
   "cell_type": "code",
   "execution_count": null,
   "id": "intellectual-montreal",
   "metadata": {},
   "outputs": [],
   "source": [
    "tableau = [[1, 2, 3],\n",
    "           [11, 12, 13],\n",
    "           [21, 22]]\n",
    "\n",
    "list(zip(*tableau))"
   ]
  },
  {
   "cell_type": "code",
   "execution_count": null,
   "id": "northern-wallpaper",
   "metadata": {},
   "outputs": [],
   "source": [
    "from itertools import zip_longest\n",
    "list(zip_longest(*tableau))"
   ]
  },
  {
   "cell_type": "code",
   "execution_count": null,
   "id": "finished-swedish",
   "metadata": {},
   "outputs": [],
   "source": [
    "dictionnaire = {\"a\": 1, \"b\": 2}\n",
    "liste = [3, 4]\n",
    "chaine = \"56\"\n",
    "\n",
    "from itertools import chain\n",
    "for i in chain(dictionnaire.values(), liste, chaine):\n",
    "    print(i)"
   ]
  },
  {
   "cell_type": "markdown",
   "id": "stylish-tradition",
   "metadata": {},
   "source": [
    "operator\n",
    "--"
   ]
  },
  {
   "cell_type": "code",
   "execution_count": null,
   "id": "expressed-acrobat",
   "metadata": {},
   "outputs": [],
   "source": [
    "list(sorted([\"a\", \"B\", \"c\"]))\n",
    "['B', 'a', 'c']"
   ]
  },
  {
   "cell_type": "code",
   "execution_count": null,
   "id": "substantial-gravity",
   "metadata": {},
   "outputs": [],
   "source": [
    "from operator import methodcaller\n",
    "list(sorted([\"a\", \"B\", \"c\"], key=methodcaller(\"lower\")))"
   ]
  },
  {
   "cell_type": "code",
   "execution_count": null,
   "id": "bizarre-partnership",
   "metadata": {},
   "outputs": [],
   "source": [
    "groupe = [\n",
    "    {\n",
    "        \"nom\": \"Satriani\",\n",
    "        \"prenom\": \"Joe\",\n",
    "        \"role\": \"guitariste\",\n",
    "    }, {\n",
    "        \"nom\": \"Hamm\",\n",
    "        \"prenom\": \"Stuart\",\n",
    "        \"role\": \"bassiste\",\n",
    "    }, {\n",
    "        \"nom\": \"Campitelli\",\n",
    "        \"prenom\": \"Jeff\",\n",
    "        \"role\": \"batteur\",\n",
    "    }, {\n",
    "        \"nom\": \"King\",\n",
    "        \"prenom\": \"B.B\",\n",
    "        \"role\": \"guitariste\",\n",
    "    },\n",
    "]\n",
    "\n",
    "from operator import itemgetter\n",
    "list(sorted(groupe, key=itemgetter(\"nom\")))"
   ]
  },
  {
   "cell_type": "code",
   "execution_count": null,
   "id": "successful-suggestion",
   "metadata": {},
   "outputs": [],
   "source": [
    "list(sorted(groupe, key=itemgetter(\"prenom\")))"
   ]
  },
  {
   "cell_type": "code",
   "execution_count": null,
   "id": "apart-ambassador",
   "metadata": {},
   "outputs": [],
   "source": [
    "from operator import attrgetter\n",
    "list(sorted([1, 2+1j, 3-1j, 1j], key=attrgetter(\"real\")))"
   ]
  },
  {
   "cell_type": "code",
   "execution_count": null,
   "id": "fiscal-border",
   "metadata": {},
   "outputs": [],
   "source": [
    "list(sorted([1, 2+1j, 3-1j, 1j], key=attrgetter(\"imag\", \"real\")))"
   ]
  },
  {
   "cell_type": "code",
   "execution_count": null,
   "id": "71294dcc-02c7-4a02-b7c3-6d5cc1f9f9dc",
   "metadata": {},
   "outputs": [],
   "source": []
  },
  {
   "cell_type": "markdown",
   "id": "0912a146-1fed-4fb5-aec8-08328b1251b2",
   "metadata": {},
   "source": [
    "---"
   ]
  }
 ],
 "metadata": {
  "kernelspec": {
   "display_name": "Python 3 (ipykernel)",
   "language": "python",
   "name": "python3"
  },
  "language_info": {
   "codemirror_mode": {
    "name": "ipython",
    "version": 3
   },
   "file_extension": ".py",
   "mimetype": "text/x-python",
   "name": "python",
   "nbconvert_exporter": "python",
   "pygments_lexer": "ipython3",
   "version": "3.11.8"
  }
 },
 "nbformat": 4,
 "nbformat_minor": 5
}
