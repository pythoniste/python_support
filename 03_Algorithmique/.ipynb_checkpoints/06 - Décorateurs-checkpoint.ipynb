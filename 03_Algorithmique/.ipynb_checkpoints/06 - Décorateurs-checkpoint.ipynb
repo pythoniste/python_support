{
 "cells": [
  {
   "cell_type": "markdown",
   "id": "reflected-chambers",
   "metadata": {},
   "source": [
    "Décorateurs\n",
    "=="
   ]
  },
  {
   "cell_type": "code",
   "execution_count": null,
   "id": "acquired-wages",
   "metadata": {},
   "outputs": [],
   "source": [
    "def decorateur(func):\n",
    "    print(\"avant\", func)\n",
    "    return func"
   ]
  },
  {
   "cell_type": "code",
   "execution_count": null,
   "id": "turned-stocks",
   "metadata": {},
   "outputs": [],
   "source": [
    "@decorateur\n",
    "def func():\n",
    "    print(\"pendant\")"
   ]
  },
  {
   "cell_type": "code",
   "execution_count": null,
   "id": "hollow-excitement",
   "metadata": {},
   "outputs": [],
   "source": [
    "def func():\n",
    "    print(\"pendant\")\n",
    "func = decorateur(func)"
   ]
  },
  {
   "cell_type": "code",
   "execution_count": null,
   "id": "increased-cleaning",
   "metadata": {},
   "outputs": [],
   "source": [
    "func()"
   ]
  },
  {
   "cell_type": "code",
   "execution_count": null,
   "id": "subject-friday",
   "metadata": {},
   "outputs": [],
   "source": [
    "def decorateur(func):\n",
    "    def remplacement():\n",
    "        print(\"avant\", func)\n",
    "        func()\n",
    "        print(\"après\", func)\n",
    "    return remplacement\n",
    "\n",
    "@decorateur\n",
    "def func():\n",
    "    print(\"pendant\")\n",
    "\n",
    "func()"
   ]
  },
  {
   "cell_type": "code",
   "execution_count": null,
   "id": "august-gross",
   "metadata": {},
   "outputs": [],
   "source": [
    "def handle(keys):\n",
    "    def decorateur(transformation):\n",
    "        def remplacement(data):\n",
    "            for key in keys:\n",
    "                data[key] = transformation(data[key])\n",
    "        return remplacement\n",
    "    return decorateur\n",
    "\n",
    "@handle([\"clé1\", \"clé3\"])\n",
    "def double(data):\n",
    "    return data * 2\n",
    "\n",
    "resultats = {\n",
    "    \"clé1\": 1,\n",
    "    \"clé2\": 2,\n",
    "    \"clé3\": 3,\n",
    "    \"clé4\": 4,\n",
    "    \"clé5\": 5,\n",
    "}\n",
    "\n",
    "double(resultats)\n",
    "\n",
    "print(resultats)"
   ]
  },
  {
   "cell_type": "code",
   "execution_count": null,
   "id": "still-operator",
   "metadata": {},
   "outputs": [],
   "source": [
    "@handle([\"clé1\", \"clé4\", \"clé5\"])\n",
    "def triple(data):\n",
    "    return data * 3\n",
    "\n",
    "triple(resultats)\n",
    "print(resultats)"
   ]
  },
  {
   "cell_type": "markdown",
   "id": "miniature-drill",
   "metadata": {},
   "source": [
    "---"
   ]
  }
 ],
 "metadata": {
  "kernelspec": {
   "display_name": "Python 3 (ipykernel)",
   "language": "python",
   "name": "python3"
  },
  "language_info": {
   "codemirror_mode": {
    "name": "ipython",
    "version": 3
   },
   "file_extension": ".py",
   "mimetype": "text/x-python",
   "name": "python",
   "nbconvert_exporter": "python",
   "pygments_lexer": "ipython3",
   "version": "3.11.8"
  }
 },
 "nbformat": 4,
 "nbformat_minor": 5
}
