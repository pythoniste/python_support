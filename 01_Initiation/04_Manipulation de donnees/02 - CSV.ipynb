{
 "cells": [
  {
   "cell_type": "code",
   "execution_count": null,
   "metadata": {},
   "outputs": [],
   "source": [
    "import csv"
   ]
  },
  {
   "cell_type": "markdown",
   "metadata": {},
   "source": [
    "Contenu du fichier CSV *exemple.csv* :\n",
    "\n",
    "    nom,role\n",
    "    Joe Satriani,Guitariste\n",
    "    Stu Hamm,Bassiste\n",
    "    Jeff Capitelli,Batteur\n",
    "\n",
    "Contenu du fichier CSV *exemple2.csv* :\n",
    "\n",
    "    \"nom\";\"role\"\n",
    "    \"Joe Satriani\";\"Guitariste\"\n",
    "    \"Stu Hamm\";\"Bassiste\"\n",
    "    \"Jeff Capitelli\";\"Batteur\"\n",
    "\n",
    "Les fichiers CSV peuvent utiliser différents dialectes. Pour cela, il est nécessaire lorsqu'on les lit de détecter ce dialecte avant de lire les données. La lecture d'un fichier CSV se fait donc en deux étapes :"
   ]
  },
  {
   "cell_type": "code",
   "execution_count": null,
   "metadata": {},
   "outputs": [],
   "source": [
    "with open(\"exemple.csv\") as f:\n",
    "    dialect = csv.Sniffer().sniff(f.readline())\n",
    "    # f.seek(0)\n",
    "    reader = csv.reader(f, dialect=dialect)\n",
    "    data = list(reader)"
   ]
  },
  {
   "cell_type": "markdown",
   "metadata": {},
   "source": [
    "On obtient ainsi une liste de liste (table à deux dimensions)"
   ]
  },
  {
   "cell_type": "code",
   "execution_count": null,
   "metadata": {},
   "outputs": [],
   "source": [
    "data"
   ]
  },
  {
   "cell_type": "code",
   "execution_count": null,
   "metadata": {},
   "outputs": [],
   "source": [
    "dir(dialect)"
   ]
  },
  {
   "cell_type": "markdown",
   "metadata": {},
   "source": [
    "Voici les différents éléments du dialecte"
   ]
  },
  {
   "cell_type": "code",
   "execution_count": null,
   "metadata": {},
   "outputs": [],
   "source": [
    "print('delimiter:', dialect.delimiter)\n",
    "print('doublequote:', dialect.doublequote)\n",
    "print('escapechar:', dialect.escapechar)\n",
    "print('lineterminator:', repr(dialect.lineterminator))\n",
    "print('quotechar:', dialect.quotechar)\n",
    "print('quoting:', dialect.quoting)\n",
    "print('skipinitialspace:', dialect.skipinitialspace)"
   ]
  },
  {
   "cell_type": "code",
   "execution_count": null,
   "metadata": {},
   "outputs": [],
   "source": [
    "csv.QUOTE_MINIMAL, csv.QUOTE_ALL, csv.QUOTE_NONNUMERIC, csv.QUOTE_NONE"
   ]
  },
  {
   "cell_type": "code",
   "execution_count": null,
   "metadata": {},
   "outputs": [],
   "source": [
    "with open(\"exemple2.csv\") as f:\n",
    "    dialect = csv.Sniffer().sniff(f.readline())\n",
    "    # f.seek(0)\n",
    "    reader = csv.reader(f, dialect=dialect)\n",
    "    data = list(reader)"
   ]
  },
  {
   "cell_type": "code",
   "execution_count": null,
   "metadata": {},
   "outputs": [],
   "source": [
    "print('delimiter:', dialect.delimiter)\n",
    "print('doublequote:', dialect.doublequote)\n",
    "print('escapechar:', dialect.escapechar)\n",
    "print('lineterminator:', repr(dialect.lineterminator))\n",
    "print('quotechar:', dialect.quotechar)\n",
    "print('quoting:', dialect.quoting)\n",
    "print('skipinitialspace:', dialect.skipinitialspace)"
   ]
  },
  {
   "cell_type": "markdown",
   "metadata": {},
   "source": [
    "**Dialecte Unix**"
   ]
  },
  {
   "cell_type": "code",
   "execution_count": null,
   "metadata": {},
   "outputs": [],
   "source": [
    "print('delimiter:', csv.unix_dialect.delimiter)\n",
    "print('doublequote:', csv.unix_dialect.doublequote)\n",
    "print('escapechar:', csv.unix_dialect.escapechar)\n",
    "print('lineterminator:', repr(csv.unix_dialect.lineterminator))\n",
    "print('quotechar:', csv.unix_dialect.quotechar)\n",
    "print('quoting:', csv.unix_dialect.quoting)\n",
    "print('skipinitialspace:', csv.unix_dialect.skipinitialspace)"
   ]
  },
  {
   "cell_type": "markdown",
   "metadata": {},
   "source": [
    "**Dialecte Excel**"
   ]
  },
  {
   "cell_type": "code",
   "execution_count": null,
   "metadata": {},
   "outputs": [],
   "source": [
    "print('delimiter:', csv.excel.delimiter)\n",
    "print('doublequote:', csv.excel.doublequote)\n",
    "print('escapechar:', csv.excel.escapechar)\n",
    "print('lineterminator:', repr(csv.excel.lineterminator))\n",
    "print('quotechar:', csv.excel.quotechar)\n",
    "print('quoting:', csv.excel.quoting)\n",
    "print('skipinitialspace:', csv.excel.skipinitialspace)"
   ]
  },
  {
   "cell_type": "markdown",
   "metadata": {},
   "source": [
    "**Dialecte Excel avec tabulations**"
   ]
  },
  {
   "cell_type": "code",
   "execution_count": null,
   "metadata": {},
   "outputs": [],
   "source": [
    "print('delimiter:', repr(csv.excel_tab.delimiter))\n",
    "print('doublequote:', csv.excel_tab.doublequote)\n",
    "print('escapechar:', csv.excel_tab.escapechar)\n",
    "print('lineterminator:', repr(csv.excel_tab.lineterminator))\n",
    "print('quotechar:', csv.excel_tab.quotechar)\n",
    "print('quoting:', csv.excel_tab.quoting)\n",
    "print('skipinitialspace:', csv.excel_tab.skipinitialspace)"
   ]
  },
  {
   "cell_type": "markdown",
   "metadata": {},
   "source": [
    "Améliorer la représentations des données\n",
    "--"
   ]
  },
  {
   "cell_type": "code",
   "execution_count": null,
   "metadata": {},
   "outputs": [],
   "source": [
    "with open(\"exemple.csv\") as f:\n",
    "    dialect = csv.Sniffer().sniff(f.read())\n",
    "    f.seek(0)\n",
    "    reader = csv.DictReader(f, dialect=dialect)\n",
    "    data = list(reader)"
   ]
  },
  {
   "cell_type": "code",
   "execution_count": null,
   "metadata": {},
   "outputs": [],
   "source": [
    "data"
   ]
  },
  {
   "cell_type": "code",
   "execution_count": null,
   "metadata": {},
   "outputs": [],
   "source": [
    "dir(csv)"
   ]
  },
  {
   "cell_type": "markdown",
   "metadata": {},
   "source": [
    "Ecrire un fichier CSV\n",
    "--"
   ]
  },
  {
   "cell_type": "code",
   "execution_count": null,
   "metadata": {},
   "outputs": [],
   "source": [
    "for d in data:\n",
    "    d[\"Modifié\"] = True"
   ]
  },
  {
   "cell_type": "code",
   "execution_count": null,
   "metadata": {},
   "outputs": [],
   "source": [
    "data  # .sort(key=operator.itemgetter(\"role\"))"
   ]
  },
  {
   "cell_type": "code",
   "execution_count": null,
   "metadata": {},
   "outputs": [],
   "source": [
    "with open(\"exemple_writed.csv\", \"w\") as f:\n",
    "    writer = csv.DictWriter(f, dialect=csv.unix_dialect, fieldnames=[])\n",
    "    print(dir(writer))\n",
    "    # writer.writerows(data)"
   ]
  },
  {
   "cell_type": "code",
   "execution_count": null,
   "metadata": {},
   "outputs": [],
   "source": [
    "with open(\"exemple_writed.csv\", \"w\") as f:\n",
    "    writer = csv.DictWriter(f, dialect=csv.unix_dialect, fieldnames=[\"Modifié\", \"nom\", \"role\"])\n",
    "    writer.writerows(data)\n",
    "\n",
    "with open(\"exemple_writed.csv\") as f:\n",
    "    print(f.read())"
   ]
  },
  {
   "cell_type": "code",
   "execution_count": null,
   "metadata": {},
   "outputs": [],
   "source": [
    "with open(\"exemple_writed.csv\", \"w\") as f:\n",
    "    writer = csv.DictWriter(f, dialect=csv.unix_dialect, fieldnames=[\"Modifié\", \"nom\", \"role\"])\n",
    "    writer.writeheader()\n",
    "    writer.writerows(data)\n",
    "\n",
    "with open(\"exemple_writed.csv\") as f:\n",
    "    print(f.read())"
   ]
  },
  {
   "cell_type": "code",
   "execution_count": null,
   "metadata": {},
   "outputs": [],
   "source": [
    "for d in data[::2]:\n",
    "    d[\"pair\"] = True\n",
    "\n",
    "print(data)"
   ]
  },
  {
   "cell_type": "code",
   "execution_count": null,
   "metadata": {},
   "outputs": [],
   "source": [
    "with open(\"exemple_writed.csv\", \"w\") as f:\n",
    "    writer = csv.DictWriter(f, dialect=csv.unix_dialect, fieldnames=[\"pair\", \"nom\", \"role\"])\n",
    "    writer.writeheader()\n",
    "    writer.writerows(data)\n",
    "\n",
    "with open(\"exemple_writed.csv\") as f:\n",
    "    print(f.read())"
   ]
  },
  {
   "cell_type": "code",
   "execution_count": null,
   "metadata": {},
   "outputs": [],
   "source": [
    "with open(\"exemple_writed.csv\", \"w\") as f:\n",
    "    writer = csv.DictWriter(f, dialect=csv.unix_dialect, fieldnames=[\"pair\", \"nom\", \"role\"], extrasaction=\"ignore\")\n",
    "    writer.writeheader()\n",
    "    writer.writerows(data)\n",
    "\n",
    "with open(\"exemple_writed.csv\") as f:\n",
    "    print(f.read())"
   ]
  },
  {
   "cell_type": "code",
   "execution_count": null,
   "metadata": {},
   "outputs": [],
   "source": [
    "help(csv.DictWriter)"
   ]
  },
  {
   "cell_type": "code",
   "execution_count": null,
   "metadata": {},
   "outputs": [],
   "source": [
    "with open(\"exemple_writed.csv\", \"w\") as f:\n",
    "    writer = csv.DictWriter(f, dialect=csv.unix_dialect, fieldnames=[\"pair\", \"nom\", \"role\"], extrasaction=\"ignore\", restval=\"False\")\n",
    "    writer.writeheader()\n",
    "    writer.writerows(data)\n",
    "\n",
    "with open(\"exemple_writed.csv\") as f:\n",
    "    print(f.read())"
   ]
  },
  {
   "cell_type": "code",
   "execution_count": null,
   "metadata": {},
   "outputs": [],
   "source": [
    "print(data)"
   ]
  },
  {
   "cell_type": "markdown",
   "metadata": {},
   "source": [
    "---"
   ]
  },
  {
   "cell_type": "code",
   "execution_count": null,
   "metadata": {},
   "outputs": [],
   "source": [
    "with open(\"exemple_writed.csv\", \"w\") as f:\n",
    "    writer = csv.writer(f, dialect=csv.unix_dialect)\n",
    "    writer.writerow([\"nom\", \"role\", \"Modifié\", \"pair\"])\n",
    "    writer.writerows(d.values() for d in data)\n",
    "\n",
    "with open(\"exemple_writed.csv\") as f:\n",
    "    print(f.read())"
   ]
  },
  {
   "cell_type": "code",
   "execution_count": null,
   "metadata": {},
   "outputs": [],
   "source": [
    "data"
   ]
  },
  {
   "cell_type": "markdown",
   "metadata": {},
   "source": [
    "---"
   ]
  }
 ],
 "metadata": {
  "kernelspec": {
   "display_name": "Python 3 (ipykernel)",
   "language": "python",
   "name": "python3"
  },
  "language_info": {
   "codemirror_mode": {
    "name": "ipython",
    "version": 3
   },
   "file_extension": ".py",
   "mimetype": "text/x-python",
   "name": "python",
   "nbconvert_exporter": "python",
   "pygments_lexer": "ipython3",
   "version": "3.11.2"
  }
 },
 "nbformat": 4,
 "nbformat_minor": 4
}
