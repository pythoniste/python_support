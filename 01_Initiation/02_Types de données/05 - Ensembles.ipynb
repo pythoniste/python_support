{
 "cells": [
  {
   "cell_type": "markdown",
   "metadata": {},
   "source": [
    "Ensembles\n",
    "==\n",
    "\n",
    "Notion de conteneur\n",
    "--\n",
    "\n",
    "Les conteneurs sont simplement des objets qui contiennent d'autres objets. On distingue :\n",
    "\n",
    "Type | Modifiable | Unicité | Relation d'ordre\n",
    " ---: | :---: | :---: | :--- \n",
    "Liste | Oui | Non | Oui\n",
    "N-Uplet | Non | Non | Oui\n",
    "Ensemble | Oui | Oui 1.2 | Non\n",
    "Frozenset | Non | Oui 2.2 | Non\n",
    "Dictionnaire | Oui | Clé: Oui, valeurs: Non | Oui depuis Python 3.8\n",
    "\n",
    "L'ensemble des éléments contenus dans un conteneur sont séparés par des virgules\n",
    "\n",
    "---\n",
    "\n",
    "Un **ensemble** est une *collection* **non ordonnée** d'objets **hashables** et **uniques**\n",
    "\n",
    "Les ensembles sont bien souvent ignorés, parce que peu enseignés en informatique et en algorithmique. Mais ils sont un outil formidable et permettent de simplifier très largement les algorithmes.\n",
    "\n",
    "Considérations syntaxiques\n",
    "--\n",
    "\n",
    "Voici un ensemble vide :"
   ]
  },
  {
   "cell_type": "code",
   "execution_count": null,
   "metadata": {},
   "outputs": [],
   "source": [
    "s = set()"
   ]
  },
  {
   "cell_type": "markdown",
   "metadata": {},
   "source": [
    "Pour des raisons historiques, l'écriture de l'ensemble vide échappe à la grammaire. Sinon, ce sont les accolades qui symbolisent les ensembles, même si la représentation d'un ensemble en python 2 ne les utilisent pas (il s'agit en fait d'un rétro-portage de python3) :"
   ]
  },
  {
   "cell_type": "code",
   "execution_count": null,
   "metadata": {},
   "outputs": [],
   "source": [
    "s = {1, 3, 5, 7, 9}"
   ]
  },
  {
   "cell_type": "code",
   "execution_count": null,
   "metadata": {},
   "outputs": [],
   "source": [
    "print(s)"
   ]
  },
  {
   "cell_type": "markdown",
   "metadata": {},
   "source": [
    "Voici la liste des attributs et méthodes de l'ensemble :"
   ]
  },
  {
   "cell_type": "code",
   "execution_count": null,
   "metadata": {},
   "outputs": [],
   "source": [
    "dir(set())"
   ]
  },
  {
   "cell_type": "markdown",
   "metadata": {},
   "source": [
    "Les opérateurs utilisés sont ceux-ci :\n",
    "\n",
    "* l'opération **A OU B** utilise **|** et peut se faire via la méthode **union** ;\n",
    "* l'opération **A ET B** utilise **&** et peut se faire via la méthode **intersection** ;\n",
    "* l'opération **A ET NON B** utilise **-** et peut se faire via la méthode **difference** ;\n",
    "* l'opération **NON A ET NON B** utilise **^** et peut se faire via la méthode **symmetric_difference** ;"
   ]
  },
  {
   "cell_type": "code",
   "execution_count": null,
   "metadata": {},
   "outputs": [],
   "source": [
    "a, b = {1, 2, 3}, {3, 4, 5}"
   ]
  },
  {
   "cell_type": "code",
   "execution_count": null,
   "metadata": {},
   "outputs": [],
   "source": [
    "a | b"
   ]
  },
  {
   "cell_type": "code",
   "execution_count": null,
   "metadata": {},
   "outputs": [],
   "source": [
    "a & b"
   ]
  },
  {
   "cell_type": "code",
   "execution_count": null,
   "metadata": {},
   "outputs": [],
   "source": [
    "a - b"
   ]
  },
  {
   "cell_type": "code",
   "execution_count": null,
   "metadata": {},
   "outputs": [],
   "source": [
    "b - a"
   ]
  },
  {
   "cell_type": "code",
   "execution_count": null,
   "metadata": {},
   "outputs": [],
   "source": [
    "a ^ b"
   ]
  },
  {
   "cell_type": "markdown",
   "metadata": {},
   "source": [
    "Il est possible également de modifier un ensemble à l'aide des mêmes opérateurs :\n",
    "\n",
    "* l'opération **A = A OU B** utilise **|=** et peut se faire via la méthode **update** ;\n",
    "* l'opération **A = A ET B** utilise **&=** et peut se faire via la méthode **intersection_update** ;\n",
    "* l'opération **A = A ET NON B** utilise **-=** et peut se faire via la méthode **difference_update** ;\n",
    "* l'opération **A = NON A ET NON B** utilise **^=** et peut se faire via la méthode **symmetric_difference_update** ;"
   ]
  },
  {
   "cell_type": "code",
   "execution_count": null,
   "metadata": {},
   "outputs": [],
   "source": [
    "a, b = {1, 2, 3}, {3, 4, 5}\n",
    "a |= b\n",
    "print(a)"
   ]
  },
  {
   "cell_type": "code",
   "execution_count": null,
   "metadata": {},
   "outputs": [],
   "source": [
    "a, b = {1, 2, 3}, {3, 4, 5}\n",
    "a &= b\n",
    "print(a)"
   ]
  },
  {
   "cell_type": "code",
   "execution_count": null,
   "metadata": {},
   "outputs": [],
   "source": [
    "a, b = {1, 2, 3}, {3, 4, 5}\n",
    "a -= b\n",
    "print(a)"
   ]
  },
  {
   "cell_type": "code",
   "execution_count": null,
   "metadata": {},
   "outputs": [],
   "source": [
    "a, b = {1, 2, 3}, {3, 4, 5}\n",
    "a ^= b\n",
    "print(a)"
   ]
  },
  {
   "cell_type": "markdown",
   "metadata": {},
   "source": [
    "Enfin, il est possible de travailler sur un élément en particulier :\n",
    "\n",
    "* la méthode **add** permet de rajouter un élément à l'ensemble ;\n",
    "* la méthode **discard** permet d'en retirer un, s'il existe (s'il n'existe pas, il n'y a pas d'exception) ;\n",
    "* la méthode **remove** permet d'en retirer un, mais de lancer une exception s'il n'existe pas ;\n",
    "* la méthode **pop** permet de retirer un élément en le renvoyant ;\n",
    "* la méthode **clear** permet de vider le dictionnaire."
   ]
  },
  {
   "cell_type": "code",
   "execution_count": null,
   "metadata": {},
   "outputs": [],
   "source": [
    "a = {1, 2, 3}\n",
    "a.add(1)\n",
    "a.add(4)\n",
    "a.discard(2)\n",
    "a.discard(42) # 42 n'existe pas dans l'ensemble\n",
    "print(a)"
   ]
  },
  {
   "cell_type": "code",
   "execution_count": null,
   "metadata": {},
   "outputs": [],
   "source": [
    "a.remove(3)"
   ]
  },
  {
   "cell_type": "code",
   "execution_count": null,
   "metadata": {},
   "outputs": [],
   "source": [
    "a.remove(3) # Il n'y a plus l'élément 3, donc une exception sera lancée"
   ]
  },
  {
   "cell_type": "code",
   "execution_count": null,
   "metadata": {},
   "outputs": [],
   "source": [
    "a.pop()"
   ]
  },
  {
   "cell_type": "code",
   "execution_count": null,
   "metadata": {},
   "outputs": [],
   "source": [
    "print(a)"
   ]
  },
  {
   "cell_type": "markdown",
   "metadata": {},
   "source": [
    "Une dernière précision est à apporter sur la méthode **pop** : l'ensemble n'ayant pas de relation d'ordre, il est impossible de prévoir dans quel ordre les éléments sortiront.\n",
    "\n",
    "Cas concrets\n",
    "---------\n",
    "\n",
    "1. En une ligne, il est possible de voir quelles sont les méthodes qui existent pour les nombres flottants et non pour les entiers"
   ]
  },
  {
   "cell_type": "code",
   "execution_count": null,
   "metadata": {},
   "outputs": [],
   "source": [
    "sorted(set(dir(float)) - set(dir(int)))"
   ]
  },
  {
   "cell_type": "markdown",
   "metadata": {},
   "source": [
    "2. On décide de représenter une case d'un plateau de bataille navale par un 2-uplet comprenant une lettre majuscule de A à J et un nombre de 0 à 9. Voici comment générer l'ensemble des cases d'un plateau"
   ]
  },
  {
   "cell_type": "code",
   "execution_count": null,
   "metadata": {},
   "outputs": [],
   "source": [
    "from itertools import product\n",
    "plateau = list(product(\"ABCDEFGHIJ\", range(10)))\n",
    "print(plateau)"
   ]
  },
  {
   "cell_type": "markdown",
   "metadata": {},
   "source": [
    "Voici 2 bateaux."
   ]
  },
  {
   "cell_type": "code",
   "execution_count": null,
   "metadata": {},
   "outputs": [],
   "source": [
    "bateau1 = {('F', 3), ('F', 4), ('F', 5), ('F', 6), ('F', 7)}\n",
    "bateau2 = {('D', 5), ('E', 5), ('F', 5), ('G', 5)}"
   ]
  },
  {
   "cell_type": "markdown",
   "metadata": {},
   "source": [
    "Voici un algorithme classique pour déterminer si ces bateaux se chevauchent ou non:"
   ]
  },
  {
   "cell_type": "code",
   "execution_count": null,
   "metadata": {},
   "outputs": [],
   "source": [
    "ok = False\n",
    "for b1 in bateau1:\n",
    "    for b2 in bateau2:\n",
    "        if b1 == b2:\n",
    "            print(\"La case %s%s est en double\" % b1)\n",
    "            ok = True\n",
    "            break\n",
    "    if ok:\n",
    "        break"
   ]
  },
  {
   "cell_type": "markdown",
   "metadata": {},
   "source": [
    "Voici un algorithme plus élégant, mais tout aussi complexe, qui réutilise le produit cartésien pour ne faire qu'une seule boucle d'itération"
   ]
  },
  {
   "cell_type": "code",
   "execution_count": null,
   "metadata": {},
   "outputs": [],
   "source": [
    "from itertools import product\n",
    "for b1, b2 in product(bateau1, bateau2):\n",
    "    if b1 == b2:\n",
    "        print(\"La case %s%s est en double\" % b1)\n",
    "        break"
   ]
  },
  {
   "cell_type": "markdown",
   "metadata": {},
   "source": [
    "Voici une solution en utilisant les spécificités des ensembles"
   ]
  },
  {
   "cell_type": "code",
   "execution_count": null,
   "metadata": {},
   "outputs": [],
   "source": [
    "bateau1 & bateau2"
   ]
  },
  {
   "cell_type": "code",
   "execution_count": null,
   "metadata": {},
   "outputs": [],
   "source": [
    "bateau1.isdisjoint(bateau2)"
   ]
  },
  {
   "cell_type": "markdown",
   "metadata": {},
   "source": [
    "---\n",
    "\n",
    "Passage d'une collection à une autre :\n",
    "--------------------------------------\n",
    "\n",
    "A tout moment, il est possible de passer d'un type de donnée à un autre :"
   ]
  },
  {
   "cell_type": "code",
   "execution_count": null,
   "metadata": {},
   "outputs": [],
   "source": [
    "l = ['b', 'a', 'b', 'c', 'e', 'b', 'g', 'c', 'b']"
   ]
  },
  {
   "cell_type": "markdown",
   "metadata": {},
   "source": [
    "Que va-t-il se passer si l'on transforme cette liste en un ensemble ?"
   ]
  },
  {
   "cell_type": "code",
   "execution_count": null,
   "metadata": {},
   "outputs": [],
   "source": [
    "s = set(l)"
   ]
  },
  {
   "cell_type": "code",
   "execution_count": null,
   "metadata": {},
   "outputs": [],
   "source": [
    "print(s)"
   ]
  },
  {
   "cell_type": "code",
   "execution_count": null,
   "metadata": {},
   "outputs": [],
   "source": [
    "l2 = sorted(set(l))"
   ]
  },
  {
   "cell_type": "code",
   "execution_count": null,
   "metadata": {},
   "outputs": [],
   "source": [
    "print(l2)"
   ]
  },
  {
   "cell_type": "markdown",
   "metadata": {},
   "source": [
    "Voici comment créer un dictionnaire dont les clés sont chaque élément unique de la liste et les valeurs leur nombre d'occurences dans la liste."
   ]
  },
  {
   "cell_type": "code",
   "execution_count": null,
   "metadata": {},
   "outputs": [],
   "source": [
    "d = {}\n",
    "for e in set(l):\n",
    "    d[e] = l.count(e)\n",
    "print(d)"
   ]
  },
  {
   "cell_type": "markdown",
   "metadata": {},
   "source": [
    "Solution alternative :"
   ]
  },
  {
   "cell_type": "code",
   "execution_count": null,
   "metadata": {},
   "outputs": [],
   "source": [
    "d = {}\n",
    "for e in l:\n",
    "    if e not in d:\n",
    "        d[e] = 1\n",
    "    else:\n",
    "        d[e] += 1\n",
    "print(d)"
   ]
  },
  {
   "cell_type": "markdown",
   "metadata": {},
   "source": [
    "Solution alternative améliorée grâce au module **collections** :"
   ]
  },
  {
   "cell_type": "code",
   "execution_count": null,
   "metadata": {},
   "outputs": [],
   "source": [
    "from collections import defaultdict\n",
    "d = defaultdict(int)\n",
    "for e in l:\n",
    "    d[e] += 1\n",
    "print(d)\n",
    "print(dict(d))"
   ]
  },
  {
   "cell_type": "markdown",
   "metadata": {},
   "source": [
    "---"
   ]
  }
 ],
 "metadata": {
  "kernelspec": {
   "display_name": "Python 3 (ipykernel)",
   "language": "python",
   "name": "python3"
  },
  "language_info": {
   "codemirror_mode": {
    "name": "ipython",
    "version": 3
   },
   "file_extension": ".py",
   "mimetype": "text/x-python",
   "name": "python",
   "nbconvert_exporter": "python",
   "pygments_lexer": "ipython3",
   "version": "3.11.8"
  }
 },
 "nbformat": 4,
 "nbformat_minor": 4
}
