{
 "cells": [
  {
   "cell_type": "markdown",
   "metadata": {},
   "source": [
    "Booléens, nombres (binaire, octal, hexa-décimal) et Octets\n",
    "==\n",
    "\n",
    "Introduction\n",
    "------------\n",
    "\n",
    "### Booléens\n",
    "\n",
    "Il n'existe que deux booléens : **`True`** ou **`False`**.\n",
    "\n",
    "### Nombres binaires\n",
    "\n",
    "Un nombre binaire est tout simplement un nombre exprimé en utilisant la base 2, c'est à dire une base ne contenant que 2 chiffres que sont les **`0`** et **`1`**.\n",
    "\n",
    "### Nombre octal\n",
    "\n",
    "Un nombre octal est un nombre exprimé en utilisant la base 0, c'est à dire en utilisant les chiffres **`0`**, **`1`**, **`2`**, **`3`**, **`4`**, **`5`**, **`6`** et **`7`**.\n",
    "\n",
    "### Nombre hexadécimal\n",
    "\n",
    "Un nombre hexadécimal est un nombre exprimé en utilisant la base 0, c'est à dire en utilisant les chiffres **`0`**, **`1`**, **`2`**, **`3`**, **`4`**, **`5`**, **`6`**, **`7`**, **`8`**, **`9`**, **`A`**, **`B`**, **`C`**, **`D`**, **`E`** et **`F`**.\n",
    "\n",
    "### Byte\n",
    "\n",
    "Un byte est un nombre codé sur un octet, soit huit chiffres binaires. Il peut donc aller de 0 à 255.\n",
    "\n",
    "Il peut également être vu comme un caractères encodé à l'aide d'une table de 256 caractères spécifique pour un langage particulier (un entier correspond à un caractère).\n",
    "\n",
    "### Bytes\n",
    "\n",
    "Des octets ou une chaîne d'octets, peut être considérée comme un **conteneur** de objets *byte* ou comme un conteneur d'entiers entre 0 et 256.\n",
    "Il peut également être vu comme une chaîne de caractères encodée à l'aide d'une table de 256 caractères spécifique pour un langage particulier."
   ]
  },
  {
   "cell_type": "markdown",
   "metadata": {},
   "source": [
    "Booléens\n",
    "--------\n",
    "\n",
    "Un booléen est un type très particulier : La classe **`bool`** a deux et exactement deux instances qui sont **`True`** ou **`False`**. et qui sont **non mutables**.\n",
    "\n",
    "Ils sont respectivement assimilables aux deux chiffres binaires **`1`** et **`0`**."
   ]
  },
  {
   "cell_type": "code",
   "execution_count": null,
   "metadata": {},
   "outputs": [],
   "source": [
    "len([]) == 0"
   ]
  },
  {
   "cell_type": "code",
   "execution_count": null,
   "metadata": {},
   "outputs": [],
   "source": [
    "True and False"
   ]
  },
  {
   "cell_type": "code",
   "execution_count": null,
   "metadata": {},
   "outputs": [],
   "source": [
    "True or False"
   ]
  },
  {
   "cell_type": "markdown",
   "metadata": {},
   "source": [
    "Chaque objet Python peut faire l'objet d'une évaluation booléenne.\n",
    "\n",
    "Par défaut, tout objet est évalué à **`True`**, sauf les collections vides et les littéraux nuls :"
   ]
  },
  {
   "cell_type": "code",
   "execution_count": null,
   "metadata": {},
   "outputs": [],
   "source": [
    "bool(1)"
   ]
  },
  {
   "cell_type": "code",
   "execution_count": null,
   "metadata": {},
   "outputs": [],
   "source": [
    "bool(0)"
   ]
  },
  {
   "cell_type": "code",
   "execution_count": null,
   "metadata": {},
   "outputs": [],
   "source": [
    "bool(0.0)"
   ]
  },
  {
   "cell_type": "code",
   "execution_count": null,
   "metadata": {},
   "outputs": [],
   "source": [
    "bool([])"
   ]
  },
  {
   "cell_type": "code",
   "execution_count": null,
   "metadata": {},
   "outputs": [],
   "source": [
    "bool([False])"
   ]
  },
  {
   "cell_type": "code",
   "execution_count": null,
   "metadata": {},
   "outputs": [],
   "source": [
    "bool({})"
   ]
  },
  {
   "cell_type": "code",
   "execution_count": null,
   "metadata": {},
   "outputs": [],
   "source": [
    "bool(\"\")"
   ]
  },
  {
   "cell_type": "code",
   "execution_count": null,
   "metadata": {},
   "outputs": [],
   "source": [
    "bool(\" \")"
   ]
  },
  {
   "cell_type": "markdown",
   "metadata": {},
   "source": [
    "Nombres binaires\n",
    "--\n",
    "\n",
    "Un nombre binaire est tout simplement un nombre exprimé en utilisant la base 2, c'est à dire une base ne contenant que 2 chiffres que sont les **`0`** et **`1`**. Pour représenter un nombre supérieur, il faut utiliser plusieurs chiffres :\n",
    "\n",
    "* *2* s'exprime ainsi **0b10**\n",
    "* *3* s'exprime ainsi **0b11**\n",
    "* *4* s'exprime ainsi **0b100**\n",
    "* *5* s'exprime ainsi **0b101**\n",
    "* *8* s'exprime ainsi **0b1000**\n",
    "* *15* s'exprime ainsi **0b1111**"
   ]
  },
  {
   "cell_type": "code",
   "execution_count": null,
   "metadata": {},
   "outputs": [],
   "source": [
    "print(0b01111101000)"
   ]
  },
  {
   "cell_type": "code",
   "execution_count": null,
   "metadata": {},
   "outputs": [],
   "source": [
    "for nb in (1, 2, 3, 4, 8, 15):\n",
    "    print(bin(nb))"
   ]
  },
  {
   "cell_type": "code",
   "execution_count": null,
   "metadata": {},
   "outputs": [],
   "source": [
    "for nb in (1, 2, 3, 4, 8, 15):\n",
    "    print(f\"{nb:#b}\")"
   ]
  },
  {
   "cell_type": "code",
   "execution_count": null,
   "metadata": {},
   "outputs": [],
   "source": [
    "for nb in (1, 2, 3, 4, 8, 15):\n",
    "    print(f\"{nb:#08b}\")"
   ]
  },
  {
   "cell_type": "markdown",
   "metadata": {},
   "source": [
    "### Nombre octal\n",
    "\n",
    "Un nombre octal est un nombre exprimé en utilisant la base 0, c'est à dire en utilisant les chiffres **`0`**, **`1`**, **`2`**, **`3`**, **`4`**, **`5`**, **`6`** et **`7`**.\n",
    "\n",
    "Un octet\n",
    "\n",
    "* *2* s'exprime ainsi **0o2**\n",
    "* *8* s'exprime ainsi **0o10**\n",
    "* *15* s'exprime ainsi **0o17**\n",
    "* *16* s'exprime ainsi **0o20**\n",
    "* *63* s'exprime ainsi **0o77**\n",
    "* *300* s'exprime ainsi **0o454**"
   ]
  },
  {
   "cell_type": "code",
   "execution_count": null,
   "metadata": {},
   "outputs": [],
   "source": [
    "print(0o1750)"
   ]
  },
  {
   "cell_type": "code",
   "execution_count": null,
   "metadata": {},
   "outputs": [],
   "source": [
    "for nb in (2, 8, 15, 16, 63, 300):\n",
    "    print(oct(nb))"
   ]
  },
  {
   "cell_type": "code",
   "execution_count": null,
   "metadata": {},
   "outputs": [],
   "source": [
    "for nb in (2, 8, 15, 16, 63, 300):\n",
    "    print(\"%o\" % nb)"
   ]
  },
  {
   "cell_type": "code",
   "execution_count": null,
   "metadata": {},
   "outputs": [],
   "source": [
    "for nb in (2, 8, 15, 16, 63, 300):\n",
    "    print(f\"{nb:#o}\")"
   ]
  },
  {
   "cell_type": "code",
   "execution_count": null,
   "metadata": {},
   "outputs": [],
   "source": [
    "for nb in (2, 8, 15, 16, 63, 300):\n",
    "    print(f\"{nb:#04o}\")"
   ]
  },
  {
   "cell_type": "markdown",
   "metadata": {},
   "source": [
    "### Nombre hexadécimal\n",
    "\n",
    "Un nombre hexadécimal est un nombre exprimé en utilisant la base 0, c'est à dire en utilisant les chiffres **`0`**, **`1`**, **`2`**, **`3`**, **`4`**, **`5`**, **`6`**, **`7`**, **`8`**, **`9`**, **`A`**, **`B`**, **`C`**, **`D`**, **`E`** et **`F`**\n",
    "\n",
    "* *2* s'exprime ainsi **0x2**\n",
    "* *10* s'exprime ainsi **0xA**\n",
    "* *15* s'exprime ainsi **0xF**\n",
    "* *16* s'exprime ainsi **0x10**\n",
    "* *255* s'exprime ainsi **0xFF**\n",
    "* *300* s'exprime ainsi **0x12C**"
   ]
  },
  {
   "cell_type": "code",
   "execution_count": null,
   "metadata": {},
   "outputs": [],
   "source": [
    "print(0x3E8)"
   ]
  },
  {
   "cell_type": "code",
   "execution_count": null,
   "metadata": {},
   "outputs": [],
   "source": [
    "for nb in (2, 10, 15, 16, 255, 300):\n",
    "    print(hex(nb))"
   ]
  },
  {
   "cell_type": "code",
   "execution_count": null,
   "metadata": {},
   "outputs": [],
   "source": [
    "for nb in (2, 10, 15, 16, 255, 300):\n",
    "    print(\"%x\" % nb)"
   ]
  },
  {
   "cell_type": "code",
   "execution_count": null,
   "metadata": {},
   "outputs": [],
   "source": [
    "for nb in (2, 10, 15, 16, 255, 300):\n",
    "    print(f\"{nb:#x}\")"
   ]
  },
  {
   "cell_type": "code",
   "execution_count": null,
   "metadata": {},
   "outputs": [],
   "source": [
    "for nb in (2, 10, 15, 16, 255, 300):\n",
    "    print(f\"{nb:#X}\")"
   ]
  },
  {
   "cell_type": "code",
   "execution_count": null,
   "metadata": {},
   "outputs": [],
   "source": [
    "for nb in (2, 10, 15, 16, 255, 300):\n",
    "    print(f\"{nb:#08x}\")"
   ]
  },
  {
   "cell_type": "markdown",
   "metadata": {},
   "source": [
    "### Byte\n",
    "\n",
    "Un byte est un nombre:\n",
    "\n",
    "* c'est à dire codé sur un octet\n",
    "* c'est à dire codé sur huit chiffres binaires\n",
    "* c'est à dire entre entre **0b00000000** et **0b11111111**\n",
    "* c'est à dire entre 0 et 255.\n",
    "\n",
    "Il existe différentes tables de caractères, dont pour nous français, la table ISO-8859-15 qui, pour chaque nombre, associe un caractère utilisé dans notre langue, comme a, à, ç ou €.\n",
    "\n",
    "Les allemands préfèreront la table ISO-8859-1 qui contient ẞ, tout comme les danois, par la présence des lettres Ǻ, ǻ, Ǿ ou ǿ et les finnois, qui utilisent les lettres Š, š, Ž ou ž."
   ]
  },
  {
   "cell_type": "code",
   "execution_count": null,
   "metadata": {},
   "outputs": [],
   "source": [
    "ord(b\"A\")"
   ]
  },
  {
   "cell_type": "code",
   "execution_count": null,
   "metadata": {},
   "outputs": [],
   "source": [
    "chr(65)"
   ]
  },
  {
   "cell_type": "code",
   "execution_count": null,
   "metadata": {},
   "outputs": [],
   "source": [
    "\"A\".encode(\"iso-8859-15\")"
   ]
  },
  {
   "cell_type": "code",
   "execution_count": null,
   "metadata": {},
   "outputs": [],
   "source": [
    "\"Ç\".encode(\"iso-8859-15\")"
   ]
  },
  {
   "cell_type": "code",
   "execution_count": null,
   "metadata": {},
   "outputs": [],
   "source": [
    "ord(b'\\xc7')"
   ]
  },
  {
   "cell_type": "code",
   "execution_count": null,
   "metadata": {},
   "outputs": [],
   "source": [
    "chr(199)"
   ]
  },
  {
   "cell_type": "code",
   "execution_count": null,
   "metadata": {},
   "outputs": [],
   "source": [
    "\"€\".encode(\"iso-8859-15\")"
   ]
  },
  {
   "cell_type": "code",
   "execution_count": null,
   "metadata": {},
   "outputs": [],
   "source": [
    "ord(b'\\xa4')"
   ]
  },
  {
   "cell_type": "code",
   "execution_count": null,
   "metadata": {},
   "outputs": [],
   "source": [
    "chr(164)"
   ]
  },
  {
   "cell_type": "code",
   "execution_count": null,
   "metadata": {},
   "outputs": [],
   "source": [
    "ord(\"€\")"
   ]
  },
  {
   "cell_type": "code",
   "execution_count": null,
   "metadata": {},
   "outputs": [],
   "source": [
    "b'A'.decode(\"iso-8859-15\")"
   ]
  },
  {
   "cell_type": "code",
   "execution_count": null,
   "metadata": {},
   "outputs": [],
   "source": [
    "b'\\xc7'.decode(\"iso-8859-15\")"
   ]
  },
  {
   "cell_type": "code",
   "execution_count": null,
   "metadata": {},
   "outputs": [],
   "source": [
    "0xC7.to_bytes()"
   ]
  },
  {
   "cell_type": "code",
   "execution_count": null,
   "metadata": {},
   "outputs": [],
   "source": [
    "(65).to_bytes()"
   ]
  },
  {
   "cell_type": "code",
   "execution_count": null,
   "metadata": {},
   "outputs": [],
   "source": [
    "int.from_bytes(b\"A\")"
   ]
  },
  {
   "cell_type": "markdown",
   "metadata": {},
   "source": [
    "### Bytes\n",
    "\n",
    "Des octets ou une chaîne d'octets, peut être considérée comme un **conteneur** de bytes.\n",
    "\n",
    "Chaque *byte* étant atteignable, comme pour les listes par **deux indices** (un positif et un négatif)."
   ]
  },
  {
   "cell_type": "code",
   "execution_count": null,
   "metadata": {},
   "outputs": [],
   "source": [
    "s = \"Ceci est une chaîne de caractères en €\""
   ]
  },
  {
   "cell_type": "code",
   "execution_count": null,
   "metadata": {},
   "outputs": [],
   "source": [
    "type(s)"
   ]
  },
  {
   "cell_type": "code",
   "execution_count": null,
   "metadata": {},
   "outputs": [],
   "source": [
    "b = s.encode(\"iso8859-15\")"
   ]
  },
  {
   "cell_type": "code",
   "execution_count": null,
   "metadata": {},
   "outputs": [],
   "source": [
    "b"
   ]
  },
  {
   "cell_type": "code",
   "execution_count": null,
   "metadata": {},
   "outputs": [],
   "source": [
    "type(b)"
   ]
  },
  {
   "cell_type": "code",
   "execution_count": null,
   "metadata": {},
   "outputs": [],
   "source": [
    "b.decode(\"latin9\")"
   ]
  },
  {
   "cell_type": "code",
   "execution_count": null,
   "metadata": {},
   "outputs": [],
   "source": [
    "b.decode(\"latin1\")"
   ]
  },
  {
   "cell_type": "code",
   "execution_count": null,
   "metadata": {},
   "outputs": [],
   "source": [
    "\"Ceci est une chaîne de caractères en €\".encode(\"iso8859-1\")"
   ]
  },
  {
   "cell_type": "code",
   "execution_count": null,
   "metadata": {},
   "outputs": [],
   "source": [
    "\"Ceci est une chaîne de caractères en €\".encode(\"latin1\")"
   ]
  },
  {
   "cell_type": "code",
   "execution_count": null,
   "metadata": {},
   "outputs": [],
   "source": [
    "\"Ceci est une chaîne de caractères en €\".encode(\"iso8859-15\")"
   ]
  },
  {
   "cell_type": "code",
   "execution_count": null,
   "metadata": {},
   "outputs": [],
   "source": [
    "\"Ceci est une chaîne de caractères en €\".encode(\"latin9\")"
   ]
  },
  {
   "cell_type": "code",
   "execution_count": null,
   "metadata": {},
   "outputs": [],
   "source": [
    "\"Ceci est une chaîne de caractères en €\".encode(\"utf8\")"
   ]
  },
  {
   "cell_type": "code",
   "execution_count": null,
   "metadata": {},
   "outputs": [],
   "source": [
    "b'Ceci est une cha\\xc3\\xaene de caract\\xc3\\xa8res en \\xe2\\x82\\xac'.decode(\"utf-8\")"
   ]
  },
  {
   "cell_type": "code",
   "execution_count": null,
   "metadata": {},
   "outputs": [],
   "source": [
    "nb = 4276803\n",
    "nb.to_bytes(length=3)"
   ]
  },
  {
   "cell_type": "code",
   "execution_count": null,
   "metadata": {},
   "outputs": [],
   "source": [
    "int.from_bytes(b\"ABC\")"
   ]
  },
  {
   "cell_type": "code",
   "execution_count": null,
   "metadata": {},
   "outputs": [],
   "source": [
    "help(int.to_bytes)"
   ]
  },
  {
   "cell_type": "code",
   "execution_count": null,
   "metadata": {},
   "outputs": [],
   "source": [
    "help(int.from_bytes)"
   ]
  },
  {
   "cell_type": "markdown",
   "metadata": {},
   "source": [
    "### Pourquoi est-ce utile ?\n",
    "\n",
    "La raison en est simple :\n",
    "\n",
    "* dès que l'on touche au système, on manipule des octets\n",
    "* les seules données qui transitent sur le réseau, ce sont les octets\n",
    "\n",
    "---"
   ]
  }
 ],
 "metadata": {
  "kernelspec": {
   "display_name": "Python 3 (ipykernel)",
   "language": "python",
   "name": "python3"
  },
  "language_info": {
   "codemirror_mode": {
    "name": "ipython",
    "version": 3
   },
   "file_extension": ".py",
   "mimetype": "text/x-python",
   "name": "python",
   "nbconvert_exporter": "python",
   "pygments_lexer": "ipython3",
   "version": "3.11.2"
  }
 },
 "nbformat": 4,
 "nbformat_minor": 4
}
