{
 "cells": [
  {
   "cell_type": "markdown",
   "metadata": {},
   "source": [
    "Fonctions : Introduction\n",
    "========================\n",
    "\n",
    "Signature d'une fonction\n",
    "------------------------\n",
    "\n",
    "* La première ligne d'une fonction est nommé la *signature de la fonction*; elle contient :\n",
    "    * le nom de ses *paramètres*\n",
    "    * leur *ordre*\n",
    "    * leurs éventuelles *valeurs par défaut*\n",
    "    * éventuellement leur type et le type de retour.\n",
    "\n",
    "---\n",
    "\n",
    "    def nom_fonction(parametres):\n",
    "        pass\n",
    "\n",
    "    def somme(a: int, b: int) -> int:\n",
    "        return a + b\n",
    "\n",
    "---\n",
    "\n",
    "Ce typage n'est pas contraignant. Par contre, on peut les vérifier dans des tests unitaires.\n",
    "\n",
    "http://mypy-lang.org/\n",
    "\n",
    "---\n",
    "\n",
    "Le contenu de la fonction (c'est à dire le code exécuté lorsque la fonction est *appelée*) se trouve dans le **bloc de code** de la fonction.\n",
    "\n",
    "Pour rappel, en Python, un **bloc de code** est délimité par la présence des deux points et par une indentation plus élevée (contrairement aux autres langages qui utilisent des accolades).\n",
    "\n",
    "Ceci permet d'avoir un code plus lisible. Comme il est obligatoire d'avoir un bloc de code, même lorsque l'on ne veut rien faire, le mot-clé **pass** permet de respecter ce principe et ne fait strictement rien. Il est juste là pour marquer le bloc.\n",
    "\n",
    "Paramètres\n",
    "----------"
   ]
  },
  {
   "cell_type": "code",
   "execution_count": 1,
   "metadata": {},
   "outputs": [],
   "source": [
    "def dire_bonjour(qui):\n",
    "    \"\"\"Documentation de la fonction\"\"\"\n",
    "    print(\"bonjour \" + qui)"
   ]
  },
  {
   "cell_type": "markdown",
   "metadata": {},
   "source": [
    "Voici un *appel de fonction* :"
   ]
  },
  {
   "cell_type": "code",
   "execution_count": 2,
   "metadata": {},
   "outputs": [
    {
     "name": "stdout",
     "output_type": "stream",
     "text": [
      "bonjour vous tous\n"
     ]
    }
   ],
   "source": [
    "dire_bonjour(\"vous tous\")"
   ]
  },
  {
   "cell_type": "markdown",
   "metadata": {},
   "source": [
    "Voici deux appels incorrects, puisqu'ils ne respectent pas la signature de la fonction."
   ]
  },
  {
   "cell_type": "code",
   "execution_count": 3,
   "metadata": {},
   "outputs": [
    {
     "ename": "TypeError",
     "evalue": "dire_bonjour() missing 1 required positional argument: 'qui'",
     "output_type": "error",
     "traceback": [
      "\u001b[0;31m---------------------------------------------------------------------------\u001b[0m",
      "\u001b[0;31mTypeError\u001b[0m                                 Traceback (most recent call last)",
      "\u001b[0;32m<ipython-input-3-72d4c2997a9a>\u001b[0m in \u001b[0;36m<module>\u001b[0;34m\u001b[0m\n\u001b[0;32m----> 1\u001b[0;31m \u001b[0mdire_bonjour\u001b[0m\u001b[0;34m(\u001b[0m\u001b[0;34m)\u001b[0m\u001b[0;34m\u001b[0m\u001b[0;34m\u001b[0m\u001b[0m\n\u001b[0m",
      "\u001b[0;31mTypeError\u001b[0m: dire_bonjour() missing 1 required positional argument: 'qui'"
     ]
    }
   ],
   "source": [
    "dire_bonjour()"
   ]
  },
  {
   "cell_type": "code",
   "execution_count": 4,
   "metadata": {},
   "outputs": [
    {
     "ename": "TypeError",
     "evalue": "dire_bonjour() takes 1 positional argument but 2 were given",
     "output_type": "error",
     "traceback": [
      "\u001b[0;31m---------------------------------------------------------------------------\u001b[0m",
      "\u001b[0;31mTypeError\u001b[0m                                 Traceback (most recent call last)",
      "\u001b[0;32m<ipython-input-4-9a7bb6e9aa97>\u001b[0m in \u001b[0;36m<module>\u001b[0;34m\u001b[0m\n\u001b[0;32m----> 1\u001b[0;31m \u001b[0mdire_bonjour\u001b[0m\u001b[0;34m(\u001b[0m\u001b[0;34m\"moi\"\u001b[0m\u001b[0;34m,\u001b[0m \u001b[0;34m\"toi\"\u001b[0m\u001b[0;34m)\u001b[0m\u001b[0;34m\u001b[0m\u001b[0;34m\u001b[0m\u001b[0m\n\u001b[0m",
      "\u001b[0;31mTypeError\u001b[0m: dire_bonjour() takes 1 positional argument but 2 were given"
     ]
    }
   ],
   "source": [
    "dire_bonjour(\"moi\", \"toi\")"
   ]
  },
  {
   "cell_type": "markdown",
   "metadata": {},
   "source": [
    "Voici comment préciser une valeur par défaut :"
   ]
  },
  {
   "cell_type": "code",
   "execution_count": 7,
   "metadata": {},
   "outputs": [],
   "source": [
    "def dire_bonjour(qui=\"monde\"):\n",
    "    \"\"\"Documentation de la fonction\"\"\"\n",
    "    print(\"bonjour \" + qui)"
   ]
  },
  {
   "cell_type": "code",
   "execution_count": 8,
   "metadata": {},
   "outputs": [
    {
     "name": "stdout",
     "output_type": "stream",
     "text": [
      "bonjour vous tous\n"
     ]
    }
   ],
   "source": [
    "dire_bonjour(\"vous tous\")"
   ]
  },
  {
   "cell_type": "code",
   "execution_count": 9,
   "metadata": {},
   "outputs": [
    {
     "name": "stdout",
     "output_type": "stream",
     "text": [
      "bonjour monde\n"
     ]
    }
   ],
   "source": [
    "dire_bonjour()"
   ]
  },
  {
   "cell_type": "code",
   "execution_count": 10,
   "metadata": {},
   "outputs": [
    {
     "ename": "TypeError",
     "evalue": "dire_bonjour() takes from 0 to 1 positional arguments but 2 were given",
     "output_type": "error",
     "traceback": [
      "\u001b[0;31m---------------------------------------------------------------------------\u001b[0m",
      "\u001b[0;31mTypeError\u001b[0m                                 Traceback (most recent call last)",
      "\u001b[0;32m<ipython-input-10-9a7bb6e9aa97>\u001b[0m in \u001b[0;36m<module>\u001b[0;34m\u001b[0m\n\u001b[0;32m----> 1\u001b[0;31m \u001b[0mdire_bonjour\u001b[0m\u001b[0;34m(\u001b[0m\u001b[0;34m\"moi\"\u001b[0m\u001b[0;34m,\u001b[0m \u001b[0;34m\"toi\"\u001b[0m\u001b[0;34m)\u001b[0m\u001b[0;34m\u001b[0m\u001b[0;34m\u001b[0m\u001b[0m\n\u001b[0m",
      "\u001b[0;31mTypeError\u001b[0m: dire_bonjour() takes from 0 to 1 positional arguments but 2 were given"
     ]
    }
   ],
   "source": [
    "dire_bonjour(\"moi\", \"toi\")"
   ]
  },
  {
   "cell_type": "markdown",
   "metadata": {},
   "source": [
    "Valeur de retour\n",
    "----------------\n",
    "\n",
    "Quelque soit la situation, *les fonctions Python renvoient toujours **une** et **une seule** valeur*.\n",
    "\n",
    "Dans l'exemple précédent, comme rien n'est précisé, Python renvoie implicitement **None** (qui est la valeur nulle, appelée dans les autres langages **null** ou **nil**).\n",
    "\n",
    "Pour retourner une valeur, il faut utiliser le mot clé **return**. Voici l'exemple précédent revu en renvoyant explicitement **None**."
   ]
  },
  {
   "cell_type": "code",
   "execution_count": 11,
   "metadata": {},
   "outputs": [],
   "source": [
    "def dire_bonjour(qui=\"monde\"):\n",
    "    \"\"\"Documentation de la fonction\"\"\"\n",
    "    print(\"bonjour \" + qui)\n",
    "    return None"
   ]
  },
  {
   "cell_type": "code",
   "execution_count": 12,
   "metadata": {},
   "outputs": [
    {
     "name": "stdout",
     "output_type": "stream",
     "text": [
      "Help on function dire_bonjour in module __main__:\n",
      "\n",
      "dire_bonjour(qui='monde')\n",
      "    Documentation de la fonction\n",
      "\n"
     ]
    }
   ],
   "source": [
    "help(dire_bonjour)"
   ]
  },
  {
   "cell_type": "markdown",
   "metadata": {},
   "source": [
    "**Ceci est nuancé par l'utilisation des n-uplets**\n",
    "\n",
    "Il est en effet possible de renvoyer un n-uplet, donnant l'impression de renvoyer plusieurs valeurs."
   ]
  },
  {
   "cell_type": "code",
   "execution_count": 13,
   "metadata": {},
   "outputs": [],
   "source": [
    "def traitement(ok):\n",
    "    \"\"\"Documentation de la fonction\"\"\"\n",
    "    if ok:\n",
    "        return ('code_success', 'message_succes')\n",
    "    return 'code_erreur', 'message_erreur'"
   ]
  },
  {
   "cell_type": "markdown",
   "metadata": {},
   "source": [
    "On peut ici avoir l'impression que l'on retourne plusieurs valeurs, mais il n'en est rien. En réalité, on retourne un n-uplet de valeurs.\n",
    "\n",
    "Par contre, ce qui est intéressant est que ces valeurs peuvent être dépilées. Par exemple, au lieu d'écrire ceci :"
   ]
  },
  {
   "cell_type": "code",
   "execution_count": 15,
   "metadata": {},
   "outputs": [
    {
     "name": "stdout",
     "output_type": "stream",
     "text": [
      "code code_success, message message_succes\n"
     ]
    }
   ],
   "source": [
    "res = traitement(True)\n",
    "code = res[0]\n",
    "message = res[1]\n",
    "print(\"code \" + code + \", message \" + message)"
   ]
  },
  {
   "cell_type": "markdown",
   "metadata": {},
   "source": [
    "Il est possible d'utiliser l'affectation multiple en écrivant ceci :"
   ]
  },
  {
   "cell_type": "code",
   "execution_count": 16,
   "metadata": {},
   "outputs": [
    {
     "name": "stdout",
     "output_type": "stream",
     "text": [
      "code code_success, message message_succes\n"
     ]
    }
   ],
   "source": [
    "code, message = traitement(True)\n",
    "print(\"code \" + code + \", message \" + message)"
   ]
  },
  {
   "cell_type": "markdown",
   "metadata": {},
   "source": [
    "IL est cependant vital de vérifier qu'il y ait le même nombre d'élément à droite et à gauche :"
   ]
  },
  {
   "cell_type": "code",
   "execution_count": 17,
   "metadata": {},
   "outputs": [
    {
     "name": "stdout",
     "output_type": "stream",
     "text": [
      "0 1 2 3 4\n"
     ]
    }
   ],
   "source": [
    "a, b, c, d, e = range(5)\n",
    "print(a, b, c, d, e)"
   ]
  },
  {
   "cell_type": "code",
   "execution_count": 18,
   "metadata": {},
   "outputs": [
    {
     "ename": "ValueError",
     "evalue": "not enough values to unpack (expected 5, got 4)",
     "output_type": "error",
     "traceback": [
      "\u001b[0;31m---------------------------------------------------------------------------\u001b[0m",
      "\u001b[0;31mValueError\u001b[0m                                Traceback (most recent call last)",
      "\u001b[0;32m<ipython-input-18-cd5a9cf79134>\u001b[0m in \u001b[0;36m<module>\u001b[0;34m\u001b[0m\n\u001b[0;32m----> 1\u001b[0;31m \u001b[0ma\u001b[0m\u001b[0;34m,\u001b[0m \u001b[0mb\u001b[0m\u001b[0;34m,\u001b[0m \u001b[0mc\u001b[0m\u001b[0;34m,\u001b[0m \u001b[0md\u001b[0m\u001b[0;34m,\u001b[0m \u001b[0me\u001b[0m \u001b[0;34m=\u001b[0m \u001b[0mrange\u001b[0m\u001b[0;34m(\u001b[0m\u001b[0;36m4\u001b[0m\u001b[0;34m)\u001b[0m\u001b[0;34m\u001b[0m\u001b[0;34m\u001b[0m\u001b[0m\n\u001b[0m\u001b[1;32m      2\u001b[0m \u001b[0mprint\u001b[0m\u001b[0;34m(\u001b[0m\u001b[0ma\u001b[0m\u001b[0;34m,\u001b[0m \u001b[0mb\u001b[0m\u001b[0;34m,\u001b[0m \u001b[0mc\u001b[0m\u001b[0;34m,\u001b[0m \u001b[0md\u001b[0m\u001b[0;34m,\u001b[0m \u001b[0me\u001b[0m\u001b[0;34m)\u001b[0m\u001b[0;34m\u001b[0m\u001b[0;34m\u001b[0m\u001b[0m\n",
      "\u001b[0;31mValueError\u001b[0m: not enough values to unpack (expected 5, got 4)"
     ]
    }
   ],
   "source": [
    "a, b, c, d, e = range(4)\n",
    "print(a, b, c, d, e)"
   ]
  },
  {
   "cell_type": "code",
   "execution_count": 19,
   "metadata": {},
   "outputs": [
    {
     "ename": "ValueError",
     "evalue": "too many values to unpack (expected 5)",
     "output_type": "error",
     "traceback": [
      "\u001b[0;31m---------------------------------------------------------------------------\u001b[0m",
      "\u001b[0;31mValueError\u001b[0m                                Traceback (most recent call last)",
      "\u001b[0;32m<ipython-input-19-334af5be3d1c>\u001b[0m in \u001b[0;36m<module>\u001b[0;34m\u001b[0m\n\u001b[0;32m----> 1\u001b[0;31m \u001b[0ma\u001b[0m\u001b[0;34m,\u001b[0m \u001b[0mb\u001b[0m\u001b[0;34m,\u001b[0m \u001b[0mc\u001b[0m\u001b[0;34m,\u001b[0m \u001b[0md\u001b[0m\u001b[0;34m,\u001b[0m \u001b[0me\u001b[0m \u001b[0;34m=\u001b[0m \u001b[0mrange\u001b[0m\u001b[0;34m(\u001b[0m\u001b[0;36m6\u001b[0m\u001b[0;34m)\u001b[0m\u001b[0;34m\u001b[0m\u001b[0;34m\u001b[0m\u001b[0m\n\u001b[0m\u001b[1;32m      2\u001b[0m \u001b[0mprint\u001b[0m\u001b[0;34m(\u001b[0m\u001b[0ma\u001b[0m\u001b[0;34m,\u001b[0m \u001b[0mb\u001b[0m\u001b[0;34m,\u001b[0m \u001b[0mc\u001b[0m\u001b[0;34m,\u001b[0m \u001b[0md\u001b[0m\u001b[0;34m,\u001b[0m \u001b[0me\u001b[0m\u001b[0;34m)\u001b[0m\u001b[0;34m\u001b[0m\u001b[0;34m\u001b[0m\u001b[0m\n",
      "\u001b[0;31mValueError\u001b[0m: too many values to unpack (expected 5)"
     ]
    }
   ],
   "source": [
    "a, b, c, d, e = range(6)\n",
    "print(a, b, c, d, e)"
   ]
  },
  {
   "cell_type": "markdown",
   "metadata": {},
   "source": [
    "---\n",
    "\n",
    "Contenu d'une fonction\n",
    "----------------------\n",
    "\n",
    "Le contenu d'une fonction est un bloc de code comme un autre. On peut tout faire à l'intérieur d'une fonction : définir un autre bloc, une autre fonction, définir une classe, des variables, ..."
   ]
  },
  {
   "cell_type": "code",
   "execution_count": null,
   "metadata": {},
   "outputs": [],
   "source": [
    "def ma_fonction(a, b):\n",
    "    \"\"\"Documentation de la fonction\"\"\"\n",
    "    # code indenté,\n",
    "    # faisant partie du bloc de la fonction\n",
    "    somme = a + b\n",
    "    if somme > 0:\n",
    "        # code indenté plus profondément,\n",
    "        # faisant partie du bloc conditionnel\n",
    "        return False\n",
    "    return True"
   ]
  },
  {
   "cell_type": "code",
   "execution_count": 20,
   "metadata": {},
   "outputs": [
    {
     "name": "stdout",
     "output_type": "stream",
     "text": [
      "{'exemple': False, 'truc': True}\n"
     ]
    }
   ],
   "source": [
    "def f(key, data={}):\n",
    "    data[key] = True\n",
    "    return data\n",
    "\n",
    "# Example qui ne crée pas de problème\n",
    "d = {\"exemple\": False}\n",
    "f(\"truc\", d)\n",
    "print(d)"
   ]
  },
  {
   "cell_type": "code",
   "execution_count": 21,
   "metadata": {},
   "outputs": [
    {
     "data": {
      "text/plain": [
       "{'truc': True}"
      ]
     },
     "execution_count": 21,
     "metadata": {},
     "output_type": "execute_result"
    }
   ],
   "source": [
    "f(\"truc\")"
   ]
  },
  {
   "cell_type": "code",
   "execution_count": 22,
   "metadata": {},
   "outputs": [
    {
     "data": {
      "text/plain": [
       "{'truc': True, 'machin': True}"
      ]
     },
     "execution_count": 22,
     "metadata": {},
     "output_type": "execute_result"
    }
   ],
   "source": [
    "f(\"machin\")"
   ]
  },
  {
   "cell_type": "markdown",
   "metadata": {},
   "source": [
    "Voici comment éviter cet eccueil classique"
   ]
  },
  {
   "cell_type": "code",
   "execution_count": 23,
   "metadata": {},
   "outputs": [],
   "source": [
    "def f(key, data=None):  # il faut que data soit non-mutable\n",
    "    if data is None:\n",
    "        data = {}\n",
    "    data[key] = True\n",
    "    return data"
   ]
  },
  {
   "cell_type": "code",
   "execution_count": 24,
   "metadata": {},
   "outputs": [
    {
     "data": {
      "text/plain": [
       "{'truc': True}"
      ]
     },
     "execution_count": 24,
     "metadata": {},
     "output_type": "execute_result"
    }
   ],
   "source": [
    "f(\"truc\")"
   ]
  },
  {
   "cell_type": "code",
   "execution_count": 25,
   "metadata": {},
   "outputs": [
    {
     "data": {
      "text/plain": [
       "{'machin': True}"
      ]
     },
     "execution_count": 25,
     "metadata": {},
     "output_type": "execute_result"
    }
   ],
   "source": [
    "f(\"machin\")"
   ]
  },
  {
   "cell_type": "code",
   "execution_count": null,
   "metadata": {},
   "outputs": [],
   "source": [
    "def g(param=\"abc\"):  # Là, çà ne posera pas problème car une string est non-mutable\n",
    "    pass"
   ]
  },
  {
   "cell_type": "markdown",
   "metadata": {},
   "source": [
    "Exercice 1\n",
    "----------\n",
    "\n",
    "Créez une fonction qui calcule la mensualité à rembourser en fonction d'un capital emprunté, d'une durée (exprimée en mois) et d'un taux (exprimé en pourcent)"
   ]
  },
  {
   "cell_type": "code",
   "execution_count": 26,
   "metadata": {},
   "outputs": [
    {
     "data": {
      "image/png": "[encoded data removed]",
      "text/plain": [
       "<IPython.core.display.Image object>"
      ]
     },
     "execution_count": 26,
     "metadata": {},
     "output_type": "execute_result"
    }
   ],
   "source": [
    "from IPython.core.display import Image\n",
    "Image(filename=\"mensualite.png\")"
   ]
  },
  {
   "cell_type": "raw",
   "metadata": {},
   "source": [
    "Résultat attendu :\n",
    "\n",
    "    >>> calcul_mensualité(200000, 4.75/100, 25*12)\n",
    "    1140.234722762185"
   ]
  },
  {
   "cell_type": "code",
   "execution_count": 27,
   "metadata": {},
   "outputs": [
    {
     "data": {
      "text/plain": [
       "1140.2347227621851"
      ]
     },
     "execution_count": 27,
     "metadata": {},
     "output_type": "execute_result"
    }
   ],
   "source": [
    "def calcule(k, t, n):\n",
    "    m = k*((t/12)/(1-(1+(t/12))**(-n)))\n",
    "    return m\n",
    "\n",
    "calcule(200000, 4.75/100, 25*12)"
   ]
  },
  {
   "cell_type": "code",
   "execution_count": 28,
   "metadata": {},
   "outputs": [
    {
     "name": "stdout",
     "output_type": "stream",
     "text": [
      "1140.2347227621851\n"
     ]
    }
   ],
   "source": [
    "def calcul_mens(K, t, n):\n",
    "    t_m = t/12\n",
    "    m = K*t_m/(1 - (1 + t_m)**(-n))\n",
    "    return m    \n",
    "\n",
    "print(calcul_mens(200000, 4.75/100, 25*12))"
   ]
  },
  {
   "cell_type": "code",
   "execution_count": 30,
   "metadata": {},
   "outputs": [
    {
     "data": {
      "text/plain": [
       "1140.2347227621851"
      ]
     },
     "execution_count": 30,
     "metadata": {},
     "output_type": "execute_result"
    }
   ],
   "source": [
    "def Mensualité(K, t, n): #Mensualité\n",
    "    M = K*((t/12)/(1-(1 + (t/12))**(-n)))\n",
    "    return M\n",
    "Mensualité(200000, 4.75/100, 25*12)"
   ]
  },
  {
   "cell_type": "markdown",
   "metadata": {},
   "source": [
    "---\n",
    "-\n",
    "-\n",
    "-\n",
    "-\n",
    "-\n",
    "-\n",
    "-\n",
    "-\n",
    "-\n",
    "-\n",
    "-\n",
    "-\n",
    "-\n",
    "-\n",
    "-\n",
    "-\n",
    "-\n",
    "-\n",
    "-\n",
    "-\n",
    "-\n",
    "-\n",
    "-\n",
    "-\n",
    "-\n",
    "\n",
    "---"
   ]
  },
  {
   "cell_type": "code",
   "execution_count": null,
   "metadata": {},
   "outputs": [],
   "source": [
    "def calcul_mensualite(capital: int, taux: float, duree: int) -> float:\n",
    "    \"\"\"\n",
    "    Fonction permettant de calculer une mensualité à partir de\n",
    "    \n",
    "    capital : capital emprunté\n",
    "    taux : taux TEG d'emprunt, en pourcent\n",
    "    duree : durée du prêt contracté, en années\n",
    "    \n",
    "    >>> calcul_mensualite(200000, 4.75/100, 25*12)\n",
    "    1140.2347227621851\n",
    "    \"\"\"\n",
    "    return capital * ((taux / 12) / (1 - (1 + (taux / 12)) ** (-duree)))"
   ]
  },
  {
   "cell_type": "code",
   "execution_count": null,
   "metadata": {},
   "outputs": [],
   "source": [
    "calcul_mensualite(200000, 4.75/100, 25*12)"
   ]
  },
  {
   "cell_type": "code",
   "execution_count": null,
   "metadata": {},
   "outputs": [],
   "source": [
    "help(calcul_mensualite)"
   ]
  },
  {
   "cell_type": "code",
   "execution_count": 31,
   "metadata": {},
   "outputs": [
    {
     "data": {
      "text/plain": [
       "0.99"
      ]
     },
     "execution_count": 31,
     "metadata": {},
     "output_type": "execute_result"
    }
   ],
   "source": [
    "99/100"
   ]
  },
  {
   "cell_type": "code",
   "execution_count": null,
   "metadata": {},
   "outputs": [],
   "source": []
  }
 ],
 "metadata": {
  "kernelspec": {
   "display_name": "Python 3 (ipykernel)",
   "language": "python",
   "name": "python3"
  },
  "language_info": {
   "codemirror_mode": {
    "name": "ipython",
    "version": 3
   },
   "file_extension": ".py",
   "mimetype": "text/x-python",
   "name": "python",
   "nbconvert_exporter": "python",
   "pygments_lexer": "ipython3",
   "version": "3.11.8"
  }
 },
 "nbformat": 4,
 "nbformat_minor": 4
}
