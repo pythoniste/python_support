{
 "cells": [
  {
   "cell_type": "markdown",
   "metadata": {},
   "source": [
    "Générateurs\n",
    "-----------\n",
    "\n",
    "Pour des raisons de performances, plutôt que de construire toute une collection de données puis d'itérer dessus, il est préférable de générer les données au fur et à mesure, de les utiliser et de ne pas les stocker."
   ]
  },
  {
   "cell_type": "code",
   "execution_count": null,
   "metadata": {},
   "outputs": [],
   "source": [
    "def liste1():\n",
    "    print(\"renvoi de toute la liste\")\n",
    "    return [1, 2, 3]"
   ]
  },
  {
   "cell_type": "code",
   "execution_count": null,
   "metadata": {},
   "outputs": [],
   "source": [
    "for e in liste1():\n",
    "    print('affichage de %s' % e)"
   ]
  },
  {
   "cell_type": "code",
   "execution_count": null,
   "metadata": {},
   "outputs": [],
   "source": [
    "def liste2():\n",
    "    print('renvoi de 1')\n",
    "    yield 1\n",
    "    print('renvoi de 2')\n",
    "    yield 2\n",
    "    print('renvoi de 3')\n",
    "    yield 3"
   ]
  },
  {
   "cell_type": "code",
   "execution_count": null,
   "metadata": {},
   "outputs": [],
   "source": [
    "for e in liste2():\n",
    "    print('affichage de %s' % e)"
   ]
  },
  {
   "cell_type": "code",
   "execution_count": null,
   "metadata": {},
   "outputs": [],
   "source": [
    "chr(65)"
   ]
  },
  {
   "cell_type": "code",
   "execution_count": null,
   "metadata": {},
   "outputs": [],
   "source": [
    "ord('A')"
   ]
  },
  {
   "cell_type": "code",
   "execution_count": null,
   "metadata": {},
   "outputs": [],
   "source": [
    "def get_chars(min=97, max=102):\n",
    "    for e in range(min, max):\n",
    "        # print ('génération %s' % e)\n",
    "        yield chr(e)\n",
    "\n",
    "def doubler(gen):\n",
    "    for e in gen:\n",
    "        # print('doublement de %s' % e)\n",
    "        yield e*2"
   ]
  },
  {
   "cell_type": "code",
   "execution_count": null,
   "metadata": {},
   "outputs": [],
   "source": [
    "range(1, 4), list(range(1, 4))"
   ]
  },
  {
   "cell_type": "code",
   "execution_count": null,
   "metadata": {},
   "outputs": [],
   "source": [
    "for e in doubler(get_chars()):\n",
    "    print('affichage de %s\\n-' % e)"
   ]
  },
  {
   "cell_type": "code",
   "execution_count": 3,
   "metadata": {},
   "outputs": [],
   "source": [
    "def get_chars(min=97, max=102):\n",
    "    for e in range(min, max):\n",
    "        # print ('génération %s' % e)\n",
    "        yield chr(e)\n",
    "\n",
    "def doubler(gen):\n",
    "    for e in gen:\n",
    "        # print('doublement de %s' % e)\n",
    "        yield e*2\n",
    "\n",
    "def gen():\n",
    "    for e in doubler(get_chars(0, 2**15)):\n",
    "        pass\n",
    "        # print('affichage de %s\\n-' % e)"
   ]
  },
  {
   "cell_type": "code",
   "execution_count": 4,
   "metadata": {},
   "outputs": [
    {
     "name": "stdout",
     "output_type": "stream",
     "text": [
      "12.1 ms ± 1.46 ms per loop (mean ± std. dev. of 7 runs, 100 loops each)\n"
     ]
    }
   ],
   "source": [
    "%timeit gen()"
   ]
  },
  {
   "cell_type": "code",
   "execution_count": 1,
   "metadata": {},
   "outputs": [],
   "source": [
    "def get_chars(min=97, max=102):\n",
    "    result = []\n",
    "    for e in range(min, max):\n",
    "        # print ('génération %s' % e)\n",
    "        result.append(chr(e))\n",
    "    return result\n",
    "\n",
    "def doubler(gen):\n",
    "    result = []\n",
    "    for e in gen:\n",
    "        # print('doublement de %s' % e)\n",
    "        result.append(e*2)\n",
    "    return result\n",
    "\n",
    "def pas_gen():\n",
    "    for e in doubler(get_chars(0, 2**15)):\n",
    "        pass\n",
    "        # print('affichage de %s\\n-' % e)"
   ]
  },
  {
   "cell_type": "code",
   "execution_count": 2,
   "metadata": {},
   "outputs": [
    {
     "name": "stdout",
     "output_type": "stream",
     "text": [
      "22.4 ms ± 3.17 ms per loop (mean ± std. dev. of 7 runs, 10 loops each)\n"
     ]
    }
   ],
   "source": [
    "%timeit pas_gen()"
   ]
  },
  {
   "cell_type": "markdown",
   "metadata": {},
   "source": [
    "---"
   ]
  },
  {
   "cell_type": "code",
   "execution_count": null,
   "metadata": {},
   "outputs": [],
   "source": [
    "range(10)"
   ]
  },
  {
   "cell_type": "code",
   "execution_count": null,
   "metadata": {},
   "outputs": [],
   "source": [
    "list(range(10))"
   ]
  },
  {
   "cell_type": "code",
   "execution_count": null,
   "metadata": {},
   "outputs": [],
   "source": [
    "d.items()"
   ]
  },
  {
   "cell_type": "code",
   "execution_count": null,
   "metadata": {},
   "outputs": [],
   "source": []
  }
 ],
 "metadata": {
  "kernelspec": {
   "display_name": "Python 3",
   "language": "python",
   "name": "python3"
  },
  "language_info": {
   "codemirror_mode": {
    "name": "ipython",
    "version": 3
   },
   "file_extension": ".py",
   "mimetype": "text/x-python",
   "name": "python",
   "nbconvert_exporter": "python",
   "pygments_lexer": "ipython3",
   "version": "3.8.2"
  }
 },
 "nbformat": 4,
 "nbformat_minor": 1
}
