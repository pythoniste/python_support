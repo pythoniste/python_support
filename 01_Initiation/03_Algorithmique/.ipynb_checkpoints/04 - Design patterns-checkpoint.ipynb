{
 "cells": [
  {
   "cell_type": "markdown",
   "id": "reflected-chambers",
   "metadata": {},
   "source": [
    "Décorateur\n",
    "--"
   ]
  },
  {
   "cell_type": "code",
   "execution_count": 1,
   "id": "acquired-wages",
   "metadata": {},
   "outputs": [],
   "source": [
    "def decorateur(func):\n",
    "    print(\"avant\", func)\n",
    "    return func"
   ]
  },
  {
   "cell_type": "code",
   "execution_count": 2,
   "id": "turned-stocks",
   "metadata": {},
   "outputs": [
    {
     "name": "stdout",
     "output_type": "stream",
     "text": [
      "avant <function func at 0x7ff5d4107160>\n"
     ]
    }
   ],
   "source": [
    "@decorateur\n",
    "def func():\n",
    "    print(\"pendant\")"
   ]
  },
  {
   "cell_type": "code",
   "execution_count": 4,
   "id": "hollow-excitement",
   "metadata": {},
   "outputs": [
    {
     "name": "stdout",
     "output_type": "stream",
     "text": [
      "avant <function func at 0x7ff5d41070d0>\n"
     ]
    }
   ],
   "source": [
    "def func():\n",
    "    print(\"pendant\")\n",
    "func = decorateur(func)"
   ]
  },
  {
   "cell_type": "code",
   "execution_count": 5,
   "id": "increased-cleaning",
   "metadata": {},
   "outputs": [
    {
     "name": "stdout",
     "output_type": "stream",
     "text": [
      "pendant\n"
     ]
    }
   ],
   "source": [
    "func()"
   ]
  },
  {
   "cell_type": "code",
   "execution_count": 6,
   "id": "subject-friday",
   "metadata": {},
   "outputs": [
    {
     "name": "stdout",
     "output_type": "stream",
     "text": [
      "avant <function func at 0x7ff5d414ef70>\n",
      "pendant\n",
      "après <function func at 0x7ff5d414ef70>\n"
     ]
    }
   ],
   "source": [
    "def decorateur(func):\n",
    "    def remplacement():\n",
    "        print(\"avant\", func)\n",
    "        func()\n",
    "        print(\"après\", func)\n",
    "    return remplacement\n",
    "\n",
    "@decorateur\n",
    "def func():\n",
    "    print(\"pendant\")\n",
    "\n",
    "func()"
   ]
  },
  {
   "cell_type": "code",
   "execution_count": 7,
   "id": "august-gross",
   "metadata": {},
   "outputs": [
    {
     "name": "stdout",
     "output_type": "stream",
     "text": [
      "{'clé1': 2, 'clé2': 2, 'clé3': 6, 'clé4': 4, 'clé5': 5}\n"
     ]
    }
   ],
   "source": [
    "def handle(keys):\n",
    "    def decorateur(transformation):\n",
    "        def remplacement(data):\n",
    "            for key in keys:\n",
    "                data[key] = transformation(data[key])\n",
    "        return remplacement\n",
    "    return decorateur\n",
    "\n",
    "@handle([\"clé1\", \"clé3\"])\n",
    "def double(data):\n",
    "    return data * 2\n",
    "\n",
    "resultats = {\n",
    "    \"clé1\": 1,\n",
    "    \"clé2\": 2,\n",
    "    \"clé3\": 3,\n",
    "    \"clé4\": 4,\n",
    "    \"clé5\": 5,\n",
    "}\n",
    "\n",
    "double(resultats)\n",
    "\n",
    "print(resultats)"
   ]
  },
  {
   "cell_type": "code",
   "execution_count": 8,
   "id": "still-operator",
   "metadata": {},
   "outputs": [
    {
     "name": "stdout",
     "output_type": "stream",
     "text": [
      "{'clé1': 6, 'clé2': 2, 'clé3': 6, 'clé4': 12, 'clé5': 15}\n"
     ]
    }
   ],
   "source": [
    "@handle([\"clé1\", \"clé4\", \"clé5\"])\n",
    "def triple(data):\n",
    "    return data * 3\n",
    "\n",
    "triple(resultats)\n",
    "print(resultats)"
   ]
  },
  {
   "cell_type": "markdown",
   "id": "miniature-drill",
   "metadata": {},
   "source": [
    "---"
   ]
  },
  {
   "cell_type": "code",
   "execution_count": null,
   "id": "entertaining-yemen",
   "metadata": {},
   "outputs": [],
   "source": []
  }
 ],
 "metadata": {
  "kernelspec": {
   "display_name": "Python 3",
   "language": "python",
   "name": "python3"
  },
  "language_info": {
   "codemirror_mode": {
    "name": "ipython",
    "version": 3
   },
   "file_extension": ".py",
   "mimetype": "text/x-python",
   "name": "python",
   "nbconvert_exporter": "python",
   "pygments_lexer": "ipython3",
   "version": "3.8.2"
  }
 },
 "nbformat": 4,
 "nbformat_minor": 5
}
