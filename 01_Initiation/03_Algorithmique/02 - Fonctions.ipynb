{
 "cells": [
  {
   "cell_type": "markdown",
   "metadata": {},
   "source": [
    "Fonctions\n",
    "=========\n",
    "\n",
    "Signature d'une fonction\n",
    "------------------------\n",
    "\n",
    "* La première ligne d'une fonction est nommé la *signature de la fonction*; elle contient :\n",
    "    * le nom de ses *paramètres*\n",
    "    * leur *ordre*\n",
    "    * leurs éventuelles *valeurs par défaut*\n",
    "    * éventuellement leur type et le type de retour.\n",
    "\n",
    "---\n",
    "\n",
    "    def nom_fonction(parametres):\n",
    "        pass\n",
    "\n",
    "    def somme(a: int, b: int) -> int:\n",
    "        return a + b\n",
    "\n",
    "---\n",
    "\n",
    "Ce typage n'est pas contraignant. Par contre, on peut les vérifier dans des tests unitaires.\n",
    "\n",
    "http://mypy-lang.org/\n",
    "\n",
    "---\n",
    "\n",
    "Le contenu de la fonction (c'est à dire le code exécuté lorsque la fonction est *appelée*) se trouve dans le **bloc de code** de la fonction.\n",
    "\n",
    "Pour rappel, en Python, un **bloc de code** est délimité par la présence des deux points et par une indentation plus élevée (contrairement aux autres langages qui utilisent des accolades).\n",
    "\n",
    "Ceci permet d'avoir un code plus lisible. Comme il est obligatoire d'avoir un bloc de code, même lorsque l'on ne veut rien faire, le mot-clé **pass** permet de respecter ce principe et ne fait strictement rien. Il est juste là pour marquer le bloc.\n",
    "\n",
    "Paramètres\n",
    "----------"
   ]
  },
  {
   "cell_type": "code",
   "execution_count": null,
   "metadata": {},
   "outputs": [],
   "source": [
    "def dire_bonjour(qui):\n",
    "    \"\"\"Documentation de la fonction\"\"\"\n",
    "    print(\"bonjour \" + qui)"
   ]
  },
  {
   "cell_type": "markdown",
   "metadata": {},
   "source": [
    "Dans cet exemple, il existe un et un seul paramètre qui se nomme *qui* et qui est obligatoire.\n",
    "\n",
    "Voici un *appel* de la fonction `dire_bonjour`."
   ]
  },
  {
   "cell_type": "code",
   "execution_count": null,
   "metadata": {},
   "outputs": [],
   "source": [
    "dire_bonjour(\"à vous\")"
   ]
  },
  {
   "cell_type": "markdown",
   "metadata": {},
   "source": [
    "Le paramètre doit absolument être passé à la fonction, sans quoi cette dernière ne peut pas être exécutée correctement, il est **obligatoire** :"
   ]
  },
  {
   "cell_type": "code",
   "execution_count": null,
   "metadata": {},
   "outputs": [],
   "source": [
    "dire_bonjour()"
   ]
  },
  {
   "cell_type": "markdown",
   "metadata": {},
   "source": [
    "Et bien entendu, il n'est pas possible de passer plusieurs paramètres, car la fonction n'en attend qu'un seul :"
   ]
  },
  {
   "cell_type": "code",
   "execution_count": null,
   "metadata": {},
   "outputs": [],
   "source": [
    "dire_bonjour(\"à\", \"vous\")"
   ]
  },
  {
   "cell_type": "markdown",
   "metadata": {},
   "source": [
    "### Valeur par défaut"
   ]
  },
  {
   "cell_type": "code",
   "execution_count": null,
   "metadata": {},
   "outputs": [],
   "source": [
    "def dire_bonjour(qui=\"monde\"):\n",
    "    \"\"\"Documentation de la fonction\"\"\"\n",
    "    print(\"bonjour \" + qui)"
   ]
  },
  {
   "cell_type": "markdown",
   "metadata": {},
   "source": [
    "Au sein de la signature de la fonction, la valeur par défaut est assignée au paramètre *qui*.\n",
    "\n",
    "*Cette assignation se fait au moment de la lecture du code et de la création de la fonction.*"
   ]
  },
  {
   "cell_type": "code",
   "execution_count": null,
   "metadata": {},
   "outputs": [],
   "source": [
    "dire_bonjour(\"vous tous\")"
   ]
  },
  {
   "cell_type": "code",
   "execution_count": null,
   "metadata": {},
   "outputs": [],
   "source": [
    "dire_bonjour()"
   ]
  },
  {
   "cell_type": "markdown",
   "metadata": {},
   "source": [
    "### Focus sur un effet de bord bien connu"
   ]
  },
  {
   "cell_type": "code",
   "execution_count": null,
   "metadata": {},
   "outputs": [],
   "source": [
    "def effet_de_bord(key, data={}):\n",
    "    data[key] = True\n",
    "    return data"
   ]
  },
  {
   "cell_type": "code",
   "execution_count": null,
   "metadata": {},
   "outputs": [],
   "source": [
    "# Example qui ne crée pas de problème\n",
    "d = {\"exemple\": False}\n",
    "effet_de_bord(\"truc\", d)\n",
    "print(d)"
   ]
  },
  {
   "cell_type": "code",
   "execution_count": null,
   "metadata": {},
   "outputs": [],
   "source": [
    "effet_de_bord(\"truc\")"
   ]
  },
  {
   "cell_type": "code",
   "execution_count": null,
   "metadata": {},
   "outputs": [],
   "source": [
    "effet_de_bord(\"machin\")"
   ]
  },
  {
   "cell_type": "code",
   "execution_count": null,
   "metadata": {},
   "outputs": [],
   "source": [
    "def sans_effet_de_bord(key, data=None):  # Là, çà ne posera pas problème car None est non-mutable\n",
    "    if data is None:\n",
    "        data = {}  # La valeur par défaut réelle souhaitée est instanciée dans la fonction, donc à l'exécution, pas à la déclaration\n",
    "    data[key] = True\n",
    "    return data"
   ]
  },
  {
   "cell_type": "code",
   "execution_count": null,
   "metadata": {},
   "outputs": [],
   "source": [
    "sans_effet_de_bord(\"truc\")"
   ]
  },
  {
   "cell_type": "code",
   "execution_count": null,
   "metadata": {},
   "outputs": [],
   "source": [
    "sans_effet_de_bord(\"machin\")"
   ]
  },
  {
   "cell_type": "markdown",
   "metadata": {},
   "source": [
    "Arguments\n",
    "--"
   ]
  },
  {
   "cell_type": "code",
   "execution_count": null,
   "metadata": {},
   "outputs": [],
   "source": [
    "def f1(a, b, c):\n",
    "    pass"
   ]
  },
  {
   "cell_type": "markdown",
   "metadata": {},
   "source": [
    "Dans l'exemple qui suit, on utilise des arguments positionnels"
   ]
  },
  {
   "cell_type": "code",
   "execution_count": null,
   "metadata": {},
   "outputs": [],
   "source": [
    "f1(1, 2, 3)"
   ]
  },
  {
   "cell_type": "markdown",
   "metadata": {},
   "source": [
    "Dans l'exemple qui suit, on utilise des arguments nommés"
   ]
  },
  {
   "cell_type": "code",
   "execution_count": null,
   "metadata": {},
   "outputs": [],
   "source": [
    "f1(a=1, c=3, b=2)"
   ]
  },
  {
   "cell_type": "markdown",
   "metadata": {},
   "source": [
    "Il est possible d'utiliser des arguments positionnels et des arguments nommés"
   ]
  },
  {
   "cell_type": "code",
   "execution_count": null,
   "metadata": {},
   "outputs": [],
   "source": [
    "f1(1, c=3, b=2)"
   ]
  },
  {
   "cell_type": "markdown",
   "metadata": {},
   "source": [
    "Il y a des règles à respecter pour que l'appel de fonction génère pas de confusion entre les arguments donnés et les paramètres attendus."
   ]
  },
  {
   "cell_type": "code",
   "execution_count": null,
   "metadata": {},
   "outputs": [],
   "source": [
    "f1(c=3, 1, 2)"
   ]
  },
  {
   "cell_type": "code",
   "execution_count": null,
   "metadata": {},
   "outputs": [],
   "source": [
    "f1(1, a=3, b=2)"
   ]
  },
  {
   "cell_type": "code",
   "execution_count": null,
   "metadata": {},
   "outputs": [],
   "source": [
    "f1(1, c=3, 2)"
   ]
  },
  {
   "cell_type": "markdown",
   "metadata": {},
   "source": [
    "Paramètres et arguments étoilés\n",
    "--"
   ]
  },
  {
   "cell_type": "markdown",
   "metadata": {},
   "source": [
    "Il est possible de définir des paramètres étoilés"
   ]
  },
  {
   "cell_type": "code",
   "execution_count": null,
   "metadata": {},
   "outputs": [],
   "source": [
    "def etoiles(*args, **kwargs):\n",
    "    print(args, kwargs)"
   ]
  },
  {
   "cell_type": "code",
   "execution_count": null,
   "metadata": {},
   "outputs": [],
   "source": [
    "etoiles(1, 2, c=3, d=4)"
   ]
  },
  {
   "cell_type": "code",
   "execution_count": null,
   "metadata": {},
   "outputs": [],
   "source": [
    "etoiles(*(1, 2), **{'c': 3, 'd': 4})"
   ]
  },
  {
   "cell_type": "code",
   "execution_count": null,
   "metadata": {},
   "outputs": [],
   "source": [
    "def analyse(*data, **options):\n",
    "    if \"axe\" not in options:\n",
    "        options[\"axe\"] = \"default\"\n",
    "    print(f\"analysing {data} with options {options}.\")\n",
    "\n",
    "def analyse_specifique(data, **options):\n",
    "    options |= {\n",
    "        \"capteur\": \"UV\",\n",
    "        \"axe\": \"temps\",\n",
    "    }\n",
    "    data += (42,)\n",
    "    analyse(*data, **options)"
   ]
  },
  {
   "cell_type": "code",
   "execution_count": null,
   "metadata": {},
   "outputs": [],
   "source": [
    "analyse_specifique([1, 2, 3])"
   ]
  },
  {
   "cell_type": "code",
   "execution_count": null,
   "metadata": {},
   "outputs": [],
   "source": [
    "analyse_specifique([1, 2, 3], temperature=32)"
   ]
  },
  {
   "cell_type": "markdown",
   "metadata": {},
   "source": [
    "Forçage de la sémantique des arguments\n",
    "--"
   ]
  },
  {
   "cell_type": "code",
   "execution_count": null,
   "metadata": {},
   "outputs": [],
   "source": [
    "def f(a, b, *, c=None, d=None):\n",
    "    print(a, b, c, d)"
   ]
  },
  {
   "cell_type": "code",
   "execution_count": null,
   "metadata": {},
   "outputs": [],
   "source": [
    "f(1, 2)"
   ]
  },
  {
   "cell_type": "code",
   "execution_count": null,
   "metadata": {},
   "outputs": [],
   "source": [
    "f(1, 2, 3)"
   ]
  },
  {
   "cell_type": "code",
   "execution_count": null,
   "metadata": {},
   "outputs": [],
   "source": [
    "f(1, 2, d=3)"
   ]
  },
  {
   "cell_type": "code",
   "execution_count": null,
   "metadata": {},
   "outputs": [],
   "source": [
    "f(b=2, d=5, a=3)"
   ]
  },
  {
   "cell_type": "code",
   "execution_count": null,
   "metadata": {},
   "outputs": [],
   "source": [
    "f(1)"
   ]
  },
  {
   "cell_type": "code",
   "execution_count": null,
   "metadata": {},
   "outputs": [],
   "source": [
    "def g(a, b=None, *, c=None, d=None):\n",
    "    print(a, b, c, d)"
   ]
  },
  {
   "cell_type": "code",
   "execution_count": null,
   "metadata": {},
   "outputs": [],
   "source": [
    "g(1)"
   ]
  },
  {
   "cell_type": "markdown",
   "metadata": {},
   "source": [
    "---"
   ]
  },
  {
   "cell_type": "code",
   "execution_count": null,
   "metadata": {},
   "outputs": [],
   "source": [
    "def h(a, b, /, c, d, *, e=None, f=None):\n",
    "    print(a, b, c, d, e, f)"
   ]
  },
  {
   "cell_type": "code",
   "execution_count": null,
   "metadata": {},
   "outputs": [],
   "source": [
    "h(1, 2, 3, 4, e=5, f=6)"
   ]
  },
  {
   "cell_type": "code",
   "execution_count": null,
   "metadata": {},
   "outputs": [],
   "source": [
    "h(1, b=2, c=3, d=4, e=5, f=6)"
   ]
  },
  {
   "cell_type": "code",
   "execution_count": null,
   "metadata": {},
   "outputs": [],
   "source": [
    "h(1, 2, 3, d=4, e=5, f=6)"
   ]
  },
  {
   "cell_type": "markdown",
   "metadata": {},
   "source": [
    "---"
   ]
  },
  {
   "cell_type": "code",
   "execution_count": null,
   "metadata": {},
   "outputs": [],
   "source": [
    "def i(a, b, /, c, d=None, *, e=None, f=None):\n",
    "    print(a, b, c, d, e, f)"
   ]
  },
  {
   "cell_type": "code",
   "execution_count": null,
   "metadata": {},
   "outputs": [],
   "source": [
    "i(1, 2, 3, d=4, e=5, f=6)"
   ]
  },
  {
   "cell_type": "code",
   "execution_count": null,
   "metadata": {},
   "outputs": [],
   "source": [
    "i(1, 2, 3)"
   ]
  },
  {
   "cell_type": "code",
   "execution_count": null,
   "metadata": {},
   "outputs": [],
   "source": [
    "def j(a, b=None, /, c=None, d=None, *, e=None, f=None):\n",
    "    print(a, b, c, d, e, f)"
   ]
  },
  {
   "cell_type": "code",
   "execution_count": null,
   "metadata": {},
   "outputs": [],
   "source": [
    "j(1)"
   ]
  },
  {
   "cell_type": "code",
   "execution_count": null,
   "metadata": {},
   "outputs": [],
   "source": [
    "j(1, 2, 3, f=6, d=4, e=5)"
   ]
  },
  {
   "cell_type": "code",
   "execution_count": null,
   "metadata": {},
   "outputs": [],
   "source": [
    "import json\n",
    "help(json.dumps)"
   ]
  },
  {
   "cell_type": "code",
   "execution_count": null,
   "metadata": {},
   "outputs": [],
   "source": [
    "obj = None\n",
    "# json.dumps(obj, False, True, True, True, None, None, None, None, True)\n",
    "json.dumps(obj, sort_keys=True)"
   ]
  },
  {
   "cell_type": "markdown",
   "metadata": {},
   "source": [
    "Valeur de retour\n",
    "--\n",
    "\n",
    "Quelque soit la situation, *les fonctions Python renvoient toujours **une** et **une seule** valeur*.\n",
    "\n",
    "Dans l'exemple précédent, comme rien n'est précisé, Python renvoie implicitement `None`.\n",
    "\n",
    "Pour retourner une valeur, il faut utiliser le mot clé `return`."
   ]
  },
  {
   "cell_type": "code",
   "execution_count": null,
   "metadata": {},
   "outputs": [],
   "source": [
    "def dire_bonjour(qui=\"monde\"):\n",
    "    \"\"\"Documentation de la fonction\"\"\"\n",
    "    print(\"bonjour \" + qui)\n",
    "    return None  # Cette instruction explicite fait la même chose que ce qui aurait été fait implicitement sans sa présence"
   ]
  },
  {
   "cell_type": "markdown",
   "metadata": {},
   "source": [
    "**Ceci est nuancé par l'utilisation des n-uplets**\n",
    "\n",
    "Il est en effet possible de renvoyer un n-uplet, donnant l'impression de renvoyer plusieurs valeurs."
   ]
  },
  {
   "cell_type": "code",
   "execution_count": null,
   "metadata": {},
   "outputs": [],
   "source": [
    "def traitement(ok):\n",
    "    \"\"\"Documentation de la fonction\"\"\"\n",
    "    if ok:\n",
    "        return ('code_success', 'message_succes')\n",
    "    return 'code_erreur', 'message_erreur'"
   ]
  },
  {
   "cell_type": "markdown",
   "metadata": {},
   "source": [
    "On peut ici avoir l'impression que l'on retourne plusieurs valeurs, mais il n'en est rien. En réalité, on retourne un n-uplet de valeurs.\n",
    "\n",
    "Par contre, ce qui est intéressant est que ces valeurs peuvent être dépilées. Par exemple, au lieu d'écrire ceci :"
   ]
  },
  {
   "cell_type": "code",
   "execution_count": null,
   "metadata": {},
   "outputs": [],
   "source": [
    "res = traitement(True)\n",
    "code = res[0]\n",
    "message = res[1]\n",
    "print(\"code \" + code + \", message \" + message)"
   ]
  },
  {
   "cell_type": "code",
   "execution_count": null,
   "metadata": {},
   "outputs": [],
   "source": [
    "code, message = traitement(True)\n",
    "print(\"code \" + code + \", message \" + message)"
   ]
  },
  {
   "cell_type": "markdown",
   "metadata": {},
   "source": [
    "---"
   ]
  }
 ],
 "metadata": {
  "kernelspec": {
   "display_name": "Python 3 (ipykernel)",
   "language": "python",
   "name": "python3"
  },
  "language_info": {
   "codemirror_mode": {
    "name": "ipython",
    "version": 3
   },
   "file_extension": ".py",
   "mimetype": "text/x-python",
   "name": "python",
   "nbconvert_exporter": "python",
   "pygments_lexer": "ipython3",
   "version": "3.11.2"
  }
 },
 "nbformat": 4,
 "nbformat_minor": 4
}
