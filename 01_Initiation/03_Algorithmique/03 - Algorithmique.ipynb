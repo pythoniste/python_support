{
 "cells": [
  {
   "cell_type": "markdown",
   "metadata": {},
   "source": [
    "Algorithmique\n",
    "=============\n",
    "\n",
    "Introduction\n",
    "------------\n",
    "\n",
    "L'algorithmique est facilité en Python car le langage est de haut niveau : on n'a pas à se préoccuper de problématiques purement matérielles et l'on peut se concentrer uniquement sur le problème à résoudre.\n",
    "\n",
    "De plus, on peut réfléchir logiquement sans avoir besoin de traduire en langage machine. Par exemple, si je veux vérifier que le capitaire a le droit d'exercer, on n'est pas obligé d'écrire çà :"
   ]
  },
  {
   "cell_type": "code",
   "execution_count": null,
   "metadata": {},
   "outputs": [],
   "source": [
    "age_du_capitaine = 45"
   ]
  },
  {
   "cell_type": "code",
   "execution_count": null,
   "metadata": {},
   "outputs": [],
   "source": [
    "if age_du_capitaine > 18 and age_du_capitaine < 65:\n",
    "    print('OK')\n",
    "else:\n",
    "    print('KO')"
   ]
  },
  {
   "cell_type": "markdown",
   "metadata": {},
   "source": [
    "On peut écrire les choses d'une manière purement mathématique :"
   ]
  },
  {
   "cell_type": "code",
   "execution_count": null,
   "metadata": {},
   "outputs": [],
   "source": [
    "if 18 < age_du_capitaine < 65:\n",
    "    print('OK')\n",
    "else:\n",
    "    print('KO')"
   ]
  },
  {
   "cell_type": "markdown",
   "metadata": {},
   "source": [
    "Pour tester plusieurs possibilités :"
   ]
  },
  {
   "cell_type": "code",
   "execution_count": null,
   "metadata": {},
   "outputs": [],
   "source": [
    "if age_du_capitaine == 40 or age_du_capitaine == 42 or age_du_capitaine == 44 or age_du_capitaine == 45 or age_du_capitaine == 46:\n",
    "    print(\"OK\")\n",
    "else:\n",
    "    print(\"KO\")"
   ]
  },
  {
   "cell_type": "code",
   "execution_count": null,
   "metadata": {},
   "outputs": [],
   "source": [
    "if age_du_capitaine in (40, 42, 44, 45, 46):\n",
    "    print(\"OK\")\n",
    "else:\n",
    "    print(\"KO\")"
   ]
  },
  {
   "cell_type": "code",
   "execution_count": null,
   "metadata": {},
   "outputs": [],
   "source": [
    "a = b = c = d = e = 0\n",
    "if a < 40 or b > 42 or c == 44 or d == 45 or e == 46:\n",
    "    print(\"OK\")\n",
    "else:\n",
    "    print(\"KO\")"
   ]
  },
  {
   "cell_type": "code",
   "execution_count": null,
   "metadata": {},
   "outputs": [],
   "source": [
    "a = b = c = d = e = 0\n",
    "if any([\n",
    "    a < 40,\n",
    "    b > 42,\n",
    "    c == 44,\n",
    "    d == 45,\n",
    "    e == 46\n",
    "]):\n",
    "    print(\"OK\")\n",
    "else:\n",
    "    print(\"KO\")"
   ]
  },
  {
   "cell_type": "code",
   "execution_count": null,
   "metadata": {},
   "outputs": [],
   "source": [
    "a = b = c = d = e = 0\n",
    "if a < 40 and b > 42 and c == 44 and d == 45 and e == 46:\n",
    "    print(\"OK\")\n",
    "else:\n",
    "    print(\"KO\")"
   ]
  },
  {
   "cell_type": "code",
   "execution_count": null,
   "metadata": {},
   "outputs": [],
   "source": [
    "a = b = c = d = e = 0\n",
    "if all([\n",
    "    a < 40,\n",
    "    b > 42,\n",
    "    c == 44,\n",
    "    d == 45,\n",
    "    e == 46\n",
    "]):\n",
    "    print(\"OK\")\n",
    "else:\n",
    "    print(\"KO\")"
   ]
  },
  {
   "cell_type": "code",
   "execution_count": null,
   "metadata": {},
   "outputs": [],
   "source": []
  },
  {
   "cell_type": "markdown",
   "metadata": {},
   "source": [
    "Ceci facilite la lisibilité des algorithmes, mais aussi leur élaboration.\n",
    "\n",
    "Itérateurs\n",
    "----------\n",
    "\n",
    "L'itération est un des aspect les plus importants, car les plus utilisés.\n",
    "\n",
    "On distingue plusieurs types de conteneurs : l'ensemble qui présente des éléments dans un ordre aléatoire, la liste et le tuple qui les présentent dans un ordre précis, chaque élément pouvant être relié à un indice et le dictionnaire qui n'a pas d'ordre, mais fonctionne avec des clés et des valeurs."
   ]
  },
  {
   "cell_type": "code",
   "execution_count": null,
   "metadata": {},
   "outputs": [],
   "source": [
    "l = ['a', 'b', 'c', 'b']"
   ]
  },
  {
   "cell_type": "code",
   "execution_count": null,
   "metadata": {},
   "outputs": [],
   "source": [
    "for e in l:\n",
    "    print(e)"
   ]
  },
  {
   "cell_type": "code",
   "execution_count": null,
   "metadata": {},
   "outputs": [],
   "source": [
    "d = {'a': 'A', 'b':'B'}"
   ]
  },
  {
   "cell_type": "code",
   "execution_count": null,
   "metadata": {},
   "outputs": [],
   "source": [
    "for k, v in d.items():\n",
    "    print(f\"{k}: {v}\")"
   ]
  },
  {
   "cell_type": "code",
   "execution_count": null,
   "metadata": {},
   "outputs": [],
   "source": [
    "for i, e in enumerate(l):\n",
    "    print(f\"{i} > {e}\")"
   ]
  },
  {
   "cell_type": "code",
   "execution_count": null,
   "metadata": {},
   "outputs": [],
   "source": [
    "for i, (k, v) in enumerate(d.items()):\n",
    "    print(f\"{i} > {k}: {v}\")"
   ]
  },
  {
   "cell_type": "markdown",
   "metadata": {},
   "source": [
    "Générateurs\n",
    "--\n",
    "\n",
    "La fonction **enumerate** est un générateur qui permet de renvoyer pour chaque élément un 2-uplet contenant l'indice de l'élément puis l'élément lui-même."
   ]
  },
  {
   "cell_type": "code",
   "execution_count": null,
   "metadata": {},
   "outputs": [],
   "source": [
    "gen = enumerate(l)"
   ]
  },
  {
   "cell_type": "code",
   "execution_count": null,
   "metadata": {},
   "outputs": [],
   "source": [
    "next(gen)"
   ]
  },
  {
   "cell_type": "code",
   "execution_count": null,
   "metadata": {},
   "outputs": [],
   "source": [
    "next(gen)"
   ]
  },
  {
   "cell_type": "code",
   "execution_count": null,
   "metadata": {},
   "outputs": [],
   "source": [
    "next(gen)"
   ]
  },
  {
   "cell_type": "code",
   "execution_count": null,
   "metadata": {},
   "outputs": [],
   "source": [
    "next(gen)"
   ]
  },
  {
   "cell_type": "code",
   "execution_count": null,
   "metadata": {},
   "outputs": [],
   "source": [
    "next(gen)"
   ]
  },
  {
   "cell_type": "markdown",
   "metadata": {},
   "source": [
    "Détail du générateur **range** :"
   ]
  },
  {
   "cell_type": "code",
   "execution_count": null,
   "metadata": {},
   "outputs": [],
   "source": [
    "for n in range(2):\n",
    "    print(n)"
   ]
  },
  {
   "cell_type": "code",
   "execution_count": null,
   "metadata": {},
   "outputs": [],
   "source": [
    "for n in range(5, 10):\n",
    "    print(n)"
   ]
  },
  {
   "cell_type": "code",
   "execution_count": null,
   "metadata": {},
   "outputs": [],
   "source": [
    "for n in range(5, 10, 2):\n",
    "    print(n)"
   ]
  },
  {
   "cell_type": "code",
   "execution_count": null,
   "metadata": {},
   "outputs": [],
   "source": [
    "help(range)"
   ]
  },
  {
   "cell_type": "markdown",
   "metadata": {},
   "source": [
    "Itérer exactement dix fois :"
   ]
  },
  {
   "cell_type": "code",
   "execution_count": null,
   "metadata": {},
   "outputs": [],
   "source": [
    "for _ in range(10):\n",
    "    print('#')"
   ]
  },
  {
   "cell_type": "markdown",
   "metadata": {},
   "source": [
    "Itérer de manière ordonnée sur un dictionnaire\n",
    "--"
   ]
  },
  {
   "cell_type": "code",
   "execution_count": null,
   "metadata": {},
   "outputs": [],
   "source": [
    "d = {\"c\": 4, \"d\": 2,\"a\": 5, \"b\": 12, \"e\": 51}\n",
    "print(d)"
   ]
  },
  {
   "cell_type": "code",
   "execution_count": null,
   "metadata": {},
   "outputs": [],
   "source": [
    "# pas trié\n",
    "for k, v in d.items():\n",
    "    print(f\"{k}: {v}\")\n",
    "print(\"---\")\n",
    "\n",
    "# méthode alternative\n",
    "import operator\n",
    "for k, v in sorted(d.items(), key=operator.itemgetter(0)):\n",
    "    print(f\"{k}: {v}\")"
   ]
  },
  {
   "cell_type": "code",
   "execution_count": null,
   "metadata": {},
   "outputs": [],
   "source": [
    "# méthode alternative\n",
    "import operator\n",
    "for k, v in sorted(d.items(), key=operator.itemgetter(1)):\n",
    "    print(f\"{k}: {v}\")"
   ]
  },
  {
   "cell_type": "code",
   "execution_count": null,
   "metadata": {},
   "outputs": [],
   "source": [
    "# méthode alternative\n",
    "import operator\n",
    "for i, (k, v) in enumerate(sorted(d.items(), key=operator.itemgetter(0))):\n",
    "    print(f\"{i} > {k}: {v}\")"
   ]
  },
  {
   "cell_type": "markdown",
   "metadata": {},
   "source": [
    "Idiotismes de programmation\n",
    "--"
   ]
  },
  {
   "cell_type": "code",
   "execution_count": null,
   "metadata": {},
   "outputs": [],
   "source": [
    "a, b, c, d, e = range(5)\n",
    "print(a, b, c, d, e)"
   ]
  },
  {
   "cell_type": "code",
   "execution_count": null,
   "metadata": {},
   "outputs": [],
   "source": [
    "a, b, *args = range(5)\n",
    "print(a, b, args)"
   ]
  },
  {
   "cell_type": "markdown",
   "metadata": {},
   "source": [
    "Itérer en modifiant l'objet itéré\n",
    "--"
   ]
  },
  {
   "cell_type": "code",
   "execution_count": null,
   "metadata": {},
   "outputs": [],
   "source": [
    "d = {\"c\": 4, \"d\": 2,\"a\": 5, \"b\": 12, \"e\": 51}\n",
    "\n",
    "for v in d.values():\n",
    "    v += 1\n",
    "\n",
    "print(d)"
   ]
  },
  {
   "cell_type": "code",
   "execution_count": null,
   "metadata": {},
   "outputs": [],
   "source": [
    "d = {\"c\": 4, \"d\": 2,\"a\": 5, \"b\": 12, \"e\": 51}\n",
    "\n",
    "for k in d.keys():\n",
    "    d[k] += 1\n",
    "\n",
    "print(d)"
   ]
  },
  {
   "cell_type": "code",
   "execution_count": null,
   "metadata": {},
   "outputs": [],
   "source": [
    "d = {\"c\": 4, \"d\": 2,\"a\": 5, \"b\": 12, \"e\": 51}\n",
    "\n",
    "for k, v in d.items():\n",
    "    if v % 2 == 0:\n",
    "        del d[k]"
   ]
  },
  {
   "cell_type": "code",
   "execution_count": null,
   "metadata": {},
   "outputs": [],
   "source": [
    "l = [1, 2, 3, 4]\n",
    "\n",
    "for e in l:\n",
    "    if e % 2 == 0:\n",
    "        l.remove(e)\n",
    "\n",
    "print(l)"
   ]
  },
  {
   "cell_type": "code",
   "execution_count": null,
   "metadata": {},
   "outputs": [],
   "source": [
    "l = [1, 2, 3, 4]\n",
    "\n",
    "for i, e in enumerate(l):\n",
    "    if e % 2 == 0:\n",
    "        del l[i]\n",
    "\n",
    "print(l)"
   ]
  },
  {
   "cell_type": "markdown",
   "metadata": {},
   "source": [
    "---"
   ]
  }
 ],
 "metadata": {
  "kernelspec": {
   "display_name": "Python 3 (ipykernel)",
   "language": "python",
   "name": "python3"
  },
  "language_info": {
   "codemirror_mode": {
    "name": "ipython",
    "version": 3
   },
   "file_extension": ".py",
   "mimetype": "text/x-python",
   "name": "python",
   "nbconvert_exporter": "python",
   "pygments_lexer": "ipython3",
   "version": "3.11.2"
  }
 },
 "nbformat": 4,
 "nbformat_minor": 4
}
