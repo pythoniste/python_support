{
 "cells": [
  {
   "cell_type": "markdown",
   "metadata": {},
   "source": [
    "Gestion des fichiers\n",
    "--\n",
    "\n",
    "La plupart des systèmes de fichiers modernes sont en unicode et les fichiers textuels générés sont encodés en unicode. Mais on croise souvent des fichiers textuels encodés différemment."
   ]
  },
  {
   "cell_type": "code",
   "execution_count": null,
   "metadata": {},
   "outputs": [],
   "source": [
    "with open(\"fichier_unicode.txt\") as f:\n",
    "    content = f.read()\n",
    "    print(content)\n",
    "    print(type(content))"
   ]
  },
  {
   "cell_type": "code",
   "execution_count": null,
   "metadata": {},
   "outputs": [],
   "source": [
    "with open(\"fichier_latin1.txt\") as f:\n",
    "    content = f.read()\n",
    "    print(content)\n",
    "    print(type(content))"
   ]
  },
  {
   "cell_type": "code",
   "execution_count": null,
   "metadata": {},
   "outputs": [],
   "source": [
    "with open(\"fichier_latin1.txt\", encoding=\"latin1\") as f:\n",
    "    content = f.read()\n",
    "    print(content)\n",
    "    print(type(content))"
   ]
  },
  {
   "cell_type": "code",
   "execution_count": null,
   "metadata": {},
   "outputs": [],
   "source": [
    "with open(\"fichier_latin1.txt\", encoding=\"iso-8859-15\") as f:\n",
    "    content = f.read()\n",
    "    print(content)\n",
    "    print(type(content))"
   ]
  },
  {
   "cell_type": "markdown",
   "metadata": {},
   "source": [
    "Ouverture d'un fichier binaire\n",
    "--"
   ]
  },
  {
   "cell_type": "code",
   "execution_count": null,
   "metadata": {},
   "outputs": [],
   "source": [
    "with open(\"fichier_latin1.txt\", \"rb\") as f:\n",
    "    content = f.read()\n",
    "    print(content)\n",
    "    print(type(content))"
   ]
  },
  {
   "cell_type": "code",
   "execution_count": null,
   "metadata": {},
   "outputs": [],
   "source": [
    "# You should execute this line to install chardet\n",
    "import subprocess\n",
    "print(subprocess.getstatusoutput(\"pip install chardet\"))"
   ]
  },
  {
   "cell_type": "code",
   "execution_count": null,
   "metadata": {},
   "outputs": [],
   "source": [
    "import chardet\n",
    "with open(\"fichier_latin1.txt\", \"rb\") as f:\n",
    "    print(chardet.detect(f.read()))"
   ]
  },
  {
   "cell_type": "markdown",
   "metadata": {},
   "source": [
    "Ouverture d'un fichier en détectant son encodage\n",
    "--"
   ]
  },
  {
   "cell_type": "code",
   "execution_count": null,
   "metadata": {},
   "outputs": [],
   "source": [
    "import chardet\n",
    "with open(\"fichier_latin1.txt\", \"rb\") as f:\n",
    "    detected_encoding = chardet.detect(f.read())\n",
    "\n",
    "with open(\"fichier_latin1.txt\", encoding=detected_encoding[\"encoding\"]) as f:\n",
    "    content = f.read()\n",
    "    print(content)\n",
    "    print(type(content))"
   ]
  },
  {
   "cell_type": "markdown",
   "metadata": {},
   "source": [
    "Ecriture dans un fichier\n",
    "--"
   ]
  },
  {
   "cell_type": "code",
   "execution_count": null,
   "metadata": {},
   "outputs": [],
   "source": [
    "with open(\"test.txt\", \"w\") as f:\n",
    "    position = f.write(\"Truc.\")\n",
    "    print(position)\n",
    "\n",
    "with open(\"test.txt\", \"r\") as f:\n",
    "    assert f.read() == \"Truc.\", \"Le contenu n'est pas conforme.\""
   ]
  },
  {
   "cell_type": "code",
   "execution_count": null,
   "metadata": {},
   "outputs": [],
   "source": [
    "with open(\"test.txt\", \"a\") as f:\n",
    "    print(f.tell())\n",
    "    content = f.write(\"Chose.\")\n",
    "\n",
    "with open(\"test.txt\", \"r\") as f:\n",
    "    assert f.read() == \"Truc.Chose.\""
   ]
  },
  {
   "cell_type": "code",
   "execution_count": null,
   "metadata": {},
   "outputs": [],
   "source": [
    "print(content)"
   ]
  },
  {
   "cell_type": "code",
   "execution_count": null,
   "metadata": {},
   "outputs": [],
   "source": [
    "with open(\"multi.txt\", \"w\") as f:\n",
    "    f.write(\"Ceci\\nest\\nun\\nfichier\\nmultilignes.\")\n",
    "\n",
    "with open(\"multi.txt\") as f:\n",
    "    print(repr(f.read()))"
   ]
  },
  {
   "cell_type": "code",
   "execution_count": null,
   "metadata": {},
   "outputs": [],
   "source": [
    "with open(\"multi.txt\") as f:\n",
    "    print(f.readlines())"
   ]
  },
  {
   "cell_type": "code",
   "execution_count": null,
   "metadata": {},
   "outputs": [],
   "source": [
    "with open(\"multi.txt\") as f:\n",
    "    for i, line in enumerate(f.readlines()):\n",
    "        print(\"ligne\", i, \":\", repr(line))"
   ]
  },
  {
   "cell_type": "code",
   "execution_count": null,
   "metadata": {},
   "outputs": [],
   "source": [
    "with open(\"multi.txt\") as f:\n",
    "    for i, line in enumerate(f.readlines()):\n",
    "        print(\"ligne\", i, \":\", line.strip())"
   ]
  },
  {
   "cell_type": "code",
   "execution_count": null,
   "metadata": {},
   "outputs": [],
   "source": [
    "with open(\"multi.txt\") as f:\n",
    "    i = 0\n",
    "    while True:\n",
    "        line = f.readline()\n",
    "        print(\"ligne\", i, \":\", line.strip(), \"|\", f.tell())\n",
    "        if not line:\n",
    "            break\n",
    "        i += 1"
   ]
  },
  {
   "cell_type": "code",
   "execution_count": null,
   "metadata": {},
   "outputs": [],
   "source": [
    "with open(\"test.txt\", \"r+\") as f:\n",
    "    print(f.tell())\n",
    "    print(f.read())\n",
    "    print(f.tell())\n",
    "    f.seek(4)\n",
    "    f.write(\"-c\")\n",
    "\n",
    "with open(\"test.txt\", \"r\") as f:\n",
    "    assert f.read() == \"Truc-chose.\", \"Erreur dans la démo\"\n",
    "    print(\"Ce qui s'est passé est ce qui était prévu\")"
   ]
  },
  {
   "cell_type": "code",
   "execution_count": null,
   "metadata": {},
   "outputs": [],
   "source": [
    "with open(\"test.txt\", \"r\") as f:\n",
    "    content = f.read()\n",
    "\n",
    "content = content[:5].lower() + \"bidule-\" + content[5:]\n",
    "    \n",
    "with open(\"test.txt\", \"w\") as f:\n",
    "    f.write(content)\n",
    "\n",
    "with open(\"test.txt\", \"r\") as f:\n",
    "    print(f.read())"
   ]
  },
  {
   "cell_type": "code",
   "execution_count": null,
   "metadata": {},
   "outputs": [],
   "source": [
    "from os.path import exists\n",
    "if not exists(\"existe_pas.txt\"):\n",
    "    print(\"Création du fichier\")\n",
    "    with open(\"existe_pas.txt\", \"w\") as f:\n",
    "        pass\n",
    "else:\n",
    "    print(\"fichier déjà créé\")"
   ]
  },
  {
   "cell_type": "markdown",
   "metadata": {},
   "source": [
    "---"
   ]
  }
 ],
 "metadata": {
  "kernelspec": {
   "display_name": "Python 3 (ipykernel)",
   "language": "python",
   "name": "python3"
  },
  "language_info": {
   "codemirror_mode": {
    "name": "ipython",
    "version": 3
   },
   "file_extension": ".py",
   "mimetype": "text/x-python",
   "name": "python",
   "nbconvert_exporter": "python",
   "pygments_lexer": "ipython3",
   "version": "3.11.8"
  }
 },
 "nbformat": 4,
 "nbformat_minor": 4
}
