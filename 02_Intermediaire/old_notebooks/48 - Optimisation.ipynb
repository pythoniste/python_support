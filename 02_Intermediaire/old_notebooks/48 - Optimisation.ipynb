{
 "metadata": {
  "name": "48 - Optimisation"
 }, 
 "nbformat": 2, 
 "worksheets": [
  {
   "cells": [
    {
     "cell_type": "code", 
     "collapsed": true, 
     "input": [], 
     "language": "python", 
     "outputs": []
    }
   ]
  }
 ]
}