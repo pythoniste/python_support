{
 "metadata": {
  "name": "22 - Les types : donn\u00e9es temporelles"
 }, 
 "nbformat": 2, 
 "worksheets": [
  {
   "cells": [
    {
     "cell_type": "code", 
     "collapsed": true, 
     "input": [], 
     "language": "python", 
     "outputs": []
    }
   ]
  }
 ]
}