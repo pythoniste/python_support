{
 "metadata": {
  "name": "09 - Premiers pas : autres \u00e9l\u00e9ments"
 }, 
 "nbformat": 2, 
 "worksheets": [
  {
   "cells": [
    {
     "cell_type": "code", 
     "collapsed": true, 
     "input": [], 
     "language": "python", 
     "outputs": []
    }
   ]
  }
 ]
}