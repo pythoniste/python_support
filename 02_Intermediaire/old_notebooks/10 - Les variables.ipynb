{
 "metadata": {
  "name": "10 - Les variables"
 }, 
 "nbformat": 2, 
 "worksheets": [
  {
   "cells": [
    {
     "cell_type": "code", 
     "collapsed": true, 
     "input": [], 
     "language": "python", 
     "outputs": []
    }
   ]
  }
 ]
}