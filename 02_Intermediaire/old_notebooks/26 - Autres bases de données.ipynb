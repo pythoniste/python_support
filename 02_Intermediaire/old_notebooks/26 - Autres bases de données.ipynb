{
 "metadata": {
  "name": "26 - Autres bases de donn\u00e9es"
 }, 
 "nbformat": 2, 
 "worksheets": [
  {
   "cells": [
    {
     "cell_type": "code", 
     "collapsed": true, 
     "input": [], 
     "language": "python", 
     "outputs": []
    }
   ]
  }
 ]
}