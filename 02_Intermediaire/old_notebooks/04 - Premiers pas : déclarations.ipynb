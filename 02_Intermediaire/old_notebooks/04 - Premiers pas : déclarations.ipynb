{
 "metadata": {
  "name": "04 - Premiers pas : d\u00e9clarations"
 }, 
 "nbformat": 2, 
 "worksheets": [
  {
   "cells": [
    {
     "cell_type": "code", 
     "collapsed": true, 
     "input": [], 
     "language": "python", 
     "outputs": []
    }
   ]
  }
 ]
}