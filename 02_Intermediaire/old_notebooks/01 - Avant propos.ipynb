{
 "metadata": {
  "name": "01 - Avant propos"
 }, 
 "nbformat": 2, 
 "worksheets": [
  {
   "cells": [
    {
     "cell_type": "markdown", 
     "source": [
      "#Avant Propos", 
      "", 
      "Cette vid\u00e9o est r\u00e9alis\u00e9e en grande partie en s'appuyant sur iPython et en particulier sur le notebook d'iPython.", 
      "", 
      "La commande utilis\u00e9e est celle-ci:", 
      "", 
      "    $ ipython notebook --pylab inline", 
      "", 
      "D\u00e9tail des options :", 
      "", 
      "* *--pylab* permet d'afficher des graphiques", 
      "* *inline* permet de les afficher dans le flux courant et non pas dans une pop-up", 
      "", 
      "Cr\u00e9er un notebook se fait tr\u00e8s rapidement."
     ]
    }
   ]
  }
 ]
}