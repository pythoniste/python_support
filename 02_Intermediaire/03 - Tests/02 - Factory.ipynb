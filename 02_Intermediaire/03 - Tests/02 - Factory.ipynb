{
 "cells": [
  {
   "cell_type": "markdown",
   "id": "6677799f-ede9-4665-b3c6-b26cb31ab2b6",
   "metadata": {},
   "source": [
    "factory_boy\n",
    "==\n",
    "\n",
    "Il s'agit d'un module permettant de créer des objets à la volée en les remplissant de manière aléatoire et réaliste.\n",
    "\n",
    "Cet outil permet de faciliter grandement les tests"
   ]
  },
  {
   "cell_type": "code",
   "execution_count": null,
   "id": "f69c8358-732e-4f20-98a9-88e723b2592e",
   "metadata": {},
   "outputs": [],
   "source": [
    "# You should execute this line to install pydantic and factory_boy\n",
    "import subprocess\n",
    "print(subprocess.getstatusoutput(\"pip install pydantic\"))\n",
    "print(subprocess.getstatusoutput(\"pip install factory_boy\"))"
   ]
  },
  {
   "cell_type": "code",
   "execution_count": null,
   "id": "f74e9736-0842-43c1-8417-931b72557ca6",
   "metadata": {},
   "outputs": [],
   "source": [
    "from pydantic import BaseModel\n",
    "from enum import Enum, auto\n",
    "from datetime import date\n",
    "from uuid import UUID\n",
    "\n",
    "class TypeVoie(Enum):\n",
    "    _ = auto()\n",
    "    bis = auto()\n",
    "    ter = auto()\n",
    "\n",
    "class Adresse(BaseModel):\n",
    "    pk: int\n",
    "    numero: int\n",
    "    type_voie: TypeVoie\n",
    "    rue: str\n",
    "    code_postal: str\n",
    "    ville: str\n",
    "\n",
    "class Personne(BaseModel):\n",
    "    pk: UUID\n",
    "    prenom: str\n",
    "    nom: str\n",
    "    date_naissance: date\n",
    "    adresse: Adresse"
   ]
  },
  {
   "cell_type": "code",
   "execution_count": null,
   "id": "cac34b3a-b48b-4598-ab60-eb5f56411cb3",
   "metadata": {},
   "outputs": [],
   "source": [
    "import factory\n",
    "from uuid import uuid4\n",
    "\n",
    "class AdresseFactory(factory.Factory):\n",
    "    class Meta:\n",
    "        model = Adresse\n",
    "\n",
    "    pk = factory.Sequence(lambda x: 10000 + x)\n",
    "    numero = factory.Faker(\"pyint\", min_value=1, max_value=250)\n",
    "    type_voie = factory.Iterator(TypeVoie)\n",
    "    rue = factory.Faker(\"street_name\", locale=\"fr_FR\")\n",
    "    code_postal = factory.Faker(\"postcode\", locale=\"fr_FR\")\n",
    "    ville = factory.Faker(\"city\", locale=\"fr_FR\")\n",
    "\n",
    "class PersonneFactory(factory.Factory):\n",
    "    class Meta:\n",
    "        model = Personne\n",
    "\n",
    "    pk = factory.LazyFunction(uuid4)\n",
    "    prenom = factory.Faker(\"first_name\", locale=\"fr_FR\")\n",
    "    nom = factory.Faker(\"last_name\", locale=\"fr_FR\")\n",
    "    date_naissance = factory.Faker(\n",
    "        'date_between_dates',\n",
    "        date_start=date(1980, 1, 1),\n",
    "        date_end=date(2008, 12, 31),\n",
    "    )\n",
    "    adresse = factory.SubFactory(AdresseFactory)"
   ]
  },
  {
   "cell_type": "code",
   "execution_count": null,
   "id": "dce5c2db-7315-42d7-8a18-5e362b98c593",
   "metadata": {},
   "outputs": [],
   "source": [
    "adresse = AdresseFactory()"
   ]
  },
  {
   "cell_type": "code",
   "execution_count": null,
   "id": "8ca4ec0a-1bdd-4f17-ada1-1a1aa2493cf2",
   "metadata": {},
   "outputs": [],
   "source": [
    "adresse"
   ]
  },
  {
   "cell_type": "code",
   "execution_count": null,
   "id": "747154d1-3e70-4ce2-b9ce-831e0f753c1b",
   "metadata": {},
   "outputs": [],
   "source": [
    "AdresseFactory.create()"
   ]
  },
  {
   "cell_type": "code",
   "execution_count": null,
   "id": "a5f99984-bd88-4dc6-a677-7301bf983d2b",
   "metadata": {},
   "outputs": [],
   "source": [
    "AdresseFactory.create_batch(5)"
   ]
  },
  {
   "cell_type": "code",
   "execution_count": null,
   "id": "1c897340-6844-4ec9-b383-a779b1184f94",
   "metadata": {},
   "outputs": [],
   "source": [
    "AdresseFactory.create(ville=\"Montpellier\")"
   ]
  },
  {
   "cell_type": "code",
   "execution_count": null,
   "id": "5361f36d-49b9-444f-a88d-41eaaf35ef22",
   "metadata": {},
   "outputs": [],
   "source": [
    "PersonneFactory.create()"
   ]
  },
  {
   "cell_type": "code",
   "execution_count": null,
   "id": "671991fb-ce41-4e55-b570-9ded541f4718",
   "metadata": {},
   "outputs": [],
   "source": [
    "PersonneFactory.create(adresse=adresse, prenom=\"John\", nom=\"Doe\")"
   ]
  },
  {
   "cell_type": "code",
   "execution_count": null,
   "id": "ab88e60c-3dae-4ae1-ad8d-655222df0f30",
   "metadata": {},
   "outputs": [],
   "source": [
    "import unittest\n",
    "\n",
    "class TestOrder(unittest.TestCase):\n",
    "\n",
    "    @classmethod\n",
    "    def setUpClass(cls):\n",
    "        super().setUpClass()\n",
    "        cls.adresses = AdressesFactory.create_batch(10)\n",
    "\n",
    "    def setUp(self):\n",
    "        super().setUp()\n",
    "        self.personne = PersonneFactory()\n",
    "\n",
    "    def tearDown(self):\n",
    "        super().tearDown()\n",
    "\n",
    "    @classmethod\n",
    "    def tearDownClass(self):\n",
    "        super().tearDownClass()\n",
    "\n",
    "    def test_create_order_with_this(self): ...\n",
    "\n",
    "    def test_create_order_with_that(self): ...\n"
   ]
  },
  {
   "cell_type": "markdown",
   "id": "62ea8d8f-c1f0-4dd8-ba16-d2716b95a71b",
   "metadata": {},
   "source": [
    "Documentation :\n",
    "\n",
    "* https://factoryboy.readthedocs.io/en/stable/examples.html\n",
    "* https://faker.readthedocs.io/en/stable/providers.html\n",
    "\n",
    "---"
   ]
  }
 ],
 "metadata": {
  "kernelspec": {
   "display_name": "Python 3 (ipykernel)",
   "language": "python",
   "name": "python3"
  },
  "language_info": {
   "codemirror_mode": {
    "name": "ipython",
    "version": 3
   },
   "file_extension": ".py",
   "mimetype": "text/x-python",
   "name": "python",
   "nbconvert_exporter": "python",
   "pygments_lexer": "ipython3",
   "version": "3.11.8"
  }
 },
 "nbformat": 4,
 "nbformat_minor": 5
}
