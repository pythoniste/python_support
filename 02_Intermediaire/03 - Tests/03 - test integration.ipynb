{
 "cells": [
  {
   "cell_type": "markdown",
   "id": "ea78ce85-42b6-4702-a332-ff27e9e8f144",
   "metadata": {},
   "source": [
    "Tests d'intégration avec Behave\n",
    "=="
   ]
  },
  {
   "cell_type": "code",
   "execution_count": null,
   "id": "c2878373-cd42-406c-9b5c-00122e11f4cf",
   "metadata": {},
   "outputs": [],
   "source": [
    "# You should execute this line to install behave hamcrest\n",
    "import subprocess\n",
    "print(subprocess.getstatusoutput(\"pip install behave PyHamcrest\"))"
   ]
  },
  {
   "cell_type": "code",
   "execution_count": null,
   "id": "dad40da2-988d-4a92-9d0e-6562af743c70",
   "metadata": {},
   "outputs": [],
   "source": [
    "with open(\"features/tutorial01_basics.feature\") as f:\n",
    "    print(f.read())"
   ]
  },
  {
   "cell_type": "code",
   "execution_count": null,
   "id": "bcc01177-8c23-4e65-9559-06303405f477",
   "metadata": {},
   "outputs": [],
   "source": [
    "with open(\"features/environment.py\") as f:\n",
    "    print(f.read())"
   ]
  },
  {
   "cell_type": "code",
   "execution_count": null,
   "id": "1e4ea1df-b73b-4dd1-877e-bb9395ad3798",
   "metadata": {},
   "outputs": [],
   "source": [
    "with open(\"features/steps/step_tutorial01.py\") as f:\n",
    "    print(f.read())"
   ]
  },
  {
   "cell_type": "markdown",
   "id": "226c019d-54a5-4e38-9b96-de590ab61a37",
   "metadata": {},
   "source": [
    "---"
   ]
  },
  {
   "cell_type": "code",
   "execution_count": null,
   "id": "5c7763a6-abd5-4c4f-bfba-3cf836713296",
   "metadata": {},
   "outputs": [],
   "source": [
    "with open(\"features/tutorial02_natural_language.feature\") as f:\n",
    "    print(f.read())"
   ]
  },
  {
   "cell_type": "code",
   "execution_count": null,
   "id": "bd1110d5-94e1-4860-b946-71a8759347b2",
   "metadata": {},
   "outputs": [],
   "source": [
    "with open(\"features/steps/step_tutorial02.py\") as f:\n",
    "    print(f.read())"
   ]
  },
  {
   "cell_type": "markdown",
   "id": "e7a06258-274f-456a-8798-364d872ba729",
   "metadata": {},
   "source": [
    "---"
   ]
  },
  {
   "cell_type": "code",
   "execution_count": null,
   "id": "65e8276f-8765-4a57-8796-030c1fa37d9b",
   "metadata": {},
   "outputs": [],
   "source": [
    "with open(\"features/tutorial03_step_parameters.feature\") as f:\n",
    "    print(f.read())"
   ]
  },
  {
   "cell_type": "code",
   "execution_count": null,
   "id": "7c66fae9-4b82-4bf4-a81d-d2e269948da1",
   "metadata": {},
   "outputs": [],
   "source": [
    "with open(\"features/steps/step_tutorial03.py\") as f:\n",
    "    print(f.read())"
   ]
  },
  {
   "cell_type": "markdown",
   "id": "00920d82-d766-4c15-b697-d29538f7f4db",
   "metadata": {},
   "source": [
    "---"
   ]
  },
  {
   "cell_type": "code",
   "execution_count": null,
   "id": "1b962c88-6549-48d4-b3ee-6a54e9e42b34",
   "metadata": {},
   "outputs": [],
   "source": [
    "with open(\"features/tutorial10_step_usertype.feature\") as f:\n",
    "    print(f.read())"
   ]
  },
  {
   "cell_type": "code",
   "execution_count": null,
   "id": "c9d509a9-b5fb-4302-9deb-8d1dec41f073",
   "metadata": {},
   "outputs": [],
   "source": [
    "with open(\"features/steps/step_tutorial10.py\") as f:\n",
    "    print(f.read())"
   ]
  },
  {
   "cell_type": "code",
   "execution_count": null,
   "id": "465363a7-742d-4db2-a022-9da4bc3bb4e0",
   "metadata": {},
   "outputs": [],
   "source": [
    "print(subprocess.getstatusoutput(\"behave\")[1])"
   ]
  },
  {
   "cell_type": "markdown",
   "id": "e27e2e0b-0124-45ea-bb08-4ca5a99ee28d",
   "metadata": {},
   "source": [
    "---"
   ]
  }
 ],
 "metadata": {
  "kernelspec": {
   "display_name": "Python 3 (ipykernel)",
   "language": "python",
   "name": "python3"
  },
  "language_info": {
   "codemirror_mode": {
    "name": "ipython",
    "version": 3
   },
   "file_extension": ".py",
   "mimetype": "text/x-python",
   "name": "python",
   "nbconvert_exporter": "python",
   "pygments_lexer": "ipython3",
   "version": "3.11.8"
  }
 },
 "nbformat": 4,
 "nbformat_minor": 5
}
