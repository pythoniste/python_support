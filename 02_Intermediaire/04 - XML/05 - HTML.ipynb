{
 "cells": [
  {
   "cell_type": "markdown",
   "id": "2db406c2-943c-4c21-a1bf-807afa81b18c",
   "metadata": {},
   "source": [
    "HTML\n",
    "==\n",
    "\n",
    "Terminologie\n",
    "--\n",
    "\n",
    "Le format **XHTML** est un format **HTML** particulier et strict, créé au moment où il existait des initiatives pour rapprocher le format *HTML* qui n'est pas strict avec le format **XML**.\n",
    "\n",
    "Plus généralement, les formats **HTML** peuvent être assimilés au format **XML**.\n",
    "\n",
    "Lorsque ces fichiers sont mal-formés, au sens **XML** du terme, il existe des heuristiques permettant de les comprendre tout de même. Globalement, ces heuristiques sont normés pour que chaque navigateur en ait la même interprétation.\n",
    "\n",
    "Il existe un module Python permettant de jouer ces heuristiques et permettant de lire du contenu **HTML**, même s'il est mal-formé.\n",
    "\n",
    "Chargement d'un document HTML\n",
    "--"
   ]
  },
  {
   "cell_type": "code",
   "execution_count": null,
   "id": "584e9ec0-d809-44f8-aaab-84263ce653aa",
   "metadata": {},
   "outputs": [],
   "source": [
    "# You should execute this line to install lxml\n",
    "import subprocess\n",
    "print(subprocess.getstatusoutput(\"pip install beautifulsoup4\"))"
   ]
  },
  {
   "cell_type": "code",
   "execution_count": null,
   "id": "390f11d2-0bed-41dc-b404-f4c1cc56fd05",
   "metadata": {},
   "outputs": [],
   "source": [
    "with open('document.html') as f:\n",
    "    print(f.read())"
   ]
  },
  {
   "cell_type": "code",
   "execution_count": null,
   "id": "00b3f2ae-34d7-42c4-9a6f-8f77479b3594",
   "metadata": {},
   "outputs": [],
   "source": [
    "from bs4 import BeautifulSoup"
   ]
  },
  {
   "cell_type": "code",
   "execution_count": null,
   "id": "ac5350ee-8dfa-41ed-8440-ac6a817622a3",
   "metadata": {},
   "outputs": [],
   "source": [
    "with open('document.html') as f:\n",
    "    soup = BeautifulSoup(f.read())"
   ]
  },
  {
   "cell_type": "code",
   "execution_count": null,
   "id": "a287f759-8d8a-4120-a1ca-89945b5d809b",
   "metadata": {},
   "outputs": [],
   "source": [
    "for line in soup.prettify().splitlines():\n",
    "    print(line)"
   ]
  },
  {
   "cell_type": "code",
   "execution_count": null,
   "id": "fc606b65-0170-4450-8403-64418b66ab24",
   "metadata": {},
   "outputs": [],
   "source": [
    "soup.html.body.p.text"
   ]
  },
  {
   "cell_type": "code",
   "execution_count": null,
   "id": "950d091c-e8df-4fdb-82e5-ae570ec74451",
   "metadata": {},
   "outputs": [],
   "source": [
    "soup.html.body.p.findNextSibling().attrs"
   ]
  },
  {
   "cell_type": "markdown",
   "id": "9826cb5d-9318-4942-b8a0-545eab1c700f",
   "metadata": {},
   "source": [
    "Parser à la SAX\n",
    "--"
   ]
  },
  {
   "cell_type": "code",
   "execution_count": null,
   "id": "84738c71-1b90-4fc4-bf06-ec2c8e18d6cc",
   "metadata": {},
   "outputs": [],
   "source": [
    "from lxml.etree import HTMLParser"
   ]
  },
  {
   "cell_type": "code",
   "execution_count": null,
   "id": "fe8f715e-8a9c-41f9-ba7d-b35f4057efb9",
   "metadata": {},
   "outputs": [],
   "source": [
    "with open('document.html') as f:\n",
    "    parser = HTMLParser()\n",
    "    parser.feed(f.read())"
   ]
  },
  {
   "cell_type": "code",
   "execution_count": null,
   "id": "f1229826-b5fd-4b49-83ea-c37556fa421d",
   "metadata": {},
   "outputs": [],
   "source": [
    "class TitleHTMLParser(HTMLParser):\n",
    "    capture = False\n",
    "\n",
    "    def handle_starttag(self, tag, attrs):\n",
    "        if tag == 'title':\n",
    "            self.capture = True\n",
    "\n",
    "    def handle_endtag(self, tag):\n",
    "        self.capture = False\n",
    "\n",
    "    def handle_data(self, data):\n",
    "        if self.capture == True:\n",
    "            print(data)\n"
   ]
  },
  {
   "cell_type": "code",
   "execution_count": null,
   "id": "f49f0171-0ce1-43c4-8545-8ca6432028af",
   "metadata": {},
   "outputs": [],
   "source": [
    "with open('document.html') as f:\n",
    "    parser = TitleHTMLParser()\n",
    "    parser.feed(f.read())"
   ]
  },
  {
   "cell_type": "markdown",
   "id": "a2b2ca3b-608b-4a8b-961c-232f363d7f7a",
   "metadata": {},
   "source": [
    "----"
   ]
  }
 ],
 "metadata": {
  "kernelspec": {
   "display_name": "Python 3 (ipykernel)",
   "language": "python",
   "name": "python3"
  },
  "language_info": {
   "codemirror_mode": {
    "name": "ipython",
    "version": 3
   },
   "file_extension": ".py",
   "mimetype": "text/x-python",
   "name": "python",
   "nbconvert_exporter": "python",
   "pygments_lexer": "ipython3",
   "version": "3.11.8"
  }
 },
 "nbformat": 4,
 "nbformat_minor": 5
}
