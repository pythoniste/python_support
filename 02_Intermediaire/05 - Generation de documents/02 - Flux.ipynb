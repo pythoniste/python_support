{
 "cells": [
  {
   "cell_type": "markdown",
   "id": "1d933b2c-64a8-4742-a9be-a765ad8e27a8",
   "metadata": {},
   "source": [
    "ReportLab, Flux\n",
    "==\n",
    "\n",
    "L'idée de ce chapitre est de présenter les bases de reportlab et de montrer comment générer un document contenant un flux de données qui vont s'enchaîner de page en page."
   ]
  },
  {
   "cell_type": "code",
   "execution_count": null,
   "id": "d773b538-e2a8-4760-8dfd-cb55081499f7",
   "metadata": {},
   "outputs": [],
   "source": [
    "from reportlab.lib import colors\n",
    "from reportlab.lib.styles import getSampleStyleSheet\n",
    "from reportlab.lib.styles import ParagraphStyle\n",
    "from reportlab.lib.enums import TA_JUSTIFY\n",
    "from reportlab.lib.pagesizes import A4\n",
    "from reportlab.lib.units import cm\n",
    "\n",
    "from reportlab.platypus import Paragraph\n",
    "from reportlab.platypus import SimpleDocTemplate\n",
    "from reportlab.platypus import Spacer\n",
    "from reportlab.platypus import Image\n",
    "from reportlab.platypus import PageBreak\n",
    "from reportlab.platypus import Table\n",
    "\n",
    "from reportlab.graphics.shapes import Drawing\n",
    "from reportlab.graphics.charts.linecharts import HorizontalLineChart"
   ]
  },
  {
   "cell_type": "markdown",
   "id": "94e63c3a-e7ed-4273-9b88-d5801943a4d6",
   "metadata": {},
   "source": [
    "Gestion des styles\n",
    "--"
   ]
  },
  {
   "cell_type": "code",
   "execution_count": null,
   "id": "3af52ff2-63e9-4609-a2f2-e616a6bd52de",
   "metadata": {},
   "outputs": [],
   "source": [
    "styles = getSampleStyleSheet()"
   ]
  },
  {
   "cell_type": "code",
   "execution_count": null,
   "id": "2cbfa691-ae8c-4a11-a4d3-9ecfa872ebed",
   "metadata": {},
   "outputs": [],
   "source": [
    "styles.list()"
   ]
  },
  {
   "cell_type": "code",
   "execution_count": null,
   "id": "2343e169-9904-4853-93c7-12fadaeb6108",
   "metadata": {},
   "outputs": [],
   "source": [
    "styles.byName"
   ]
  },
  {
   "cell_type": "code",
   "execution_count": null,
   "id": "cd91fccc-b964-4a43-8cc2-d9b8361c28a6",
   "metadata": {},
   "outputs": [],
   "source": [
    "styles.byAlias"
   ]
  },
  {
   "cell_type": "code",
   "execution_count": null,
   "id": "b2679afc-f6f9-4294-a681-2c5e16ac05f4",
   "metadata": {},
   "outputs": [],
   "source": [
    "styles.get(\"df\")"
   ]
  },
  {
   "cell_type": "code",
   "execution_count": null,
   "id": "6920a963-ffe1-408f-baee-89d0e55cb40e",
   "metadata": {},
   "outputs": [],
   "source": [
    "style = styles.get(\"BodyText\")"
   ]
  },
  {
   "cell_type": "code",
   "execution_count": null,
   "id": "b4980955-1155-4190-bbfc-144021182452",
   "metadata": {},
   "outputs": [],
   "source": [
    "dir(style)"
   ]
  },
  {
   "cell_type": "code",
   "execution_count": null,
   "id": "af6508f4-cb7b-4ff1-ae2e-799555f6975b",
   "metadata": {},
   "outputs": [],
   "source": [
    "mon_style = ParagraphStyle(name='mon_style', alignment=TA_JUSTIFY, fontName = \"Helvetica\", fontSize = 14)"
   ]
  },
  {
   "cell_type": "code",
   "execution_count": null,
   "id": "f981074c-a223-4d38-a10e-44994433c3e4",
   "metadata": {},
   "outputs": [],
   "source": [
    "styles.add(mon_style)"
   ]
  },
  {
   "cell_type": "code",
   "execution_count": null,
   "id": "f8f710ad-9736-4a2e-ba0d-9d31e7a0d5ce",
   "metadata": {},
   "outputs": [],
   "source": [
    "from copy import copy\n",
    "normal_justifié = copy(style)\n",
    "normal_justifié.name='Just'\n",
    "normal_justifié.alignment=TA_JUSTIFY\n",
    "normal_justifié.fontName = \"Helvetica\"\n",
    "normal_justifié.fontSize = 14\n",
    "styles.add(normal_justifié)"
   ]
  },
  {
   "cell_type": "code",
   "execution_count": null,
   "id": "e28ced17-8ee0-4b76-82a3-bf6e92e7ec64",
   "metadata": {},
   "outputs": [],
   "source": [
    "style_tableau = [\n",
    "    ('ALIGN',         (0,0),  (-1,-1), \"LEFT\"),\n",
    "    ('VALIGN',        (0,0),  (-1,-1), \"TOP\"),\n",
    "    ('LEFTPADDING',   (0,0),  (-1,-1), 0*cm),\n",
    "    ('RIGHTPADDING',  (0,0),  (-1,-1), 0*cm),\n",
    "    ('TOPPADDING',    (0,0),  (-1,-1), 0*cm),\n",
    "    ('BOTTOMPADDING', (0,0),  (-1,-1), 0*cm),\n",
    "]"
   ]
  },
  {
   "cell_type": "code",
   "execution_count": null,
   "id": "9a0154d0-fa7b-437f-981c-89a8e04ffe83",
   "metadata": {},
   "outputs": [],
   "source": [
    "style_tableau1 = style_tableau[:]\n",
    "style_tableau1.append(('LINEABOVE', (0,0), (-1, 0), 1, colors.turquoise))\n",
    "style_tableau1.append(('LINEABOVE', (0,1), (-1,-1), 0.5, colors.darkturquoise))"
   ]
  },
  {
   "cell_type": "markdown",
   "id": "6a7e08cf-0b9a-4050-b9ed-2880d78950bb",
   "metadata": {},
   "source": [
    "Ecrire les données\n",
    "--"
   ]
  },
  {
   "cell_type": "code",
   "execution_count": null,
   "id": "72bc3f56-39df-43ea-848b-2068dc33ddda",
   "metadata": {},
   "outputs": [],
   "source": [
    "flowables = []"
   ]
  },
  {
   "cell_type": "code",
   "execution_count": null,
   "id": "0fc74396-c1c8-42d2-97ac-7da22ff88739",
   "metadata": {},
   "outputs": [],
   "source": [
    "flowables.append(Paragraph(\"Fichier PDF Généré\", styles[\"Heading1\"]))"
   ]
  },
  {
   "cell_type": "code",
   "execution_count": null,
   "id": "4d6c9345-dd36-464a-94f4-7538f636094d",
   "metadata": {},
   "outputs": [],
   "source": [
    "flowables.append(Paragraph(\"Sébastien CHAZALLET\", styles[\"Normal\"]))"
   ]
  },
  {
   "cell_type": "code",
   "execution_count": null,
   "id": "a1ade013-8a5b-4539-9fb9-1c5fa93ae337",
   "metadata": {},
   "outputs": [],
   "source": [
    "flowables.append(Paragraph(\"http://www.inspyration.com\", styles[\"Code\"]))"
   ]
  },
  {
   "cell_type": "code",
   "execution_count": null,
   "id": "ab505173-685a-4d8f-855f-0600e403999a",
   "metadata": {},
   "outputs": [],
   "source": [
    "content = \"\"\"Ce document est généré par le script 02_flux.py.\n",
    "Ce script est livré avec le présent ouvrage.\n",
    "Vous pouvez le modifier à souhait pour faire vos propres expériences\"\"\""
   ]
  },
  {
   "cell_type": "code",
   "execution_count": null,
   "id": "7a6869cb-a0e2-4401-910c-c0e4b9cf2d86",
   "metadata": {},
   "outputs": [],
   "source": [
    "flowables.append(Paragraph(content, styles[\"Normal\"]))"
   ]
  },
  {
   "cell_type": "code",
   "execution_count": null,
   "id": "2fbed54a-ea75-4a20-8483-2b8974e205f9",
   "metadata": {},
   "outputs": [],
   "source": [
    "flowables.append(Spacer (0, 0.2*cm))"
   ]
  },
  {
   "cell_type": "code",
   "execution_count": null,
   "id": "de66fe22-196a-45c8-80e3-f92572820a0c",
   "metadata": {},
   "outputs": [],
   "source": [
    "from PIL import Image"
   ]
  },
  {
   "cell_type": "code",
   "execution_count": null,
   "id": "c6270360-ea87-40c6-93a9-c40d25d076cf",
   "metadata": {},
   "outputs": [],
   "source": [
    "width, height = Image.open(\"image.jpg\").size"
   ]
  },
  {
   "cell_type": "code",
   "execution_count": null,
   "id": "89811bfd-1783-4d1e-96d0-1b7b84befd4b",
   "metadata": {},
   "outputs": [],
   "source": [
    "flowables.append(Image('image.jpg', height = 1.74 * cm, width = 1.41 * cm))"
   ]
  },
  {
   "cell_type": "code",
   "execution_count": null,
   "id": "337d5aa5-7d88-4cae-9fbc-40e0f1bc205b",
   "metadata": {},
   "outputs": [],
   "source": [
    "pdf = SimpleDocTemplate('flow.pdf', pagesize = A4, title = 'Premier test', author = 'SCH')\n",
    "# pdf.build(flowables)\n",
    "# pdf.build(flowables[:])"
   ]
  },
  {
   "cell_type": "code",
   "execution_count": null,
   "id": "d90a1864-30a3-446f-9bf3-c46f6a059489",
   "metadata": {},
   "outputs": [],
   "source": [
    "print(flowables)"
   ]
  },
  {
   "cell_type": "markdown",
   "id": "23b7cac7-5c03-468c-9493-9cca23581897",
   "metadata": {},
   "source": [
    "Graphiques\n",
    "--"
   ]
  },
  {
   "cell_type": "code",
   "execution_count": null,
   "id": "aa22de16-3a38-407d-9f19-71cd37cdd82f",
   "metadata": {},
   "outputs": [],
   "source": [
    "drawing = Drawing(10 * cm, 5 * cm)"
   ]
  },
  {
   "cell_type": "code",
   "execution_count": null,
   "id": "4111f859-97e6-45c2-bac2-b7ab07f21be2",
   "metadata": {},
   "outputs": [],
   "source": [
    "lc = HorizontalLineChart()\n",
    "lc.data = [\n",
    "\t(0, 1, 2, 4, 8, 16, 32, 64, 128, 256, 512, 1000),\n",
    "\t(0, 64, 128, 192, 256, 320, 384, 448, 512, 576, 640, 704),\n",
    "]"
   ]
  },
  {
   "cell_type": "code",
   "execution_count": null,
   "id": "99c4346f-88bf-452a-bf29-511c38eccb4f",
   "metadata": {},
   "outputs": [],
   "source": [
    "legend = [\"Jan\", \"Fev\", \"Mar\", \"Avr\", \"Mai\", \"Jun\", \"Jul\", \"Aou\", \"Sep\", \"Oct\", \"Nov\", \"Dec\"]"
   ]
  },
  {
   "cell_type": "code",
   "execution_count": null,
   "id": "4c13e31d-30d6-484e-b141-e7a40ba51b3b",
   "metadata": {},
   "outputs": [],
   "source": [
    "lc.categoryAxis.categoryNames = legend\n",
    "lc.valueAxis.valueMin = 0\n",
    "lc.valueAxis.valueMax = 1000\n",
    "lc.valueAxis.valueStep = 200\n",
    "lc.lines[0].strokeWidth = 2\n",
    "lc.lines[1].strokeWidth = 1.5"
   ]
  },
  {
   "cell_type": "code",
   "execution_count": null,
   "id": "6f63716e-da43-4f0e-ba28-f7f0714375ec",
   "metadata": {},
   "outputs": [],
   "source": [
    "drawing.add(lc)"
   ]
  },
  {
   "cell_type": "code",
   "execution_count": null,
   "id": "d3af8d58-a8f5-4776-b012-2202f4058566",
   "metadata": {},
   "outputs": [],
   "source": [
    "flowables.append(drawing)"
   ]
  },
  {
   "cell_type": "code",
   "execution_count": null,
   "id": "cf5d4568-7572-40d3-8432-4b09c2b46d0c",
   "metadata": {},
   "outputs": [],
   "source": [
    "pdf.build(flowables[:])"
   ]
  },
  {
   "cell_type": "code",
   "execution_count": null,
   "id": "54209c8c-d089-4ef2-ab83-2581a26192b4",
   "metadata": {},
   "outputs": [],
   "source": [
    "data = []\n",
    "line = []\n",
    "line.append( Paragraph (\"Technologie\", styles[\"Normal\"]) )\n",
    "line.append( Paragraph (\"Logiciel\", styles[\"Normal\"]) )\n",
    "line.append( Paragraph (\"Alternatives\", styles[\"Normal\"]) )\n",
    "data.append(line)\n",
    "line = []\n",
    "line.append( Paragraph (\"Système d'exploitation\", styles[\"Normal\"]) )\n",
    "line.append( Paragraph (\"Debian\", styles[\"Normal\"]) )\n",
    "line.append( Paragraph (\"Ubuntu, Fedora\", styles[\"Normal\"]) )\n",
    "data.append(line)\n",
    "line = []\n",
    "line.append( Paragraph (\"Serveur d'annuaires\", styles[\"Normal\"]) )\n",
    "line.append( Paragraph (\"openLDAP\", styles[\"Normal\"]) )\n",
    "line.append( Paragraph (\"lemonLDAP\", styles[\"Normal\"]) )\n",
    "data.append(line)\n",
    "line = []\n",
    "line.append( Paragraph (\"Serveur web\", styles[\"Normal\"]) )\n",
    "line.append( Paragraph (\"Apache2\", styles[\"Normal\"]) )\n",
    "line.append( Paragraph (\"LightHttpd\", styles[\"Normal\"]) )\n",
    "data.append(line)"
   ]
  },
  {
   "cell_type": "markdown",
   "id": "517f15cf-2203-4933-8b85-46eeb0d35b45",
   "metadata": {},
   "source": [
    "Gestion des sauts de page\n",
    "--"
   ]
  },
  {
   "cell_type": "code",
   "execution_count": null,
   "id": "5a9e8228-fadb-4f82-97d5-bf33eb3a7f19",
   "metadata": {},
   "outputs": [],
   "source": [
    "# You should execute this line to install lorem\n",
    "import subprocess\n",
    "print(subprocess.getstatusoutput(\"pip install lorem\"))"
   ]
  },
  {
   "cell_type": "code",
   "execution_count": null,
   "id": "f625eac0-0afc-4a50-8654-e15691d2d06e",
   "metadata": {},
   "outputs": [],
   "source": [
    "import lorem"
   ]
  },
  {
   "cell_type": "code",
   "execution_count": null,
   "id": "e43a6513-94a2-49ed-90b8-6b13bb33c4b5",
   "metadata": {},
   "outputs": [],
   "source": [
    "flowables.append(Paragraph(lorem.paragraph(), styles[\"Normal\"]))"
   ]
  },
  {
   "cell_type": "code",
   "execution_count": null,
   "id": "d4342387-6252-497a-8bff-ad5d29e98fe5",
   "metadata": {},
   "outputs": [],
   "source": [
    "flowables.append(Paragraph(lorem.paragraph(), styles[\"mon_style\"]))"
   ]
  },
  {
   "cell_type": "code",
   "execution_count": null,
   "id": "e7f50dd1-3e8d-4289-af47-08ef366c3545",
   "metadata": {},
   "outputs": [],
   "source": [
    "for _ in range(16):\n",
    "    flowables.append(Paragraph(lorem.paragraph(), styles[\"Just\"]))"
   ]
  },
  {
   "cell_type": "code",
   "execution_count": null,
   "id": "7c35d178-a56c-4c1d-9fae-5edf8bd6b30c",
   "metadata": {},
   "outputs": [],
   "source": [
    "for _ in range(2):\n",
    "    flowables.append(Spacer (0, 0.2*cm))\n",
    "    flowables.append(Paragraph(lorem.paragraph(), styles[\"Just\"]))"
   ]
  },
  {
   "cell_type": "code",
   "execution_count": null,
   "id": "5a34494a-32b0-4802-b62c-745bec92529c",
   "metadata": {},
   "outputs": [],
   "source": [
    "flowables.append(PageBreak())"
   ]
  },
  {
   "cell_type": "code",
   "execution_count": null,
   "id": "6bbe3919-164a-41d8-b095-e146422167a8",
   "metadata": {},
   "outputs": [],
   "source": [
    "flowables.append(Table(data, colWidths=[5*cm, 5*cm, 8*cm], style=style_tableau1))"
   ]
  },
  {
   "cell_type": "code",
   "execution_count": null,
   "id": "a9630fd0-64d4-4dc6-9dc0-6773b0474c26",
   "metadata": {},
   "outputs": [],
   "source": [
    "pdf.build(flowables[:])"
   ]
  },
  {
   "cell_type": "markdown",
   "id": "2a7e1259-2fdc-4579-a4de-fe9e93e3588c",
   "metadata": {},
   "source": [
    "Utilisation de templates\n",
    "--"
   ]
  },
  {
   "cell_type": "code",
   "execution_count": null,
   "id": "157c7ba9-b232-4b85-8b24-1c2f7b775214",
   "metadata": {},
   "outputs": [],
   "source": [
    "from reportlab.platypus.doctemplate import PageTemplate, BaseDocTemplate\n",
    "from reportlab.platypus.frames import Frame\n",
    "from reportlab.lib.units import cm\n",
    "from reportlab.pdfgen.canvas import Canvas"
   ]
  },
  {
   "cell_type": "code",
   "execution_count": null,
   "id": "aa6c9a02-33ab-434d-a2df-3bc44df68244",
   "metadata": {},
   "outputs": [],
   "source": [
    "class FlowTemplate (PageTemplate):\n",
    "    \"\"\"Template for a pdf with datas in a flow.\"\"\"\n",
    "\n",
    "    def __init__ (self, parent):\n",
    "        \"\"\"Initialization of Template : llc = lower left corner\"\"\"\n",
    "\n",
    "        self.parent = parent\n",
    "        self.largeur = self.parent.pagesize[0]\n",
    "        self.hauteur = self.parent.pagesize[1]\n",
    "        self.marginx, self.marginy = 0.7 * cm, 1.4 * cm\n",
    "        self.llcx = self.largeur - self.marginx\n",
    "        self.llcy = 1.0 * cm\n",
    "        self.page = 0\n",
    "        content = Frame(self.marginx, self.marginy, self.largeur - 2 * self.marginx, self.hauteur - 2 * self.marginy)\n",
    "        PageTemplate.__init__ (self, \"Content\", [content])\n",
    "\n",
    "    def beforeDrawPage (self, canvas, doc):\n",
    "        \"\"\"before Drawing Page, we draw elements of the template\"\"\"\n",
    "\n",
    "        canvas.saveState ()\n",
    "        try:\n",
    "            self.drawTemplate(canvas, doc)\n",
    "        finally:\n",
    "            canvas.restoreState()\n",
    "\n",
    "    def drawTemplate(self, canvas, doc):\n",
    "        \"\"\"Can be overridden\"\"\"\n",
    "\n",
    "        self.page += 1\n",
    "        # Dessin d'un carré noir \n",
    "        canvas.setFillColorCMYK( 0, 0, 0, 1 )\n",
    "        # canvas.setStrokeColorCMYK( 0, 0, 0, 1 )\n",
    "        canvas.rect(self.llcx, self.llcy, 0.4 * cm, 0.4 * cm, stroke=0, fill=1 )\n",
    "        # Ajout du numéro de la page dans le carré noir.\n",
    "        canvas.setFont ('Helvetica', 8)\n",
    "        canvas.setFillColorCMYK( 1, 0, 0, 0 )\n",
    "        canvas.drawCentredString(self.llcx + 0.2 * cm, self.llcy + 0.1 * cm, f\"{self.page}\")"
   ]
  },
  {
   "cell_type": "code",
   "execution_count": null,
   "id": "270592f8-2f68-45c0-8fc7-a81a09006238",
   "metadata": {},
   "outputs": [],
   "source": [
    "len(flowables)"
   ]
  },
  {
   "cell_type": "code",
   "execution_count": null,
   "id": "5298a6c4-c0ee-4b96-931f-6ff730ba46db",
   "metadata": {},
   "outputs": [],
   "source": [
    "doc = BaseDocTemplate(filename=\"flow_template_1.pdf\")\n",
    "doc.addPageTemplates(FlowTemplate(doc))\n",
    "doc.build(flowables[:], canvasmaker=Canvas)"
   ]
  },
  {
   "cell_type": "code",
   "execution_count": null,
   "id": "2d2ae0f4-1469-40d8-b3e2-98635f57b9e7",
   "metadata": {},
   "outputs": [],
   "source": [
    "flowables = flowables[:]\n",
    "for _ in range(4):\n",
    "    flowables.extend(flowables[:])\n",
    "\n",
    "doc = BaseDocTemplate(filename=\"flow_template_1.pdf\")\n",
    "doc.addPageTemplates(FlowTemplate(doc))\n",
    "doc.build(flowables[:] * 5, canvasmaker=Canvas)"
   ]
  },
  {
   "cell_type": "code",
   "execution_count": null,
   "id": "f5b99ed7-aa7f-45d1-a171-c1d6c03141a4",
   "metadata": {},
   "outputs": [],
   "source": [
    "from reportlab.platypus import KeepTogether\n",
    "altered_flowables = []\n",
    "for flowable in flowables:\n",
    "    if isinstance(flowable, Paragraph):\n",
    "        altered_flowables.append(KeepTogether(flowable))\n",
    "    else:\n",
    "        altered_flowables.append(flowable)"
   ]
  },
  {
   "cell_type": "code",
   "execution_count": null,
   "id": "dcd84c5f-f30f-42e9-991a-8715ba16e986",
   "metadata": {},
   "outputs": [],
   "source": [
    "doc = BaseDocTemplate(filename=\"flow_template_2.pdf\")\n",
    "doc.addPageTemplates(FlowTemplate(doc))\n",
    "doc.build(altered_flowables, canvasmaker=Canvas)"
   ]
  },
  {
   "cell_type": "markdown",
   "id": "d6a97274-c6be-4825-8af6-f1538832ac73",
   "metadata": {},
   "source": [
    "---\n",
    "\n",
    "Retour sur les Canvas\n",
    "=="
   ]
  },
  {
   "cell_type": "code",
   "execution_count": null,
   "id": "5b260fca-d0ac-4274-9dd4-d1d7237d863b",
   "metadata": {},
   "outputs": [],
   "source": [
    "#!/usr/bin/python\n",
    "# -*- coding: utf-8 -*-\n",
    "\n",
    "\n",
    "\"\"\"\n",
    "Exemple de création d'une plaquette PDF.\n",
    "\"\"\"\n",
    "\n",
    "\n",
    "__author__ = \"Sébastien CHAZALLET\"\n",
    "__copyright__ = \"Copyright 2012\"\n",
    "__credits__ = [\"Sébastien CHAZALLET\", \"InsPyration.org\", \"Éditions ENI\"]\n",
    "__license__ = \"GPL\"\n",
    "__version__ = \"1.0\"\n",
    "__maintainer__ = \"Sébastien CHAZALLET\"\n",
    "__email__ = \"sebastien.chazallet@laposte.net\"\n",
    "__status__ = \"Production\"\n",
    "\n",
    "\n",
    "from reportlab.platypus.doctemplate import PageTemplate\n",
    "from reportlab.platypus.doctemplate import BaseDocTemplate\n",
    "from reportlab.lib import colors\n",
    "\n",
    "\n",
    "class PlaquetteTemplate (PageTemplate):\n",
    "    \"\"\"Modèle de Pages PDF pour une plaquette commerciale\"\"\"\n",
    "\n",
    "    def __init__ (self, context):\n",
    "        self.context = context\n",
    "        self.largeur = self.context.document.pagesize[0]\n",
    "        self.hauteur = self.context.document.pagesize[1]\n",
    "        self.zone1 = Frame(0.7*cm, 13*cm, self.largeur - 0.7*cm, 10*cm)\n",
    "        self.zone2 = Frame(0.7*cm, 9*cm, self.largeur - 0.7*cm, 6*cm)\n",
    "        self.zone3 = Frame(0.7*cm, 5*cm, self.largeur - 0.7*cm, 2*cm)\n",
    "        PageTemplate.__init__ (self, id=\"Tiers\", frames=[self.zone1, self.zone2, self.zone3], pagesize=A4)\n",
    "\n",
    "    def beforeDrawPage (self, canvas, doc):\n",
    "        canvas.saveState ()\n",
    "        try:\n",
    "            self.zone1.addFromList( self.context.flowables_zone1 , canvas)\n",
    "            self.zone2.addFromList( self.context.flowables_zone2 , canvas)\n",
    "            self.zone3.addFromList( self.context.flowables_zone3 , canvas)\n",
    "        finally:\n",
    "            canvas.restoreState ()\n",
    "\n",
    "    def afterDrawPage (self, canvas, doc):\n",
    "        canvas.saveState ()\n",
    "        try:\n",
    "            canvas.setFillColorRGB(*colors.mediumaquamarine.rgba())\n",
    "            canvas.setStrokeColorRGB(*colors.midnightblue.rgba())\n",
    "            canvas.rect(0.7*cm, self.hauteur - 2*0.7*cm, 0.7*cm, 0.7*cm, fill=1)\n",
    "        finally:\n",
    "            canvas.restoreState ()\n",
    "\n",
    "class PlaquettePDF:\n",
    "\n",
    "    def __init__ (self, context):\n",
    "        self.context = context\n",
    "        self.built = 0\n",
    "        self.objects = [Spacer (0, 0.5*cm)]\n",
    "        self.styles = getSampleStyleSheet() \n",
    "        self.flowables_zone1=[\n",
    "            Paragraph(\"ZONE 1\", self.styles['Normal']),\n",
    "            Spacer (0, 0.5*cm),\n",
    "            Paragraph(lorem.paragraph(), styles[\"mon_style\"]),\n",
    "            Spacer (0, 0.5*cm),\n",
    "            Paragraph(lorem.paragraph(), styles[\"mon_style\"]),\n",
    "            Spacer (0, 0.5*cm),\n",
    "            Paragraph(lorem.paragraph(), styles[\"mon_style\"]),\n",
    "            Spacer (0, 0.5*cm),\n",
    "            Paragraph(lorem.paragraph(), styles[\"mon_style\"]),\n",
    "            Spacer (0, 0.5*cm),\n",
    "            Paragraph(lorem.paragraph(), styles[\"mon_style\"]),\n",
    "            Spacer (0, 0.5*cm),\n",
    "            Paragraph(lorem.paragraph(), styles[\"mon_style\"]),\n",
    "            Spacer (0, 0.5*cm),\n",
    "            Paragraph(lorem.paragraph(), styles[\"mon_style\"]),\n",
    "        ]\n",
    "        self.flowables_zone2=[\n",
    "            Paragraph(\"ZONE 2\", self.styles['Normal']),\n",
    "            Spacer (0, 0.5*cm),\n",
    "            Paragraph(\"xXx\", styles[\"mon_style\"]),\n",
    "            Spacer (0, 0.5*cm),\n",
    "            Paragraph(\"xXx\", styles[\"mon_style\"]),\n",
    "            Spacer (0, 0.5*cm),\n",
    "            Paragraph(\"xXx\", styles[\"mon_style\"]),\n",
    "            Spacer (0, 0.5*cm),\n",
    "            Paragraph(\"xXx\", styles[\"mon_style\"]),\n",
    "            Spacer (0, 0.5*cm),\n",
    "            Paragraph(\"xXx\", styles[\"mon_style\"]),\n",
    "            Spacer (0, 0.5*cm),\n",
    "            Paragraph(\"xXx\", styles[\"mon_style\"]),\n",
    "            Spacer (0, 0.5*cm),\n",
    "            Paragraph(\"xXx\", styles[\"mon_style\"]),\n",
    "            Spacer (0, 0.5*cm),\n",
    "            Paragraph(\"xXx\", styles[\"mon_style\"]),\n",
    "        ]\n",
    "        self.flowables_zone3=[\n",
    "            Paragraph(\"ZONE 3\", self.styles['Normal']),\n",
    "            Paragraph(\"-+-+-+-+-+-+-+-+-\", styles[\"mon_style\"]),\n",
    "            Paragraph(\"-+-+-+-+-+-+-+-+-\", styles[\"mon_style\"]),\n",
    "            Paragraph(\"-+-+-+-+-+-+-+-+-\", styles[\"mon_style\"]),\n",
    "            Paragraph(\"-+-+-+-+-+-+-+-+-\", styles[\"mon_style\"]),\n",
    "            Paragraph(\"-+-+-+-+-+-+-+-+-\", styles[\"mon_style\"]),\n",
    "            Paragraph(\"-+-+-+-+-+-+-+-+-\", styles[\"mon_style\"]),\n",
    "            Paragraph(\"-+-+-+-+-+-+-+-+-\", styles[\"mon_style\"]),\n",
    "        ]\n",
    "        self.document = BaseDocTemplate (\"plaquette.pdf\", leftMargin=0.7*cm, rightMargin=0.7*cm, topMargin=0.7*cm, bottomMargin=0.7*cm, pagesize=A4)\n",
    "        self.document.addPageTemplates ( PlaquetteTemplate (self))\n",
    "        self.document.build (self.objects)\n",
    "        self.built = 1\n",
    "\n",
    "PlaquettePDF('')"
   ]
  },
  {
   "cell_type": "code",
   "execution_count": null,
   "id": "3c42545d-06df-412a-bbc6-cf3e67a60dd0",
   "metadata": {},
   "outputs": [],
   "source": []
  }
 ],
 "metadata": {
  "kernelspec": {
   "display_name": "Python 3 (ipykernel)",
   "language": "python",
   "name": "python3"
  },
  "language_info": {
   "codemirror_mode": {
    "name": "ipython",
    "version": 3
   },
   "file_extension": ".py",
   "mimetype": "text/x-python",
   "name": "python",
   "nbconvert_exporter": "python",
   "pygments_lexer": "ipython3",
   "version": "3.11.8"
  }
 },
 "nbformat": 4,
 "nbformat_minor": 5
}
