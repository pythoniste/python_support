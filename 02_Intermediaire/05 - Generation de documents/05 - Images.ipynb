{
 "cells": [
  {
   "cell_type": "markdown",
   "id": "c95acacd-dd64-46fd-84d5-8b33b217b229",
   "metadata": {},
   "source": [
    "Images\n",
    "=="
   ]
  },
  {
   "cell_type": "code",
   "execution_count": null,
   "id": "e5412108-de93-4165-8a47-4ac19e856966",
   "metadata": {},
   "outputs": [],
   "source": [
    "from PIL import Image\n",
    "import os.path"
   ]
  },
  {
   "cell_type": "code",
   "execution_count": null,
   "id": "070e4c86-172e-44c9-ab49-5676d1a78d73",
   "metadata": {},
   "outputs": [],
   "source": [
    "file, ext = os.path.splitext(\"original.png\")"
   ]
  },
  {
   "cell_type": "code",
   "execution_count": null,
   "id": "72ab20ad-3ef9-4a8c-beab-5254b732c0cd",
   "metadata": {},
   "outputs": [],
   "source": [
    "print(file, ext)"
   ]
  },
  {
   "cell_type": "code",
   "execution_count": null,
   "id": "ff54e83a-f8d3-4c37-baf3-6629dcdd87dd",
   "metadata": {},
   "outputs": [],
   "source": [
    "im = Image.open(\"original.png\")"
   ]
  },
  {
   "cell_type": "code",
   "execution_count": null,
   "id": "41389a6d-8f9e-44e8-97da-4509f05adb4c",
   "metadata": {},
   "outputs": [],
   "source": [
    "im.size"
   ]
  },
  {
   "cell_type": "code",
   "execution_count": null,
   "id": "70513ef7-24a3-4bb6-a411-b29aafbcabd3",
   "metadata": {},
   "outputs": [],
   "source": [
    "w, h = im.size"
   ]
  },
  {
   "cell_type": "code",
   "execution_count": null,
   "id": "7206ebce-86d5-49e0-b832-5be825a95540",
   "metadata": {},
   "outputs": [],
   "source": [
    "im.format"
   ]
  },
  {
   "cell_type": "code",
   "execution_count": null,
   "id": "67a3b48c-a9f3-4f6a-b6c0-9866cb75beee",
   "metadata": {},
   "outputs": [],
   "source": [
    "im.format_description"
   ]
  },
  {
   "cell_type": "code",
   "execution_count": null,
   "id": "6ce7d92b-98e6-4ea0-83fb-448adf1a7ca3",
   "metadata": {},
   "outputs": [],
   "source": [
    "im.tile"
   ]
  },
  {
   "cell_type": "code",
   "execution_count": null,
   "id": "894b90b4-6acf-4096-be1e-c894e44c8534",
   "metadata": {},
   "outputs": [],
   "source": [
    "im.getbbox()"
   ]
  },
  {
   "cell_type": "code",
   "execution_count": null,
   "id": "36e5c1aa-2a8c-45b5-a127-c5b38f50260d",
   "metadata": {},
   "outputs": [],
   "source": [
    "im.mode"
   ]
  },
  {
   "cell_type": "markdown",
   "id": "3930d6e7-22b9-4979-852f-71329108dec7",
   "metadata": {},
   "source": [
    "* P (sur un objet, lié à une palette)\n",
    "* RGB\n",
    "* RGBA\n",
    "* CMYK / CMJN\n",
    "* YCbCr"
   ]
  },
  {
   "cell_type": "code",
   "execution_count": null,
   "id": "d3afd115-7dbb-426d-acd8-8f8205de96c0",
   "metadata": {},
   "outputs": [],
   "source": [
    "im.getbands()"
   ]
  },
  {
   "cell_type": "code",
   "execution_count": null,
   "id": "1802842d-3b09-4928-b2ec-0a8b2da773dc",
   "metadata": {},
   "outputs": [],
   "source": [
    "im.getextrema()"
   ]
  },
  {
   "cell_type": "code",
   "execution_count": null,
   "id": "93f1868f-f09f-46e5-bbb2-7f5db758fa47",
   "metadata": {},
   "outputs": [],
   "source": [
    "im.info"
   ]
  },
  {
   "cell_type": "markdown",
   "id": "a5749f63-957f-455a-b09e-3c3553839358",
   "metadata": {},
   "source": [
    "![Fichier original](original.png)"
   ]
  },
  {
   "cell_type": "markdown",
   "id": "1a4951a1-4e78-4a0a-bc99-bd1faf3c05cf",
   "metadata": {},
   "source": [
    "Transformer les images\n",
    "--"
   ]
  },
  {
   "cell_type": "code",
   "execution_count": null,
   "id": "8723cc12-3cd3-4548-bcb9-21fd326b89df",
   "metadata": {},
   "outputs": [],
   "source": [
    "im.thumbnail((600, int(600.*h/w)), Image.LANCZOS)"
   ]
  },
  {
   "cell_type": "code",
   "execution_count": null,
   "id": "1bada80f-07cd-4a9f-b763-22b3957ac172",
   "metadata": {},
   "outputs": [],
   "source": [
    "im.save(f\"{file}_screen{ext}\", \"PNG\")"
   ]
  },
  {
   "cell_type": "markdown",
   "id": "236a0bc5-d727-49d2-978c-0f5e1ff301f9",
   "metadata": {},
   "source": [
    "![Taille écran](original_screen.png)"
   ]
  },
  {
   "cell_type": "code",
   "execution_count": null,
   "id": "3770bae5-b384-48f0-b290-f0ce5a4da5b7",
   "metadata": {},
   "outputs": [],
   "source": [
    "im.thumbnail((150, int(150.*h/w)), Image.LANCZOS)"
   ]
  },
  {
   "cell_type": "code",
   "execution_count": null,
   "id": "c42bc7a4-2c9a-43e3-b842-1c72c13e6605",
   "metadata": {},
   "outputs": [],
   "source": [
    "im.save(f\"{file}_thumbnail{ext}\", \"PNG\")"
   ]
  },
  {
   "cell_type": "markdown",
   "id": "2e8fa138-1709-4ad7-b98a-846f3f502146",
   "metadata": {},
   "source": [
    "![Taille miniature](original_thumbnail.png)"
   ]
  },
  {
   "cell_type": "code",
   "execution_count": null,
   "id": "cb7802c5-9ccd-431f-8587-2c97da15a0a6",
   "metadata": {},
   "outputs": [],
   "source": [
    "im.size"
   ]
  },
  {
   "cell_type": "code",
   "execution_count": null,
   "id": "34191b36-bf9f-4e8e-a13e-dce46db17e01",
   "metadata": {},
   "outputs": [],
   "source": [
    "im.tile"
   ]
  },
  {
   "cell_type": "code",
   "execution_count": null,
   "id": "31d3116b-bb06-4093-98dd-30dc306b1670",
   "metadata": {},
   "outputs": [],
   "source": [
    "im.info"
   ]
  },
  {
   "cell_type": "code",
   "execution_count": null,
   "id": "1bb5607f-09a6-4cea-8bf0-5291ac0f7892",
   "metadata": {},
   "outputs": [],
   "source": [
    "for angle in [10, 30, 45, 90, 180]:\n",
    "    img = im.rotate(angle)\n",
    "    img.save(f\"original_thumbnail_{angle}.png\", 'PNG')"
   ]
  },
  {
   "cell_type": "markdown",
   "id": "7d10df33-99ca-46c9-84a0-7450c1df7251",
   "metadata": {},
   "source": [
    "![Taille miniature](original_thumbnail_10.png)\n",
    "![Taille miniature](original_thumbnail_30.png)\n",
    "![Taille miniature](original_thumbnail_45.png)\n",
    "![Taille miniature](original_thumbnail_90.png)\n",
    "![Taille miniature](original_thumbnail_180.png)"
   ]
  },
  {
   "cell_type": "code",
   "execution_count": null,
   "id": "bd718a2f-cb43-45e7-bb4a-78f2093ad0e9",
   "metadata": {},
   "outputs": [],
   "source": [
    "im = Image.open('original_thumbnail.png')\n",
    "im_flip = im.transpose(Image.FLIP_LEFT_RIGHT)\n",
    "im_flip.save('original_thumbnail_flip.png', 'PNG')"
   ]
  },
  {
   "cell_type": "markdown",
   "id": "33bdc17f-9d95-46f5-b18f-92f3ceb4c205",
   "metadata": {},
   "source": [
    "![Taille miniature](original_thumbnail_flip.png)"
   ]
  },
  {
   "cell_type": "code",
   "execution_count": null,
   "id": "df8600ae-1b20-413e-a5ca-9a94b9e3ba69",
   "metadata": {},
   "outputs": [],
   "source": [
    "im_point = im.point(lambda i: 128+(i-128)//2)\n",
    "im_point.save('original_thumbnail_point.png', 'PNG')"
   ]
  },
  {
   "cell_type": "markdown",
   "id": "9e31fa69-6963-4515-8843-47f070ce53f3",
   "metadata": {},
   "source": [
    "![Taille miniature](original_thumbnail_point.png)"
   ]
  },
  {
   "cell_type": "markdown",
   "id": "e1f1fffe-cbe6-4b33-bff0-9ca7d56d25f4",
   "metadata": {},
   "source": [
    "Filtres\n",
    "--"
   ]
  },
  {
   "cell_type": "code",
   "execution_count": null,
   "id": "d610d13a-c765-44b4-9ef3-0770d2168679",
   "metadata": {},
   "outputs": [],
   "source": [
    "from PIL import ImageFilter"
   ]
  },
  {
   "cell_type": "code",
   "execution_count": null,
   "id": "d4db5efd-f9c0-4f7e-a9ff-9fc6253e7ba0",
   "metadata": {},
   "outputs": [],
   "source": [
    "im2 = im.filter(ImageFilter.BLUR)\n",
    "im2.save('original_thumbnail_filter_blur.png', 'PNG')"
   ]
  },
  {
   "cell_type": "markdown",
   "id": "cbe18b11-4629-4ae7-a1f7-b8279701569a",
   "metadata": {},
   "source": [
    "![Taille miniature](original_thumbnail_filter_blur.png)"
   ]
  },
  {
   "cell_type": "code",
   "execution_count": null,
   "id": "3e8bea79-f4ff-4f0e-9070-c569ffce8699",
   "metadata": {},
   "outputs": [],
   "source": [
    "im2 = im.filter(ImageFilter.CONTOUR)\n",
    "im2.save('original_thumbnail_filter_contour.png', 'PNG')"
   ]
  },
  {
   "cell_type": "markdown",
   "id": "fb278901-658c-44cc-91e6-d31ae112a297",
   "metadata": {},
   "source": [
    "![Taille miniature](original_thumbnail_filter_contour.png)"
   ]
  },
  {
   "cell_type": "code",
   "execution_count": null,
   "id": "e66c77c3-d5ca-4809-8aa1-fe09d29bf3fb",
   "metadata": {},
   "outputs": [],
   "source": [
    "im2 = im.filter(ImageFilter.DETAIL)\n",
    "im2.save('original_thumbnail_filter_detail.png', 'PNG')"
   ]
  },
  {
   "cell_type": "markdown",
   "id": "9542a12d-c64c-4abe-9f89-d9d9397fee61",
   "metadata": {},
   "source": [
    "![Taille miniature](original_thumbnail_filter_detail.png)"
   ]
  },
  {
   "cell_type": "code",
   "execution_count": null,
   "id": "812013a7-ba65-4f15-b477-72ab14f39070",
   "metadata": {},
   "outputs": [],
   "source": [
    "im2 = im.filter(ImageFilter.EDGE_ENHANCE)\n",
    "im2.save('original_thumbnail_filter_edge_enhance.png', 'PNG')"
   ]
  },
  {
   "cell_type": "markdown",
   "id": "c398efec-8a96-4e1f-99b8-6987cd2b27f4",
   "metadata": {},
   "source": [
    "![Taille miniature](original_thumbnail_filter_edge_enhance.png)"
   ]
  },
  {
   "cell_type": "code",
   "execution_count": null,
   "id": "6523cff9-9e49-455f-95ed-8fbc3bc5c971",
   "metadata": {},
   "outputs": [],
   "source": [
    "im2 = im.filter(ImageFilter.EDGE_ENHANCE_MORE)\n",
    "im2.save('original_thumbnail_filter_edge_enhance_more.png', 'PNG')"
   ]
  },
  {
   "cell_type": "markdown",
   "id": "c14a297c-bfbd-4922-8216-071c9211373b",
   "metadata": {},
   "source": [
    "![Taille miniature](original_thumbnail_filter_edge_enhance_more.png)"
   ]
  },
  {
   "cell_type": "code",
   "execution_count": null,
   "id": "8aa5e532-8774-4851-a04e-06f15048488d",
   "metadata": {},
   "outputs": [],
   "source": [
    "im2 = im.filter(ImageFilter.EMBOSS)\n",
    "im2.save('original_thumbnail_filter_emboss.png', 'PNG')"
   ]
  },
  {
   "cell_type": "markdown",
   "id": "bb409770-4bde-4d56-9b76-1ebf233bfd0e",
   "metadata": {},
   "source": [
    "![Taille miniature](original_thumbnail_filter_emboss.png)"
   ]
  },
  {
   "cell_type": "code",
   "execution_count": null,
   "id": "84a505a8-83ba-4140-a713-f818874f1a79",
   "metadata": {},
   "outputs": [],
   "source": [
    "im2 = im.filter(ImageFilter.FIND_EDGES)\n",
    "im2.save('original_thumbnail_filter_find_edges.png', 'PNG')"
   ]
  },
  {
   "cell_type": "markdown",
   "id": "3287dff4-2cdc-4e85-b8a1-117420f7ec4b",
   "metadata": {},
   "source": [
    "![Taille miniature](original_thumbnail_filter_find_edges.png)"
   ]
  },
  {
   "cell_type": "code",
   "execution_count": null,
   "id": "f3b9ffab-4b5d-4df1-9441-df7ff3e8d377",
   "metadata": {},
   "outputs": [],
   "source": [
    "im2 = im.filter(ImageFilter.SMOOTH)\n",
    "im2.save('original_thumbnail_filter_smooth.png', 'PNG')"
   ]
  },
  {
   "cell_type": "markdown",
   "id": "590727e8-604b-4012-a412-59b740ea17ef",
   "metadata": {},
   "source": [
    "![Taille miniature](original_thumbnail_filter_smooth.png)"
   ]
  },
  {
   "cell_type": "code",
   "execution_count": null,
   "id": "021b58f1-3fbc-40c1-a2d6-3f58b89c7c5e",
   "metadata": {},
   "outputs": [],
   "source": [
    "im2 = im.filter(ImageFilter.SMOOTH_MORE)\n",
    "im2.save('original_thumbnail_filter_smooth_more.png', 'PNG')"
   ]
  },
  {
   "cell_type": "markdown",
   "id": "379acdf3-cc30-415f-8af0-531b8669b5ca",
   "metadata": {},
   "source": [
    "![Taille miniature](original_thumbnail_filter_smooth_more.png)"
   ]
  },
  {
   "cell_type": "code",
   "execution_count": null,
   "id": "43f1a02a-8761-4e12-a874-c280d03607a7",
   "metadata": {},
   "outputs": [],
   "source": [
    "im2 = im.filter(ImageFilter.SHARPEN)\n",
    "im2.save('original_thumbnail_filter_sharpen.png', 'PNG')"
   ]
  },
  {
   "cell_type": "markdown",
   "id": "6c7300eb-8331-407b-a5ed-5644a6b7ed81",
   "metadata": {},
   "source": [
    "![Taille miniature](original_thumbnail_filter_sharpen.png)"
   ]
  },
  {
   "cell_type": "code",
   "execution_count": null,
   "id": "802ec3ee-82b4-4be3-9033-18c75e90ade2",
   "metadata": {},
   "outputs": [],
   "source": [
    "im2 = im.crop((25, 15, 100, 75))\n",
    "im2.save('original_thumbnail_recadrage.png', 'PNG')"
   ]
  },
  {
   "cell_type": "markdown",
   "id": "7c75a6e0-d2db-4a11-8620-33def7eb6826",
   "metadata": {},
   "source": [
    "![Taille miniature](original_thumbnail_recadrage.png)"
   ]
  },
  {
   "cell_type": "markdown",
   "id": "60dab31c-51d5-4f86-bde5-f06c97b226a2",
   "metadata": {},
   "source": [
    "Calques\n",
    "--"
   ]
  },
  {
   "cell_type": "code",
   "execution_count": null,
   "id": "efd69a18-b0c5-4002-a69e-3b3238808e91",
   "metadata": {},
   "outputs": [],
   "source": [
    "r, v, b = im.split()"
   ]
  },
  {
   "cell_type": "code",
   "execution_count": null,
   "id": "bca55e15-12ab-49a3-91d2-1b326b85e76e",
   "metadata": {},
   "outputs": [],
   "source": [
    "im2 = Image.merge('L', (r,))\n",
    "im2.save('original_thumbnail_R.png', 'PNG')"
   ]
  },
  {
   "cell_type": "markdown",
   "id": "09a6a9d3-8d58-4b97-9f20-b7f94acabcdb",
   "metadata": {},
   "source": [
    "![Taille miniature](original_thumbnail_R.png)"
   ]
  },
  {
   "cell_type": "code",
   "execution_count": null,
   "id": "e54f410c-a73f-45c0-8dca-e9b32eb32bff",
   "metadata": {},
   "outputs": [],
   "source": [
    "im2 = Image.merge('L', (v,))\n",
    "im2.save('original_thumbnail_V.png', 'PNG')"
   ]
  },
  {
   "cell_type": "markdown",
   "id": "cb4b50da-7277-475b-9b20-b26fbf1baa12",
   "metadata": {},
   "source": [
    "![Taille miniature](original_thumbnail_V.png)"
   ]
  },
  {
   "cell_type": "code",
   "execution_count": null,
   "id": "352e6dc9-8f77-490b-a849-64ddf47af5af",
   "metadata": {},
   "outputs": [],
   "source": [
    "im2 = Image.merge('L', (b,))\n",
    "im2.save('original_thumbnail_B.png', 'PNG')"
   ]
  },
  {
   "cell_type": "markdown",
   "id": "92c25a40-5871-4e9e-88fb-524a9f831495",
   "metadata": {},
   "source": [
    "![Taille miniature](original_thumbnail_B.png)"
   ]
  },
  {
   "cell_type": "code",
   "execution_count": null,
   "id": "949a7e4c-27fb-45a5-bfd5-a4537be8bd3a",
   "metadata": {},
   "outputs": [],
   "source": [
    "im2 = Image.merge('RGB', (b, r, v))\n",
    "im2.save('original_thumbnail_BRV.png', 'PNG')"
   ]
  },
  {
   "cell_type": "markdown",
   "id": "9b651635-5d3a-4a1f-ba6d-e68f9ba603d9",
   "metadata": {},
   "source": [
    "![Taille miniature](original_thumbnail_BRV.png)"
   ]
  },
  {
   "cell_type": "code",
   "execution_count": null,
   "id": "31571375-e9a0-47da-b8ef-5366746aef27",
   "metadata": {},
   "outputs": [],
   "source": [
    "im2 = Image.merge('RGB', (v, b, r))\n",
    "im2.save('original_thumbnail_VBR.png', 'PNG')"
   ]
  },
  {
   "cell_type": "markdown",
   "id": "5eddf686-6b6d-4638-b2b7-7d0ee7c949d3",
   "metadata": {},
   "source": [
    "![Taille miniature](original_thumbnail_VBR.png)"
   ]
  },
  {
   "cell_type": "code",
   "execution_count": null,
   "id": "dc21a536-b137-46dd-b860-5b535a80a82c",
   "metadata": {},
   "outputs": [],
   "source": [
    "im2 = Image.merge('RGB', (b, v, r))\n",
    "im2.save('original_thumbnail_BVR.png', 'PNG')"
   ]
  },
  {
   "cell_type": "markdown",
   "id": "c5339aa6-0fc5-41ef-9f57-e9f0d463e071",
   "metadata": {},
   "source": [
    "![Taille miniature](original_thumbnail_BVR.png)"
   ]
  },
  {
   "cell_type": "code",
   "execution_count": null,
   "id": "8435721e-b3f2-4211-b406-f87108b317b7",
   "metadata": {},
   "outputs": [],
   "source": [
    "im2 = Image.merge('RGB', (r, b, v))\n",
    "im2.save('original_thumbnail_RBV.png', 'PNG')"
   ]
  },
  {
   "cell_type": "markdown",
   "id": "088c35ee-11ad-46ed-bf72-183ce3c7fe42",
   "metadata": {},
   "source": [
    "![Taille miniature](original_thumbnail_RBV.png)"
   ]
  },
  {
   "cell_type": "code",
   "execution_count": null,
   "id": "d1ebea67-a32e-4b12-85dc-23c571251b00",
   "metadata": {},
   "outputs": [],
   "source": [
    "im2 = Image.merge('RGB', (v, r, b))\n",
    "im2.save('original_thumbnail_VRB.png', 'PNG')"
   ]
  },
  {
   "cell_type": "markdown",
   "id": "18d19797-6f44-4851-b952-0b71220cc55d",
   "metadata": {},
   "source": [
    "![Taille miniature](original_thumbnail_VRB.png)"
   ]
  },
  {
   "cell_type": "code",
   "execution_count": null,
   "id": "4ef5a4cb-f14b-4646-9246-950293f64565",
   "metadata": {},
   "outputs": [],
   "source": [
    "t = Image.new('L', im.size)\n",
    "im2 = Image.merge('RGB', (r, t, t))\n",
    "im2.save('original_thumbnail_RTT.png', 'PNG')"
   ]
  },
  {
   "cell_type": "markdown",
   "id": "0c2dfc06-2b52-4168-a0de-ca72bc3ef02a",
   "metadata": {},
   "source": [
    "![Taille miniature](original_thumbnail_RTT.png)"
   ]
  },
  {
   "cell_type": "code",
   "execution_count": null,
   "id": "f8d284bf-0d42-44dc-9f50-f6bdfea672a7",
   "metadata": {},
   "outputs": [],
   "source": [
    "im2 = Image.merge('RGB', (t, v, t))\n",
    "im2.save('original_thumbnail_TVT.png', 'PNG')"
   ]
  },
  {
   "cell_type": "markdown",
   "id": "bcb15d9b-fa26-4129-b49f-e0c04338accb",
   "metadata": {},
   "source": [
    "![Taille miniature](original_thumbnail_TVT.png)"
   ]
  },
  {
   "cell_type": "code",
   "execution_count": null,
   "id": "daff9372-c7a9-4a0b-8e5c-7e62ac125232",
   "metadata": {},
   "outputs": [],
   "source": [
    "im2 = Image.merge('RGB', (t, t, b))\n",
    "im2.save('original_thumbnail_TTB.png', 'PNG')"
   ]
  },
  {
   "cell_type": "markdown",
   "id": "ac93cb3e-d240-4eb8-8737-085211493de1",
   "metadata": {},
   "source": [
    "![Taille miniature](original_thumbnail_TTB.png)"
   ]
  },
  {
   "cell_type": "code",
   "execution_count": null,
   "id": "1fc266ab-a426-44ce-8a4d-4dc3b9ff6a49",
   "metadata": {},
   "outputs": [],
   "source": [
    "im2 = Image.merge('RGB', (r, v, t))\n",
    "im2.save('original_thumbnail_RVT.png', 'PNG')"
   ]
  },
  {
   "cell_type": "markdown",
   "id": "38cd21df-4c86-435a-b02d-e2de1f76c000",
   "metadata": {},
   "source": [
    "![Taille miniature](original_thumbnail_RVT.png)"
   ]
  },
  {
   "cell_type": "code",
   "execution_count": null,
   "id": "cb60af5d-ae1e-4fca-bf73-b8621801253d",
   "metadata": {},
   "outputs": [],
   "source": [
    "im2 = Image.merge('RGB', (r, t, b))\n",
    "im2.save('original_thumbnail_RTB.png', 'PNG')"
   ]
  },
  {
   "cell_type": "markdown",
   "id": "59b1b288-5599-4ca6-80b3-f9fd1059c700",
   "metadata": {},
   "source": [
    "![Taille miniature](original_thumbnail_RTB.png)"
   ]
  },
  {
   "cell_type": "code",
   "execution_count": null,
   "id": "53b368b7-bd5b-495c-8f0c-1e369be6f9cd",
   "metadata": {},
   "outputs": [],
   "source": [
    "im2 = Image.merge('RGB', (t, v, b))\n",
    "im2.save('original_thumbnail_TVB.png', 'PNG')"
   ]
  },
  {
   "cell_type": "markdown",
   "id": "977937b7-08a5-4983-9b59-1529bd670623",
   "metadata": {},
   "source": [
    "![Taille miniature](original_thumbnail_TVB.png)"
   ]
  },
  {
   "cell_type": "code",
   "execution_count": null,
   "id": "b62808b0-dc36-4b3b-8505-a8ac78234eb5",
   "metadata": {},
   "outputs": [],
   "source": [
    "b2 = b.transpose(Image.FLIP_TOP_BOTTOM)\n",
    "v2 = v.transpose(Image.FLIP_LEFT_RIGHT)\n",
    "im2 = Image.merge('RGB', (r, v2, b2))\n",
    "im2.save('original_thumbnail_etrange.png', 'PNG')"
   ]
  },
  {
   "cell_type": "markdown",
   "id": "03f27d81-5e1e-4f91-89d3-585e084c8115",
   "metadata": {},
   "source": [
    "![Taille miniature](original_thumbnail_etrange.png)"
   ]
  },
  {
   "cell_type": "code",
   "execution_count": null,
   "id": "88b87eec-c39d-4600-b490-a86d9b3d188a",
   "metadata": {},
   "outputs": [],
   "source": [
    "print(im.size)\n",
    "pix = im.load()\n",
    "for x in [0, 1, 2, 3, 4, 145, 146, 147, 148]:\n",
    "    for y in range(99):\n",
    "        pix[x, y] = (255, 255, 255)\n",
    "for y in [0, 1, 2, 3, 4, 94, 95, 96, 97, 98]:\n",
    "    for x in range(5, 145):\n",
    "        pix[x, y] = (255, 255, 255)\n",
    "im.save('original_thumbnail_cadre.png', 'PNG')"
   ]
  },
  {
   "cell_type": "markdown",
   "id": "0e687052-bed8-4fec-b46b-57176018fcb9",
   "metadata": {},
   "source": [
    "![Taille miniature](original_thumbnail_cadre.png)"
   ]
  },
  {
   "cell_type": "markdown",
   "id": "7ca02c29-7fbe-4bfc-beb1-b2ec5ea31d93",
   "metadata": {},
   "source": [
    "---"
   ]
  }
 ],
 "metadata": {
  "kernelspec": {
   "display_name": "Python 3 (ipykernel)",
   "language": "python",
   "name": "python3"
  },
  "language_info": {
   "codemirror_mode": {
    "name": "ipython",
    "version": 3
   },
   "file_extension": ".py",
   "mimetype": "text/x-python",
   "name": "python",
   "nbconvert_exporter": "python",
   "pygments_lexer": "ipython3",
   "version": "3.11.8"
  }
 },
 "nbformat": 4,
 "nbformat_minor": 5
}
