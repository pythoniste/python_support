{
 "cells": [
  {
   "cell_type": "markdown",
   "id": "67a09069-a94a-4c72-b521-36bfa51f152c",
   "metadata": {},
   "source": [
    "Notions objet avancées\n",
    "==\n",
    "\n",
    "Création dynamique de classes\n",
    "--\n",
    "\n",
    "Python permet de créer dynamiquement des classes:"
   ]
  },
  {
   "cell_type": "code",
   "execution_count": null,
   "id": "f1d4c5e6-f676-42a4-abec-8ec167cb1142",
   "metadata": {},
   "outputs": [],
   "source": [
    "MaClasse = type('MaClasse', (), {})"
   ]
  },
  {
   "cell_type": "code",
   "execution_count": null,
   "id": "3352f6b3-2fe1-4444-944c-f58786cd6687",
   "metadata": {},
   "outputs": [],
   "source": [
    "MaClasse = type('MaClasse', (str,), {\"attribut\": 42})"
   ]
  },
  {
   "cell_type": "code",
   "execution_count": null,
   "id": "efc7693c-b444-4ebf-90ac-d3cf5887011f",
   "metadata": {},
   "outputs": [],
   "source": [
    "obj = MaClasse(\"Ceci est un objet de ma classe\")"
   ]
  },
  {
   "cell_type": "code",
   "execution_count": null,
   "id": "1313a869-04fa-4a47-851b-4b26bc4509cb",
   "metadata": {},
   "outputs": [],
   "source": [
    "print(obj)"
   ]
  },
  {
   "cell_type": "code",
   "execution_count": null,
   "id": "c3009af5-c67d-400e-93dc-0fbd0505e3f5",
   "metadata": {},
   "outputs": [],
   "source": [
    "print(obj.attribut)"
   ]
  },
  {
   "cell_type": "code",
   "execution_count": null,
   "id": "9909e451-1171-4484-91d9-ae62897783a2",
   "metadata": {},
   "outputs": [],
   "source": [
    "def to_str(self):\n",
    "    self.utilisation += 1\n",
    "    return self\n",
    "\n",
    "MaClasse = type('MaClasse', (str,), {\"utilisation\": 0, \"__str__\": to_str})"
   ]
  },
  {
   "cell_type": "code",
   "execution_count": null,
   "id": "1c4e0350-93ea-472a-a763-8b1daf564d59",
   "metadata": {},
   "outputs": [],
   "source": [
    "obj = MaClasse(\"Ceci est un objet de ma classe\")"
   ]
  },
  {
   "cell_type": "code",
   "execution_count": null,
   "id": "0a409666-555b-4238-a8e0-21422f6a8215",
   "metadata": {},
   "outputs": [],
   "source": [
    "obj.utilisation"
   ]
  },
  {
   "cell_type": "code",
   "execution_count": null,
   "id": "6f97b3a6-3586-4aa2-b92d-3286a602049c",
   "metadata": {},
   "outputs": [],
   "source": [
    "print(obj)"
   ]
  },
  {
   "cell_type": "code",
   "execution_count": null,
   "id": "f625cb8d-5ecb-4d82-be4a-c45ce0b76dd3",
   "metadata": {},
   "outputs": [],
   "source": [
    "obj.utilisation"
   ]
  },
  {
   "cell_type": "markdown",
   "id": "e9051311-1254-473c-a7b4-bb630303eb42",
   "metadata": {},
   "source": [
    "Metaclasses\n",
    "--\n",
    "\n",
    "En Python, tout est objet.\n",
    "\n",
    "Un objet est décrit par sa classe\n",
    "\n",
    "Une classe est aussi un objet. Elle est donc elle aussi décrite par sa classe qui, usuellement, est `type`.\n",
    "\n",
    "Une métaclasse est donc tout simplement une classe qui, comme `type` permet de décrire le comportement des classes qui l'utilisent."
   ]
  },
  {
   "cell_type": "code",
   "execution_count": null,
   "id": "251e9c55-9c38-41d2-8110-325bdb41071c",
   "metadata": {},
   "outputs": [],
   "source": [
    "class HashableMeta(type):\n",
    "\n",
    "    def __new__(cls, name, bases, attrs):\n",
    "\n",
    "        if \"_hash_key\" in attrs:\n",
    "            attrs[\"__hash__\"] = lambda x: hash(getattr(x, attrs[\"_hash_key\"]))\n",
    "            attrs[\"__repr__\"] = lambda x: f\"<{name} {getattr(x, attrs['_hash_key'])}>\"\n",
    "            attrs[\"__str__\"] = lambda x: f\"'{getattr(x, attrs['_hash_key'])}'\"\n",
    "            attrs[\"__eq__\"] = lambda x, o: getattr(x, attrs['_hash_key']) == getattr(o, attrs['_hash_key'])\n",
    "\n",
    "        instance = super().__new__(cls, name, bases, attrs)\n",
    "        return instance"
   ]
  },
  {
   "cell_type": "code",
   "execution_count": null,
   "id": "6be34185-db2e-4973-8574-fcc3198971f2",
   "metadata": {},
   "outputs": [],
   "source": [
    "class MyClass1(metaclass=HashableMeta):\n",
    "    _hash_key = \"name\"\n",
    "\n",
    "    def __init__(self, name, value):\n",
    "        self.name = name\n",
    "        self.value = value\n",
    "\n",
    "obj1 = MyClass1(\"test\", 42)\n",
    "hash(obj1)"
   ]
  },
  {
   "cell_type": "code",
   "execution_count": null,
   "id": "88f9eab2-ae95-4137-ae98-6e2b091d4655",
   "metadata": {},
   "outputs": [],
   "source": [
    "hash(\"test\")"
   ]
  },
  {
   "cell_type": "code",
   "execution_count": null,
   "id": "bf89f570-9ad7-4226-a11c-85d7ff2c3212",
   "metadata": {},
   "outputs": [],
   "source": [
    "obj1"
   ]
  },
  {
   "cell_type": "code",
   "execution_count": null,
   "id": "c8bc8fc9-8e4f-4840-b57b-1193ea137db9",
   "metadata": {},
   "outputs": [],
   "source": [
    "print(obj1)"
   ]
  },
  {
   "cell_type": "code",
   "execution_count": null,
   "id": "8ef63207-758c-4af3-ba97-e788334355ab",
   "metadata": {},
   "outputs": [],
   "source": [
    "class MyClass2(metaclass=HashableMeta):\n",
    "    _hash_key = \"value\"\n",
    "\n",
    "    def __init__(self, name, value):\n",
    "        self.name = name\n",
    "        self.value = value\n",
    "\n",
    "obj2 = MyClass2(\"test\", 42)\n",
    "hash(obj2)"
   ]
  },
  {
   "cell_type": "code",
   "execution_count": null,
   "id": "ca2428e1-bfd0-42d6-8495-76b474f98b48",
   "metadata": {},
   "outputs": [],
   "source": [
    "hash(42)"
   ]
  },
  {
   "cell_type": "code",
   "execution_count": null,
   "id": "891c1151-851d-4f50-bda0-24bef09c0d5f",
   "metadata": {},
   "outputs": [],
   "source": [
    "obj2"
   ]
  },
  {
   "cell_type": "code",
   "execution_count": null,
   "id": "562f6486-744c-492c-8737-cac369ca3fa7",
   "metadata": {},
   "outputs": [],
   "source": [
    "print(obj2)"
   ]
  },
  {
   "cell_type": "code",
   "execution_count": null,
   "id": "4aa755e4-b483-4a32-aa1f-402bd831cdae",
   "metadata": {},
   "outputs": [],
   "source": [
    "{\n",
    "    MyClass1(\"test 1\", 42),\n",
    "    MyClass1(\"test 2\", 42),\n",
    "    MyClass1(\"test 1\", 34),\n",
    "}"
   ]
  },
  {
   "cell_type": "code",
   "execution_count": null,
   "id": "f907ed91-ecec-4eeb-aca5-a28f7e3b9604",
   "metadata": {},
   "outputs": [],
   "source": [
    "{\n",
    "    MyClass2(\"test 1\", 42),\n",
    "    MyClass2(\"test 2\", 42),\n",
    "    MyClass2(\"test 1\", 34),\n",
    "}"
   ]
  },
  {
   "cell_type": "markdown",
   "id": "ef03da6a-bfba-4bff-909d-baeb10c027e4",
   "metadata": {},
   "source": [
    "---"
   ]
  }
 ],
 "metadata": {
  "kernelspec": {
   "display_name": "Python 3 (ipykernel)",
   "language": "python",
   "name": "python3"
  },
  "language_info": {
   "codemirror_mode": {
    "name": "ipython",
    "version": 3
   },
   "file_extension": ".py",
   "mimetype": "text/x-python",
   "name": "python",
   "nbconvert_exporter": "python",
   "pygments_lexer": "ipython3",
   "version": "3.11.8"
  }
 },
 "nbformat": 4,
 "nbformat_minor": 5
}
