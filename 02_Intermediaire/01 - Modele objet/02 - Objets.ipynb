{
 "cells": [
  {
   "cell_type": "markdown",
   "metadata": {},
   "source": [
    "Objets\n",
    "==\n",
    "\n",
    "classe versus objet\n",
    "--\n",
    "\n",
    "Les classes sont la description de concepts et sont avant tout destinées à encapsuler les données relatives à ces concepts.\n",
    "\n",
    "Les objets sont des instances d'une classe, sa classe est son modèle de données.\n",
    "\n",
    "Chaque objet dispose d'attributs permettant de porter ses données, de se représenter.\n",
    "\n",
    "Chaque objet dispose de méthodes permettant de donner des renseignements sur elle ou de se modifier ou encore de créer une nouvelle instance de sa classe.\n",
    "\n",
    "Initialisation d'une instance\n",
    "--\n",
    "\n",
    "Une instance a besoin de gérer ses données et ces données sont propres à chaque instance.\n",
    "\n",
    "Nous allons voir comment initialiser les données en fonction de leur origine."
   ]
  },
  {
   "cell_type": "code",
   "execution_count": null,
   "metadata": {},
   "outputs": [],
   "source": [
    "class A:\n",
    "\n",
    "    def __init__(self):\n",
    "        \"\"\"Méthode d'initialization\"\"\""
   ]
  },
  {
   "cell_type": "markdown",
   "metadata": {},
   "source": [
    "L'idée est de voir comment gérer les relations entre différents objets\n",
    "\n",
    "Association\n",
    "--\n",
    "\n",
    "Une association est une relation entre deux objets ou l'objet courant utilise l'objet associé."
   ]
  },
  {
   "cell_type": "code",
   "execution_count": null,
   "metadata": {},
   "outputs": [],
   "source": [
    "class Personnage:\n",
    "    \"\"\"Cette classe décrit un personnage de jeu\"\"\"\n",
    "\n",
    "    def __init__(self, nom):\n",
    "        \"\"\"Méthode d'initialization du personnage\"\"\"\n",
    "        self.nom = nom\n",
    "\n",
    "    def se_presenter(self):\n",
    "        \"\"\"méthode permettant de se présenter\"\"\"\n",
    "        return f\"Je m'appelle {self.nom}\""
   ]
  },
  {
   "cell_type": "code",
   "execution_count": null,
   "metadata": {},
   "outputs": [],
   "source": [
    "perso = Personnage(\"Marcel\")\n",
    "perso.se_presenter()"
   ]
  },
  {
   "cell_type": "code",
   "execution_count": null,
   "metadata": {},
   "outputs": [],
   "source": [
    "perso.nom"
   ]
  },
  {
   "cell_type": "markdown",
   "metadata": {},
   "source": [
    "Aggrégation:\n",
    "------------\n",
    "\n",
    "Le lien d'aggrégation permet de lier des objets dont le cycle de vie est indépendant.\n",
    "\n",
    "Autrement dit, supprimer un objet ne veut pas dire que l'objet aggrégé doit être supprimé."
   ]
  },
  {
   "cell_type": "code",
   "execution_count": null,
   "metadata": {},
   "outputs": [],
   "source": [
    "class Personnage:\n",
    "    \"\"\"Cette classe décrit un personnage de jeu\"\"\"\n",
    "\n",
    "    def __init__(self, nom, amis=None):\n",
    "        \"\"\"Méthode d'initialization du personnage\"\"\"\n",
    "        self.nom = nom\n",
    "        self.amis = amis if amis is not None else set()\n",
    "\n",
    "    def se_presenter(self):\n",
    "        \"\"\"méthode permettant de se présenter\"\"\"\n",
    "        return f\"Je m'appelle {self.nom}\"\n",
    "\n",
    "    def devenir_ami(self, ami):\n",
    "        self.amis.add(ami)\n",
    "\n",
    "    def nommer_amis(self):\n",
    "        print(\", \".join(ami.nom for ami in self.amis))"
   ]
  },
  {
   "cell_type": "code",
   "execution_count": null,
   "metadata": {},
   "outputs": [],
   "source": [
    "marcel = Personnage(\"Marcel\")\n",
    "thelma = Personnage(\"Thelma\")\n",
    "louise = Personnage(\"Louise\", {thelma})\n",
    "louise.nommer_amis()"
   ]
  },
  {
   "cell_type": "code",
   "execution_count": null,
   "metadata": {},
   "outputs": [],
   "source": [
    "thelma.nommer_amis()"
   ]
  },
  {
   "cell_type": "code",
   "execution_count": null,
   "metadata": {},
   "outputs": [],
   "source": [
    "thelma.devenir_ami(louise)\n",
    "thelma.devenir_ami(marcel)\n",
    "thelma.nommer_amis()"
   ]
  },
  {
   "cell_type": "code",
   "execution_count": null,
   "metadata": {},
   "outputs": [],
   "source": [
    "thelma.amis"
   ]
  },
  {
   "cell_type": "code",
   "execution_count": null,
   "metadata": {},
   "outputs": [],
   "source": [
    "louise.amis"
   ]
  },
  {
   "cell_type": "markdown",
   "metadata": {},
   "source": [
    "Composition:\n",
    "------------\n",
    "\n",
    "Création d'un attribut lors de l'initialisation d'une instance.\n",
    "\n",
    "La classe est responsable de la création de l'objet dépendant.\n",
    "\n",
    "Le cycle de vie de l'objet dépendant dépend de l'objet courant. L'objet dépendant meurt avec l'objet courant."
   ]
  },
  {
   "cell_type": "code",
   "execution_count": null,
   "metadata": {},
   "outputs": [],
   "source": [
    "class Personnage:\n",
    "    \"\"\"Cette classe décrit un personnage de jeu\"\"\"\n",
    "\n",
    "    def __init__(self, nom, amis=None):\n",
    "        \"\"\"Méthode d'initialization du personnage\"\"\"\n",
    "        self.nom = nom\n",
    "        self.amis = amis if amis is not None else set()\n",
    "        self.niveau = 0\n",
    "        self.competences = {}\n",
    "\n",
    "    def se_presenter(self):\n",
    "        \"\"\"méthode permettant de se présenter\"\"\"\n",
    "        return f\"Je m'appelle {self.nom}\"\n",
    "\n",
    "    def devenir_ami(self, ami):\n",
    "        self.amis.add(ami)\n",
    "\n",
    "    def nommer_amis(self):\n",
    "        print(\", \".join(ami.nom for ami in self.amis))\n",
    "\n",
    "    def gagner(self):\n",
    "        self.niveau += 1\n",
    "        for competence in self.competences.keys():\n",
    "            self.competences[competence] += 1\n",
    "\n",
    "    def ajouter_competence(self, competence, niveau_initial):\n",
    "        self.competences[competence] = niveau_initial"
   ]
  },
  {
   "cell_type": "code",
   "execution_count": null,
   "metadata": {},
   "outputs": [],
   "source": [
    "thelma = Personnage(\"Thelma\")\n",
    "louise = Personnage(\"Louise\")\n",
    "marcel = Personnage(\"Marcel\", {thelma, louise})\n",
    "marcel.ajouter_competence(\"cuisine\", 10)\n",
    "marcel.ajouter_competence(\"sieste\", 8)\n",
    "marcel.gagner()\n",
    "marcel.__dict__"
   ]
  },
  {
   "cell_type": "markdown",
   "metadata": {},
   "source": [
    "Conteneurs\n",
    "--"
   ]
  },
  {
   "cell_type": "code",
   "execution_count": null,
   "metadata": {},
   "outputs": [],
   "source": [
    "liste = []"
   ]
  },
  {
   "cell_type": "code",
   "execution_count": null,
   "metadata": {},
   "outputs": [],
   "source": [
    "liste.append(\"A\")"
   ]
  },
  {
   "cell_type": "code",
   "execution_count": null,
   "metadata": {},
   "outputs": [],
   "source": [
    "liste.extend((\"b\", \"c\"))"
   ]
  },
  {
   "cell_type": "code",
   "execution_count": null,
   "metadata": {},
   "outputs": [],
   "source": [
    "print(liste)"
   ]
  },
  {
   "cell_type": "code",
   "execution_count": null,
   "metadata": {},
   "outputs": [],
   "source": [
    "del liste"
   ]
  },
  {
   "cell_type": "markdown",
   "metadata": {},
   "source": [
    "Si on utilise un conteneur et que l'on crée tous les objets directements au moment de les ajouter dans le conteneur, alors les seules références de ces objets sont dans le conteneur.\n",
    "\n",
    "Supprimer le conteneur supprimera donc tous les objets."
   ]
  },
  {
   "cell_type": "markdown",
   "metadata": {},
   "source": [
    "Arborescence par référence au parent\n",
    "--"
   ]
  },
  {
   "cell_type": "code",
   "execution_count": null,
   "metadata": {},
   "outputs": [],
   "source": [
    "class Noeud:\n",
    "\n",
    "    def __init__(self, nom, parent=None):\n",
    "        self.nom = nom\n",
    "        self.parent = parent\n",
    "\n",
    "    def __str__(self):\n",
    "        return self.nom\n",
    "\n",
    "    def __repr__(self):\n",
    "        return f\"<N {self.nom}>\""
   ]
  },
  {
   "cell_type": "code",
   "execution_count": null,
   "metadata": {},
   "outputs": [],
   "source": [
    "racine = Noeud(\"racine\")\n",
    "branche_A = Noeud(\"branche A\", racine)\n",
    "feuille_A1 = Noeud(\"feuille A1\", branche_A)\n",
    "feuille_A2 = Noeud(\"feuille A2\", branche_A)\n",
    "feuille_A3 = Noeud(\"feuille A3\", branche_A)\n",
    "\n",
    "branche_B = Noeud(\"branche B\", racine)\n",
    "feuille_B1 = Noeud(\"feuille B1\", branche_B)\n",
    "feuille_B2 = Noeud(\"feuille B2\", branche_B)"
   ]
  },
  {
   "cell_type": "markdown",
   "metadata": {},
   "source": [
    "Une telle structure permet de remonter dans l'arbre, mais pas d'y redescendre :"
   ]
  },
  {
   "cell_type": "code",
   "execution_count": null,
   "metadata": {},
   "outputs": [],
   "source": [
    "feuille_B2.parent"
   ]
  },
  {
   "cell_type": "code",
   "execution_count": null,
   "metadata": {},
   "outputs": [],
   "source": [
    "feuille_B2.parent.parent"
   ]
  },
  {
   "cell_type": "code",
   "execution_count": null,
   "metadata": {},
   "outputs": [],
   "source": [
    "print(feuille_B2.parent.parent.parent)"
   ]
  },
  {
   "cell_type": "markdown",
   "metadata": {},
   "source": [
    "Pour pouvoir redescendre, il faut rajouter la notion d'enfant :"
   ]
  },
  {
   "cell_type": "code",
   "execution_count": null,
   "metadata": {},
   "outputs": [],
   "source": [
    "class Noeud:\n",
    "\n",
    "    def __init__(self, nom, parent=None):\n",
    "        self.nom = nom\n",
    "        self.parent = parent\n",
    "        self.enfants = []\n",
    "        if parent is not None:\n",
    "            parent.enfants.append(self)\n",
    "\n",
    "    def __str__(self):\n",
    "        return self.nom\n",
    "\n",
    "    def __repr__(self):\n",
    "        return f\"<N {self.nom}>\""
   ]
  },
  {
   "cell_type": "code",
   "execution_count": null,
   "metadata": {},
   "outputs": [],
   "source": [
    "racine = Noeud(\"racine\")\n",
    "branche_A = Noeud(\"branche A\", racine)\n",
    "feuille_A1 = Noeud(\"feuille A1\", branche_A)\n",
    "feuille_A2 = Noeud(\"feuille A2\", branche_A)\n",
    "feuille_A3 = Noeud(\"feuille A3\", branche_A)\n",
    "\n",
    "branche_B = Noeud(\"branche B\", racine)\n",
    "feuille_B1 = Noeud(\"feuille B1\", branche_B)\n",
    "feuille_B2 = Noeud(\"feuille B2\", branche_B)"
   ]
  },
  {
   "cell_type": "code",
   "execution_count": null,
   "metadata": {},
   "outputs": [],
   "source": [
    "feuille_B2.parent.parent"
   ]
  },
  {
   "cell_type": "code",
   "execution_count": null,
   "metadata": {},
   "outputs": [],
   "source": [
    "feuille_B2.parent.parent.enfants"
   ]
  },
  {
   "cell_type": "code",
   "execution_count": null,
   "metadata": {},
   "outputs": [],
   "source": [
    "[n.enfants for n in feuille_B2.parent.parent.enfants]"
   ]
  },
  {
   "cell_type": "code",
   "execution_count": null,
   "metadata": {},
   "outputs": [],
   "source": []
  },
  {
   "cell_type": "code",
   "execution_count": null,
   "metadata": {},
   "outputs": [],
   "source": [
    "class Noeud:\n",
    "\n",
    "    def __init__(self, nom, enfants=None):\n",
    "        self.nom = nom\n",
    "        self.parent = None\n",
    "        self.enfants = enfants if enfants is not None else set()\n",
    "        for enfant in self.enfants:\n",
    "            enfant.parent = self\n",
    "\n",
    "    def __str__(self):\n",
    "        return self.nom\n",
    "\n",
    "    def __repr__(self):\n",
    "        return f\"<N {self.nom}>\""
   ]
  },
  {
   "cell_type": "code",
   "execution_count": null,
   "metadata": {},
   "outputs": [],
   "source": [
    "feuille_A1 = Noeud(\"feuille A1\")\n",
    "feuille_A2 = Noeud(\"feuille A2\")\n",
    "feuille_A3 = Noeud(\"feuille A3\")\n",
    "branche_A = Noeud(\"branche A\", [feuille_A1, feuille_A2, feuille_A3])\n",
    "\n",
    "feuille_B1 = Noeud(\"feuille B1\")\n",
    "feuille_B2 = Noeud(\"feuille B2\")\n",
    "branche_B = Noeud(\"branche B\", [feuille_B1, feuille_B2])\n",
    "\n",
    "racine = Noeud(\"racine\", [branche_A, branche_B])"
   ]
  },
  {
   "cell_type": "code",
   "execution_count": null,
   "metadata": {},
   "outputs": [],
   "source": [
    "print(racine)"
   ]
  },
  {
   "cell_type": "code",
   "execution_count": null,
   "metadata": {},
   "outputs": [],
   "source": [
    "racine.enfants"
   ]
  },
  {
   "cell_type": "code",
   "execution_count": null,
   "metadata": {},
   "outputs": [],
   "source": [
    "feuille_B1.parent"
   ]
  },
  {
   "cell_type": "code",
   "execution_count": null,
   "metadata": {},
   "outputs": [],
   "source": [
    "feuille_B1.parent.enfants"
   ]
  },
  {
   "cell_type": "code",
   "execution_count": null,
   "metadata": {},
   "outputs": [],
   "source": [
    "print(feuille_B1.parent.parent.parent)"
   ]
  },
  {
   "cell_type": "markdown",
   "metadata": {},
   "source": [
    "Méthodes spéciales\n",
    "--\n",
    "\n",
    "Il existe en Python un certain nombre de méthodes spéciales permettant de gérer des problématiques courantes"
   ]
  },
  {
   "cell_type": "code",
   "execution_count": null,
   "metadata": {},
   "outputs": [],
   "source": [
    "marcel"
   ]
  },
  {
   "cell_type": "code",
   "execution_count": null,
   "metadata": {},
   "outputs": [],
   "source": [
    "print(marcel)"
   ]
  },
  {
   "cell_type": "code",
   "execution_count": null,
   "metadata": {},
   "outputs": [],
   "source": [
    "class Personnage:\n",
    "    \"\"\"Cette classe décrit un personnage de jeu\"\"\"\n",
    "\n",
    "    def __init__(self, nom, amis=None):\n",
    "        \"\"\"Méthode d'initialization du personnage\"\"\"\n",
    "        self.nom = nom\n",
    "        self.amis = amis if amis is not None else set()\n",
    "        self.niveau = 0\n",
    "        self.competences = {}\n",
    "\n",
    "    def se_presenter(self):\n",
    "        \"\"\"méthode permettant de se présenter\"\"\"\n",
    "        return f\"Je m'appelle {self.nom}\"\n",
    "\n",
    "    def devenir_ami(self, ami):\n",
    "        self.amis.add(ami)\n",
    "\n",
    "    def nommer_amis(self):\n",
    "        print(\", \".join(ami.nom for ami in self.amis))\n",
    "\n",
    "    def gagner(self):\n",
    "        self.niveau += 1\n",
    "        for competence in self.competences.keys():\n",
    "            self.competences[competence] += 1\n",
    "\n",
    "    def ajouter_competence(self, competence, niveau_initial):\n",
    "        self.competences[competence] = niveau_initial\n",
    "\n",
    "    def __str__(self):\n",
    "        return self.nom\n",
    "\n",
    "    def __repr__(self):\n",
    "        return f\"<Personnage {self.nom}>\""
   ]
  },
  {
   "cell_type": "code",
   "execution_count": null,
   "metadata": {},
   "outputs": [],
   "source": [
    "thelma = Personnage(\"Thelma\")\n",
    "louise = Personnage(\"Louise\")\n",
    "marcel = Personnage(\"Marcel\", {thelma, louise})\n",
    "marcel.ajouter_competence(\"cuisine\", 10)\n",
    "marcel.ajouter_competence(\"sieste\", 8)\n",
    "marcel.gagner()"
   ]
  },
  {
   "cell_type": "code",
   "execution_count": null,
   "metadata": {},
   "outputs": [],
   "source": [
    "marcel"
   ]
  },
  {
   "cell_type": "code",
   "execution_count": null,
   "metadata": {},
   "outputs": [],
   "source": [
    "print(marcel)"
   ]
  },
  {
   "cell_type": "code",
   "execution_count": null,
   "metadata": {},
   "outputs": [],
   "source": [
    "marcel.__dict__"
   ]
  },
  {
   "cell_type": "markdown",
   "metadata": {},
   "source": [
    "---"
   ]
  }
 ],
 "metadata": {
  "kernelspec": {
   "display_name": "Python 3 (ipykernel)",
   "language": "python",
   "name": "python3"
  },
  "language_info": {
   "codemirror_mode": {
    "name": "ipython",
    "version": 3
   },
   "file_extension": ".py",
   "mimetype": "text/x-python",
   "name": "python",
   "nbconvert_exporter": "python",
   "pygments_lexer": "ipython3",
   "version": "3.11.2"
  }
 },
 "nbformat": 4,
 "nbformat_minor": 4
}
