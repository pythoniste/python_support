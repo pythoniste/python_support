{
 "cells": [
  {
   "cell_type": "markdown",
   "id": "8e1c5943-f081-44e2-948b-62239221dc11",
   "metadata": {},
   "source": [
    "Données temporelles\n",
    "==\n",
    "\n",
    "Nous distinguons plusieurs type de données :\n",
    "\n",
    "Nom | Type | Description | Exemple\n",
    " ---: | :---: | :---: | :---\n",
    "**Date calendaire** | `date` | Date dans un calendrier | Nous sommes le lundi 1er Juillet 2024\n",
    "**Horaire** | `time` | Horaire dans une journée | L'école ouvre ses portes à 8h45\n",
    "**Instant** | `datetime` | Instant précis dans un emploi du temps | La finale du top 14 débutera le vendredi 28 Juin 2024 à 21h05.\n",
    "**Durée** | `timedelta`| Durée d'un évènement | Un cours dure une heure, une semaine dure 7 jours\n",
    "\n",
    "Les instants peuvent être liés à un **fureau horaire** et peuvent donc se représenter différemment en utilisant différents fuseaux horaires.\n",
    "\n",
    "Dates calendaires\n",
    "--"
   ]
  },
  {
   "cell_type": "code",
   "execution_count": null,
   "id": "4ba850e0-086e-407a-8ce1-f8d1344f5dce",
   "metadata": {},
   "outputs": [],
   "source": [
    "from datetime import date"
   ]
  },
  {
   "cell_type": "code",
   "execution_count": null,
   "id": "841f2164-5e00-4119-b14c-b5c74634446c",
   "metadata": {},
   "outputs": [],
   "source": [
    "ma_date = date(2009, 7, 11)"
   ]
  },
  {
   "cell_type": "code",
   "execution_count": null,
   "id": "774e582a-a448-40c2-b86e-20954300b603",
   "metadata": {},
   "outputs": [],
   "source": [
    "print(ma_date)"
   ]
  },
  {
   "cell_type": "code",
   "execution_count": null,
   "id": "a95798f1-7ce5-4ffc-a9d6-701da47fe60a",
   "metadata": {},
   "outputs": [],
   "source": [
    "print(f\"Le {ma_date.day}ième jour du {ma_date.month}ième mois de l'année {ma_date.year}\")"
   ]
  },
  {
   "cell_type": "code",
   "execution_count": null,
   "id": "2fb54659-45f9-4ea9-992e-17c38993bf70",
   "metadata": {},
   "outputs": [],
   "source": [
    "print(ma_date.isoformat())"
   ]
  },
  {
   "cell_type": "code",
   "execution_count": null,
   "id": "01eb9e6c-f83d-4454-94cc-c9b95be0c7c2",
   "metadata": {},
   "outputs": [],
   "source": [
    "date.fromisoformat(\"2022-11-07\")"
   ]
  },
  {
   "cell_type": "code",
   "execution_count": null,
   "id": "768e9428-0a72-4ae0-b629-954bf117508f",
   "metadata": {},
   "outputs": [],
   "source": [
    "print(ma_date.ctime())"
   ]
  },
  {
   "cell_type": "code",
   "execution_count": null,
   "id": "c9c4f8a4-32f4-46e2-a04e-eb621e653e1b",
   "metadata": {},
   "outputs": [],
   "source": [
    "print(ma_date.timetuple())"
   ]
  },
  {
   "cell_type": "code",
   "execution_count": null,
   "id": "e47af20e-3f34-4fee-a2e6-7f165d01e345",
   "metadata": {},
   "outputs": [],
   "source": [
    "print(ma_date.weekday())  # 0 pour lundi, 5 pour Samedi"
   ]
  },
  {
   "cell_type": "code",
   "execution_count": null,
   "id": "d87e0376-e4c8-4322-bcb1-004087d0e085",
   "metadata": {},
   "outputs": [],
   "source": [
    "print(ma_date.isoweekday())  # 0 pour dimanche, 6 pour Samedi"
   ]
  },
  {
   "cell_type": "code",
   "execution_count": null,
   "id": "5943e4bc-5ef2-457e-93bc-3e1d701e056a",
   "metadata": {},
   "outputs": [],
   "source": [
    "ma_date.isocalendar()"
   ]
  },
  {
   "cell_type": "code",
   "execution_count": null,
   "id": "4fa8eda4-8117-412e-8b25-8e448440bc06",
   "metadata": {},
   "outputs": [],
   "source": [
    "ma_date.strftime('%Y-%m-%d')"
   ]
  },
  {
   "cell_type": "code",
   "execution_count": null,
   "id": "faaae1f0-a280-43ec-bd61-12274f1036e7",
   "metadata": {},
   "outputs": [],
   "source": [
    "ma_date.strftime('%a %d %b %y')"
   ]
  },
  {
   "cell_type": "code",
   "execution_count": null,
   "id": "4d39fde0-7613-4e97-88f2-0f6a894d9537",
   "metadata": {},
   "outputs": [],
   "source": [
    "ma_date.strftime('%A %d %B %y')"
   ]
  },
  {
   "cell_type": "code",
   "execution_count": null,
   "id": "3e4f93f2-820b-485b-ae4a-3bf4a41327ad",
   "metadata": {},
   "outputs": [],
   "source": [
    "ma_date.strftime('%c')"
   ]
  },
  {
   "cell_type": "code",
   "execution_count": null,
   "id": "e348d1d8-71ee-4155-bbde-b0113870610e",
   "metadata": {},
   "outputs": [],
   "source": [
    "ma_date.strftime('%x')"
   ]
  },
  {
   "cell_type": "markdown",
   "id": "b9c9fcdf-5b59-486c-bd10-6df730195b3e",
   "metadata": {},
   "source": [
    "Directive | Signification\n",
    " ---: | :---\n",
    "%a | Nom du jour de la semaine, abrégé\n",
    "%A | Nom du jour de la semaine, complet\n",
    "%b | Nom du mois, abrégé\n",
    "%B | Nom du mois, complet\n",
    "%c | Représentation conforme aux standards du C\n",
    "%d | Jour du mois\n",
    "%j | Jour de l’année\n",
    "%m | Numéro du mois\n",
    "%U | Numéro de la semaine à laquelle appartient la date dans l’année\n",
    "%w | Numéro du jour dans la semaine, avec 0 pour dimanche\n",
    "%W | Numéro du jour dans la semaine, avec 0 pour lundi\n",
    "%x | Représentation d’une date, conformément à une locale\n",
    "%y | Année, uniquement les deux derniers chiffres\n",
    "%Y | Année, sur quatre chiffres\n",
    "%z | Décalage UTC\n",
    "%Z | Nom de la zone\n",
    "%% | Représentation du caractère littéral %"
   ]
  },
  {
   "cell_type": "code",
   "execution_count": null,
   "id": "33ae61cb-87fb-4027-be22-dd69b2d14e84",
   "metadata": {},
   "outputs": [],
   "source": [
    "date.min"
   ]
  },
  {
   "cell_type": "code",
   "execution_count": null,
   "id": "28a03ea8-d3bb-4eb5-aa49-0e4c21a86fa6",
   "metadata": {},
   "outputs": [],
   "source": [
    "date.max"
   ]
  },
  {
   "cell_type": "code",
   "execution_count": null,
   "id": "b796a3c7-0c02-4a4b-ba10-e48e90a814e6",
   "metadata": {},
   "outputs": [],
   "source": [
    "date.resolution"
   ]
  },
  {
   "cell_type": "code",
   "execution_count": null,
   "id": "478fe2cb-e24e-4595-9828-eac5b8656193",
   "metadata": {},
   "outputs": [],
   "source": [
    "date.today()"
   ]
  },
  {
   "cell_type": "markdown",
   "id": "0b68a658-645c-47fd-8917-517f3fceaa0e",
   "metadata": {},
   "source": [
    "Horaires\n",
    "--"
   ]
  },
  {
   "cell_type": "code",
   "execution_count": null,
   "id": "38003e99-cc07-4ec5-8cf6-a46330cdf7a8",
   "metadata": {},
   "outputs": [],
   "source": [
    "from datetime import time"
   ]
  },
  {
   "cell_type": "code",
   "execution_count": null,
   "id": "955e9313-a618-49d8-8a1e-df6ee3550c73",
   "metadata": {},
   "outputs": [],
   "source": [
    "time()"
   ]
  },
  {
   "cell_type": "code",
   "execution_count": null,
   "id": "36b4054c-67cf-426f-a2cf-c620c0e72958",
   "metadata": {},
   "outputs": [],
   "source": [
    "time(12)"
   ]
  },
  {
   "cell_type": "code",
   "execution_count": null,
   "id": "c6bf2492-de26-48d8-b269-9947c6e75c64",
   "metadata": {},
   "outputs": [],
   "source": [
    "time(12, 45)"
   ]
  },
  {
   "cell_type": "code",
   "execution_count": null,
   "id": "4faa608e-f539-4743-a009-b2a516e5339a",
   "metadata": {},
   "outputs": [],
   "source": [
    "time(12, 45, 56)"
   ]
  },
  {
   "cell_type": "code",
   "execution_count": null,
   "id": "163d9846-35aa-4d78-8865-99da8b17c474",
   "metadata": {},
   "outputs": [],
   "source": [
    "time(12, 45, 56, 789012)"
   ]
  },
  {
   "cell_type": "code",
   "execution_count": null,
   "id": "2b53de65-02bf-4422-9eec-ee3b00bd4f10",
   "metadata": {},
   "outputs": [],
   "source": [
    "horaire = time(12, 45, 56, 654321)"
   ]
  },
  {
   "cell_type": "code",
   "execution_count": null,
   "id": "7ad50ae7-ef9a-4297-a866-844b5d1eb7f6",
   "metadata": {},
   "outputs": [],
   "source": [
    "print(f\"Il est {horaire.hour} heure, {horaire.minute} minutes, {horaire.second} secondes et {horaire.microsecond} micro-secondes\")"
   ]
  },
  {
   "cell_type": "code",
   "execution_count": null,
   "id": "5c48a07b-fcb8-4982-a06d-c15d6a37c880",
   "metadata": {},
   "outputs": [],
   "source": [
    "horaire.strftime('Il est %H heure, %M minutes, %S secondes et %f micro-secondes ')"
   ]
  },
  {
   "cell_type": "code",
   "execution_count": null,
   "id": "f990d4d2-c909-4be6-abe3-9a092f9435e8",
   "metadata": {},
   "outputs": [],
   "source": [
    "horaire.strftime('%I:%M:%S %p')"
   ]
  },
  {
   "cell_type": "code",
   "execution_count": null,
   "id": "05fd2a22-278b-420c-9705-801e76dc6748",
   "metadata": {},
   "outputs": [],
   "source": [
    "horaire.strftime('%X')"
   ]
  },
  {
   "cell_type": "markdown",
   "id": "eb42839d-2f96-428c-83e6-a459e788388a",
   "metadata": {},
   "source": [
    "Directive | Signification\n",
    " ---: | :---\n",
    "%f | Microsecondes entre 0 et 10**6-1\n",
    "%H | Heure, sur 24 heures\n",
    "%I | Heure, sur 12 heures, à utiliser en combinaison avec %p\n",
    "%p | AM ou PM, utilisable en combinaison avec %I\n",
    "%M | Minute\n",
    "%S | Seconde\n",
    "%X | Représentation, conformément à une locale"
   ]
  },
  {
   "cell_type": "code",
   "execution_count": null,
   "id": "31c1a786-e603-4752-897c-dc857f8852f1",
   "metadata": {},
   "outputs": [],
   "source": [
    "time.min"
   ]
  },
  {
   "cell_type": "code",
   "execution_count": null,
   "id": "be72413b-c423-4eba-aba9-b6dbc4b86aeb",
   "metadata": {},
   "outputs": [],
   "source": [
    "time.max"
   ]
  },
  {
   "cell_type": "code",
   "execution_count": null,
   "id": "f7c2357f-9e6f-4949-b857-cdbb5260dca6",
   "metadata": {},
   "outputs": [],
   "source": [
    "time.resolution"
   ]
  },
  {
   "cell_type": "markdown",
   "id": "00b3e314-65e8-4e67-a295-4ed03936b470",
   "metadata": {},
   "source": [
    "Instant\n",
    "--"
   ]
  },
  {
   "cell_type": "code",
   "execution_count": null,
   "id": "a8d706c6-7c7c-4267-978e-ff3d45b9a9a3",
   "metadata": {},
   "outputs": [],
   "source": [
    "from datetime import datetime"
   ]
  },
  {
   "cell_type": "code",
   "execution_count": null,
   "id": "cb866d6a-43c8-4140-ade2-c6fb5fa86042",
   "metadata": {},
   "outputs": [],
   "source": [
    "datetime.min"
   ]
  },
  {
   "cell_type": "code",
   "execution_count": null,
   "id": "14c8ae27-4087-41ae-b490-423b2dfc80ee",
   "metadata": {},
   "outputs": [],
   "source": [
    "datetime.max"
   ]
  },
  {
   "cell_type": "code",
   "execution_count": null,
   "id": "ffb40fe1-6217-4801-b44d-fb23e8118c5c",
   "metadata": {},
   "outputs": [],
   "source": [
    "datetime.resolution"
   ]
  },
  {
   "cell_type": "code",
   "execution_count": null,
   "id": "6b8270e6-333b-459a-af98-b064f1a3a631",
   "metadata": {},
   "outputs": [],
   "source": [
    "debut_eclipse=datetime(1999, 8, 11, 8, 26, 17, 600000)"
   ]
  },
  {
   "cell_type": "code",
   "execution_count": null,
   "id": "febea418-c63d-4523-8e17-56f54e9410db",
   "metadata": {},
   "outputs": [],
   "source": [
    "fin_eclipse=datetime(1999, 8, 11, 13, 40, 8, 500000)"
   ]
  },
  {
   "cell_type": "code",
   "execution_count": null,
   "id": "0b002c7a-6440-4321-b244-7f041e1a4e27",
   "metadata": {},
   "outputs": [],
   "source": [
    "debut_eclipse.date()"
   ]
  },
  {
   "cell_type": "code",
   "execution_count": null,
   "id": "38882f44-3875-4413-be4a-eb2c335b50dd",
   "metadata": {},
   "outputs": [],
   "source": [
    "debut_eclipse.time()"
   ]
  },
  {
   "cell_type": "markdown",
   "id": "e19fae67-cb54-4d2a-a3c6-8ecc8fdeb130",
   "metadata": {},
   "source": [
    "Durée\n",
    "--"
   ]
  },
  {
   "cell_type": "code",
   "execution_count": null,
   "id": "2ca09817-78c2-43d8-92e5-cda27b75b1ef",
   "metadata": {},
   "outputs": [],
   "source": [
    "from datetime import timedelta"
   ]
  },
  {
   "cell_type": "code",
   "execution_count": null,
   "id": "7dfd8f7c-44a9-44fc-90b5-6714bbf68d5b",
   "metadata": {},
   "outputs": [],
   "source": [
    "timedelta()"
   ]
  },
  {
   "cell_type": "code",
   "execution_count": null,
   "id": "24b38dc9-6c24-4151-98dd-eb9974b85574",
   "metadata": {},
   "outputs": [],
   "source": [
    "timedelta(1, 2)"
   ]
  },
  {
   "cell_type": "code",
   "execution_count": null,
   "id": "c410e1ed-52c1-4dfd-870c-e5b607000de8",
   "metadata": {},
   "outputs": [],
   "source": [
    "duree_eclipse = fin_eclipse - debut_eclipse"
   ]
  },
  {
   "cell_type": "code",
   "execution_count": null,
   "id": "1ab22490-dff7-43ee-b7a6-0541accf11a3",
   "metadata": {},
   "outputs": [],
   "source": [
    "print(duree_eclipse)"
   ]
  },
  {
   "cell_type": "code",
   "execution_count": null,
   "id": "97ecde5e-5af0-416f-96b8-24b871c8eb7e",
   "metadata": {},
   "outputs": [],
   "source": [
    "f\"L'éclipse a duré {duree_eclipse.total_seconds()} secondes.\""
   ]
  },
  {
   "cell_type": "markdown",
   "id": "8fc3475e-6b62-4997-b21f-ea3b8bb12953",
   "metadata": {},
   "source": [
    "Fuseaux horaires\n",
    "--"
   ]
  },
  {
   "cell_type": "code",
   "execution_count": null,
   "id": "9e41676c-6a60-493e-aaf0-f023ecbb4211",
   "metadata": {},
   "outputs": [],
   "source": [
    "from datetime import timezone"
   ]
  },
  {
   "cell_type": "code",
   "execution_count": null,
   "id": "eca03664-e7b9-4a00-a000-813fc0ed75c9",
   "metadata": {},
   "outputs": [],
   "source": [
    "utc = timezone.utc"
   ]
  },
  {
   "cell_type": "code",
   "execution_count": null,
   "id": "a3b9ab0a-7276-45e5-a2f3-beed1531f214",
   "metadata": {},
   "outputs": [],
   "source": [
    "print(utc)"
   ]
  },
  {
   "cell_type": "code",
   "execution_count": null,
   "id": "49e41d2a-a737-4f06-a652-07724e4a7f4e",
   "metadata": {},
   "outputs": [],
   "source": [
    "utc.tzname(datetime.now())"
   ]
  },
  {
   "cell_type": "code",
   "execution_count": null,
   "id": "efb1eaed-4914-4e2e-809b-9b9a268fd880",
   "metadata": {},
   "outputs": [],
   "source": [
    "utc.utcoffset(datetime.now())"
   ]
  },
  {
   "cell_type": "code",
   "execution_count": null,
   "id": "1394d7fc-e5aa-42cd-ab4a-963d16c9a06d",
   "metadata": {},
   "outputs": [],
   "source": [
    "# You should execute this line to install pytz\n",
    "import subprocess\n",
    "print(subprocess.getstatusoutput(\"pip install pytz\"))"
   ]
  },
  {
   "cell_type": "code",
   "execution_count": null,
   "id": "46eaf8f9-5688-466a-a86a-8141ef11b73f",
   "metadata": {},
   "outputs": [],
   "source": [
    "import pytz"
   ]
  },
  {
   "cell_type": "code",
   "execution_count": null,
   "id": "7c85ff1d-93d3-4edd-a04f-dc10bdd1401f",
   "metadata": {},
   "outputs": [],
   "source": [
    "for timezone in pytz.all_timezones:\n",
    "    print(timezone)"
   ]
  },
  {
   "cell_type": "code",
   "execution_count": null,
   "id": "bf95a3e1-790c-47c1-ab09-391a469c275c",
   "metadata": {},
   "outputs": [],
   "source": [
    "for timeZone in pytz.country_timezones['FR']:\n",
    "    print(timeZone)"
   ]
  },
  {
   "cell_type": "code",
   "execution_count": null,
   "id": "237246b8-6f8e-42df-96ff-8c30bb76f663",
   "metadata": {},
   "outputs": [],
   "source": [
    "paris = pytz.timezone(\"Europe/Paris\")"
   ]
  },
  {
   "cell_type": "code",
   "execution_count": null,
   "id": "535b75ca-8154-4218-9ae3-69e0b7480e74",
   "metadata": {},
   "outputs": [],
   "source": [
    "instant = datetime.now(tz=paris)"
   ]
  },
  {
   "cell_type": "code",
   "execution_count": null,
   "id": "8339f1f4-a0b8-4d2a-a408-594251bc9a37",
   "metadata": {},
   "outputs": [],
   "source": [
    "print(instant)"
   ]
  },
  {
   "cell_type": "code",
   "execution_count": null,
   "id": "fdb40c45-6224-46de-ad67-84e7bbb7f1b5",
   "metadata": {},
   "outputs": [],
   "source": [
    "instant.strftime('%A %d %B %y %H:%M:%S %Z')"
   ]
  },
  {
   "cell_type": "markdown",
   "id": "ec17fa1a-a9c3-43ec-970d-ba92794013dd",
   "metadata": {},
   "source": [
    "---"
   ]
  }
 ],
 "metadata": {
  "kernelspec": {
   "display_name": "Python 3 (ipykernel)",
   "language": "python",
   "name": "python3"
  },
  "language_info": {
   "codemirror_mode": {
    "name": "ipython",
    "version": 3
   },
   "file_extension": ".py",
   "mimetype": "text/x-python",
   "name": "python",
   "nbconvert_exporter": "python",
   "pygments_lexer": "ipython3",
   "version": "3.11.8"
  }
 },
 "nbformat": 4,
 "nbformat_minor": 5
}
