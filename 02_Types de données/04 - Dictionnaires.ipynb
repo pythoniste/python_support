{
 "cells": [
  {
   "cell_type": "markdown",
   "metadata": {},
   "source": [
    "Dictionnaires\n",
    "==\n",
    "\n",
    "Notion de conteneur\n",
    "--\n",
    "\n",
    "Les conteneurs sont simplement des objets qui contiennent d'autres objets. On distingue :\n",
    "\n",
    "Type | Modifiable | Unicité | Relation d'ordre\n",
    " ---: | :---: | :---: | :--- \n",
    "Liste | Oui | Non | Oui\n",
    "N-Uplet | Non | Non | Oui\n",
    "Ensemble | Oui | Oui 1.2 | Non\n",
    "Frozenset | Non | Oui 2.2 | Non\n",
    "Dictionnaire | Oui | Clé: Oui, valeurs: Non | Oui depuis Python 3.8\n",
    "\n",
    "L'ensemble des éléments contenus dans un conteneur sont séparés par des virgules\n",
    "\n",
    "---\n",
    "\n",
    "Un dictionnaire est:\n",
    "\n",
    "* une collection de paires **clé**, **valeurs**\n",
    "    * chaque **clé** est unique\n",
    "    * les **valeurs** ne le sont pas forcément\n",
    "    * la notion de **clé** d'un *dictionnaire* est assimilable à la notion d'*indice* pour une *liste*\n",
    "* ordonné\n",
    "    * depuis Python 3.8 (avant, utiliser `collections.OrderedDict`)\n",
    "\n",
    "**N'importe quel objet *hashable* peut être utilisé en tant que clé.**\n",
    "\n",
    "Considérations syntaxiques\n",
    "--"
   ]
  },
  {
   "cell_type": "code",
   "execution_count": null,
   "metadata": {},
   "outputs": [],
   "source": [
    "d = {}"
   ]
  },
  {
   "cell_type": "markdown",
   "metadata": {},
   "source": [
    "Attention, car l'accolade est aussi utilisé pour les ensemble. Pour le dictionnaire, les deux-points sont utilisés pour séparer chaque clé de sa valeur."
   ]
  },
  {
   "cell_type": "code",
   "execution_count": null,
   "metadata": {},
   "outputs": [],
   "source": [
    "dictionnaire = {1: \"a\", 2: \"b\"}\n",
    "ensemble = {1, 2, 3}"
   ]
  },
  {
   "cell_type": "markdown",
   "metadata": {},
   "source": [
    "les accolades seules désignent un dictionnaire vide. Un équivalent est :"
   ]
  },
  {
   "cell_type": "code",
   "execution_count": null,
   "metadata": {},
   "outputs": [],
   "source": [
    "d = dict()"
   ]
  },
  {
   "cell_type": "markdown",
   "metadata": {},
   "source": [
    "Voici un dictionnaire classique contenant des données:"
   ]
  },
  {
   "cell_type": "code",
   "execution_count": null,
   "metadata": {},
   "outputs": [],
   "source": [
    "d = {'clé 1': 'valeur associée à la clé 1', 'clé 2': 'valeur associée à la clé 2'}"
   ]
  },
  {
   "cell_type": "markdown",
   "metadata": {},
   "source": [
    "Les clés doivent être hashables"
   ]
  },
  {
   "cell_type": "code",
   "execution_count": null,
   "metadata": {},
   "outputs": [],
   "source": [
    "{[1, 2]: \"valeur\"}"
   ]
  },
  {
   "cell_type": "code",
   "execution_count": null,
   "metadata": {},
   "outputs": [],
   "source": [
    "{(1, 2): \"valeur\"}"
   ]
  },
  {
   "cell_type": "markdown",
   "metadata": {},
   "source": [
    "Convertion de type de données\n",
    "--\n",
    "\n",
    "On peut créer un dictionnaire à partir d'un conteneurs de 2-uplets (le premier élément du 2-uplet étant la clé et le second la valeur):"
   ]
  },
  {
   "cell_type": "code",
   "execution_count": null,
   "metadata": {},
   "outputs": [],
   "source": [
    "dict([(\"a\", 1), (\"b\", 2), (\"c\", 3), (\"a\", 5)])"
   ]
  },
  {
   "cell_type": "code",
   "execution_count": null,
   "metadata": {},
   "outputs": [],
   "source": [
    "dict(((\"a\", 1), (\"b\", 2), (\"c\", 3), (\"a\", 5)))"
   ]
  },
  {
   "cell_type": "code",
   "execution_count": null,
   "metadata": {},
   "outputs": [],
   "source": [
    "dict({(\"a\", 1), (\"b\", 2), (\"c\", 3), (\"a\", 5)})"
   ]
  },
  {
   "cell_type": "markdown",
   "metadata": {},
   "source": [
    "ou plus généralement à partir d'un conteneur qui contient des conteneurs de taille 2"
   ]
  },
  {
   "cell_type": "code",
   "execution_count": null,
   "metadata": {},
   "outputs": [],
   "source": [
    "dict(([\"a\", 1], {\"b\", 2}, (\"c\", 3), (\"a\", 5)))"
   ]
  },
  {
   "cell_type": "markdown",
   "metadata": {},
   "source": [
    "Les clés d'un dictionnaire ne sont pas forcément homogènes, tout comme les valeurs."
   ]
  },
  {
   "cell_type": "code",
   "execution_count": null,
   "metadata": {},
   "outputs": [],
   "source": [
    "d = {1: \"a\", \"b\": 2.0, (1, 2): 42, min: []}"
   ]
  },
  {
   "cell_type": "markdown",
   "metadata": {},
   "source": [
    "Opérateur crochet\n",
    "--"
   ]
  },
  {
   "cell_type": "code",
   "execution_count": null,
   "metadata": {},
   "outputs": [],
   "source": [
    "dictionnaire = {1: \"a\", 2: \"b\"}"
   ]
  },
  {
   "cell_type": "code",
   "execution_count": null,
   "metadata": {},
   "outputs": [],
   "source": [
    "dictionnaire[1]"
   ]
  },
  {
   "cell_type": "code",
   "execution_count": null,
   "metadata": {},
   "outputs": [],
   "source": [
    "dictionnaire[3]"
   ]
  },
  {
   "cell_type": "code",
   "execution_count": null,
   "metadata": {},
   "outputs": [],
   "source": [
    "dictionnaire[1:2]"
   ]
  },
  {
   "cell_type": "code",
   "execution_count": null,
   "metadata": {},
   "outputs": [],
   "source": [
    "d = {(1, 2): \"valeur\"}"
   ]
  },
  {
   "cell_type": "code",
   "execution_count": null,
   "metadata": {},
   "outputs": [],
   "source": [
    "d[(1, 2)]"
   ]
  },
  {
   "cell_type": "code",
   "execution_count": null,
   "metadata": {},
   "outputs": [],
   "source": [
    "d[1, 2]"
   ]
  },
  {
   "cell_type": "markdown",
   "metadata": {},
   "source": [
    "Méthodes\n",
    "--\n",
    "\n",
    "Voici les méthodes du dictionnaire :"
   ]
  },
  {
   "cell_type": "code",
   "execution_count": null,
   "metadata": {},
   "outputs": [],
   "source": [
    "d = {'clé 1': 'valeur associée à la clé 1', 'clé 2': 'valeur associée à la clé 2'}\n",
    "dir(d)"
   ]
  },
  {
   "cell_type": "markdown",
   "metadata": {},
   "source": [
    "Les méthodes suivantes sont utiles :\n",
    "\n",
    "* la méthode **get** permet de récupérer une valeur dans un dictionnaire, si elle existe :"
   ]
  },
  {
   "cell_type": "code",
   "execution_count": null,
   "metadata": {},
   "outputs": [],
   "source": [
    "print(d.get('clé 1'))"
   ]
  },
  {
   "cell_type": "code",
   "execution_count": null,
   "metadata": {},
   "outputs": [],
   "source": [
    "print(d.get('clé 3'))"
   ]
  },
  {
   "cell_type": "code",
   "execution_count": null,
   "metadata": {},
   "outputs": [],
   "source": [
    "print(d.get('clé 1', 'valeur par défaut'))"
   ]
  },
  {
   "cell_type": "code",
   "execution_count": null,
   "metadata": {},
   "outputs": [],
   "source": [
    "print(d.get('clé 3', 'valeur par défaut'))"
   ]
  },
  {
   "cell_type": "code",
   "execution_count": null,
   "metadata": {},
   "outputs": [],
   "source": [
    "'clé 1' in d"
   ]
  },
  {
   "cell_type": "code",
   "execution_count": null,
   "metadata": {},
   "outputs": [],
   "source": [
    "'clé 3' in d"
   ]
  },
  {
   "cell_type": "markdown",
   "metadata": {},
   "source": [
    "* la méthode **pop** permet de renvoyer la valeur associée à la clé passée en paramètre."
   ]
  },
  {
   "cell_type": "code",
   "execution_count": null,
   "metadata": {},
   "outputs": [],
   "source": [
    "d.pop(\"clé 1\")"
   ]
  },
  {
   "cell_type": "code",
   "execution_count": null,
   "metadata": {},
   "outputs": [],
   "source": [
    "print(d)"
   ]
  },
  {
   "cell_type": "markdown",
   "metadata": {},
   "source": [
    "* la méthode **popitem** permet de renvoyer un item, c'est à dire un 2-uplet (clé, valeur) au hasard, comme la méthode pop d'une liste. A noter la différence de sémantique. On dit au hasard, parce que le dictionnaire n'a pas de relation d'ordre et qu'il n'est pas possible de prédire l'ordre de sortie des éléments."
   ]
  },
  {
   "cell_type": "code",
   "execution_count": null,
   "metadata": {},
   "outputs": [],
   "source": [
    "d.popitem()"
   ]
  },
  {
   "cell_type": "code",
   "execution_count": null,
   "metadata": {},
   "outputs": [],
   "source": [
    "print(d)"
   ]
  },
  {
   "cell_type": "markdown",
   "metadata": {},
   "source": [
    "* la méthode **update** permet de mettre à jour un dictionnaire à partir des valeurs du dictionnaire passé en paramètres : les valeurs correspondant aux nouvelles clés sont ajoutées, celles correspondant aux clés déjà existantes sont mises à jour."
   ]
  },
  {
   "cell_type": "code",
   "execution_count": null,
   "metadata": {},
   "outputs": [],
   "source": [
    "d = dict([(\"a\", 1), (\"b\", 2), (\"c\", 3), (\"a\", 5)])\n",
    "print(d)"
   ]
  },
  {
   "cell_type": "code",
   "execution_count": null,
   "metadata": {},
   "outputs": [],
   "source": [
    "d.update({\"d\": 4, \"b\": 22})\n",
    "print(d)"
   ]
  },
  {
   "cell_type": "markdown",
   "metadata": {},
   "source": [
    "Itérations sur un dictionnaire\n",
    "--\n",
    "\n",
    "Les dictionnaires sont particuliers, puisqu'ils sont un conteneurs d'associations entre une clé et une valeur. Ils peuvent ainsi être vus comme un ensemble de 2-uplets.\n",
    "\n",
    "* la méthode **items** permet de renvoyer ces couples (clé, valeur) ;\n",
    "* la méthode **keys** permet de renvoyer uniquement les clés ;\n",
    "* la méthode **values** permet de renvoyer uniquement les valeurs.\n",
    "\n",
    "L'ensemble de ce que l'on vient de voir permet de manipuler aisément les données et de les représenter de la manière qui sera la plus utile à l'algorithme."
   ]
  },
  {
   "cell_type": "code",
   "execution_count": null,
   "metadata": {},
   "outputs": [],
   "source": [
    "d.items()"
   ]
  },
  {
   "cell_type": "code",
   "execution_count": null,
   "metadata": {},
   "outputs": [],
   "source": [
    "d.keys()"
   ]
  },
  {
   "cell_type": "code",
   "execution_count": null,
   "metadata": {},
   "outputs": [],
   "source": [
    "d.values()"
   ]
  },
  {
   "cell_type": "code",
   "execution_count": null,
   "metadata": {},
   "outputs": [],
   "source": [
    "for k in d.keys():\n",
    "    print(k)"
   ]
  },
  {
   "cell_type": "code",
   "execution_count": null,
   "metadata": {},
   "outputs": [],
   "source": [
    "for v in d.values():\n",
    "    print(v)"
   ]
  },
  {
   "cell_type": "code",
   "execution_count": null,
   "metadata": {},
   "outputs": [],
   "source": [
    "for k, v in d.items():\n",
    "    print('%s: %s' % (k, v))"
   ]
  },
  {
   "cell_type": "markdown",
   "metadata": {},
   "source": [
    "Itération ordonnée\n",
    "--"
   ]
  },
  {
   "cell_type": "code",
   "execution_count": null,
   "metadata": {},
   "outputs": [],
   "source": [
    "for k in sorted(d.keys()):\n",
    "    print('{}: {}'.format(k, d[k]))"
   ]
  },
  {
   "cell_type": "code",
   "execution_count": null,
   "metadata": {},
   "outputs": [],
   "source": [
    "import operator\n",
    "for k, v in sorted(d.items(), key=operator.itemgetter(0), reverse=True):\n",
    "    print('{}: {}'.format(k, v))"
   ]
  },
  {
   "cell_type": "code",
   "execution_count": null,
   "metadata": {},
   "outputs": [],
   "source": [
    "import operator\n",
    "for k, v in sorted(d.items(), key=operator.itemgetter(1)):\n",
    "    print('{}: {}'.format(k, v))"
   ]
  },
  {
   "cell_type": "code",
   "execution_count": null,
   "metadata": {},
   "outputs": [],
   "source": [
    "help(sorted)"
   ]
  },
  {
   "cell_type": "markdown",
   "metadata": {},
   "source": [
    "Cas concrets\n",
    "---------"
   ]
  },
  {
   "cell_type": "code",
   "execution_count": null,
   "metadata": {},
   "outputs": [],
   "source": [
    "groupe = [\n",
    "    {\n",
    "        \"nom\": \"Satriani\",\n",
    "        \"prenom\": \"Joe\",\n",
    "        \"role\": \"guitariste\",\n",
    "    }, {\n",
    "        \"nom\": \"Hamm\",\n",
    "        \"prenom\": \"Stuart\",\n",
    "        \"role\": \"bassiste\",\n",
    "    }, {\n",
    "        \"nom\": \"Campitelli\",\n",
    "        \"prenom\": \"Jeff\",\n",
    "        \"role\": \"batteur\",\n",
    "    }, {\n",
    "        \"nom\": \"King\",\n",
    "        \"prenom\": \"B.B\",\n",
    "        \"role\": \"guitariste\",\n",
    "    },\n",
    "]"
   ]
  },
  {
   "cell_type": "markdown",
   "metadata": {},
   "source": [
    "Cette écriture est plus concrète mais plus verbeuse que :"
   ]
  },
  {
   "cell_type": "code",
   "execution_count": null,
   "metadata": {},
   "outputs": [],
   "source": [
    "groupe_list = [[\"Satriani\",\n",
    "           \"Joe\",\n",
    "           \"guitariste\",],\n",
    "          [\"Hamm\",\n",
    "           \"Stuart\",\n",
    "           \"bassiste\",]]"
   ]
  },
  {
   "cell_type": "markdown",
   "metadata": {},
   "source": [
    "Dans le premier cas, on a une liste de données bien représentées, dans le second cas, on a une sorte de tableau (liste de listes) où le signifiant n'est pas explicite."
   ]
  },
  {
   "cell_type": "markdown",
   "metadata": {},
   "source": [
    "---"
   ]
  }
 ],
 "metadata": {
  "kernelspec": {
   "display_name": "Python 3 (ipykernel)",
   "language": "python",
   "name": "python3"
  },
  "language_info": {
   "codemirror_mode": {
    "name": "ipython",
    "version": 3
   },
   "file_extension": ".py",
   "mimetype": "text/x-python",
   "name": "python",
   "nbconvert_exporter": "python",
   "pygments_lexer": "ipython3",
   "version": "3.11.8"
  }
 },
 "nbformat": 4,
 "nbformat_minor": 4
}
