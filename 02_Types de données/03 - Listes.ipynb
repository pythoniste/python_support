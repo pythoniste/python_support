{
 "cells": [
  {
   "cell_type": "markdown",
   "metadata": {},
   "source": [
    "Listes\n",
    "==\n",
    "\n",
    "Notion de conteneur\n",
    "--\n",
    "\n",
    "Les conteneurs sont simplement des objets qui contiennent d'autres objets. On distingue :\n",
    "\n",
    "Type | Modifiable | Unicité | Relation d'ordre\n",
    " ---: | :---: | :---: | :--- \n",
    "Liste | Oui | Non | Oui\n",
    "N-Uplet | Non | Non | Oui\n",
    "Ensemble | Oui | Oui 1.2 | Non\n",
    "Frozenset | Non | Oui 2.2 | Non\n",
    "Dictionnaire | Oui | Clé: Oui, valeurs: Non | Oui depuis Python 3.8\n",
    "\n",
    "L'ensemble des éléments contenus dans un conteneur sont séparés par des virgules\n",
    "\n",
    "---\n",
    "\n",
    "Une donnée d'une liste est associée à un **indice**. Du point de vue de la liste, cet incide est simplement la place de la donnée dans la liste et n'a pas de signification particulière autre que cela.\n",
    "\n",
    "La notion de tri a du sens pour une liste, alors qu'elle en a un pour une liste.\n",
    "\n",
    "Considérations syntaxiques\n",
    "--"
   ]
  },
  {
   "cell_type": "code",
   "execution_count": null,
   "metadata": {},
   "outputs": [],
   "source": [
    "l = []"
   ]
  },
  {
   "cell_type": "markdown",
   "metadata": {},
   "source": [
    "Ce qui est équivalent à :"
   ]
  },
  {
   "cell_type": "code",
   "execution_count": null,
   "metadata": {},
   "outputs": [],
   "source": [
    "l = list()"
   ]
  },
  {
   "cell_type": "code",
   "execution_count": null,
   "metadata": {},
   "outputs": [],
   "source": [
    "l = ['a', 'c', 'e']"
   ]
  },
  {
   "cell_type": "markdown",
   "metadata": {},
   "source": [
    "Le constructeur permet également de convertir des données:"
   ]
  },
  {
   "cell_type": "code",
   "execution_count": null,
   "metadata": {},
   "outputs": [],
   "source": [
    "t = tuple(l)\n",
    "print(t)"
   ]
  },
  {
   "cell_type": "code",
   "execution_count": null,
   "metadata": {},
   "outputs": [],
   "source": [
    "l = list(t)\n",
    "print(l)"
   ]
  },
  {
   "cell_type": "markdown",
   "metadata": {},
   "source": [
    "Une liste dispose de plusieurs méthodes :"
   ]
  },
  {
   "cell_type": "code",
   "execution_count": null,
   "metadata": {},
   "outputs": [],
   "source": [
    "dir(list)"
   ]
  },
  {
   "cell_type": "markdown",
   "metadata": {},
   "source": [
    "On retrouve les méthodes **count** et **index** présentes dans le n-uplet. Mais également :\n",
    "\n",
    "* la méthode **append** permet de rajouter un élément à la liste, lequel se placera à la fin."
   ]
  },
  {
   "cell_type": "code",
   "execution_count": null,
   "metadata": {},
   "outputs": [],
   "source": [
    "l = ['a', 'b', 'c', 'e']"
   ]
  },
  {
   "cell_type": "code",
   "execution_count": null,
   "metadata": {},
   "outputs": [],
   "source": [
    "l.append('f')"
   ]
  },
  {
   "cell_type": "code",
   "execution_count": null,
   "metadata": {},
   "outputs": [],
   "source": [
    "print(l)"
   ]
  },
  {
   "cell_type": "markdown",
   "metadata": {},
   "source": [
    "* la méthode **extend** permet de rajouter le contenu du conteneur en paramètre à la fin."
   ]
  },
  {
   "cell_type": "code",
   "execution_count": null,
   "metadata": {},
   "outputs": [],
   "source": [
    "l.extend(['h', 'g', 'h', 'i'])"
   ]
  },
  {
   "cell_type": "code",
   "execution_count": null,
   "metadata": {},
   "outputs": [],
   "source": [
    "print(l)"
   ]
  },
  {
   "cell_type": "markdown",
   "metadata": {},
   "source": [
    "* la méthode **insert** permet de rajouter un élément à la liste, en spécifiant l'indice."
   ]
  },
  {
   "cell_type": "code",
   "execution_count": null,
   "metadata": {},
   "outputs": [],
   "source": [
    "l.insert(3, 'd')"
   ]
  },
  {
   "cell_type": "code",
   "execution_count": null,
   "metadata": {},
   "outputs": [],
   "source": [
    "print(l)"
   ]
  },
  {
   "cell_type": "markdown",
   "metadata": {},
   "source": [
    "* la méthode **remove** permet de supprimer un élément de la liste"
   ]
  },
  {
   "cell_type": "code",
   "execution_count": null,
   "metadata": {},
   "outputs": [],
   "source": [
    "l.remove('g')"
   ]
  },
  {
   "cell_type": "code",
   "execution_count": null,
   "metadata": {},
   "outputs": [],
   "source": [
    "print(l)"
   ]
  },
  {
   "cell_type": "code",
   "execution_count": null,
   "metadata": {},
   "outputs": [],
   "source": [
    "l.remove('x')"
   ]
  },
  {
   "cell_type": "code",
   "execution_count": null,
   "metadata": {},
   "outputs": [],
   "source": [
    "while 'h' in l:\n",
    "    l.remove('h')"
   ]
  },
  {
   "cell_type": "code",
   "execution_count": null,
   "metadata": {},
   "outputs": [],
   "source": [
    "print(l)"
   ]
  },
  {
   "cell_type": "markdown",
   "metadata": {},
   "source": [
    "* la méthode **pop** permet de supprimer le dernier élément de la liste en le renvoyant"
   ]
  },
  {
   "cell_type": "code",
   "execution_count": null,
   "metadata": {},
   "outputs": [],
   "source": [
    "l.pop()"
   ]
  },
  {
   "cell_type": "code",
   "execution_count": null,
   "metadata": {},
   "outputs": [],
   "source": [
    "print(l)"
   ]
  },
  {
   "cell_type": "markdown",
   "metadata": {},
   "source": [
    "* la méthode **reverse** permet de renverser l'ordre de la liste : le premier devient le dernier."
   ]
  },
  {
   "cell_type": "code",
   "execution_count": null,
   "metadata": {},
   "outputs": [],
   "source": [
    "l.reverse()"
   ]
  },
  {
   "cell_type": "code",
   "execution_count": null,
   "metadata": {},
   "outputs": [],
   "source": [
    "print(l)"
   ]
  },
  {
   "cell_type": "markdown",
   "metadata": {},
   "source": [
    "* la méthode **sort** permet de trier la liste."
   ]
  },
  {
   "cell_type": "code",
   "execution_count": null,
   "metadata": {},
   "outputs": [],
   "source": [
    "l.sort()"
   ]
  },
  {
   "cell_type": "code",
   "execution_count": null,
   "metadata": {},
   "outputs": [],
   "source": [
    "print(l)"
   ]
  },
  {
   "cell_type": "markdown",
   "metadata": {},
   "source": [
    "Comme on a pu le constater, lorsque l'on utilise une méthode transformant une liste, la transformation se fait à l'intérieur de l'objet même (IN PLACE) et la méthode ne renvoie rien.\n",
    "\n",
    "Il existe des fonctions qui permettent de renvoyer une copie de la liste modifiée sans que la liste d'origine ne soit affectée :"
   ]
  },
  {
   "cell_type": "code",
   "execution_count": null,
   "metadata": {},
   "outputs": [],
   "source": [
    "l = ['a', 'c', 'b']"
   ]
  },
  {
   "cell_type": "code",
   "execution_count": null,
   "metadata": {},
   "outputs": [],
   "source": [
    "reversed(l)"
   ]
  },
  {
   "cell_type": "code",
   "execution_count": null,
   "metadata": {},
   "outputs": [],
   "source": [
    "print(list(reversed(l)))"
   ]
  },
  {
   "cell_type": "code",
   "execution_count": null,
   "metadata": {},
   "outputs": [],
   "source": [
    "print(l)"
   ]
  },
  {
   "cell_type": "code",
   "execution_count": null,
   "metadata": {},
   "outputs": [],
   "source": [
    "print(list(sorted(l)))"
   ]
  },
  {
   "cell_type": "code",
   "execution_count": null,
   "metadata": {},
   "outputs": [],
   "source": [
    "print(l)"
   ]
  },
  {
   "cell_type": "markdown",
   "metadata": {},
   "source": [
    "En fonction de ce que l'on souhaite faire, on utilisera donc plutôt les méthodes de la liste ou des primitives (fonctions du module Builtins)."
   ]
  },
  {
   "cell_type": "markdown",
   "metadata": {},
   "source": [
    "Extraction de sous-séquence\n",
    "--------------------------------------------"
   ]
  },
  {
   "cell_type": "markdown",
   "metadata": {},
   "source": [
    "Dans le chapitre précédent, nous avions présenté l'*opérateur crochet*.\n",
    "\n",
    "Avec les listes, il fonctionne exactement de la même manière qu'avec les n-uplets :\n",
    "* S'il contient un entier, cet entier représente alors un indice:\n",
    "    * Si cet indice est positif, il représente la place de l'élément en lisant la liste de gauche à droite, en commençant par 0\n",
    "    * Si cet indice est négatif, il représente la place de l'élément en lisant la liste de droite à gauche, en commençant par -1\n",
    "* S'il contient deux indices, ces indices représentent alors une borne de départ et d'arrivée\n",
    "* s'il contient trois indices, le troisième est le pas\n",
    "\n",
    "Gâce à cette mécanique, Python permet d'extraire une sous-séquence de la séquence avec toujours une seule règle: **le premier indice est inclu et le second exclu**."
   ]
  },
  {
   "cell_type": "code",
   "execution_count": null,
   "metadata": {},
   "outputs": [],
   "source": [
    "l = list('ABCDEFGHIJ')\n",
    "print(l)"
   ]
  },
  {
   "cell_type": "code",
   "execution_count": null,
   "metadata": {},
   "outputs": [],
   "source": [
    "l[0:3]"
   ]
  },
  {
   "cell_type": "code",
   "execution_count": null,
   "metadata": {},
   "outputs": [],
   "source": [
    "l[-4: -1]"
   ]
  },
  {
   "cell_type": "code",
   "execution_count": null,
   "metadata": {},
   "outputs": [],
   "source": [
    "l[1:-1] # On exclut le premier et le dernier élément de la liste"
   ]
  },
  {
   "cell_type": "code",
   "execution_count": null,
   "metadata": {},
   "outputs": [],
   "source": [
    "l[:5]"
   ]
  },
  {
   "cell_type": "code",
   "execution_count": null,
   "metadata": {},
   "outputs": [],
   "source": [
    "l[5:]"
   ]
  },
  {
   "cell_type": "code",
   "execution_count": null,
   "metadata": {},
   "outputs": [],
   "source": [
    "l[5:-1]"
   ]
  },
  {
   "cell_type": "code",
   "execution_count": null,
   "metadata": {},
   "outputs": [],
   "source": [
    "l2 = l[:]\n",
    "print(l2)"
   ]
  },
  {
   "cell_type": "code",
   "execution_count": null,
   "metadata": {},
   "outputs": [],
   "source": [
    "l is l2"
   ]
  },
  {
   "cell_type": "code",
   "execution_count": null,
   "metadata": {},
   "outputs": [],
   "source": [
    "l == l2"
   ]
  },
  {
   "cell_type": "code",
   "execution_count": null,
   "metadata": {},
   "outputs": [],
   "source": [
    "l[42:100] # les indices ici sont trop élevés"
   ]
  },
  {
   "cell_type": "markdown",
   "metadata": {},
   "source": [
    "Enfin, il est permis d'utiliser un pas :"
   ]
  },
  {
   "cell_type": "code",
   "execution_count": null,
   "metadata": {},
   "outputs": [],
   "source": [
    "l[::2]"
   ]
  },
  {
   "cell_type": "code",
   "execution_count": null,
   "metadata": {},
   "outputs": [],
   "source": [
    "l[1::2]"
   ]
  },
  {
   "cell_type": "code",
   "execution_count": null,
   "metadata": {},
   "outputs": [],
   "source": [
    "l[5::-1]"
   ]
  },
  {
   "cell_type": "markdown",
   "metadata": {},
   "source": [
    "Itération sur une liste\n",
    "--"
   ]
  },
  {
   "cell_type": "code",
   "execution_count": null,
   "metadata": {},
   "outputs": [],
   "source": [
    "for element in l:\n",
    "    print(element)"
   ]
  },
  {
   "cell_type": "code",
   "execution_count": null,
   "metadata": {},
   "outputs": [],
   "source": [
    "for index, element in enumerate(l):\n",
    "    print(index, element)"
   ]
  },
  {
   "cell_type": "markdown",
   "metadata": {},
   "source": [
    "Copies et copies profondes\n",
    "--------------------------\n",
    "\n",
    "Nous déclarons deux listes, la première étant affectée à la seconde. Puis nous modifions chaque liste."
   ]
  },
  {
   "cell_type": "code",
   "execution_count": null,
   "metadata": {},
   "outputs": [],
   "source": [
    "l1 = ['a', 'b', 'c']\n",
    "l2 = l1\n",
    "l1.append('d1')\n",
    "l2.append('d2')"
   ]
  },
  {
   "cell_type": "code",
   "execution_count": null,
   "metadata": {},
   "outputs": [],
   "source": [
    "print(l1)\n",
    "print(l2)"
   ]
  },
  {
   "cell_type": "code",
   "execution_count": null,
   "metadata": {},
   "outputs": [],
   "source": [
    "l1 is l2"
   ]
  },
  {
   "cell_type": "markdown",
   "metadata": {},
   "source": [
    "Les deux variables `l1` et `l2` sont deux pointeurs vers le même objet en mémoire. Modifier cet objet en passant par l'un des pointeurs ou par l'autre aura le même effet."
   ]
  },
  {
   "cell_type": "markdown",
   "metadata": {},
   "source": [
    "```mermaid\n",
    "flowchart LR\n",
    "\n",
    "L1 -->|Pointeur d'origine| LM[Liste en mémoire]\n",
    "L2 -->|Copie du pointeur| LM[Liste en mémoire]\n",
    "LM -->|Indice 0| a\n",
    "LM -->|Indice 1| b\n",
    "LM -->|Indice 2| c\n",
    "LM -.->|Indice 3| d1\n",
    "style d1 fill:#f9f,stroke:#333,stroke-width:4px\n",
    "LM -.->|Indice 4| d2\n",
    "style d2 fill:#f9f,stroke:#333,stroke-width:4px\n",
    "```"
   ]
  },
  {
   "cell_type": "code",
   "execution_count": null,
   "metadata": {},
   "outputs": [],
   "source": [
    "l1 = ['a', 'b', 'c']\n",
    "l2 = l1[:]\n",
    "l1.append('d1')\n",
    "l2.append('d2')"
   ]
  },
  {
   "cell_type": "code",
   "execution_count": null,
   "metadata": {},
   "outputs": [],
   "source": [
    "print(l1)\n",
    "print(l2)"
   ]
  },
  {
   "cell_type": "markdown",
   "metadata": {},
   "source": [
    "```mermaid\n",
    "flowchart LR\n",
    "\n",
    "L1 -->|Pointeur d'origine| LM1[Liste en mémoire]\n",
    "L2 -->|Copie du pointeur| LM2[Liste en mémoire]\n",
    "LM1 & LM2 -->|Indice 0| a\n",
    "LM1 & LM2 -->|Indice 1| b\n",
    "LM1 & LM2 -->|Indice 2| c\n",
    "LM1 -.->|Indice 3| d1\n",
    "style d1 fill:#f9f,stroke:#333,stroke-width:4px\n",
    "LM2 -.->|Indice 3| d2\n",
    "style d2 fill:#f9f,stroke:#333,stroke-width:4px\n",
    "```"
   ]
  },
  {
   "cell_type": "markdown",
   "metadata": {},
   "source": [
    "La variable `l2` est maintenant une copie de `l1`. Agir sur l'un des objets ne change pas l'autre puisqu'il s'agit de deux objets distincts.\n",
    "\n",
    "Ceci dit:"
   ]
  },
  {
   "cell_type": "code",
   "execution_count": null,
   "metadata": {},
   "outputs": [],
   "source": [
    "l1 = [['a', 'b', 'c'], ['z']]\n",
    "l2 = l1[:]"
   ]
  },
  {
   "cell_type": "markdown",
   "metadata": {},
   "source": [
    "```mermaid\n",
    "flowchart LR\n",
    "\n",
    "L1 -->|Pointeur d'origine| LM1[Liste en mémoire]\n",
    "L2 -->|Copie du pointeur| LM2[Liste en mémoire]\n",
    "LM1 & LM2 --> LIM1 & LIM2\n",
    "LIM1 --> a\n",
    "LIM1 --> b\n",
    "LIM1 --> c\n",
    "LIM2 -->z\n",
    "```"
   ]
  },
  {
   "cell_type": "markdown",
   "metadata": {},
   "source": [
    "Les variables `l1` et `l2` sont bien des copies, mais elles contiennent des objets qui sont identiques. Donc, si l'on travaille sur ces objets là, c'est à dire `l1[0]`, `l1[1]`, `l2[0]` et `l2[1]`, on va retrouver le même problème :"
   ]
  },
  {
   "cell_type": "code",
   "execution_count": null,
   "metadata": {},
   "outputs": [],
   "source": [
    "l1[0].append('d1')\n",
    "l2[0].append('d2')\n",
    "print(l1)\n",
    "print(l2)"
   ]
  },
  {
   "cell_type": "markdown",
   "metadata": {},
   "source": [
    "```mermaid\n",
    "flowchart LR\n",
    "\n",
    "L1 -->|Pointeur d'origine| LM1[Liste en mémoire]\n",
    "L2 -->|Copie du pointeur| LM2[Liste en mémoire]\n",
    "LM1 & LM2 --> LIM1 & LIM2\n",
    "LIM1 --> a\n",
    "LIM1 --> b\n",
    "LIM1 --> c\n",
    "LIM2 -->z\n",
    "LIM1 -.-> d1 & d2\n",
    "style d1 fill:#f9f,stroke:#333,stroke-width:4px\n",
    "style d2 fill:#f9f,stroke:#333,stroke-width:4px\n",
    "```"
   ]
  },
  {
   "cell_type": "markdown",
   "metadata": {},
   "source": [
    "C'est là qu'intervient la copie profonde : tous les objets mutables sont copiés, quelque soit la profondeur :"
   ]
  },
  {
   "cell_type": "code",
   "execution_count": null,
   "metadata": {},
   "outputs": [],
   "source": [
    "from copy import deepcopy\n",
    "l1 = [['a', 'b', 'c'], ['z']]\n",
    "l3 = deepcopy(l1)\n",
    "l1[0].append('d1')\n",
    "l2[0].append('d2')\n",
    "print(l)\n",
    "print(l2)"
   ]
  },
  {
   "cell_type": "markdown",
   "metadata": {},
   "source": [
    "```mermaid\n",
    "flowchart LR\n",
    "\n",
    "L1 -->|Pointeur d'origine| LM1[Liste en mémoire]\n",
    "L2 -->|Copie du pointeur| LM2[Liste en mémoire]\n",
    "LM1 --> LI1M1 & LI1M2\n",
    "LM2 --> LI2M1 & LI2M2\n",
    "LI1M1 & LI2M1 --> a\n",
    "LI1M1 & LI2M1 --> b\n",
    "LI1M1 & LI2M1 --> c\n",
    "LI1M2 & LI2M2 --> z\n",
    "LI1M1 -.-> d1\n",
    "LI2M1 -.-> d2\n",
    "style d1 fill:#f9f,stroke:#333,stroke-width:4px\n",
    "style d2 fill:#f9f,stroke:#333,stroke-width:4px\n",
    "```"
   ]
  },
  {
   "cell_type": "markdown",
   "metadata": {},
   "source": [
    "---\n",
    "\n",
    "Aspects avancés\n",
    "--\n",
    "\n",
    "Une liste est un objet **mutable**.\n",
    "\n",
    "Cela signifie que la zone mémoire dans laquelle est écrit un n-uplet *est modifiable*.\n",
    "\n",
    "Une conséquence est que les méthodes d'une liste s'appelle et n'ont pas besoin d'auto-affectation :"
   ]
  },
  {
   "cell_type": "code",
   "execution_count": null,
   "metadata": {},
   "outputs": [],
   "source": [
    "l = [1, 3, 2]\n",
    "l = l.sort()\n",
    "print(l)"
   ]
  },
  {
   "cell_type": "markdown",
   "metadata": {},
   "source": [
    "Il faut simplement faire :"
   ]
  },
  {
   "cell_type": "code",
   "execution_count": null,
   "metadata": {},
   "outputs": [],
   "source": [
    "l = [1, 3, 2]\n",
    "l.sort()\n",
    "print(l)"
   ]
  },
  {
   "cell_type": "markdown",
   "metadata": {},
   "source": [
    "---"
   ]
  }
 ],
 "metadata": {
  "kernelspec": {
   "display_name": "Python 3 (ipykernel)",
   "language": "python",
   "name": "python3"
  },
  "language_info": {
   "codemirror_mode": {
    "name": "ipython",
    "version": 3
   },
   "file_extension": ".py",
   "mimetype": "text/x-python",
   "name": "python",
   "nbconvert_exporter": "python",
   "pygments_lexer": "ipython3",
   "version": "3.11.8"
  }
 },
 "nbformat": 4,
 "nbformat_minor": 4
}
