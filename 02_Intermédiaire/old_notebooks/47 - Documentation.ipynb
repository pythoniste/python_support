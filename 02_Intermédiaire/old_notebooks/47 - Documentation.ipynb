{
 "metadata": {
  "name": "47 - Documentation"
 }, 
 "nbformat": 2, 
 "worksheets": [
  {
   "cells": [
    {
     "cell_type": "code", 
     "collapsed": true, 
     "input": [], 
     "language": "python", 
     "outputs": []
    }
   ]
  }
 ]
}