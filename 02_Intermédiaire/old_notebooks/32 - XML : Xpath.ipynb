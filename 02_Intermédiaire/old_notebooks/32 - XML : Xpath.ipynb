{
 "metadata": {
  "name": "32 - XML : Xpath"
 }, 
 "nbformat": 2, 
 "worksheets": [
  {
   "cells": [
    {
     "cell_type": "code", 
     "collapsed": true, 
     "input": [], 
     "language": "python", 
     "outputs": []
    }
   ]
  }
 ]
}