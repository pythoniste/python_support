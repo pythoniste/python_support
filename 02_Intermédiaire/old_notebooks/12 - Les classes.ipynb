{
 "metadata": {
  "name": "12 - Les classes"
 }, 
 "nbformat": 2, 
 "worksheets": [
  {
   "cells": [
    {
     "cell_type": "code", 
     "collapsed": true, 
     "input": [], 
     "language": "python", 
     "outputs": []
    }
   ]
  }
 ]
}