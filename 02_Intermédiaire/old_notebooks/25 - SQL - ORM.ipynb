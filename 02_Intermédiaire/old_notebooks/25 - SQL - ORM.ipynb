{
 "metadata": {
  "name": "25 - SQL - ORM"
 }, 
 "nbformat": 2, 
 "worksheets": [
  {
   "cells": [
    {
     "cell_type": "code", 
     "collapsed": true, 
     "input": [], 
     "language": "python", 
     "outputs": []
    }
   ]
  }
 ]
}