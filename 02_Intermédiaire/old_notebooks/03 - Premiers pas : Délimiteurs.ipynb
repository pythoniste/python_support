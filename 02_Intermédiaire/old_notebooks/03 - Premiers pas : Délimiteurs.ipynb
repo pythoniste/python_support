{
 "metadata": {
  "name": "03 - Premiers pas : D\u00e9limiteurs"
 }, 
 "nbformat": 2, 
 "worksheets": [
  {
   "cells": [
    {
     "cell_type": "markdown", 
     "source": [
      "# Premiers pas", 
      "", 
      "## D\u00e9limiteurs", 
      "", 
      "### Ligne de code", 
      "", 
      "Une ligne de code est une instruction \u00e9crite sur une ligne.", 
      "", 
      "Une ligne de code se termine tout simplement par un passage \u00e0 la ligne :"
     ]
    }, 
    {
     "cell_type": "code", 
     "collapsed": true, 
     "input": [
      "print('Hello World!')"
     ], 
     "language": "python", 
     "outputs": []
    }, 
    {
     "cell_type": "markdown", 
     "source": [
      "Nul besoin de sp\u00e9cifier en plus du passage \u00e0 la ligne un quelconque point-virgule. Cependant, il peut servir \u00e0 s\u00e9parer plusieurs instructions dans une m\u00eame ligne :"
     ]
    }, 
    {
     "cell_type": "code", 
     "collapsed": true, 
     "input": [
      "a=1;a*=5;print(a)"
     ], 
     "language": "python", 
     "outputs": []
    }, 
    {
     "cell_type": "markdown", 
     "source": [
      "Cependant, hors cas exceptionnel, cette pratique n'est pas conseill\u00e9e.", 
      "", 
      "Au contraire, pour des raisons de lisibilit\u00e9, une ligne de code pourra \u00eatre \u00e9crite sur plusieurs lignes:"
     ]
    }, 
    {
     "cell_type": "code", 
     "collapsed": true, 
     "input": [
      "my_str=\"Phrase beaucoup trop longue qui doit \\", 
      "se terminer sur une autre ligne\""
     ], 
     "language": "python", 
     "outputs": []
    }, 
    {
     "cell_type": "code", 
     "collapsed": true, 
     "input": [
      "print(my_str)"
     ], 
     "language": "python", 
     "outputs": []
    }, 
    {
     "cell_type": "markdown", 
     "source": [
      "Lorsqu'il est clair que la ligne n'est pas termin\u00e9e, le caract\u00e8re d'\u00e9chappement devient inutile, car on sait de mani\u00e8re implicite que la ligne de code se poursuit.", 
      "", 
      "Dans l'exemple pr\u00e9c\u00e9dent, l'oubli du caract\u00e8re d'\u00e9chappement provoquerait une erreur, puisqu'une cha\u00eene de caract\u00e8re classique se doit d'\u00eatre termin\u00e9e avant la fin de la ligne.", 
      "", 
      "Par contre, une parenth\u00e8se, un crochet, une accolade peuvent \u00eatre ferm\u00e9es plus bas.", 
      "Dans l'exemple suivant, la ligne se termine alors que la parenth\u00e8se n'a pas \u00e9t\u00e9 ferm\u00e9e. Donc la ligne de code se poursuit et le passage \u00e0 la ligne est implicite, rendant inutile l'emploi du caract\u00e8re d'\u00e9chappement."
     ]
    }, 
    {
     "cell_type": "code", 
     "collapsed": true, 
     "input": [
      "table = str.translate('\u00e0\u00e2\u00e4\u00e9\u00e8\u00ea\u00eb\u00ee\u00ef\u00f6\u00f4\u00f9\u00fb\u00fc\u00e7', \\", 
      "\u00a0 \u00a0 \u00a0 \u00a0 \u00a0 \u00a0 \u00a0 \u00a0 \u00a0 \u00a0 \u00a0 'aaaeeeeiioouuuc')"
     ], 
     "language": "python", 
     "outputs": []
    }, 
    {
     "cell_type": "code", 
     "collapsed": true, 
     "input": [
      "table = str.translate('\u00e0\u00e2\u00e4\u00e9\u00e8\u00ea\u00eb\u00ee\u00ef\u00f6\u00f4\u00f9\u00fb\u00fc\u00e7',", 
      "                      'aaaeeeeiioouuuc')"
     ], 
     "language": "python", 
     "outputs": []
    }, 
    {
     "cell_type": "markdown", 
     "source": [
      "Dans l'exemple qui suit, son utilisation diminuerait inutilement la lisibilit\u00e9 :"
     ]
    }, 
    {
     "cell_type": "code", 
     "collapsed": true, 
     "input": [
      "d = [", 
      "     {'a': 42, 'b': 42},", 
      "     {'a': 4, 'b': 2},", 
      "]"
     ], 
     "language": "python", 
     "outputs": []
    }, 
    {
     "cell_type": "markdown", 
     "source": [
      "Comme on peut \u00e9galement le voir sur cet exemple, la virgule s\u00e9pare les diff\u00e9rents \u00e9l\u00e9ments d'une collection.", 
      "", 
      "On ajoute d'ailleurs ici une virgule \u00e0 la fin, ce qui est inutile, mais ce qui permet de ne pas oublier de la rajouter si, ult\u00e9rieurement, on d\u00e9cide de rajouter un troisi\u00e8me \u00e9l\u00e9ment.", 
      "", 
      "On peut rapidement pr\u00e9ciser que les crochets servent ici \u00e0 d\u00e9limiter une liste et les accolades \u00e0 d\u00e9limiter un dictionnaire. Dans ce dernier cas, le caract\u00e8re deux-points permet de s\u00e9parer les cl\u00e9s des valeurs. Toutes ces notions seront d\u00e9taill\u00e9es et approfondies lorsque l'on parlera des types de donn\u00e9es.", 
      "", 
      "On pr\u00e9cise cependant que les accolades sans les deux-points d\u00e9signent un ensemble et que les parenth\u00e8ses d\u00e9signet un n-uplet :"
     ]
    }, 
    {
     "cell_type": "code", 
     "collapsed": true, 
     "input": [
      "t = (4, 2, 4)"
     ], 
     "language": "python", 
     "outputs": []
    }, 
    {
     "cell_type": "code", 
     "collapsed": true, 
     "input": [
      "e = {4, 2, 4}"
     ], 
     "language": "python", 
     "outputs": []
    }, 
    {
     "cell_type": "markdown", 
     "source": [
      "###Op\u00e9rateurs", 
      "", 
      "Un op\u00e9rateur est un caract\u00e8re ou une suite de caract\u00e8res \u00e0 laquelle la grammaire de Python donne une signification particuli\u00e8re.", 
      "", 
      "Au del\u00e0 des op\u00e9rateurs arithm\u00e9tiques classiques, on dispose d'op\u00e9rateurs pour g\u00e9rer les ensembles (unions, intersections, ...) mais \u00e9galement les octets, par exemple. Ces derniers seront d\u00e9taill\u00e9s lorsque l'on abordera les types de donn\u00e9es."
     ]
    }, 
    {
     "cell_type": "code", 
     "collapsed": true, 
     "input": [
      "a = 2 + 4 * 10"
     ], 
     "language": "python", 
     "outputs": [], 
     "prompt_number": 2
    }, 
    {
     "cell_type": "markdown", 
     "source": [
      "Il existe les op\u00e9rateurs binaires, mais \u00e9galement quelques op\u00e9rateurs unaires :"
     ]
    }, 
    {
     "cell_type": "code", 
     "collapsed": true, 
     "input": [
      "-5"
     ], 
     "language": "python", 
     "outputs": []
    }, 
    {
     "cell_type": "markdown", 
     "source": [
      "Les encha\u00eener ne pose, sur le plan technique, aucun probl\u00e8me"
     ]
    }, 
    {
     "cell_type": "code", 
     "collapsed": false, 
     "input": [
      "--+-4"
     ], 
     "language": "python", 
     "outputs": [], 
     "prompt_number": 1
    }, 
    {
     "cell_type": "markdown", 
     "source": [
      "Ces op\u00e9rateurs peuvent \u00eatre accol\u00e9s au signe \u00e9gal pour donner des op\u00e9rateurs d'affectation. Ainsi, les deux lignes suivantes sont \u00e9quivalentes :"
     ]
    }, 
    {
     "cell_type": "code", 
     "collapsed": true, 
     "input": [
      "a += 2"
     ], 
     "language": "python", 
     "outputs": []
    }, 
    {
     "cell_type": "code", 
     "collapsed": true, 
     "input": [
      "a = a + 2"
     ], 
     "language": "python", 
     "outputs": []
    }, 
    {
     "cell_type": "markdown", 
     "source": [
      "On retrouve \u00e9galement les op\u00e9rateurs de comparaisons bien connus."
     ]
    }, 
    {
     "cell_type": "code", 
     "collapsed": true, 
     "input": [
      "a >= 0"
     ], 
     "language": "python", 
     "outputs": []
    }, 
    {
     "cell_type": "markdown", 
     "source": [
      "Il n'y a pas contre pas d'op\u00e9rateur pour les **ou** et **et** logique. En lieu et place, on utilise respectivement les mots **or** et **and**."
     ]
    }, 
    {
     "cell_type": "code", 
     "collapsed": false, 
     "input": [
      "age = 42", 
      "18 < age < 77"
     ], 
     "language": "python", 
     "outputs": [
      {
       "output_type": "pyout", 
       "prompt_number": 3, 
       "text": [
        "True"
       ]
      }
     ], 
     "prompt_number": 3
    }, 
    {
     "cell_type": "markdown", 
     "source": [
      "A ce stade l\u00e0, la chose importante \u00e0 retenir est que la signification des op\u00e9rateurs n'est pas grav\u00e9e dans le marbre. Elle ne d\u00e9pend pas de la grammaire.", 
      "", 
      "En effet, la grammaire se contente d'associer \u00e0 chaque op\u00e9rateur le nom d'une m\u00e9thode sp\u00e9ciale. Ainsi, c'est cette m\u00e9thode qui porte la signification de l'op\u00e9rateur et non pas l'op\u00e9rateur lui-m\u00eame.", 
      "", 
      "A ce stade, on n'a pas encore parler de la programmation objet, ni de la notion de m\u00e9thode, mais ce qui compte est de comprendre que la signification d'un op\u00e9rateur peut \u00eatre chang\u00e9e \u00e0 tout moment selon ses besoins et que ces m\u00eames op\u00e9rateurs peuvent \u00eatre utilis\u00e9s pour nos propres objets.", 
      "", 
      "C'est un point tr\u00e8s important qui fait que le langage Python reste souple, adaptable.", 
      "", 
      "### Symboles"
     ]
    }, 
    {
     "cell_type": "code", 
     "collapsed": true, 
     "input": [], 
     "language": "python", 
     "outputs": []
    }, 
    {
     "cell_type": "markdown", 
     "source": [
      "### Mots-cl\u00e9s"
     ]
    }, 
    {
     "cell_type": "code", 
     "collapsed": true, 
     "input": [], 
     "language": "python", 
     "outputs": []
    }, 
    {
     "cell_type": "markdown", 
     "source": [
      "### Identation"
     ]
    }, 
    {
     "cell_type": "code", 
     "collapsed": true, 
     "input": [], 
     "language": "python", 
     "outputs": []
    }, 
    {
     "cell_type": "markdown", 
     "source": [
      "### Caract\u00e8re soulign\u00e9"
     ]
    }, 
    {
     "cell_type": "code", 
     "collapsed": true, 
     "input": [], 
     "language": "python", 
     "outputs": []
    }, 
    {
     "cell_type": "markdown", 
     "source": [
      "### PEP"
     ]
    }, 
    {
     "cell_type": "code", 
     "collapsed": true, 
     "input": [], 
     "language": "python", 
     "outputs": []
    }
   ]
  }
 ]
}