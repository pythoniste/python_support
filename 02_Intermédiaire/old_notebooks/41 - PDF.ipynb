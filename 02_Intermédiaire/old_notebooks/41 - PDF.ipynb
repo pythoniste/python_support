{
 "metadata": {
  "name": "41 - PDF"
 }, 
 "nbformat": 2, 
 "worksheets": [
  {
   "cells": [
    {
     "cell_type": "code", 
     "collapsed": true, 
     "input": [], 
     "language": "python", 
     "outputs": []
    }
   ]
  }
 ]
}