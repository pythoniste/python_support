{
 "cells": [
  {
   "cell_type": "markdown",
   "id": "aebbe458-d9bd-4acc-9b3d-38528a44f6a0",
   "metadata": {},
   "source": [
    "Dataclasses\n",
    "=="
   ]
  },
  {
   "cell_type": "code",
   "execution_count": null,
   "id": "b9a74676-af41-4c9f-92c8-1dd7ffce2b7c",
   "metadata": {},
   "outputs": [],
   "source": [
    "from dataclasses import dataclass"
   ]
  },
  {
   "cell_type": "code",
   "execution_count": null,
   "id": "d2e8a5c3-4016-4477-a7f0-37fb6eb6b756",
   "metadata": {},
   "outputs": [],
   "source": [
    "@dataclass\n",
    "class Livre:\n",
    "    auteur: str\n",
    "    titre: str\n",
    "    nb_pages: int | None = None"
   ]
  },
  {
   "cell_type": "code",
   "execution_count": null,
   "id": "0dd815a5-6619-40da-b7ff-82cbf8204831",
   "metadata": {},
   "outputs": [],
   "source": [
    "Livre(\n",
    "    auteur = \"Sébastien CHAZALLET\",\n",
    "    titre = \"Python3, les fondamentaux du langage\",\n",
    "    nb_pages = 702,\n",
    ")"
   ]
  },
  {
   "cell_type": "code",
   "execution_count": null,
   "id": "48fc489d-a776-451d-8a95-abdbde9dac09",
   "metadata": {},
   "outputs": [],
   "source": [
    "Livre(\n",
    "    \"Sébastien CHAZALLET\",\n",
    "    \"Python3, les fondamentaux du langage\",\n",
    "    702,\n",
    ")"
   ]
  },
  {
   "cell_type": "code",
   "execution_count": null,
   "id": "a75eda2b-c0e8-426f-b0aa-f9f7d251dbad",
   "metadata": {},
   "outputs": [],
   "source": [
    "livre = Livre(\n",
    "    auteur = \"Sébastien CHAZALLET\",\n",
    "    titre = \"Python3, les fondamentaux du langage\",\n",
    ")"
   ]
  },
  {
   "cell_type": "code",
   "execution_count": null,
   "id": "b0ee8d62-76c7-4924-97bc-63f0266809cb",
   "metadata": {},
   "outputs": [],
   "source": [
    "print(livre)"
   ]
  },
  {
   "cell_type": "code",
   "execution_count": null,
   "id": "4e7288d1-09f5-461c-9c84-a694c6f68de7",
   "metadata": {},
   "outputs": [],
   "source": [
    "livre"
   ]
  },
  {
   "cell_type": "code",
   "execution_count": null,
   "id": "bb1815f7-32bf-4d82-8cd8-670493e0521f",
   "metadata": {},
   "outputs": [],
   "source": [
    "livre.editeur = \"ENI\""
   ]
  },
  {
   "cell_type": "code",
   "execution_count": null,
   "id": "2113b8b6-e7b1-420b-b047-236d5306ee40",
   "metadata": {},
   "outputs": [],
   "source": [
    "print(livre)"
   ]
  },
  {
   "cell_type": "code",
   "execution_count": null,
   "id": "1b28a95d-d9eb-4d81-8d39-68d846d2d8fd",
   "metadata": {},
   "outputs": [],
   "source": [
    "livre = Livre(\n",
    "    auteur = \"Sébastien CHAZALLET\",\n",
    "    nb_pages = 702,\n",
    ")"
   ]
  },
  {
   "cell_type": "markdown",
   "id": "46d4d9fc-9912-4d31-a93e-c6fa6fc5b788",
   "metadata": {},
   "source": [
    "### Limites des dataclasses"
   ]
  },
  {
   "cell_type": "code",
   "execution_count": null,
   "id": "2b723bb3-45ca-471a-bac8-300bec3b8bf4",
   "metadata": {},
   "outputs": [],
   "source": [
    "Livre(\n",
    "    auteur = 42,\n",
    "    titre = \"Python3, les fondamentaux du langage\",\n",
    "    nb_pages = 702,\n",
    ")"
   ]
  },
  {
   "cell_type": "code",
   "execution_count": null,
   "id": "cae4a1c2-d5bd-4cb6-9010-5336b4a3e731",
   "metadata": {},
   "outputs": [],
   "source": [
    "Livre(\n",
    "    auteur = 42,\n",
    "    titre = \"Python3, les fondamentaux du langage\",\n",
    "    nb_pages = 702,\n",
    "    editeur = \"ENI\",\n",
    ")"
   ]
  },
  {
   "cell_type": "code",
   "execution_count": null,
   "id": "060399c3-06e6-4ac6-a711-0ce45de0f642",
   "metadata": {},
   "outputs": [],
   "source": [
    "Livre(\n",
    "    \"Sébastien CHAZALLET\",\n",
    "    \"Python3, les fondamentaux du langage\",\n",
    "    702,\n",
    "    \"ENI\",\n",
    ")"
   ]
  },
  {
   "cell_type": "markdown",
   "id": "652384e1-857a-446f-9cfa-6c3a29e7d06b",
   "metadata": {},
   "source": [
    "### Paramètrage des dataclasses"
   ]
  },
  {
   "cell_type": "code",
   "execution_count": null,
   "id": "30105824-75bb-4bf9-9be5-27988dc1c52c",
   "metadata": {},
   "outputs": [],
   "source": [
    "@dataclass(init=True, repr=True, eq=True, order=False, unsafe_hash=False, frozen=False, match_args=True, kw_only=False, slots=False, weakref_slot=False)\n",
    "class Livre:\n",
    "    auteur: str\n",
    "    titre: str\n",
    "    nb_pages: int | None = None"
   ]
  },
  {
   "cell_type": "code",
   "execution_count": null,
   "id": "e2ffb366-d136-431a-98c3-78f04bfc5be8",
   "metadata": {},
   "outputs": [],
   "source": [
    "livre = Livre(\n",
    "    \"Sébastien CHAZALLET\",\n",
    "    \"Python3, les fondamentaux du langage\",\n",
    "    702,\n",
    ")"
   ]
  },
  {
   "cell_type": "code",
   "execution_count": null,
   "id": "f0945a6e-a611-4034-8bce-74109ca39235",
   "metadata": {},
   "outputs": [],
   "source": [
    "livre == Livre(\n",
    "    \"X\",\n",
    "    \"Python3, les fondamentaux du langage\",\n",
    "    702,\n",
    ")"
   ]
  },
  {
   "cell_type": "code",
   "execution_count": null,
   "id": "e87f7449-d735-49c0-a5a4-abe53631f628",
   "metadata": {},
   "outputs": [],
   "source": [
    "livre == Livre(\n",
    "    \"Sébastien CHAZALLET\",\n",
    "    \"X\",\n",
    "    702,\n",
    ")"
   ]
  },
  {
   "cell_type": "code",
   "execution_count": null,
   "id": "bf58b5ad-3e30-4f43-be86-6ccf910d7ce4",
   "metadata": {},
   "outputs": [],
   "source": [
    "livre == Livre(\n",
    "    \"Sébastien CHAZALLET\",\n",
    "    \"Python3, les fondamentaux du langage\",\n",
    "    42,\n",
    ")"
   ]
  },
  {
   "cell_type": "code",
   "execution_count": null,
   "id": "a35db02d-d685-4e15-8122-45ce4f3613db",
   "metadata": {},
   "outputs": [],
   "source": [
    "{livre}"
   ]
  },
  {
   "cell_type": "code",
   "execution_count": null,
   "id": "1890a743-feb0-4c15-8980-c31c4edfaa0c",
   "metadata": {},
   "outputs": [],
   "source": [
    "livre.nb_pages = 42"
   ]
  },
  {
   "cell_type": "code",
   "execution_count": null,
   "id": "a6f11520-5475-4292-827c-cc29ba519bd4",
   "metadata": {},
   "outputs": [],
   "source": [
    "@dataclass(slots=True)\n",
    "class Livre:\n",
    "    auteur: str\n",
    "    titre: str\n",
    "    nb_pages: int | None = None"
   ]
  },
  {
   "cell_type": "code",
   "execution_count": null,
   "id": "bed270b7-b1bc-47b7-a5d2-1d39de2f9c04",
   "metadata": {},
   "outputs": [],
   "source": [
    "livre = Livre(\n",
    "    \"Sébastien CHAZALLET\",\n",
    "    \"Python3, les fondamentaux du langage\",\n",
    "    702,\n",
    ")"
   ]
  },
  {
   "cell_type": "code",
   "execution_count": null,
   "id": "07bbc819-f820-4bc3-8c47-526f3fa28aec",
   "metadata": {},
   "outputs": [],
   "source": [
    "livre.editeur = \"ENI\""
   ]
  },
  {
   "cell_type": "code",
   "execution_count": null,
   "id": "5ae30a32-0474-4cd6-a141-28b4c76bf899",
   "metadata": {},
   "outputs": [],
   "source": [
    "@dataclass(unsafe_hash=True)\n",
    "class Livre:\n",
    "    auteur: str\n",
    "    titre: str\n",
    "    nb_pages: int | None = None"
   ]
  },
  {
   "cell_type": "code",
   "execution_count": null,
   "id": "31cb2d9f-c380-4cb2-b88c-2a72ab6bbc02",
   "metadata": {},
   "outputs": [],
   "source": [
    "livre = Livre(\n",
    "    \"Sébastien CHAZALLET\",\n",
    "    \"Python3, les fondamentaux du langage\",\n",
    "    702,\n",
    ")\n",
    "{livre}"
   ]
  },
  {
   "cell_type": "code",
   "execution_count": null,
   "id": "1af61144-ba68-4656-ae7b-f6fbec95c09e",
   "metadata": {},
   "outputs": [],
   "source": [
    "@dataclass(init=False)\n",
    "class Livre:\n",
    "    auteur: str\n",
    "    titre: str\n",
    "    nb_pages: int | None = None"
   ]
  },
  {
   "cell_type": "code",
   "execution_count": null,
   "id": "81097b5c-6ead-4ea3-947f-ace3029fbf51",
   "metadata": {},
   "outputs": [],
   "source": [
    "Livre(\n",
    "    \"Sébastien CHAZALLET\",\n",
    "    \"Python3, les fondamentaux du langage\",\n",
    "    702,\n",
    ")"
   ]
  },
  {
   "cell_type": "code",
   "execution_count": null,
   "id": "c0458056-32b1-44ca-9208-7930a61a1d99",
   "metadata": {},
   "outputs": [],
   "source": [
    "livre = Livre()\n",
    "livre.auteur = \"Sébastien CHAZALLET\"\n",
    "livre.titre = \"Python3, les fondamentaux du langage\"\n",
    "livre.nb_pages = 702\n",
    "livre.editeur = \"ENI\""
   ]
  },
  {
   "cell_type": "code",
   "execution_count": null,
   "id": "637ce364-c662-42e9-8ec0-79badffc5d55",
   "metadata": {},
   "outputs": [],
   "source": [
    "print(livre)"
   ]
  },
  {
   "cell_type": "code",
   "execution_count": null,
   "id": "d3ed5ac5-3427-45d5-9456-ba21395ce337",
   "metadata": {},
   "outputs": [],
   "source": [
    "@dataclass(eq=False)\n",
    "class Livre:\n",
    "    auteur: str\n",
    "    titre: str\n",
    "    nb_pages: int | None = None"
   ]
  },
  {
   "cell_type": "code",
   "execution_count": null,
   "id": "df094d19-eb5c-4bd0-a984-178b1b6f5ce4",
   "metadata": {},
   "outputs": [],
   "source": [
    "Livre(\n",
    "    \"Sébastien CHAZALLET\",\n",
    "    \"Python3, les fondamentaux du langage\",\n",
    "    702,\n",
    ") == Livre(\n",
    "    \"Sébastien CHAZALLET\",\n",
    "    \"Python3, les fondamentaux du langage\",\n",
    "    702,\n",
    ")"
   ]
  },
  {
   "cell_type": "code",
   "execution_count": null,
   "id": "4d0ad831-5d96-4a31-8c4a-584c0b3ee666",
   "metadata": {},
   "outputs": [],
   "source": [
    "@dataclass(order=True)\n",
    "class Livre:\n",
    "    auteur: str\n",
    "    titre: str\n",
    "    nb_pages: int | None = None"
   ]
  },
  {
   "cell_type": "code",
   "execution_count": null,
   "id": "b64ee27f-9e91-402d-a363-b5400fdd8f7b",
   "metadata": {},
   "outputs": [],
   "source": [
    "Livre(\n",
    "    \"Sébastien CHAZALLET\",\n",
    "    \"Python3, les fondamentaux du langage\",\n",
    "    702,\n",
    ") == Livre(\n",
    "    \"Sébastien CHAZALLET\",\n",
    "    \"Python3, les fondamentaux du langage\",\n",
    "    702,\n",
    ")"
   ]
  },
  {
   "cell_type": "code",
   "execution_count": null,
   "id": "cd59cab8-32f5-4539-bdb7-2da18955f7ce",
   "metadata": {},
   "outputs": [],
   "source": [
    "Livre(\n",
    "    \"X\",\n",
    "    \"X\",\n",
    "    702,\n",
    ") > Livre(\n",
    "    \"A\",\n",
    "    \"Z\",\n",
    "    42,\n",
    ")"
   ]
  },
  {
   "cell_type": "code",
   "execution_count": null,
   "id": "ad15524e-ce5a-4ac3-a636-2cfd0253956e",
   "metadata": {},
   "outputs": [],
   "source": [
    "Livre(\n",
    "    \"A\",\n",
    "    \"X\",\n",
    "    702,\n",
    ") > Livre(\n",
    "    \"A\",\n",
    "    \"Z\",\n",
    "    42,\n",
    ")"
   ]
  },
  {
   "cell_type": "code",
   "execution_count": null,
   "id": "4adfe154-db67-4b59-9d6f-ac9811f6aa0b",
   "metadata": {},
   "outputs": [],
   "source": [
    "Livre(\n",
    "    \"A\",\n",
    "    \"X\",\n",
    "    702,\n",
    ") > Livre(\n",
    "    \"A\",\n",
    "    \"X\",\n",
    "    42,\n",
    ")"
   ]
  },
  {
   "cell_type": "code",
   "execution_count": null,
   "id": "9bb11bef-8895-4ac0-a807-88891b125ab8",
   "metadata": {},
   "outputs": [],
   "source": [
    "@dataclass(kw_only=True)\n",
    "class Livre:\n",
    "    auteur: str\n",
    "    titre: str\n",
    "    nb_pages: int | None = None"
   ]
  },
  {
   "cell_type": "code",
   "execution_count": null,
   "id": "b59d7172-d59e-446b-b546-08c88248f76c",
   "metadata": {},
   "outputs": [],
   "source": [
    "Livre(\n",
    "    \"Sébastien CHAZALLET\",\n",
    "    \"Python3, les fondamentaux du langage\",\n",
    "    702,\n",
    ")"
   ]
  },
  {
   "cell_type": "code",
   "execution_count": null,
   "id": "fe291f21-62a8-464b-bc47-c403f44f8fb6",
   "metadata": {},
   "outputs": [],
   "source": [
    "Livre(\n",
    "    auteur = \"Sébastien CHAZALLET\",\n",
    "    titre = \"Python3, les fondamentaux du langage\",\n",
    "    nb_pages = 702,\n",
    ")"
   ]
  },
  {
   "cell_type": "code",
   "execution_count": null,
   "id": "9dca6a27-c07f-41e0-aaa3-62051d526012",
   "metadata": {},
   "outputs": [],
   "source": [
    "@dataclass(frozen=True)\n",
    "class Livre:\n",
    "    auteur: str\n",
    "    titre: str\n",
    "    nb_pages: int | None = None"
   ]
  },
  {
   "cell_type": "code",
   "execution_count": null,
   "id": "4bd86fa8-6cf5-495c-b6cc-35570ac5d2c3",
   "metadata": {},
   "outputs": [],
   "source": [
    "livre = Livre(\n",
    "    auteur = \"Sébastien CHAZALLET\",\n",
    "    titre = \"Python3, les fondamentaux du langage\",\n",
    "    nb_pages = 702,\n",
    ")"
   ]
  },
  {
   "cell_type": "code",
   "execution_count": null,
   "id": "c4874054-4e7d-4501-a6ad-cefbe0684fa1",
   "metadata": {},
   "outputs": [],
   "source": [
    "livre.auteur = \"Autre auteur\""
   ]
  },
  {
   "cell_type": "markdown",
   "id": "b93f4d78-b341-4409-8ce3-61cb290a7c41",
   "metadata": {},
   "source": [
    "### Paramétrage des champs"
   ]
  },
  {
   "cell_type": "code",
   "execution_count": null,
   "id": "33013268-4368-4da9-87a5-a11274dbed61",
   "metadata": {},
   "outputs": [],
   "source": [
    "from dataclasses import field\n",
    "\n",
    "@dataclass(slots=True, order=True, unsafe_hash=True, frozen=True)\n",
    "class Livre:\n",
    "    auteur: str = field(default=\"inconnu\", repr=False)\n",
    "    titre: str\n",
    "    nb_pages: int | None = field(default=None, kw_only=True, compare=False, hash=False)"
   ]
  },
  {
   "cell_type": "code",
   "execution_count": null,
   "id": "4ece05b3-9d95-4628-8779-d55d2a74e548",
   "metadata": {},
   "outputs": [],
   "source": [
    "@dataclass(slots=True, order=True, unsafe_hash=True, frozen=True)\n",
    "class Livre:\n",
    "    titre: str\n",
    "    auteur: str = field(default=\"inconnu\", repr=False)\n",
    "    nb_pages: int | None = field(default=None, kw_only=True, compare=False, hash=False)"
   ]
  },
  {
   "cell_type": "code",
   "execution_count": null,
   "id": "84140cde-951c-4938-939d-ee3aaab46fa5",
   "metadata": {},
   "outputs": [],
   "source": [
    "livre = Livre(\n",
    "    auteur = \"Sébastien CHAZALLET\",\n",
    "    titre = \"Python3, les fondamentaux du langage\",\n",
    "    nb_pages = 702,\n",
    ")\n",
    "livre"
   ]
  },
  {
   "cell_type": "code",
   "execution_count": null,
   "id": "0f74b623-47a1-4541-82e2-a7afa3fe1496",
   "metadata": {},
   "outputs": [],
   "source": [
    "print(livre.auteur)"
   ]
  },
  {
   "cell_type": "markdown",
   "id": "06e4437e-c2cc-452e-84c6-a21f547efe34",
   "metadata": {},
   "source": [
    "Plusieurs champs ont des valeurs par défaut"
   ]
  },
  {
   "cell_type": "code",
   "execution_count": null,
   "id": "406114b8-c684-47c4-bba9-863bfc796dac",
   "metadata": {},
   "outputs": [],
   "source": [
    "Livre(\n",
    "    titre = \"Python3, les fondamentaux du langage\",\n",
    ")"
   ]
  },
  {
   "cell_type": "markdown",
   "id": "2a6f87ae-866f-4f5f-a456-4ee3282aed01",
   "metadata": {},
   "source": [
    "Le nombre de page n'est plus un critère de comparaison des objets"
   ]
  },
  {
   "cell_type": "code",
   "execution_count": null,
   "id": "dae54aeb-3b7e-4bf7-9713-5b2a70b6b9d9",
   "metadata": {},
   "outputs": [],
   "source": [
    "Livre(\n",
    "    \"Python3, les fondamentaux du langage\",\n",
    "    \"Sébastien CHAZALLET\",\n",
    "    nb_pages=702,\n",
    ") == Livre(\n",
    "    \"Python3, les fondamentaux du langage\",\n",
    "    \"Sébastien CHAZALLET\",\n",
    "    nb_pages=42,\n",
    ")"
   ]
  },
  {
   "cell_type": "markdown",
   "id": "31272614-1df9-4508-b429-548fc98e5282",
   "metadata": {},
   "source": [
    "Le nombre de page n'est également plus utilisé dans la calcul du hash des objdets"
   ]
  },
  {
   "cell_type": "code",
   "execution_count": null,
   "id": "3bc2556f-46e3-4326-b972-2c937ce81add",
   "metadata": {},
   "outputs": [],
   "source": [
    "hash(Livre(\n",
    "    \"Python3, les fondamentaux du langage\",\n",
    "    \"Sébastien CHAZALLET\",\n",
    "    nb_pages=702,\n",
    "))"
   ]
  },
  {
   "cell_type": "code",
   "execution_count": null,
   "id": "68e89591-bf12-4cc2-b94c-4bef33f508f7",
   "metadata": {},
   "outputs": [],
   "source": [
    "hash(Livre(\n",
    "    \"Python3, les fondamentaux du langage\",\n",
    "    \"Sébastien CHAZALLET\",\n",
    "    nb_pages=42,\n",
    "))"
   ]
  },
  {
   "cell_type": "markdown",
   "id": "6c8f863c-01ad-4324-941b-2cd66c6a262e",
   "metadata": {},
   "source": [
    "Autre exemple:"
   ]
  },
  {
   "cell_type": "code",
   "execution_count": null,
   "id": "f635ab41-4611-4a61-bc3a-2917bffd662c",
   "metadata": {},
   "outputs": [],
   "source": [
    "@dataclass\n",
    "class QuizzItem:\n",
    "    question: str\n",
    "    reponses: list[str] = []"
   ]
  },
  {
   "cell_type": "code",
   "execution_count": null,
   "id": "bd82cac5-6cec-4a3b-953a-6c15d456c7f3",
   "metadata": {},
   "outputs": [],
   "source": [
    "class QuizzItem:\n",
    "\n",
    "    def __init__(self, question: str, reponses: list[str] = []):\n",
    "        self.question = question\n",
    "        self.reponses = reponses\n",
    "\n",
    "item_1 = QuizzItem(\"q1\")\n",
    "item_2 = QuizzItem(\"q2\")\n",
    "\n",
    "item_1.reponses.append(\"Ceci est ma réponse\")\n",
    "print(item_2.reponses)"
   ]
  },
  {
   "cell_type": "code",
   "execution_count": null,
   "id": "9f3bfb46-709e-4a2c-8728-86731cb041ff",
   "metadata": {},
   "outputs": [],
   "source": [
    "@dataclass\n",
    "class QuizzItem:\n",
    "    question: str\n",
    "    reponses: list[str] = field(default_factory=list[str])"
   ]
  },
  {
   "cell_type": "code",
   "execution_count": null,
   "id": "45b9bd4c-37fb-42dd-8759-e4c412ce857d",
   "metadata": {},
   "outputs": [],
   "source": [
    "item_1 = QuizzItem(\n",
    "    question = \"Ceci est une question\",\n",
    ")"
   ]
  },
  {
   "cell_type": "code",
   "execution_count": null,
   "id": "e9cea02e-5fee-4cc5-b349-4ad5ec66545b",
   "metadata": {},
   "outputs": [],
   "source": [
    "item_2 = QuizzItem(\n",
    "    question = \"Ceci est une autre question\",\n",
    ")"
   ]
  },
  {
   "cell_type": "code",
   "execution_count": null,
   "id": "32fa98b4-3e05-46e1-a8f5-bbeebe7e44c6",
   "metadata": {},
   "outputs": [],
   "source": [
    "item_1.reponses.append(\"Ceci est une réponse\")"
   ]
  },
  {
   "cell_type": "code",
   "execution_count": null,
   "id": "7bea99f1-adcc-4c19-8352-5b28dffb9b66",
   "metadata": {},
   "outputs": [],
   "source": [
    "print(item_2.reponses)"
   ]
  },
  {
   "cell_type": "code",
   "execution_count": null,
   "id": "42fdbfe6-5a7a-4d2f-8716-b668799e02c0",
   "metadata": {},
   "outputs": [],
   "source": [
    "item_3 = QuizzItem(\n",
    "    question = \"Ceci est LA question\",\n",
    "    reponses = [\n",
    "        \"la réponse est évidente\",\n",
    "        \"la réponse est cachée quelque part\",\n",
    "        \"la réponse est ailleurs\",\n",
    "        \"la réponse D\",\n",
    "    ]\n",
    ")"
   ]
  },
  {
   "cell_type": "code",
   "execution_count": null,
   "id": "0ae70d48-a539-48f4-a8f7-b1e1044368b8",
   "metadata": {},
   "outputs": [],
   "source": [
    "@dataclass\n",
    "class Quizz:\n",
    "    items: list[QuizzItem]"
   ]
  },
  {
   "cell_type": "code",
   "execution_count": null,
   "id": "6ebcf5e5-11c2-4fb3-9825-6bcb29716a27",
   "metadata": {},
   "outputs": [],
   "source": [
    "quizz = Quizz(\n",
    "    items = [item_1, item_2, item_3]\n",
    ")"
   ]
  },
  {
   "cell_type": "code",
   "execution_count": null,
   "id": "eb14d992-0873-48c9-8ea1-b19029ec4e4e",
   "metadata": {},
   "outputs": [],
   "source": [
    "from pprint import pprint\n",
    "pprint(quizz)"
   ]
  },
  {
   "cell_type": "markdown",
   "id": "7c2eb703-22c6-489a-9086-83231c98d0aa",
   "metadata": {},
   "source": [
    "Lien avec les dictionnaires\n",
    "--"
   ]
  },
  {
   "cell_type": "code",
   "execution_count": null,
   "id": "d7365baf-50d1-4bb2-879a-653ef76aa4fa",
   "metadata": {},
   "outputs": [],
   "source": [
    "from dataclasses import asdict"
   ]
  },
  {
   "cell_type": "code",
   "execution_count": null,
   "id": "0c48d5e6-c58a-469a-9992-ee8b23de75bb",
   "metadata": {},
   "outputs": [],
   "source": [
    "dict_quizz = asdict(quizz)"
   ]
  },
  {
   "cell_type": "code",
   "execution_count": null,
   "id": "b1aedd1b-f870-48df-a0e1-d830bb39d6dd",
   "metadata": {},
   "outputs": [],
   "source": [
    "pprint(dict_quizz)"
   ]
  },
  {
   "cell_type": "code",
   "execution_count": null,
   "id": "b7b03b78-0de1-46ce-a271-6ae068a69ebc",
   "metadata": {},
   "outputs": [],
   "source": [
    "dataclass_quizz = Quizz(**dict_quizz)"
   ]
  },
  {
   "cell_type": "code",
   "execution_count": null,
   "id": "9c7a95a2-0b27-41b1-b46e-556fbe63781f",
   "metadata": {},
   "outputs": [],
   "source": [
    "pprint(dataclass_quizz)"
   ]
  },
  {
   "cell_type": "code",
   "execution_count": null,
   "id": "5f4834b0-0286-49fb-86f2-478f7a7b993d",
   "metadata": {},
   "outputs": [],
   "source": [
    "dataclass_quizz.items[0]"
   ]
  },
  {
   "cell_type": "code",
   "execution_count": null,
   "id": "09d6a800-7d04-4ae9-8ff2-b7d444183550",
   "metadata": {},
   "outputs": [],
   "source": [
    "dataclass_quizz = Quizz(items=[QuizzItem(**item) for item in dict_quizz[\"items\"]])"
   ]
  },
  {
   "cell_type": "code",
   "execution_count": null,
   "id": "8c8c50ba-f3a5-4739-8ace-5b2f2725bb51",
   "metadata": {},
   "outputs": [],
   "source": [
    "pprint(dataclass_quizz)"
   ]
  },
  {
   "cell_type": "markdown",
   "id": "e35c948f-b8bc-46ce-b430-e5a36f123182",
   "metadata": {},
   "source": [
    "---"
   ]
  }
 ],
 "metadata": {
  "kernelspec": {
   "display_name": "Python 3 (ipykernel)",
   "language": "python",
   "name": "python3"
  },
  "language_info": {
   "codemirror_mode": {
    "name": "ipython",
    "version": 3
   },
   "file_extension": ".py",
   "mimetype": "text/x-python",
   "name": "python",
   "nbconvert_exporter": "python",
   "pygments_lexer": "ipython3",
   "version": "3.11.8"
  }
 },
 "nbformat": 4,
 "nbformat_minor": 5
}
