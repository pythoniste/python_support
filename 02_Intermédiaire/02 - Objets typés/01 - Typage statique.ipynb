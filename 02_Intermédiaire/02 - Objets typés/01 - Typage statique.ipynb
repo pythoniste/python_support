{
 "cells": [
  {
   "cell_type": "markdown",
   "id": "9a43d800-5862-4d3e-8140-25bd66c5aced",
   "metadata": {},
   "source": [
    "Typage statique\n",
    "==\n",
    "\n",
    "Ce que le typage statique est\n",
    "--\n",
    "\n",
    "En Python, le duck typing est la règle.\n",
    "\n",
    "*si cela ressemble à un canard, marche comme un canard et quacke comme un canard, alors cela doit être un canard.*\n",
    "\n",
    "La bonne manière de vérifier qu'un code est **valide** est:\n",
    "\n",
    "* écrire un code **clair**, **lisible**, en maîtrisant sa *complexité*\n",
    "* utiliser des noms de *variables*, *fonctions*, *classes* ou de *module* **explicites**\n",
    "* d'écrire au sein du code une **documentation** minimale mais efficace en utilisant des *docstrings*\n",
    "* d'écrire aux endroits ou la complexité le nécessite des **commentaires** courts mais pertinents\n",
    "* d'écrire des **tests unitaires** solides, réellement unitaires et couvrant 100% du code que l'on aura décidé de couvrir\n",
    "* d'écrire des **tests d'intégration** simples permettant de couvrir les scénarios normaux et alternatifs correspondant à la réalité de l'utilisation de l'application\n",
    "\n",
    "Le typage statique permet d'éclairer le relecteur d'un code sur le type attendu des variables, paramètres ou retours de fonctions\n",
    "\n",
    "Ainsi, le typage statique intervient dans le processus précédent à plusieurs endroits :\n",
    "* il permet d'ajouter de la **clarté** au code\n",
    "* il sert de **documentation** au code\n",
    "* il **évite** d'avoir à préciser le type par **des commentaires**\n",
    "* il permet de rajouter une **couverture de tests statiques** par l'emploi de mypy.\n",
    "\n",
    "**Le typage statique est un moyen d'améliorer la qualité du code.**\n",
    "\n",
    "Ce que le typage statique n'est pas\n",
    "--\n",
    "**Le typage statique n'est pas performatif, il est indicatif.**"
   ]
  },
  {
   "cell_type": "code",
   "execution_count": null,
   "id": "4f18bae7-b6d6-4686-89cb-f0b2514a9a80",
   "metadata": {},
   "outputs": [],
   "source": [
    "entier: int = 42"
   ]
  },
  {
   "cell_type": "code",
   "execution_count": null,
   "id": "d578bb3a-859a-4bed-9e4a-5ed4b7cce22a",
   "metadata": {},
   "outputs": [],
   "source": [
    "entier2: int"
   ]
  },
  {
   "cell_type": "code",
   "execution_count": null,
   "id": "28a51b95-bb21-45e1-807b-c91b0ccca607",
   "metadata": {},
   "outputs": [],
   "source": [
    "entier = 42"
   ]
  },
  {
   "cell_type": "markdown",
   "id": "ea449e09-9053-44a0-ab2b-cf4a774caf2d",
   "metadata": {},
   "source": [
    "L'affichage suivant est problématique, mais il n'est pas faux du point de vue de la *syntaxe*"
   ]
  },
  {
   "cell_type": "code",
   "execution_count": null,
   "id": "8840e224-cad7-40ff-b20d-a8a9aa23edce",
   "metadata": {},
   "outputs": [],
   "source": [
    "entier3: int = \"chaîne\""
   ]
  },
  {
   "cell_type": "markdown",
   "id": "d03dce7d-150c-4e6b-842d-09ee4e6a6860",
   "metadata": {},
   "source": [
    "L'utilisation d'un outil comme **mypy** permettra de lever toutes ces erreurs"
   ]
  },
  {
   "cell_type": "code",
   "execution_count": null,
   "id": "690871fb-0847-4c87-8173-d617a1b2a324",
   "metadata": {},
   "outputs": [],
   "source": [
    "chaine: str = \"chaîne\""
   ]
  },
  {
   "cell_type": "code",
   "execution_count": null,
   "id": "5a21a42a-25c1-42fc-881f-ec5885ffe445",
   "metadata": {},
   "outputs": [],
   "source": [
    "octets: bytes"
   ]
  },
  {
   "cell_type": "code",
   "execution_count": null,
   "id": "9786d51e-c79f-44ab-aa01-f4b6709ad8ab",
   "metadata": {},
   "outputs": [],
   "source": [
    "print(octets)"
   ]
  },
  {
   "cell_type": "code",
   "execution_count": null,
   "id": "8dc9b4fe-fa4b-4451-a04f-335880306bb2",
   "metadata": {},
   "outputs": [],
   "source": [
    "octets = b\"octets\""
   ]
  },
  {
   "cell_type": "code",
   "execution_count": null,
   "id": "f49401b4-08c8-4217-b5c7-5a4091c687d8",
   "metadata": {},
   "outputs": [],
   "source": [
    "print(octets)"
   ]
  },
  {
   "cell_type": "markdown",
   "id": "467dad0e-aec7-45ec-942e-3854cefb3bde",
   "metadata": {},
   "source": [
    "---\n",
    "\n",
    "Lorsqu'un programme python est exécuté, il y a plusieurs phases.\n",
    "\n",
    "* La première consiste à lire le code et le compiler dans un langage compréhensible par la machine virtuelle de Python\n",
    "* La seconde consiste à exécuter le code compilé\n",
    "\n",
    "C'est dans la première phase que se détectent les erreur de syntaxe:"
   ]
  },
  {
   "cell_type": "code",
   "execution_count": null,
   "id": "c4ec04af-e289-4e8b-89ca-4f629c471d18",
   "metadata": {},
   "outputs": [],
   "source": [
    "import module_qui_existe_pas\n",
    "\n",
    "def x()\n",
    "    print(\"Erreur de syntaxe\")"
   ]
  },
  {
   "cell_type": "markdown",
   "id": "a923bbff-bff9-456e-a09e-8baab1a318c8",
   "metadata": {},
   "source": [
    "Le fait que le module n'existe pas et ne peut pas être importé n'est pas une erreur de syntaxe et comme le code n'est pas exécuté, cela n'est pas détecté"
   ]
  },
  {
   "cell_type": "code",
   "execution_count": null,
   "id": "efdc7be8-f69e-4c66-9c79-77bb135b80c1",
   "metadata": {},
   "outputs": [],
   "source": [
    "import module_qui_existe_pas\n",
    "\n",
    "def x():\n",
    "    print(\"Plus d'erreur de syntaxe\")"
   ]
  },
  {
   "cell_type": "markdown",
   "id": "d261a9b6-5ba5-4889-81a9-6011a3ad10b1",
   "metadata": {},
   "source": [
    "Dans l'exemple précédent, la syntaxe est correcte, le code est donc entièrement compilé et la machine virtuelle Python peut l'exécuté.\n",
    "\n",
    "C'est à l'exécution que les erreurs se produisent, telles que l'utilisation d'un module qui n'existe pas.\n",
    "\n",
    "PS: Ce type d'erreur est détectable en utilisant un TypeChecker de code."
   ]
  },
  {
   "cell_type": "code",
   "execution_count": null,
   "id": "0548472d-1813-413c-9469-ce5c08120a24",
   "metadata": {},
   "outputs": [],
   "source": [
    "# Programme python classique, bien qu'un peu court\n",
    "\n",
    "# A cet endroit du code, la variable a est déjà connue et son emplacement mémoire est déjà réservé.\n",
    "# Pour autant, sa valeur n'est pas connue et l'utiliser entraînera un logique NameError\n",
    "\n",
    "# print(a) -> NameError exception\n",
    "a = 42\n",
    "# print(a) -> 42"
   ]
  },
  {
   "cell_type": "code",
   "execution_count": null,
   "id": "9889cff3-e62b-461c-a037-ea7d9065a95b",
   "metadata": {},
   "outputs": [],
   "source": [
    "# Programme python classique, bien qu'un peu court\n",
    "\n",
    "# A cet endroit du code, la variable a est déjà connue et son emplacement mémoire est déjà réservé.\n",
    "# Son type est déjà connu, car il y a eu une phase de compilation du code en langage interprété de la machine virtuelle python.\n",
    "# Pour autant, sa valeur n'est pas connue et l'utiliser entraînera un logique NameError\n",
    "\n",
    "a: int\n",
    "# L'instruction précédente a été utile à la compilation du code.\n",
    "# utiliser ici la valeur de a, comme pour le programme précédent entraînera un logique NameError\n",
    "\n",
    "# print(a) -> NameError exception\n",
    "a = 42\n",
    "# print(a) -> 42"
   ]
  },
  {
   "cell_type": "markdown",
   "id": "f6505855-9845-4242-931d-75f487c38596",
   "metadata": {},
   "source": [
    "Syntaxe liée au typage statique\n",
    "--"
   ]
  },
  {
   "cell_type": "code",
   "execution_count": null,
   "id": "97cc27e1-c563-4613-bb00-b1ccf4b34d6f",
   "metadata": {},
   "outputs": [],
   "source": [
    "liste_entiers: list[int]"
   ]
  },
  {
   "cell_type": "code",
   "execution_count": null,
   "id": "c9fa33cb-e01b-4b68-9bbe-73df6f2ee9ca",
   "metadata": {},
   "outputs": [],
   "source": [
    "liste_entiers = [1, 2, 3]"
   ]
  },
  {
   "cell_type": "code",
   "execution_count": null,
   "id": "06670d0c-096b-4e17-af4a-3afcd74cf41e",
   "metadata": {},
   "outputs": [],
   "source": [
    "liste_entiers2: list[int] = [1, 2, 3]"
   ]
  },
  {
   "cell_type": "code",
   "execution_count": null,
   "id": "d2f45422-6fb2-4764-8cce-f6c562e50669",
   "metadata": {},
   "outputs": [],
   "source": [
    "liste_entiers3 = list[int]((1, 2, 3))"
   ]
  },
  {
   "cell_type": "code",
   "execution_count": null,
   "id": "931a7caa-bf9e-4df6-b148-deb116b40bc2",
   "metadata": {},
   "outputs": [],
   "source": [
    "liste_entiers4 = list[int]()"
   ]
  },
  {
   "cell_type": "code",
   "execution_count": null,
   "id": "cb38e5fe-15cf-432a-9e16-c66f640787bc",
   "metadata": {},
   "outputs": [],
   "source": [
    "liste_entiers4.append(42)"
   ]
  },
  {
   "cell_type": "code",
   "execution_count": null,
   "id": "4684b86e-88bd-4702-aaa1-c0ce1a446a73",
   "metadata": {},
   "outputs": [],
   "source": [
    "liste_entiers4.append(\"chaîne\")"
   ]
  },
  {
   "cell_type": "code",
   "execution_count": null,
   "id": "041cdb44-7bac-405a-9585-8ddfef383414",
   "metadata": {},
   "outputs": [],
   "source": [
    "liste_entiers4"
   ]
  },
  {
   "cell_type": "code",
   "execution_count": null,
   "id": "2f8940c7-df06-4b15-9e52-e5628ef4b0ea",
   "metadata": {},
   "outputs": [],
   "source": [
    "chaîne: str | None = None"
   ]
  },
  {
   "cell_type": "markdown",
   "id": "6f88cdd2-569b-4d94-b558-edbf0dd3c528",
   "metadata": {},
   "source": [
    "### Conteneurs"
   ]
  },
  {
   "cell_type": "code",
   "execution_count": null,
   "id": "456b9881-6509-41cf-aaf2-c0a26c5af630",
   "metadata": {},
   "outputs": [],
   "source": [
    "liste_nombres = list[int | float]((1, 2.0, 3, 4.2))"
   ]
  },
  {
   "cell_type": "code",
   "execution_count": null,
   "id": "83be80b2-1a48-40af-8204-e7ec289a541d",
   "metadata": {},
   "outputs": [],
   "source": [
    "print(liste_nombres)"
   ]
  },
  {
   "cell_type": "code",
   "execution_count": null,
   "id": "a4feb72b-3d4a-4020-959f-6bb7b0bf2e41",
   "metadata": {},
   "outputs": [],
   "source": [
    "notes: dict[str, int] = {}"
   ]
  },
  {
   "cell_type": "code",
   "execution_count": null,
   "id": "3312c36f-06cc-4db6-a95d-a631fc1a05f1",
   "metadata": {},
   "outputs": [],
   "source": [
    "notes[\"Marc\"] = 12\n",
    "notes |= {\n",
    "    \"Alice\": 14,\n",
    "    \"Jeanne\": 10,\n",
    "    \"Paul\": 9,\n",
    "}\n",
    "print(notes)"
   ]
  },
  {
   "cell_type": "code",
   "execution_count": null,
   "id": "ba2a30bd-79dc-41ea-b762-85477cb0a209",
   "metadata": {},
   "outputs": [],
   "source": [
    "from typing import Any\n",
    "config = dict[str, Any]()"
   ]
  },
  {
   "cell_type": "markdown",
   "id": "a61c06a8-9359-480b-aabd-823d31dd60fc",
   "metadata": {},
   "source": [
    "### Fonctions"
   ]
  },
  {
   "cell_type": "code",
   "execution_count": null,
   "id": "38e1ecc9-841b-4e57-9ae9-f0e1185fc1ac",
   "metadata": {},
   "outputs": [],
   "source": [
    "def calcul(entier: int, flottant: float) -> str:\n",
    "    return f\"le resultat est {entier * flottant}.\""
   ]
  },
  {
   "cell_type": "code",
   "execution_count": null,
   "id": "019c576e-fb8f-48d5-abc7-d0e2873a30d5",
   "metadata": {},
   "outputs": [],
   "source": [
    "calcul(5, 2 ** (1/2))"
   ]
  },
  {
   "cell_type": "code",
   "execution_count": null,
   "id": "2d62e209-1b18-47cd-89ff-f6ddddfa5854",
   "metadata": {},
   "outputs": [],
   "source": [
    "from typing import Sequence, Callable\n",
    "\n",
    "def afficher_max(nombres: Sequence[int], methode_affichage: Callable) -> None:\n",
    "    methode_affichage(max(nombres))\n",
    "\n",
    "afficher_max([1, 2, 3], print)"
   ]
  },
  {
   "cell_type": "code",
   "execution_count": null,
   "id": "d09124ca-b595-4b11-a8b6-38ea71594642",
   "metadata": {},
   "outputs": [],
   "source": [
    "def afficher(nombre: int):\n",
    "    print(f\"le nombre est {nombre}\")\n",
    "\n",
    "afficher_max([1, 4, 2, 6, 3, 5], afficher)"
   ]
  },
  {
   "cell_type": "code",
   "execution_count": null,
   "id": "4e706130-6962-4e13-9b9a-8effe196cb66",
   "metadata": {},
   "outputs": [],
   "source": [
    "from typing import Iterable\n",
    "\n",
    "def afficher_tout(nombres: Iterable, methode_affichage: Callable) -> None:\n",
    "    for nombre in nombres:\n",
    "        methode_affichage(nombre)\n",
    "\n",
    "afficher_tout([1, 2, 3], print)"
   ]
  },
  {
   "cell_type": "code",
   "execution_count": null,
   "id": "1a246e1b-8b83-4259-bd68-94f29cb0d270",
   "metadata": {},
   "outputs": [],
   "source": [
    "from typing import Mapping\n",
    "\n",
    "def afficher_tout(data: Mapping, methode_affichage: Callable) -> None:\n",
    "    for k, v in data.items():\n",
    "        methode_affichage(f\"{k}: {v}\")\n",
    "\n",
    "afficher_tout({1: \"un\", 2: \"deux\", 3: \"trois\"}, print)"
   ]
  },
  {
   "cell_type": "markdown",
   "id": "c91ab3f5-90f9-449f-a1e6-f745d0746bdc",
   "metadata": {},
   "source": [
    "### Classes"
   ]
  },
  {
   "cell_type": "code",
   "execution_count": null,
   "id": "1fe4e693-bf68-43c8-8b63-2ff89781ca80",
   "metadata": {},
   "outputs": [],
   "source": [
    "from math import pi\n",
    "from typing import Self\n",
    "\n",
    "class Cercle:\n",
    "\n",
    "    def __init__(self, rayon: float):  # self est implicitement de type Cercle\n",
    "        self.rayon = rayon  # self.rayon est implicitement du même type que rayon\n",
    "        # Le retour de __init__ est connu, il est None, c'est la doc qui le dit.\n",
    "\n",
    "    @property\n",
    "    def perimetre(self) -> float:  # On précise ici le type du retour de la méthode\n",
    "        return 2 * pi * self.rayon\n",
    "\n",
    "    @property\n",
    "    def aire(self) -> float:\n",
    "        return pi * self.rayon ** 2\n",
    "\n",
    "    def __eq__(self, other: Self):\n",
    "        return self.rayon == other.rayon\n",
    "\n",
    "    def __hash__(self):\n",
    "        return hash(self.rayon)\n",
    "\n",
    "    def __repr__(self):\n",
    "        return f\"<Cercle rayon={self.rayon}>\"\n",
    "\n",
    "cercle_1 = Cercle(1)  # cercle est ici implicitement du type Cercle\n",
    "print(cercle_1.aire)"
   ]
  },
  {
   "cell_type": "code",
   "execution_count": null,
   "id": "14245667-7cca-44a5-81a0-3cb355c90ae3",
   "metadata": {},
   "outputs": [],
   "source": [
    "cercle_2 = Cercle(2)\n",
    "cercle_1 == cercle_2"
   ]
  },
  {
   "cell_type": "code",
   "execution_count": null,
   "id": "0e5038b2-cd2a-4c22-8475-d6a2c1a93570",
   "metadata": {},
   "outputs": [],
   "source": [
    "Cercles = set[Cercle]"
   ]
  },
  {
   "cell_type": "code",
   "execution_count": null,
   "id": "e221ab73-cb8e-424b-b0dc-273b20c0e013",
   "metadata": {},
   "outputs": [],
   "source": [
    "cercles = Cercles()\n",
    "cercles.add(cercle_1)\n",
    "cercles.add(cercle_2)\n",
    "print(cercles)\n",
    "cercles.add(cercle_1)\n",
    "print(cercles)"
   ]
  },
  {
   "cell_type": "code",
   "execution_count": null,
   "id": "d0d13860-7f48-439c-ae6e-b6a4752137fa",
   "metadata": {},
   "outputs": [],
   "source": [
    "from typing import ClassVar\n",
    "\n",
    "class Couleur:\n",
    "    modes: ClassVar[list[str]] = []\n",
    "    value = 0\n",
    "\n",
    "couleur = Couleur()"
   ]
  },
  {
   "cell_type": "code",
   "execution_count": null,
   "id": "1a9fd93f-c951-4e78-9425-287618b20b13",
   "metadata": {},
   "outputs": [],
   "source": [
    "couleur.modes = [\"RGB\"]  # Ceci n'est pas autorisé"
   ]
  },
  {
   "cell_type": "code",
   "execution_count": null,
   "id": "003b8b64-42d1-426e-b009-060fb1f12f1a",
   "metadata": {},
   "outputs": [],
   "source": [
    "Couleur.modes = [\"RGB\"]  # Ceci est autorisé"
   ]
  },
  {
   "cell_type": "code",
   "execution_count": null,
   "id": "39200fd1-b62d-4c9f-9a2a-be50b92cdc55",
   "metadata": {},
   "outputs": [],
   "source": [
    "from typing import get_type_hints\n",
    "\n",
    "get_type_hints(Couleur)"
   ]
  },
  {
   "cell_type": "code",
   "execution_count": null,
   "id": "d84ea605-8650-47ad-b93a-0cb9d9e290c0",
   "metadata": {},
   "outputs": [],
   "source": [
    "get_type_hints(Cercle)"
   ]
  },
  {
   "cell_type": "code",
   "execution_count": null,
   "id": "bcbc2cd4-e669-4985-b952-3e80250a319e",
   "metadata": {},
   "outputs": [],
   "source": [
    "get_type_hints(afficher_tout)"
   ]
  },
  {
   "cell_type": "code",
   "execution_count": null,
   "id": "d20842ff-2393-4586-948b-e6ae51fc8ba3",
   "metadata": {},
   "outputs": [],
   "source": [
    "get_type_hints(calcul)"
   ]
  },
  {
   "cell_type": "markdown",
   "id": "d35b222e-9885-4f89-8359-36ce172b2c79",
   "metadata": {},
   "source": [
    "---"
   ]
  }
 ],
 "metadata": {
  "kernelspec": {
   "display_name": "Python 3 (ipykernel)",
   "language": "python",
   "name": "python3"
  },
  "language_info": {
   "codemirror_mode": {
    "name": "ipython",
    "version": 3
   },
   "file_extension": ".py",
   "mimetype": "text/x-python",
   "name": "python",
   "nbconvert_exporter": "python",
   "pygments_lexer": "ipython3",
   "version": "3.11.8"
  }
 },
 "nbformat": 4,
 "nbformat_minor": 5
}
