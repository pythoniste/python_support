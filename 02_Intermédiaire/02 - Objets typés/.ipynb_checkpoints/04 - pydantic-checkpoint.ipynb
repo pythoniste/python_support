{
 "cells": [
  {
   "cell_type": "markdown",
   "id": "aebbe458-d9bd-4acc-9b3d-38528a44f6a0",
   "metadata": {},
   "source": [
    "Pydantic\n",
    "==\n",
    "\n",
    "La sémantique du module `pydantic` est similaire à celle du module `dataclasses`, ajoutant la **validation des données** et le **forçage des types**.\n",
    "\n",
    "**L'intérêt principal de `pydantic` est qu'il permet de valider efficacement les données.**\n",
    "\n",
    "Ce module s'installe ainsi:"
   ]
  },
  {
   "cell_type": "code",
   "execution_count": null,
   "id": "9303e996-ddad-4c31-b305-1c4c71e7a272",
   "metadata": {},
   "outputs": [],
   "source": [
    "# You should execute this line to install pydantic\n",
    "import subprocess\n",
    "print(subprocess.getstatusoutput(\"pip install pydantic\"))"
   ]
  },
  {
   "cell_type": "code",
   "execution_count": null,
   "id": "b9a74676-af41-4c9f-92c8-1dd7ffce2b7c",
   "metadata": {},
   "outputs": [],
   "source": [
    "from pydantic import BaseModel"
   ]
  },
  {
   "cell_type": "code",
   "execution_count": null,
   "id": "d2e8a5c3-4016-4477-a7f0-37fb6eb6b756",
   "metadata": {},
   "outputs": [],
   "source": [
    "class Livre(BaseModel):\n",
    "    auteur: str\n",
    "    titre: str\n",
    "    nb_pages: int | None = None"
   ]
  },
  {
   "cell_type": "code",
   "execution_count": null,
   "id": "0dd815a5-6619-40da-b7ff-82cbf8204831",
   "metadata": {},
   "outputs": [],
   "source": [
    "livre = Livre(\n",
    "    auteur = \"Sébastien CHAZALLET\",\n",
    "    titre = \"Python3, les fondamentaux du langage\",\n",
    "    nb_pages = 702,\n",
    ")"
   ]
  },
  {
   "cell_type": "code",
   "execution_count": null,
   "id": "4142b0cb-c2a1-4f68-be2e-131d16d72cfe",
   "metadata": {},
   "outputs": [],
   "source": [
    "livre"
   ]
  },
  {
   "cell_type": "code",
   "execution_count": null,
   "id": "b0ee8d62-76c7-4924-97bc-63f0266809cb",
   "metadata": {},
   "outputs": [],
   "source": [
    "print(livre)"
   ]
  },
  {
   "cell_type": "code",
   "execution_count": null,
   "id": "831bdf95-4a96-473e-a9e0-7f5976b7b44b",
   "metadata": {},
   "outputs": [],
   "source": [
    "livre.model_dump()"
   ]
  },
  {
   "cell_type": "code",
   "execution_count": null,
   "id": "5ce991c3-3a63-4824-889e-9a37b1767167",
   "metadata": {},
   "outputs": [],
   "source": [
    "from pprint import pprint\n",
    "pprint(Livre.model_json_schema())"
   ]
  },
  {
   "cell_type": "code",
   "execution_count": null,
   "id": "48fc489d-a776-451d-8a95-abdbde9dac09",
   "metadata": {},
   "outputs": [],
   "source": [
    "Livre(\n",
    "    \"Sébastien CHAZALLET\",\n",
    "    \"Python3, les fondamentaux du langage\",\n",
    "    702,\n",
    ")"
   ]
  },
  {
   "cell_type": "code",
   "execution_count": null,
   "id": "a75eda2b-c0e8-426f-b0aa-f9f7d251dbad",
   "metadata": {},
   "outputs": [],
   "source": [
    "Livre(\n",
    "    auteur=\"Sébastien CHAZALLET\",\n",
    "    titre=\"Python3, les fondamentaux du langage\",\n",
    ")"
   ]
  },
  {
   "cell_type": "code",
   "execution_count": null,
   "id": "bb1815f7-32bf-4d82-8cd8-670493e0521f",
   "metadata": {},
   "outputs": [],
   "source": [
    "livre.editeur = \"ENI\""
   ]
  },
  {
   "cell_type": "code",
   "execution_count": null,
   "id": "cae4a1c2-d5bd-4cb6-9010-5336b4a3e731",
   "metadata": {},
   "outputs": [],
   "source": [
    "Livre(\n",
    "    auteur=42,\n",
    "    titre=\"Python3, les fondamentaux du langage\",\n",
    "    nb_pages=702,\n",
    "    editeur=\"ENI\",\n",
    ")"
   ]
  },
  {
   "cell_type": "code",
   "execution_count": null,
   "id": "1b28a95d-d9eb-4d81-8d39-68d846d2d8fd",
   "metadata": {},
   "outputs": [],
   "source": [
    "livre = Livre(\n",
    "    auteur = \"Sébastien CHAZALLET\",\n",
    "    nb_pages = 702,\n",
    ")"
   ]
  },
  {
   "cell_type": "code",
   "execution_count": null,
   "id": "2b723bb3-45ca-471a-bac8-300bec3b8bf4",
   "metadata": {},
   "outputs": [],
   "source": [
    "Livre(\n",
    "    auteur = 42,\n",
    "    titre = \"Python3, les fondamentaux du langage\",\n",
    "    nb_pages = 702,\n",
    ")"
   ]
  },
  {
   "cell_type": "code",
   "execution_count": null,
   "id": "060399c3-06e6-4ac6-a711-0ce45de0f642",
   "metadata": {},
   "outputs": [],
   "source": [
    "livre = Livre(\n",
    "    auteur=\"Sébastien CHAZALLET\",\n",
    "    titre=\"Python3, les fondamentaux du langage\",\n",
    "    nb_pages=702,\n",
    ")\n",
    "livre.auteur = \"Autre auteur\""
   ]
  },
  {
   "cell_type": "markdown",
   "id": "652384e1-857a-446f-9cfa-6c3a29e7d06b",
   "metadata": {},
   "source": [
    "Coercition des données\n",
    "--"
   ]
  },
  {
   "cell_type": "code",
   "execution_count": null,
   "id": "30105824-75bb-4bf9-9be5-27988dc1c52c",
   "metadata": {},
   "outputs": [],
   "source": [
    "Livre.model_validate({\n",
    "    \"auteur\": \"Sébastien CHAZALLET\",\n",
    "    \"titre\": \"Python3, les fondamentaux du langage\",\n",
    "    \"nb_pages\": 702,\n",
    "})"
   ]
  },
  {
   "cell_type": "code",
   "execution_count": null,
   "id": "0cde4328-0a30-4a61-9f81-7608a8001e98",
   "metadata": {},
   "outputs": [],
   "source": [
    "Livre.model_validate(\n",
    "    {\n",
    "        \"auteur\": \"Sébastien CHAZALLET\",\n",
    "        \"titre\": \"Python3, les fondamentaux du langage\",\n",
    "        \"nb_pages\": 702.0,\n",
    "    }\n",
    ")"
   ]
  },
  {
   "cell_type": "code",
   "execution_count": null,
   "id": "e5be6903-d18c-476e-86fd-e70f2bef15a4",
   "metadata": {},
   "outputs": [],
   "source": [
    "livre = Livre(\n",
    "    auteur=\"Sébastien CHAZALLET\",\n",
    "    titre=\"Python3, les fondamentaux du langage\",\n",
    "    nb_pages=702.0,\n",
    ")\n",
    "print(livre)"
   ]
  },
  {
   "cell_type": "code",
   "execution_count": null,
   "id": "e2ffb366-d136-431a-98c3-78f04bfc5be8",
   "metadata": {},
   "outputs": [],
   "source": [
    "Livre.model_validate(\n",
    "    {\n",
    "        \"auteur\": \"Sébastien CHAZALLET\",\n",
    "        \"titre\": \"Python3, les fondamentaux du langage\",\n",
    "        \"nb_pages\": 702.0,\n",
    "    },\n",
    "    strict=True,\n",
    ")"
   ]
  },
  {
   "cell_type": "code",
   "execution_count": null,
   "id": "f0945a6e-a611-4034-8bce-74109ca39235",
   "metadata": {},
   "outputs": [],
   "source": [
    "Livre.model_validate_json(\n",
    "    '{\"auteur\": \"Sébastien CHAZALLET\", \"titre\": \"Python3, les fondamentaux du langage\", \"nb_pages\": 702.0}',\n",
    "    strict=True,\n",
    ")"
   ]
  },
  {
   "cell_type": "code",
   "execution_count": null,
   "id": "a5ef3fe8-2e3b-4f9e-b819-337fd710e037",
   "metadata": {},
   "outputs": [],
   "source": [
    "Livre.model_validate_json(\n",
    "    '{\"auteur\": \"Sébastien CHAZALLET\", \"titre\": \"Python3, les fondamentaux du langage\", \"nb_pages\": 702.0}',\n",
    ")"
   ]
  },
  {
   "cell_type": "code",
   "execution_count": null,
   "id": "c1f11710-3e02-4575-a5df-6cd8513d0026",
   "metadata": {},
   "outputs": [],
   "source": [
    "from datetime import date, datetime\n",
    "from pydantic import Field\n",
    "\n",
    "class Livre(BaseModel):\n",
    "    auteur: str\n",
    "    titre: str\n",
    "    nb_pages: int | None = None\n",
    "    date_parution: date  # Déclaré après une valeur optionnelle"
   ]
  },
  {
   "cell_type": "code",
   "execution_count": null,
   "id": "b0eba4da-1fb9-4bfe-8551-f4da763f462f",
   "metadata": {},
   "outputs": [],
   "source": [
    "Livre.model_validate(\n",
    "    {\n",
    "        \"auteur\": \"Sébastien CHAZALLET\",\n",
    "        \"titre\": \"Python3, les fondamentaux du langage\",\n",
    "        \"date_parution\": date(2023, 6, 1),\n",
    "    }\n",
    ")"
   ]
  },
  {
   "cell_type": "code",
   "execution_count": null,
   "id": "444d19bd-947f-4442-9f5d-1535d80252ea",
   "metadata": {},
   "outputs": [],
   "source": [
    "Livre.model_validate(\n",
    "    {\n",
    "        \"auteur\": \"Sébastien CHAZALLET\",\n",
    "        \"titre\": \"Python3, les fondamentaux du langage\",\n",
    "        \"date_parution\": \"2023-06-01\",\n",
    "    }\n",
    ")"
   ]
  },
  {
   "cell_type": "code",
   "execution_count": null,
   "id": "d308e13b-9899-4dac-b923-c71b606b0837",
   "metadata": {},
   "outputs": [],
   "source": [
    "Livre.model_validate_json(\n",
    "    '{\"auteur\": \"Sébastien CHAZALLET\", \"titre\": \"Python3, les fondamentaux du langage\", \"date_parution\": \"2023-06-01\"}'\n",
    ")"
   ]
  },
  {
   "cell_type": "code",
   "execution_count": null,
   "id": "e243f713-1da7-43eb-999d-8cd7cc6ee085",
   "metadata": {},
   "outputs": [],
   "source": [
    "class QuizzItem(BaseModel):\n",
    "    question: str\n",
    "    reponses: list[str] = Field(default_factory=list[str])"
   ]
  },
  {
   "cell_type": "code",
   "execution_count": null,
   "id": "34cdc612-b3ba-4a5b-8839-8656919e5744",
   "metadata": {},
   "outputs": [],
   "source": [
    "item_1 = QuizzItem(\n",
    "    question = \"Ceci est une question\",\n",
    ")"
   ]
  },
  {
   "cell_type": "code",
   "execution_count": null,
   "id": "9cd8276e-8473-45c5-aeef-74ae94212b23",
   "metadata": {},
   "outputs": [],
   "source": [
    "item_2 = QuizzItem(\n",
    "    question = \"Ceci est une autre question\",\n",
    ")"
   ]
  },
  {
   "cell_type": "code",
   "execution_count": null,
   "id": "56d20577-29db-4fd6-8bad-a104ff8b61af",
   "metadata": {},
   "outputs": [],
   "source": [
    "item_3 = QuizzItem(\n",
    "    question = \"Ceci est LA question\",\n",
    "    reponses = [\n",
    "        \"la réponse est évidente\",\n",
    "        \"la réponse est cachée quelque part\",\n",
    "        \"la réponse est ailleurs\",\n",
    "        \"la réponse D\",\n",
    "    ]\n",
    ")"
   ]
  },
  {
   "cell_type": "code",
   "execution_count": null,
   "id": "597cef2a-74c6-4bb7-a3f2-1eb064c46f4c",
   "metadata": {},
   "outputs": [],
   "source": [
    "class Quizz(BaseModel):\n",
    "    items: list[QuizzItem]\n",
    "    created: datetime = Field(default_factory=datetime.now)"
   ]
  },
  {
   "cell_type": "code",
   "execution_count": null,
   "id": "e98bddb2-9e11-403b-a5b4-260378c2b4ee",
   "metadata": {},
   "outputs": [],
   "source": [
    "quizz = Quizz(\n",
    "    items = [item_1, item_2, item_3]\n",
    ")"
   ]
  },
  {
   "cell_type": "code",
   "execution_count": null,
   "id": "aeeddba5-d956-4eff-981b-37a7395780d4",
   "metadata": {},
   "outputs": [],
   "source": [
    "pprint(quizz)"
   ]
  },
  {
   "cell_type": "code",
   "execution_count": null,
   "id": "a6f1adf5-316c-404d-9127-461ecebb2d89",
   "metadata": {},
   "outputs": [],
   "source": [
    "pprint(quizz.model_dump())"
   ]
  },
  {
   "cell_type": "code",
   "execution_count": null,
   "id": "0b193c36-93ff-4656-8d73-1a1faba9fcfc",
   "metadata": {},
   "outputs": [],
   "source": [
    "pprint(Quizz.model_json_schema())"
   ]
  },
  {
   "cell_type": "markdown",
   "id": "03009ada-ed0e-490e-b661-a4970b8431bf",
   "metadata": {},
   "source": [
    "Lien avec dataclass\n",
    "--\n",
    "\n",
    "### Convertion d'une dataclass"
   ]
  },
  {
   "cell_type": "code",
   "execution_count": null,
   "id": "e87f7449-d735-49c0-a5a4-abe53631f628",
   "metadata": {},
   "outputs": [],
   "source": [
    "from dataclasses import dataclass, asdict\n",
    "\n",
    "@dataclass(slots=True)\n",
    "class DtLivre:\n",
    "    auteur: str\n",
    "    titre: str\n",
    "    date_parution: date\n",
    "    nb_pages: int | None = None\n",
    "    \n",
    "\n",
    "Livre.model_validate(\n",
    "    asdict(\n",
    "        DtLivre(\n",
    "            auteur=\"Sébastien CHAZALLET\",\n",
    "            titre=\"Python3, les fondamentaux du langage\",\n",
    "            date_parution=date(2023, 6, 1),\n",
    "            nb_pages=702.0,\n",
    "        )\n",
    "    )\n",
    ")"
   ]
  },
  {
   "cell_type": "markdown",
   "id": "8ac8df40-203a-418d-b1cd-df614f3883dd",
   "metadata": {},
   "source": [
    "### Utilisation de dataclass du module pydantic"
   ]
  },
  {
   "cell_type": "code",
   "execution_count": null,
   "id": "137b4ca8-3144-4b0b-84d7-3292f42efbe0",
   "metadata": {},
   "outputs": [],
   "source": [
    "from pydantic.dataclasses import dataclass"
   ]
  },
  {
   "cell_type": "code",
   "execution_count": null,
   "id": "083dee00-27f8-4333-9c4e-e44ab535cc80",
   "metadata": {},
   "outputs": [],
   "source": [
    "@dataclass\n",
    "class PyDtLivre:\n",
    "    auteur: str\n",
    "    titre: str\n",
    "    date_parution: date\n",
    "    nb_pages: int | None = None"
   ]
  },
  {
   "cell_type": "code",
   "execution_count": null,
   "id": "5990a754-1f8f-4587-b250-9bcd83088c42",
   "metadata": {},
   "outputs": [],
   "source": [
    "PyDtLivre(\n",
    "    auteur=\"Sébastien CHAZALLET\",\n",
    "    titre=\"Python3, les fondamentaux du langage\",\n",
    "    date_parution=\"2023-06-01\",\n",
    "    nb_pages=702.0,\n",
    ")"
   ]
  },
  {
   "cell_type": "code",
   "execution_count": null,
   "id": "e302978b-0fd3-422d-81f2-df10063c0af0",
   "metadata": {},
   "outputs": [],
   "source": [
    "PyDtLivre.model_validate(\n",
    "    {\n",
    "        \"auteur\": \"Sébastien CHAZALLET\",\n",
    "        \"titre\": \"Python3, les fondamentaux du langage\",\n",
    "        \"date_parution\": \"2023-06-01\",\n",
    "        \"nb_pages\": 702.0,\n",
    "    }\n",
    ")"
   ]
  },
  {
   "cell_type": "code",
   "execution_count": null,
   "id": "7383e8fc-6adf-48d1-abb5-f5daecf08dcf",
   "metadata": {},
   "outputs": [],
   "source": [
    "PyDtLivre(\n",
    "    \"Sébastien CHAZALLET\",\n",
    "    \"Python3, les fondamentaux du langage\",\n",
    "    \"2023-06-01\",\n",
    "    702,\n",
    ")"
   ]
  },
  {
   "cell_type": "code",
   "execution_count": null,
   "id": "f076ac76-f0b7-4f54-b645-7e39fef27f89",
   "metadata": {},
   "outputs": [],
   "source": [
    "livre = PyDtLivre(\n",
    "    auteur=\"Sébastien CHAZALLET\",\n",
    "    titre=\"Python3, les fondamentaux du langage\",\n",
    "    date_parution=\"2023-06-01\",\n",
    "    nb_pages=702.0,\n",
    "    editeur=\"ENI\",\n",
    ")"
   ]
  },
  {
   "cell_type": "code",
   "execution_count": null,
   "id": "2de0fdc3-2b60-4c38-a102-f85238d2a929",
   "metadata": {},
   "outputs": [],
   "source": [
    "livre"
   ]
  },
  {
   "cell_type": "code",
   "execution_count": null,
   "id": "699be0b6-b1ee-41fe-a2da-ec031b984f7b",
   "metadata": {},
   "outputs": [],
   "source": [
    "livre.editeur"
   ]
  },
  {
   "cell_type": "code",
   "execution_count": null,
   "id": "811e2fa6-5207-4c89-85b8-dd3b33b6f6f3",
   "metadata": {},
   "outputs": [],
   "source": [
    "dir(livre)"
   ]
  },
  {
   "cell_type": "code",
   "execution_count": null,
   "id": "ba092239-b18f-40e1-97f2-d27c0ca85d7f",
   "metadata": {},
   "outputs": [],
   "source": [
    "pprint(livre.__dict__)"
   ]
  },
  {
   "cell_type": "markdown",
   "id": "e35c948f-b8bc-46ce-b430-e5a36f123182",
   "metadata": {},
   "source": [
    "---"
   ]
  }
 ],
 "metadata": {
  "kernelspec": {
   "display_name": "Python 3 (ipykernel)",
   "language": "python",
   "name": "python3"
  },
  "language_info": {
   "codemirror_mode": {
    "name": "ipython",
    "version": 3
   },
   "file_extension": ".py",
   "mimetype": "text/x-python",
   "name": "python",
   "nbconvert_exporter": "python",
   "pygments_lexer": "ipython3",
   "version": "3.11.8"
  }
 },
 "nbformat": 4,
 "nbformat_minor": 5
}
