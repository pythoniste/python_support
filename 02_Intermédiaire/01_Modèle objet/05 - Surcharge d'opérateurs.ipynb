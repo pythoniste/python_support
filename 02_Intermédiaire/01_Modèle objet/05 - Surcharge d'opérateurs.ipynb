{
 "cells": [
  {
   "cell_type": "markdown",
   "metadata": {},
   "source": [
    "Surcharge d'opérateur\n",
    "=======\n",
    "\n",
    "Introduction\n",
    "------------\n",
    "\n",
    "Sous la forme d'un exercice, nous allons découvrir comment rajouter le support des opérateurs pour nos propres classes."
   ]
  },
  {
   "cell_type": "markdown",
   "metadata": {},
   "source": [
    "1. Créer une classe Point, représentant une point dans l'espace et son constructeur **__ init __**\n",
    "1. Rajouter une méthode **distance** permettant de calculer la distance entre deux points (elle prend un autre point en paramètres)\n",
    "1. Rajouter une valeur par défaut pour l'argument, qui soit le point d'origine.\n",
    "1. Rajouter les opérateur +, -\n",
    "1. Rajouter l'opérateurs * (avec un entier)\n",
    "1. Créer une classe fille pour représenter un point dans un plan.\n",
    "\n",
    "    ((self.x - other.x) ** 2 + (self.y - other.y) ** 2 + (self.z - other.z) ** 2) ** .5\n"
   ]
  },
  {
   "cell_type": "markdown",
   "metadata": {},
   "source": [
    "Créer une classe Point, représentant une point dans l'espace et son constructeur\n",
    "--"
   ]
  },
  {
   "cell_type": "code",
   "execution_count": null,
   "metadata": {},
   "outputs": [],
   "source": [
    "class Point:\n",
    "    def __init__(self, x, y, z):\n",
    "        self.x = x\n",
    "        self.y = y\n",
    "        self.z = z"
   ]
  },
  {
   "cell_type": "code",
   "execution_count": null,
   "metadata": {},
   "outputs": [],
   "source": [
    "p1 = Point(1, 2, 3)"
   ]
  },
  {
   "cell_type": "code",
   "execution_count": null,
   "metadata": {},
   "outputs": [],
   "source": [
    "p1.x, p1.y, p1.z"
   ]
  },
  {
   "cell_type": "markdown",
   "metadata": {},
   "source": [
    "Rajouter une méthode pour calculer la distance par rapport à un autre point\n",
    "--"
   ]
  },
  {
   "cell_type": "code",
   "execution_count": null,
   "metadata": {},
   "outputs": [],
   "source": [
    "class Point:\n",
    "    def __init__(self, x, y, z):\n",
    "        self.x = x\n",
    "        self.y = y\n",
    "        self.z = z\n",
    "    def distance(self, other):\n",
    "        return ((self.x - other.x) ** 2 + (self.y - other.y) ** 2 + (self.z - other.z) ** 2) ** .5"
   ]
  },
  {
   "cell_type": "code",
   "execution_count": null,
   "metadata": {},
   "outputs": [],
   "source": [
    "p1 = Point(1, 2, 3)\n",
    "p2 = Point(4, 2, 3)"
   ]
  },
  {
   "cell_type": "code",
   "execution_count": null,
   "metadata": {},
   "outputs": [],
   "source": [
    "p1.distance(p2)"
   ]
  },
  {
   "cell_type": "code",
   "execution_count": null,
   "metadata": {},
   "outputs": [],
   "source": [
    "Point.distance"
   ]
  },
  {
   "cell_type": "code",
   "execution_count": null,
   "metadata": {},
   "outputs": [],
   "source": [
    "Point.distance(p2, p1)"
   ]
  },
  {
   "cell_type": "code",
   "execution_count": null,
   "metadata": {},
   "outputs": [],
   "source": [
    "def distance(point1, point2):\n",
    "    return ((point1.x - point2.x) ** 2 + (point1.y - point2.y) ** 2 + (point1.z - point2.z) ** 2) ** .5"
   ]
  },
  {
   "cell_type": "code",
   "execution_count": null,
   "metadata": {},
   "outputs": [],
   "source": [
    "distance(p2, p1)"
   ]
  },
  {
   "cell_type": "markdown",
   "metadata": {},
   "source": [
    "Faire en sorte que cette méthode appelée sans argument renvoie la distance par rapport à l'origine\n",
    "--"
   ]
  },
  {
   "cell_type": "code",
   "execution_count": null,
   "metadata": {},
   "outputs": [],
   "source": [
    "class Point:\n",
    "    def __init__(self, x, y, z):\n",
    "        self.x = x\n",
    "        self.y = y\n",
    "        self.z = z\n",
    "    def distance(self, other=None):\n",
    "        if other is None:\n",
    "            other = Point(0, 0, 0)\n",
    "        return ((self.x - other.x) ** 2 + (self.y - other.y) ** 2 + (self.z - other.z) ** 2) ** .5"
   ]
  },
  {
   "cell_type": "code",
   "execution_count": null,
   "metadata": {},
   "outputs": [],
   "source": [
    "p1 = Point(1, 2, 3)\n",
    "p2 = Point(4, 2, 3)"
   ]
  },
  {
   "cell_type": "code",
   "execution_count": null,
   "metadata": {},
   "outputs": [],
   "source": [
    "p1.distance(p2)"
   ]
  },
  {
   "cell_type": "code",
   "execution_count": null,
   "metadata": {},
   "outputs": [],
   "source": [
    "p1.distance()"
   ]
  },
  {
   "cell_type": "markdown",
   "metadata": {},
   "source": [
    "Faire en sorte que l'on puisse afficher proprement le point\n",
    "--"
   ]
  },
  {
   "cell_type": "code",
   "execution_count": null,
   "metadata": {},
   "outputs": [],
   "source": [
    "p1"
   ]
  },
  {
   "cell_type": "code",
   "execution_count": null,
   "metadata": {},
   "outputs": [],
   "source": [
    "print(p1)"
   ]
  },
  {
   "cell_type": "code",
   "execution_count": null,
   "metadata": {},
   "outputs": [],
   "source": [
    "class Point:\n",
    "    def __init__(self, x, y, z):\n",
    "        self.x = x\n",
    "        self.y = y\n",
    "        self.z = z\n",
    "    def __str__(self):\n",
    "        return f\"({self.x}, {self.y}, {self.z})\"\n",
    "    def __repr__(self):\n",
    "        return f\"<Point {self.x} {self.y} {self.z}>\"\n",
    "    def distance(self, other=None):\n",
    "        if other is None:\n",
    "            other = Point(0, 0, 0)\n",
    "        return ((self.x - other.x) ** 2 + (self.y - other.y) ** 2 + (self.z - other.z) ** 2) ** .5"
   ]
  },
  {
   "cell_type": "code",
   "execution_count": null,
   "metadata": {},
   "outputs": [],
   "source": [
    "p1 = Point(1, 2, 3)\n",
    "p2 = Point(4, 2, 3)"
   ]
  },
  {
   "cell_type": "code",
   "execution_count": null,
   "metadata": {},
   "outputs": [],
   "source": [
    "p1"
   ]
  },
  {
   "cell_type": "code",
   "execution_count": null,
   "metadata": {},
   "outputs": [],
   "source": [
    "print(p1)"
   ]
  },
  {
   "cell_type": "markdown",
   "metadata": {},
   "source": [
    "Rajouter le support de l'opérateur +\n",
    "--\n",
    "\n",
    "Comme on peut le constater, cet opérateur n'existe pas par défaut :"
   ]
  },
  {
   "cell_type": "code",
   "execution_count": null,
   "metadata": {},
   "outputs": [],
   "source": [
    "p1 + p2"
   ]
  },
  {
   "cell_type": "code",
   "execution_count": null,
   "metadata": {},
   "outputs": [],
   "source": [
    "class Point:\n",
    "    def __init__(self, x, y, z):\n",
    "        self.x = x\n",
    "        self.y = y\n",
    "        self.z = z\n",
    "    def distance(self, other=None):\n",
    "        if other is None:\n",
    "            other = Point(0, 0, 0)\n",
    "        return ((self.x - other.x) ** 2 + (self.y - other.y) ** 2 + (self.z - other.z) ** 2) ** .5\n",
    "    def __add__(self, other):\n",
    "        return Point(self.x + other.x, self.y + other.y, self.z + other.z)\n",
    "    def __str__(self):\n",
    "        return f\"({self.x}, {self.y}, {self.z})\"\n",
    "    def __repr__(self):\n",
    "        return f\"<Point {self.x} {self.y} {self.z}>\""
   ]
  },
  {
   "cell_type": "code",
   "execution_count": null,
   "metadata": {},
   "outputs": [],
   "source": [
    "p1 = Point(1, 2, 3)\n",
    "p2 = Point(4, 2, 3)\n",
    "p1 + p2"
   ]
  },
  {
   "cell_type": "markdown",
   "metadata": {},
   "source": [
    "Rajout de l'opérateur - unaire et de l'opérateur - binaire\n",
    "--"
   ]
  },
  {
   "cell_type": "code",
   "execution_count": null,
   "metadata": {},
   "outputs": [],
   "source": [
    "class Point:\n",
    "    def __init__(self, x, y, z):\n",
    "        self.x = x\n",
    "        self.y = y\n",
    "        self.z = z\n",
    "    def distance(self, other=None):\n",
    "        if other is None:\n",
    "            other = Point(0, 0, 0)\n",
    "        return ((self.x - other.x) ** 2 + (self.y - other.y) ** 2 + (self.z - other.z) ** 2) ** .5\n",
    "    def __add__(self, other):\n",
    "        return Point(self.x + other.x, self.y + other.y, self.z + other.z)\n",
    "    def __sub__(self, other):\n",
    "        return Point(self.x - other.x, self.y - other.y, self.z - other.z)\n",
    "    def __neg__(self):\n",
    "        return Point(-self.x, -self.y, -self.z)\n",
    "    def __str__(self):\n",
    "        return f\"({self.x}, {self.y}, {self.z})\"\n",
    "    def __repr__(self):\n",
    "        return f\"<Point {self.x} {self.y} {self.z}>\""
   ]
  },
  {
   "cell_type": "code",
   "execution_count": null,
   "metadata": {},
   "outputs": [],
   "source": [
    "p1 = Point(1, 2, 3)\n",
    "p2 = Point(4, 2, 3)"
   ]
  },
  {
   "cell_type": "code",
   "execution_count": null,
   "metadata": {},
   "outputs": [],
   "source": [
    "p1 + p2"
   ]
  },
  {
   "cell_type": "code",
   "execution_count": null,
   "metadata": {},
   "outputs": [],
   "source": [
    "-p1"
   ]
  },
  {
   "cell_type": "code",
   "execution_count": null,
   "metadata": {},
   "outputs": [],
   "source": [
    "p1 - p2"
   ]
  },
  {
   "cell_type": "markdown",
   "metadata": {},
   "source": [
    "Rajout de l'opérateur *\n",
    "--"
   ]
  },
  {
   "cell_type": "code",
   "execution_count": null,
   "metadata": {},
   "outputs": [],
   "source": [
    "class Point:\n",
    "    def __init__(self, x, y, z):\n",
    "        self.x = x\n",
    "        self.y = y\n",
    "        self.z = z\n",
    "    def distance(self, other=None):\n",
    "        if other is None:\n",
    "            other = Point(0, 0, 0)\n",
    "        return ((self.x - other.x) ** 2 + (self.y - other.y) ** 2 + (self.z - other.z) ** 2) ** .5\n",
    "    def __add__(self, other):\n",
    "        return Point(self.x + other.x, self.y + other.y, self.z + other.z)\n",
    "    def __sub__(self, other):\n",
    "        return Point(self.x - other.x, self.y - other.y, self.z - other.z)\n",
    "    def __neg__(self):\n",
    "        return Point(-self.x, -self.y, -self.z)\n",
    "    def __mul__(self, other):\n",
    "        return Point(self.x * other, self.y * other, self.z * other)\n",
    "    def __str__(self):\n",
    "        return f\"({self.x}, {self.y}, {self.z})\"\n",
    "    def __repr__(self):\n",
    "        return f\"<Point {self.x} {self.y} {self.z}>\""
   ]
  },
  {
   "cell_type": "code",
   "execution_count": null,
   "metadata": {},
   "outputs": [],
   "source": [
    "p1 = Point(1, 2, 3)\n",
    "p2 = Point(4, 2, 3)"
   ]
  },
  {
   "cell_type": "code",
   "execution_count": null,
   "metadata": {},
   "outputs": [],
   "source": [
    "p1 * 42"
   ]
  },
  {
   "cell_type": "code",
   "execution_count": null,
   "metadata": {},
   "outputs": [],
   "source": [
    "22 * p1"
   ]
  },
  {
   "cell_type": "markdown",
   "metadata": {},
   "source": [
    "Multiplication par la droite\n",
    "--"
   ]
  },
  {
   "cell_type": "code",
   "execution_count": null,
   "metadata": {},
   "outputs": [],
   "source": [
    "class Point:\n",
    "    def __init__(self, x, y, z):\n",
    "        self.x = x\n",
    "        self.y = y\n",
    "        self.z = z\n",
    "    def distance(self, other=None):\n",
    "        if other is None:\n",
    "            other = Point(0, 0, 0)\n",
    "        return ((self.x - other.x) ** 2 + (self.y - other.y) ** 2 + (self.z - other.z) ** 2) ** .5\n",
    "    def __add__(self, other):\n",
    "        return Point(self.x + other.x, self.y + other.y, self.z + other.z)\n",
    "    def __sub__(self, other):\n",
    "        return Point(self.x - other.x, self.y - other.y, self.z - other.z)\n",
    "    def __neg__(self):\n",
    "        return Point(-self.x, -self.y, -self.z)\n",
    "    def __mul__(self, other):\n",
    "        return Point(self.x * other, self.y * other, self.z * other)\n",
    "    def __rmul__(self, other):\n",
    "        return Point(self.x * other, self.y * other, self.z * other)\n",
    "    def __str__(self):\n",
    "        return f\"({self.x}, {self.y}, {self.z})\"\n",
    "    def __repr__(self):\n",
    "        return f\"<Point {self.x} {self.y} {self.z}>\""
   ]
  },
  {
   "cell_type": "code",
   "execution_count": null,
   "metadata": {},
   "outputs": [],
   "source": [
    "p1 = Point(1, 2, 3)\n",
    "p2 = Point(4, 2, 3)"
   ]
  },
  {
   "cell_type": "code",
   "execution_count": null,
   "metadata": {},
   "outputs": [],
   "source": [
    "22 * p1"
   ]
  },
  {
   "cell_type": "code",
   "execution_count": null,
   "metadata": {},
   "outputs": [],
   "source": [
    "class Point:\n",
    "    def __init__(self, x, y, z):\n",
    "        self.x = x\n",
    "        self.y = y\n",
    "        self.z = z\n",
    "    def distance(self, other=None):\n",
    "        if other is None:\n",
    "            other = Point(0, 0, 0)\n",
    "        return ((self.x - other.x) ** 2 + (self.y - other.y) ** 2 + (self.z - other.z) ** 2) ** .5\n",
    "    def __add__(self, other):\n",
    "        return Point(self.x + other.x, self.y + other.y, self.z + other.z)\n",
    "    def __sub__(self, other):\n",
    "        return Point(self.x - other.x, self.y - other.y, self.z - other.z)\n",
    "    def __neg__(self):\n",
    "        return Point(-self.x, -self.y, -self.z)\n",
    "    def __mul__(self, other):\n",
    "        return Point(self.x * other, self.y * other, self.z * other)\n",
    "    __rmul__ = __mul__\n",
    "    def __str__(self):\n",
    "        return f\"({self.x}, {self.y}, {self.z})\"\n",
    "    def __repr__(self):\n",
    "        return f\"<Point {self.x} {self.y} {self.z}>\""
   ]
  },
  {
   "cell_type": "code",
   "execution_count": null,
   "metadata": {},
   "outputs": [],
   "source": [
    "p1 = Point(1, 2, 3)\n",
    "p2 = Point(4, 2, 3)\n",
    "print(p1 * 9)\n",
    "22 * p1"
   ]
  },
  {
   "cell_type": "code",
   "execution_count": null,
   "metadata": {},
   "outputs": [],
   "source": [
    "a = 1\n",
    "--a\n",
    "print(a)"
   ]
  },
  {
   "cell_type": "code",
   "execution_count": null,
   "metadata": {},
   "outputs": [],
   "source": [
    "---++--+--++--++-+-+-a"
   ]
  },
  {
   "cell_type": "markdown",
   "metadata": {},
   "source": [
    "---\n",
    "\n",
    "Optimisations\n",
    "--"
   ]
  },
  {
   "cell_type": "code",
   "execution_count": null,
   "metadata": {},
   "outputs": [],
   "source": [
    "p1 += p2"
   ]
  },
  {
   "cell_type": "code",
   "execution_count": null,
   "metadata": {},
   "outputs": [],
   "source": [
    "p1"
   ]
  },
  {
   "cell_type": "code",
   "execution_count": null,
   "metadata": {},
   "outputs": [],
   "source": [
    "id(p1)"
   ]
  },
  {
   "cell_type": "code",
   "execution_count": null,
   "metadata": {},
   "outputs": [],
   "source": [
    "p1 += p2"
   ]
  },
  {
   "cell_type": "code",
   "execution_count": null,
   "metadata": {},
   "outputs": [],
   "source": [
    "id(p1)"
   ]
  },
  {
   "cell_type": "code",
   "execution_count": null,
   "metadata": {},
   "outputs": [],
   "source": [
    "class Point:\n",
    "    def __init__(self, x, y, z):\n",
    "        self.x = x\n",
    "        self.y = y\n",
    "        self.z = z\n",
    "    def distance(self, other=None):\n",
    "        if other is None:\n",
    "            other = Point(0, 0, 0)\n",
    "        return ((self.x - other.x) ** 2 + (self.y - other.y) ** 2 + (self.z - other.z) ** 2) ** .5\n",
    "    def __add__(self, other):\n",
    "        return Point(self.x + other.x, self.y + other.y, self.z + other.z)\n",
    "    def __sub__(self, other):\n",
    "        return Point(self.x - other.x, self.y - other.y, self.z - other.z)\n",
    "    def __neg__(self):\n",
    "        return Point(-self.x, -self.y, -self.z)\n",
    "    def __mul__(self, other):\n",
    "        return Point(self.x * other, self.y * other, self.z * other)\n",
    "    __rmul__ = __mul__\n",
    "    def __iadd__(self, other):\n",
    "        self.x += other.x\n",
    "        self.y += other.y\n",
    "        self.z += other.z\n",
    "        return self\n",
    "    def __isub__(self, other):\n",
    "        self.x -= other.x\n",
    "        self.y -= other.y\n",
    "        self.z -= other.z\n",
    "        return self\n",
    "    def __imul__(self, other):\n",
    "        self.x *= other\n",
    "        self.y *= other\n",
    "        self.z *= other\n",
    "        return self\n",
    "    def __str__(self):\n",
    "        return f\"({self.x}, {self.y}, {self.z})\"\n",
    "    def __repr__(self):\n",
    "        return f\"<Point {self.x} {self.y} {self.z}>\""
   ]
  },
  {
   "cell_type": "code",
   "execution_count": null,
   "metadata": {},
   "outputs": [],
   "source": [
    "p1 = Point(1, 2, 3)\n",
    "p2 = Point(4, 2, 3)\n",
    "print(id(p1))"
   ]
  },
  {
   "cell_type": "code",
   "execution_count": null,
   "metadata": {},
   "outputs": [],
   "source": [
    "p1 += p2\n",
    "print(p1, id(p1))"
   ]
  },
  {
   "cell_type": "code",
   "execution_count": null,
   "metadata": {},
   "outputs": [],
   "source": [
    "p1 -= 2 * p2\n",
    "print(p1, id(p1))"
   ]
  },
  {
   "cell_type": "code",
   "execution_count": null,
   "metadata": {},
   "outputs": [],
   "source": [
    "p1 *= 3\n",
    "print(p1, id(p1))"
   ]
  },
  {
   "cell_type": "markdown",
   "metadata": {},
   "source": [
    "Comparaisons\n",
    "--"
   ]
  },
  {
   "cell_type": "code",
   "execution_count": null,
   "metadata": {},
   "outputs": [],
   "source": [
    "p1 = Point(1, 2, 3)\n",
    "p2 = Point(1, 2, 3)\n",
    "p1 == p2"
   ]
  },
  {
   "cell_type": "code",
   "execution_count": null,
   "metadata": {},
   "outputs": [],
   "source": [
    "class Point:\n",
    "    def __init__(self, x, y, z):\n",
    "        self.x = x\n",
    "        self.y = y\n",
    "        self.z = z\n",
    "    def distance(self, other=None):\n",
    "        if other is None:\n",
    "            other = Point(0, 0, 0)\n",
    "        return ((self.x - other.x) ** 2 + (self.y - other.y) ** 2 + (self.z - other.z) ** 2) ** .5\n",
    "    def __add__(self, other):\n",
    "        return Point(self.x + other.x, self.y + other.y, self.z + other.z)\n",
    "    def __sub__(self, other):\n",
    "        return Point(self.x - other.x, self.y - other.y, self.z - other.z)\n",
    "    def __neg__(self):\n",
    "        return Point(-self.x, -self.y, -self.z)\n",
    "    def __mul__(self, other):\n",
    "        return Point(self.x * other, self.y * other, self.z * other)\n",
    "    __rmul__ = __mul__\n",
    "    def __iadd__(self, other):\n",
    "        self.x += other.x\n",
    "        self.y += other.y\n",
    "        self.z += other.z\n",
    "        return self\n",
    "    def __isub__(self, other):\n",
    "        self.x -= other.x\n",
    "        self.y -= other.y\n",
    "        self.z -= other.z\n",
    "        return self\n",
    "    def __imul__(self, other):\n",
    "        self.x *= other\n",
    "        self.y *= other\n",
    "        self.z *= other\n",
    "        return self\n",
    "    def __eq__(self, other):\n",
    "        return (self.x, self.y, self.z) == (other.x, other.y, other.z)\n",
    "    def __str__(self):\n",
    "        return f\"({self.x}, {self.y}, {self.z})\"\n",
    "    def __repr__(self):\n",
    "        return f\"<Point {self.x} {self.y} {self.z}>\""
   ]
  },
  {
   "cell_type": "code",
   "execution_count": null,
   "metadata": {},
   "outputs": [],
   "source": [
    "p1 = Point(1, 2, 3)\n",
    "p2 = Point(1, 2, 3)\n",
    "p1 == p2"
   ]
  },
  {
   "cell_type": "code",
   "execution_count": null,
   "metadata": {},
   "outputs": [],
   "source": [
    "class Point:\n",
    "    def __init__(self, x, y, z):\n",
    "        self.x = x\n",
    "        self.y = y\n",
    "        self.z = z\n",
    "    def distance(self, other=None):\n",
    "        if other is None:\n",
    "            other = Point(0, 0, 0)\n",
    "        return ((self.x - other.x) ** 2 + (self.y - other.y) ** 2 + (self.z - other.z) ** 2) ** .5\n",
    "    def __add__(self, other):\n",
    "        return Point(self.x + other.x, self.y + other.y, self.z + other.z)\n",
    "    def __sub__(self, other):\n",
    "        return Point(self.x - other.x, self.y - other.y, self.z - other.z)\n",
    "    def __neg__(self):\n",
    "        return Point(-self.x, -self.y, -self.z)\n",
    "    def __mul__(self, other):\n",
    "        return Point(self.x * other, self.y * other, self.z * other)\n",
    "    __rmul__ = __mul__\n",
    "    def __iadd__(self, other):\n",
    "        self.x += other.x\n",
    "        self.y += other.y\n",
    "        self.z += other.z\n",
    "        return self\n",
    "    def __isub__(self, other):\n",
    "        self.x -= other.x\n",
    "        self.y -= other.y\n",
    "        self.z -= other.z\n",
    "        return self\n",
    "    def __imul__(self, other):\n",
    "        self.x *= other\n",
    "        self.y *= other\n",
    "        self.z *= other\n",
    "        return self\n",
    "    def __eq__(self, other):\n",
    "        return (self.x, self.y, self.z) == (other.x, other.y, other.z)\n",
    "    def __ne__(self, other):\n",
    "        return (self.x, self.y, self.z) != (other.x, other.y, other.z)\n",
    "    def __lt__(self, other):\n",
    "        return (self.x, self.y, self.z) < (other.x, other.y, other.z)\n",
    "    def __le__(self, other):\n",
    "        return (self.x, self.y, self.z) <= (other.x, other.y, other.z)\n",
    "    def __gt__(self, other):\n",
    "        return (self.x, self.y, self.z) > (other.x, other.y, other.z)\n",
    "    def __ge__(self, other):\n",
    "        return (self.x, self.y, self.z) >= (other.x, other.y, other.z)\n",
    "    def __str__(self):\n",
    "        return f\"({self.x}, {self.y}, {self.z})\"\n",
    "    def __repr__(self):\n",
    "        return f\"<Point {self.x} {self.y} {self.z}>\""
   ]
  },
  {
   "cell_type": "code",
   "execution_count": null,
   "metadata": {},
   "outputs": [],
   "source": [
    "p1 = Point(1, 2, 3)\n",
    "p2 = Point(1, 2, 4)\n",
    "p1 == p2"
   ]
  },
  {
   "cell_type": "code",
   "execution_count": null,
   "metadata": {},
   "outputs": [],
   "source": [
    "p1 != p2"
   ]
  },
  {
   "cell_type": "code",
   "execution_count": null,
   "metadata": {},
   "outputs": [],
   "source": [
    "p1 > p2"
   ]
  },
  {
   "cell_type": "code",
   "execution_count": null,
   "metadata": {},
   "outputs": [],
   "source": [
    "p1 >= p2"
   ]
  },
  {
   "cell_type": "code",
   "execution_count": null,
   "metadata": {},
   "outputs": [],
   "source": [
    "p1 < p2"
   ]
  },
  {
   "cell_type": "code",
   "execution_count": null,
   "metadata": {},
   "outputs": [],
   "source": [
    "p1 <= p2"
   ]
  },
  {
   "cell_type": "code",
   "execution_count": null,
   "metadata": {},
   "outputs": [],
   "source": [
    "from functools import total_ordering"
   ]
  },
  {
   "cell_type": "code",
   "execution_count": null,
   "metadata": {},
   "outputs": [],
   "source": [
    "@total_ordering\n",
    "class Point:\n",
    "    def __init__(self, x, y, z):\n",
    "        self.x = x\n",
    "        self.y = y\n",
    "        self.z = z\n",
    "    def distance(self, other=None):\n",
    "        if other is None:\n",
    "            other = Point(0, 0, 0)\n",
    "        return ((self.x - other.x) ** 2 + (self.y - other.y) ** 2 + (self.z - other.z) ** 2) ** .5\n",
    "    def __add__(self, other):\n",
    "        return Point(self.x + other.x, self.y + other.y, self.z + other.z)\n",
    "    def __sub__(self, other):\n",
    "        return Point(self.x - other.x, self.y - other.y, self.z - other.z)\n",
    "    def __neg__(self):\n",
    "        return Point(-self.x, -self.y, -self.z)\n",
    "    def __mul__(self, other):\n",
    "        return Point(self.x * other, self.y * other, self.z * other)\n",
    "    __rmul__ = __mul__\n",
    "    def __iadd__(self, other):\n",
    "        self.x += other.x\n",
    "        self.y += other.y\n",
    "        self.z += other.z\n",
    "        return self\n",
    "    def __isub__(self, other):\n",
    "        self.x -= other.x\n",
    "        self.y -= other.y\n",
    "        self.z -= other.z\n",
    "        return self\n",
    "    def __imul__(self, other):\n",
    "        self.x *= other\n",
    "        self.y *= other\n",
    "        self.z *= other\n",
    "        return self\n",
    "    def __eq__(self, other):\n",
    "        return (self.x, self.y, self.z) == (other.x, other.y, other.z)\n",
    "    def __lt__(self, other):\n",
    "        return (self.x, self.y, self.z) < (other.x, other.y, other.z)\n",
    "    def __str__(self):\n",
    "        return f\"({self.x}, {self.y}, {self.z})\"\n",
    "    def __repr__(self):\n",
    "        return f\"<Point {self.x} {self.y} {self.z}>\""
   ]
  },
  {
   "cell_type": "code",
   "execution_count": null,
   "metadata": {},
   "outputs": [],
   "source": [
    "p1 = Point(1, 2, 3)\n",
    "p2 = Point(1, 2, 4)\n",
    "p1 == p2"
   ]
  },
  {
   "cell_type": "code",
   "execution_count": null,
   "metadata": {},
   "outputs": [],
   "source": [
    "p1 == p2"
   ]
  },
  {
   "cell_type": "code",
   "execution_count": null,
   "metadata": {},
   "outputs": [],
   "source": [
    "p1 < p2"
   ]
  },
  {
   "cell_type": "code",
   "execution_count": null,
   "metadata": {},
   "outputs": [],
   "source": [
    "p1 >= p2"
   ]
  },
  {
   "cell_type": "markdown",
   "metadata": {},
   "source": [
    "---\n",
    "\n",
    "Héritage\n",
    "--"
   ]
  },
  {
   "cell_type": "code",
   "execution_count": null,
   "metadata": {},
   "outputs": [],
   "source": [
    "class Point2D(Point):\n",
    "    def __init__(self, x, y):\n",
    "        super().__init__(x, y, 0)\n",
    "    def __repr__(self):\n",
    "        return \"<Point2D %s, %s>\" % (self.x, self.y)\n",
    "    def __str__(self):\n",
    "        return \"Ceci est le Point2D (%s, %s)\" % (self.x, self.y)"
   ]
  },
  {
   "cell_type": "code",
   "execution_count": null,
   "metadata": {},
   "outputs": [],
   "source": [
    "p3 = Point2D(5, 5)\n",
    "p4 = Point2D(4, 5)\n",
    "p3.distance(p4)"
   ]
  },
  {
   "cell_type": "code",
   "execution_count": null,
   "metadata": {},
   "outputs": [],
   "source": [
    "print(p3)"
   ]
  },
  {
   "cell_type": "code",
   "execution_count": null,
   "metadata": {},
   "outputs": [],
   "source": [
    "p1.distance(p3)"
   ]
  },
  {
   "cell_type": "code",
   "execution_count": null,
   "metadata": {},
   "outputs": [],
   "source": [
    "p3.distance(p1)"
   ]
  },
  {
   "cell_type": "code",
   "execution_count": null,
   "metadata": {},
   "outputs": [],
   "source": [
    "p1 -= p3\n",
    "print(p1)"
   ]
  },
  {
   "cell_type": "markdown",
   "metadata": {},
   "source": [
    "---"
   ]
  }
 ],
 "metadata": {
  "kernelspec": {
   "display_name": "Python 3 (ipykernel)",
   "language": "python",
   "name": "python3"
  },
  "language_info": {
   "codemirror_mode": {
    "name": "ipython",
    "version": 3
   },
   "file_extension": ".py",
   "mimetype": "text/x-python",
   "name": "python",
   "nbconvert_exporter": "python",
   "pygments_lexer": "ipython3",
   "version": "3.11.8"
  }
 },
 "nbformat": 4,
 "nbformat_minor": 4
}
