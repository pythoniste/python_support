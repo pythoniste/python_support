{
 "cells": [
  {
   "cell_type": "markdown",
   "id": "d23211f9-8666-49d6-9173-87b81e9ad83f",
   "metadata": {},
   "source": [
    "Tableurs\n",
    "=="
   ]
  },
  {
   "cell_type": "code",
   "execution_count": null,
   "id": "53312ece-bb87-4033-b3d9-8cc5483c5f45",
   "metadata": {},
   "outputs": [],
   "source": [
    "from odfdo import Document, Table, Row"
   ]
  },
  {
   "cell_type": "code",
   "execution_count": null,
   "id": "d7f52256-4a52-4b9a-bd92-ddc5e386fef4",
   "metadata": {},
   "outputs": [],
   "source": [
    "document = Document(\"spreadsheet\")"
   ]
  },
  {
   "cell_type": "code",
   "execution_count": null,
   "id": "5eb5e8d3-1334-4d62-8422-d690a16d5284",
   "metadata": {},
   "outputs": [],
   "source": [
    "body = document.body"
   ]
  },
  {
   "cell_type": "code",
   "execution_count": null,
   "id": "b591ec87-ee04-45ba-aa33-c24325de428b",
   "metadata": {},
   "outputs": [],
   "source": [
    "body.clear()"
   ]
  },
  {
   "cell_type": "code",
   "execution_count": null,
   "id": "b3b61321-062e-4866-a9e2-b7cb9fe54c88",
   "metadata": {},
   "outputs": [],
   "source": [
    "table = Table(\"First Table\", width=8, height=3)"
   ]
  },
  {
   "cell_type": "code",
   "execution_count": null,
   "id": "11a35db5-ad3d-46ad-9d27-4829e350f999",
   "metadata": {},
   "outputs": [],
   "source": [
    "body.append(table)"
   ]
  },
  {
   "cell_type": "code",
   "execution_count": null,
   "id": "7bfeb853-242b-4da4-86b9-1d0f4f48f346",
   "metadata": {},
   "outputs": [],
   "source": [
    "len(table.rows)"
   ]
  },
  {
   "cell_type": "code",
   "execution_count": null,
   "id": "b7793628-f605-4a56-94ee-536ee85b4169",
   "metadata": {},
   "outputs": [],
   "source": [
    "last_row = table.get_row(-1)"
   ]
  },
  {
   "cell_type": "code",
   "execution_count": null,
   "id": "c152b183-2885-45be-994e-b8b05e47c7d4",
   "metadata": {},
   "outputs": [],
   "source": [
    "len(last_row.cells)"
   ]
  },
  {
   "cell_type": "code",
   "execution_count": null,
   "id": "7b85f80a-26f8-4add-97f8-d033c8b288a1",
   "metadata": {},
   "outputs": [],
   "source": [
    "table.append_row()"
   ]
  },
  {
   "cell_type": "code",
   "execution_count": null,
   "id": "e7fb048f-68ed-4e0c-8594-733cd1cf5527",
   "metadata": {},
   "outputs": [],
   "source": [
    "len(table.rows)"
   ]
  },
  {
   "cell_type": "code",
   "execution_count": null,
   "id": "e102d950-b5cb-4a69-92a2-009dfb3641ea",
   "metadata": {},
   "outputs": [],
   "source": [
    "last_row = table.get_row(-1)"
   ]
  },
  {
   "cell_type": "code",
   "execution_count": null,
   "id": "89e09bb1-c59a-425b-95f1-6ffe4f0cb825",
   "metadata": {},
   "outputs": [],
   "source": [
    "len(last_row.cells)"
   ]
  },
  {
   "cell_type": "code",
   "execution_count": null,
   "id": "15ca22b7-0a12-446f-a41c-46328ffb6920",
   "metadata": {},
   "outputs": [],
   "source": [
    "help(table.append_row)"
   ]
  },
  {
   "cell_type": "code",
   "execution_count": null,
   "id": "1a5d9f98-e292-4c69-84e4-86e744073160",
   "metadata": {},
   "outputs": [],
   "source": [
    "help(Row)"
   ]
  },
  {
   "cell_type": "code",
   "execution_count": null,
   "id": "b0f89e49-4055-49e8-a314-27e12bd4e60f",
   "metadata": {},
   "outputs": [],
   "source": [
    "table.append_row(Row(width=8))"
   ]
  },
  {
   "cell_type": "code",
   "execution_count": null,
   "id": "03d90d50-33b3-4e39-b178-4c26e39b85aa",
   "metadata": {},
   "outputs": [],
   "source": [
    "last_row = table.get_row(-1)"
   ]
  },
  {
   "cell_type": "code",
   "execution_count": null,
   "id": "d9b2fe9f-6b17-4bde-8ce9-e39dfc4dc1e0",
   "metadata": {},
   "outputs": [],
   "source": [
    "len(last_row.cells)"
   ]
  },
  {
   "cell_type": "code",
   "execution_count": null,
   "id": "515a02bf-60c7-4f80-8b7c-623b02f29698",
   "metadata": {},
   "outputs": [],
   "source": [
    "for row_nb in range(len(table.rows)):\n",
    "    for col_nb in range(len(table.get_row(0).cells)):\n",
    "        table.set_value((col_nb, row_nb), f\"cell {col_nb} {row_nb}\")"
   ]
  },
  {
   "cell_type": "code",
   "execution_count": null,
   "id": "139fbd28-e409-4d62-8111-0e65e789aa69",
   "metadata": {},
   "outputs": [],
   "source": [
    "print(\"table size:\", table.size)"
   ]
  },
  {
   "cell_type": "code",
   "execution_count": null,
   "id": "8e0d6bc6-19e9-4cff-8bd9-65a98d98bd97",
   "metadata": {},
   "outputs": [],
   "source": [
    "table.rstrip()"
   ]
  },
  {
   "cell_type": "code",
   "execution_count": null,
   "id": "e455bb69-0069-4d57-8f9f-0abf0c4af310",
   "metadata": {},
   "outputs": [],
   "source": [
    "print(\"table size after strip:\", table.size)"
   ]
  },
  {
   "cell_type": "code",
   "execution_count": null,
   "id": "3f3d19a5-324d-4c44-82ee-88d01c30e210",
   "metadata": {},
   "outputs": [],
   "source": [
    "print(\"nb of cells of the last row:\", len(table.get_row(-1).cells))"
   ]
  },
  {
   "cell_type": "code",
   "execution_count": null,
   "id": "fd3af916-74df-44da-8b97-742b153ae74f",
   "metadata": {},
   "outputs": [],
   "source": [
    "print(\"Content of the table:\")"
   ]
  },
  {
   "cell_type": "code",
   "execution_count": null,
   "id": "02cefa49-f781-45e5-ba91-e6eaebf45f96",
   "metadata": {},
   "outputs": [],
   "source": [
    "print(table.to_csv())"
   ]
  },
  {
   "cell_type": "code",
   "execution_count": null,
   "id": "3ecda3fc-4170-4c97-b6e6-2c66f8f95ea6",
   "metadata": {},
   "outputs": [],
   "source": [
    "document.save(\"document.ods\", pretty=True)"
   ]
  },
  {
   "cell_type": "code",
   "execution_count": null,
   "id": "91a3c847-73b6-49f4-98c9-5672d3949a4d",
   "metadata": {},
   "outputs": [],
   "source": [
    "document = Document(\"spreadsheet\")\n",
    "body = document.body\n",
    "body.clear()\n",
    "table = Table(\"First Table\")\n",
    "body.append(table)\n",
    "# populate the table :\n",
    "for index in range(10):\n",
    "    table.set_value((1, index), (index + 1) ** 2)\n",
    "table.set_value(\"A11\", \"Total:\")\n",
    "\n",
    "# lets define a named range for the 10 values :\n",
    "range_squares = \"B1:B10\"\n",
    "name = \"squares_values\"\n",
    "table_name = table.name\n",
    "table.set_named_range(name, range_squares, table_name)\n",
    "\n",
    "# we can define a single cell range, using notation \"B11\" or (1, 10) :\n",
    "table.set_named_range(\"total\", (1, 10), table_name)\n",
    "\n",
    "# get named range values :\n",
    "values = table.get_named_range(\"squares_values\").get_values(flat=True)\n",
    "\n",
    "# set named range value :\n",
    "result = sum(values)\n",
    "table.get_named_range(\"total\").set_value(result)\n",
    "\n",
    "# lets use the named ranges from a second table :\n",
    "table2 = Table(\"Second Table\")\n",
    "body.append(table2)\n",
    "\n",
    "named_range1 = table2.get_named_range(\"total\")\n",
    "table2.set_value(\"A1\", \"name:\")\n",
    "table2.set_value(\"B1\", named_range1.name)\n",
    "table2.set_value(\"A2\", \"range:\")\n",
    "table2.set_value(\"B2\", str(named_range1.crange))\n",
    "table2.set_value(\"A3\", \"from table:\")\n",
    "table2.set_value(\"B3\", named_range1.table_name)\n",
    "table2.set_value(\"A4\", \"content:\")\n",
    "table2.set_value(\"B4\", named_range1.get_value())\n",
    "\n",
    "named_range2 = table2.get_named_range(\"squares_values\")\n",
    "table2.set_value(\"D1\", \"name:\")\n",
    "table2.set_value(\"E1\", named_range2.name)\n",
    "table2.set_value(\"D2\", \"range:\")\n",
    "table2.set_value(\"E2\", str(named_range2.crange))\n",
    "table2.set_value(\"D3\", \"from table:\")\n",
    "table2.set_value(\"E3\", named_range2.table_name)\n",
    "table2.set_value(\"D4\", \"content:\")\n",
    "# using \"E4:4\" notaion is a little hack for the area starting at E4 on row 4\n",
    "table2.set_values(values=[named_range2.get_values(flat=True)], coord=\"E4:4\")\n",
    "\n",
    "print(\"Content of the table1:\")\n",
    "print(table.name)\n",
    "print(table.to_csv())\n",
    "print(table2.name)\n",
    "print(table2.to_csv())\n",
    "document.save(\"ranges.ods\", pretty=True)"
   ]
  },
  {
   "cell_type": "markdown",
   "id": "868ea883-dfc3-43f3-b905-4de90486e3ff",
   "metadata": {},
   "source": [
    "Présentations\n",
    "--"
   ]
  },
  {
   "cell_type": "code",
   "execution_count": null,
   "id": "264ea53c-d1b6-4e85-9d52-e570d4cb054a",
   "metadata": {},
   "outputs": [],
   "source": [
    "from odfdo import Document, DrawPage, Frame, Style"
   ]
  },
  {
   "cell_type": "code",
   "execution_count": null,
   "id": "c46e4863-e0ca-4de2-b401-823442e6a08a",
   "metadata": {},
   "outputs": [],
   "source": [
    "document = Document(\"presentation\")"
   ]
  },
  {
   "cell_type": "code",
   "execution_count": null,
   "id": "0a382063-5402-45b5-af59-e0718d1ec993",
   "metadata": {},
   "outputs": [],
   "source": [
    "body = document.body"
   ]
  },
  {
   "cell_type": "code",
   "execution_count": null,
   "id": "b17a19c6-49b6-4cf3-a8fc-ef617e8c6292",
   "metadata": {},
   "outputs": [],
   "source": [
    "body.clear()"
   ]
  },
  {
   "cell_type": "code",
   "execution_count": null,
   "id": "148322ba-5d1b-48af-bea9-6855309f7145",
   "metadata": {},
   "outputs": [],
   "source": [
    "page = DrawPage(\"page1\", name=\"Page 1\")"
   ]
  },
  {
   "cell_type": "code",
   "execution_count": null,
   "id": "35c662a7-65b8-4091-91eb-820753e8bb75",
   "metadata": {},
   "outputs": [],
   "source": [
    "text_frame = Frame.text_frame(\n",
    "    \"Ceci est un texte\",\n",
    "    size=(\"26cm\", \"2cm\"),\n",
    "    position=(\"0.5cm\", \"0.5cm\"),\n",
    "    style=None,\n",
    "    text_style=None,\n",
    ")"
   ]
  },
  {
   "cell_type": "code",
   "execution_count": null,
   "id": "102bd099-6b69-491c-8de1-d29d08853927",
   "metadata": {},
   "outputs": [],
   "source": [
    "page.append(text_frame)"
   ]
  },
  {
   "cell_type": "code",
   "execution_count": null,
   "id": "6523ec01-79b7-47da-9afc-afb6d7134f31",
   "metadata": {},
   "outputs": [],
   "source": [
    "body.append(page)"
   ]
  },
  {
   "cell_type": "code",
   "execution_count": null,
   "id": "79182993-2a2b-4ab9-b128-7f5cde13d71c",
   "metadata": {},
   "outputs": [],
   "source": [
    "document.save(\"presentation.odp\", pretty=True)"
   ]
  },
  {
   "cell_type": "markdown",
   "id": "948bcc82-4a07-4024-aa19-dd8892fdf95c",
   "metadata": {},
   "source": [
    "Styles\n",
    "--"
   ]
  },
  {
   "cell_type": "code",
   "execution_count": null,
   "id": "81bee5de-d6ac-4154-929b-efdcc428dbf5",
   "metadata": {},
   "outputs": [],
   "source": [
    "base_style = Style(\n",
    "    \"graphic\",\n",
    "    name=\"Gloup24\",\n",
    "    parent=\"standard\",\n",
    "    stroke=\"none\",\n",
    "    fill_color=\"#b3b3b3\",\n",
    "    textarea_vertical_align=\"middle\",\n",
    "    padding_top=\"1cm\",\n",
    "    padding_bottom=\"1cm\",\n",
    "    padding_left=\"1cm\",\n",
    "    padding_right=\"1cm\",\n",
    "    line_distance=\"0cm\",\n",
    "    guide_overhang=\"0cm\",\n",
    "    guide_distance=\"0cm\",\n",
    ")\n",
    "base_style.set_properties(area=\"paragraph\", align=\"center\")\n",
    "base_style.set_properties(\n",
    "    area=\"text\",\n",
    "    color=\"#dd0000\",\n",
    "    text_outline=\"false\",\n",
    "    font=\"Liberation Sans\",\n",
    "    font_family=\"Liberation Sans\",  # compatibility\n",
    "    font_style_name=\"Bold\",\n",
    "    family_generic=\"swiss\",\n",
    "    size=\"24pt\",\n",
    "    weight=\"bold\",\n",
    ")"
   ]
  },
  {
   "cell_type": "code",
   "execution_count": null,
   "id": "20e99b60-b46c-4dcd-92d2-aa9a3c5fc24e",
   "metadata": {},
   "outputs": [],
   "source": [
    "document.insert_style(base_style)"
   ]
  },
  {
   "cell_type": "code",
   "execution_count": null,
   "id": "15e60f11-26cc-45c0-b477-272234d3eb95",
   "metadata": {},
   "outputs": [],
   "source": [
    "page = DrawPage(\"page2\", name=\"Page 2\")"
   ]
  },
  {
   "cell_type": "code",
   "execution_count": null,
   "id": "adb2ea77-a9a1-4264-80c0-ffde8befb321",
   "metadata": {},
   "outputs": [],
   "source": [
    "text_frame = Frame.text_frame(\n",
    "    \"Hello World\",\n",
    "    size=(\"7cm\", \"5cm\"),\n",
    "    position=(\"11cm\", \"8cm\"),\n",
    "    style=\"Gloup24\",\n",
    "    text_style=\"Gloup24\",\n",
    ")"
   ]
  },
  {
   "cell_type": "code",
   "execution_count": null,
   "id": "4a2d0f23-7d32-4651-a05c-f94b7750b2c2",
   "metadata": {},
   "outputs": [],
   "source": [
    "page.append(text_frame)"
   ]
  },
  {
   "cell_type": "code",
   "execution_count": null,
   "id": "c05747ee-e02f-459d-b2ac-7e91688b0b46",
   "metadata": {},
   "outputs": [],
   "source": [
    "variant_style = base_style.clone"
   ]
  },
  {
   "cell_type": "code",
   "execution_count": null,
   "id": "8d06be8b-19b9-4afd-8ce0-6c7acbfa048d",
   "metadata": {},
   "outputs": [],
   "source": [
    "variant_style.set_attribute(\"style:name\", \"Gloup48\")"
   ]
  },
  {
   "cell_type": "code",
   "execution_count": null,
   "id": "6f5d0a49-7466-4081-bc0b-9ddfe7867004",
   "metadata": {},
   "outputs": [],
   "source": [
    "variant_style.set_properties(area=\"text\", size=\"48pt\")"
   ]
  },
  {
   "cell_type": "code",
   "execution_count": null,
   "id": "7a8cad7b-6fb9-4603-b078-7f4bce2d5b5a",
   "metadata": {},
   "outputs": [],
   "source": [
    "document.insert_style(variant_style)"
   ]
  },
  {
   "cell_type": "code",
   "execution_count": null,
   "id": "0b811864-3564-4d71-8ca6-341e6a0e00b7",
   "metadata": {},
   "outputs": [],
   "source": [
    "text_frame = Frame.text_frame(\n",
    "    \"Ciao !\",\n",
    "    size=(\"7cm\", \"5cm\"),\n",
    "    position=(\"1cm\", \"1cm\"),\n",
    "    style=\"Gloup48\",\n",
    "    text_style=\"Gloup24\",\n",
    ")"
   ]
  },
  {
   "cell_type": "code",
   "execution_count": null,
   "id": "ccbd2769-5ba7-425b-90c6-ab6a72940fe3",
   "metadata": {},
   "outputs": [],
   "source": [
    "page.append(text_frame)"
   ]
  },
  {
   "cell_type": "code",
   "execution_count": null,
   "id": "9c8d97df-3328-434e-9188-5b271e5424e3",
   "metadata": {},
   "outputs": [],
   "source": [
    "body.append(page)"
   ]
  },
  {
   "cell_type": "code",
   "execution_count": null,
   "id": "7068ae91-9764-464f-9f37-0646576180e0",
   "metadata": {},
   "outputs": [],
   "source": [
    "document.save(\"presentation.odp\", pretty=True)"
   ]
  },
  {
   "cell_type": "markdown",
   "id": "22406aa2-a82f-4bb3-bdf7-8a858489b8d7",
   "metadata": {},
   "source": [
    "### Ajout d'une image"
   ]
  },
  {
   "cell_type": "code",
   "execution_count": null,
   "id": "d98ce783-6fc4-471a-93ca-58ed195d380c",
   "metadata": {},
   "outputs": [],
   "source": [
    "from PIL import Image"
   ]
  },
  {
   "cell_type": "code",
   "execution_count": null,
   "id": "b091c1ca-11fc-427b-8618-da708c84c1a9",
   "metadata": {},
   "outputs": [],
   "source": [
    "width, height = Image.open(\"image.jpg\").size"
   ]
  },
  {
   "cell_type": "code",
   "execution_count": null,
   "id": "dda120e5-78c5-4244-a947-2c499eb5d1ed",
   "metadata": {},
   "outputs": [],
   "source": [
    "print(width, height)"
   ]
  },
  {
   "cell_type": "code",
   "execution_count": null,
   "id": "f5ed86d1-8aa5-4f8b-acd9-bc1908e6c09a",
   "metadata": {},
   "outputs": [],
   "source": [
    "uri = document.add_file(\"image.jpg\")"
   ]
  },
  {
   "cell_type": "code",
   "execution_count": null,
   "id": "c556d8ad-b00e-42cc-97b0-916408b3cda8",
   "metadata": {},
   "outputs": [],
   "source": [
    "for slide in body.get_draw_pages():\n",
    "    # Create a frame for the image\n",
    "    image_frame = Frame.image_frame(\n",
    "        image=uri,\n",
    "        text=\"\",  # Text over the image object\n",
    "        size=(\"1.41cm\", \"1.74cm\"),  # Display size of image\n",
    "        anchor_type=\"page\",\n",
    "        page_number=None,\n",
    "        position=(\"13.50cm\", \"3.50cm\"),\n",
    "        style=None,\n",
    "    )\n",
    "    image_frame.svg_title = \"Miniature\"\n",
    "    image_frame.svg_description = \"Livre aux éditions ENI\"\n",
    "    slide.append(image_frame)"
   ]
  },
  {
   "cell_type": "code",
   "execution_count": null,
   "id": "813414ab-2cfd-4bdd-b7aa-094a5193ae21",
   "metadata": {},
   "outputs": [],
   "source": [
    "document.save(\"presentation.odp\", pretty=True)"
   ]
  },
  {
   "cell_type": "markdown",
   "id": "8f447167-97a3-491e-9065-e0d4b2f082a2",
   "metadata": {},
   "source": [
    "---"
   ]
  }
 ],
 "metadata": {
  "kernelspec": {
   "display_name": "Python 3 (ipykernel)",
   "language": "python",
   "name": "python3"
  },
  "language_info": {
   "codemirror_mode": {
    "name": "ipython",
    "version": 3
   },
   "file_extension": ".py",
   "mimetype": "text/x-python",
   "name": "python",
   "nbconvert_exporter": "python",
   "pygments_lexer": "ipython3",
   "version": "3.11.8"
  }
 },
 "nbformat": 4,
 "nbformat_minor": 5
}
