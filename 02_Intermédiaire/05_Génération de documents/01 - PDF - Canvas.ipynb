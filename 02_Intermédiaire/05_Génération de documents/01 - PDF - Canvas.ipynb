{
 "cells": [
  {
   "cell_type": "markdown",
   "id": "a4244c42-0295-4a47-a8b3-64216f99abcb",
   "metadata": {},
   "source": [
    "ReportLab, Canvas\n",
    "==\n",
    "\n",
    "L'idée de ce chapitre est de présenter les bases de reportlab et de montrer comment générer une page structurée et comment y positionner divers éléments."
   ]
  },
  {
   "cell_type": "code",
   "execution_count": null,
   "id": "3b94f965-16d1-407f-ace0-1a7992587200",
   "metadata": {},
   "outputs": [],
   "source": [
    "# You should execute this line to install reportlab\n",
    "import subprocess\n",
    "print(subprocess.getstatusoutput(\"pip install reportlab\"))"
   ]
  },
  {
   "cell_type": "markdown",
   "id": "2ddeff38-62fd-4492-83ac-94a71fa55fcc",
   "metadata": {},
   "source": [
    "Créer une page structurée\n",
    "--"
   ]
  },
  {
   "cell_type": "code",
   "execution_count": null,
   "id": "e08cdb04-572b-41cc-bca6-477e0cdb5d7f",
   "metadata": {},
   "outputs": [],
   "source": [
    "from reportlab.pdfgen.canvas import Canvas"
   ]
  },
  {
   "cell_type": "code",
   "execution_count": null,
   "id": "d3541838-7a45-4e80-8fdc-bc220278d162",
   "metadata": {},
   "outputs": [],
   "source": [
    "dir(Canvas)"
   ]
  },
  {
   "cell_type": "markdown",
   "id": "974e07ae-4af1-485a-b537-85b74fd64f3d",
   "metadata": {},
   "source": [
    "Ici, les objets servent essentiellement à encapsuler une bibliothèque de méthodes qui permettent :\n",
    "\n",
    "* de changer un élément de contexte\n",
    "* de créer un objet"
   ]
  },
  {
   "cell_type": "code",
   "execution_count": null,
   "id": "b281fc63-fa51-4f2a-945c-7263c7cfa43a",
   "metadata": {},
   "outputs": [],
   "source": [
    "from reportlab.lib.units import cm"
   ]
  },
  {
   "cell_type": "code",
   "execution_count": null,
   "id": "ffba8ad0-bc80-4107-bfa0-15c9ff6e8502",
   "metadata": {},
   "outputs": [],
   "source": [
    "print(cm)"
   ]
  },
  {
   "cell_type": "code",
   "execution_count": null,
   "id": "a5291ceb-18ef-4514-a8f9-cb16e063ac2f",
   "metadata": {},
   "outputs": [],
   "source": [
    "canvas = Canvas(\"canvas.pdf\")"
   ]
  },
  {
   "cell_type": "markdown",
   "id": "5f907e96-c764-44fe-b6f9-f88131ea2b02",
   "metadata": {},
   "source": [
    "### Métadonnées"
   ]
  },
  {
   "cell_type": "code",
   "execution_count": null,
   "id": "3e05dcde-ec80-45c8-8c65-539a301dedb1",
   "metadata": {},
   "outputs": [],
   "source": [
    "canvas.setTitle(\"Page structurée\")"
   ]
  },
  {
   "cell_type": "code",
   "execution_count": null,
   "id": "379c8e16-e732-409a-871a-44cb025a7052",
   "metadata": {},
   "outputs": [],
   "source": [
    "canvas.setSubject(\"Creation d'un document PDF contenant une page structurée avec ReportLab\")"
   ]
  },
  {
   "cell_type": "code",
   "execution_count": null,
   "id": "7793c026-cc68-4517-b472-61c338106541",
   "metadata": {},
   "outputs": [],
   "source": [
    "canvas.setAuthor('Sébastien CHAZALLET')"
   ]
  },
  {
   "cell_type": "code",
   "execution_count": null,
   "id": "5ce5c89f-f319-4773-82d1-f23b4555cb47",
   "metadata": {},
   "outputs": [],
   "source": [
    "canvas.setKeywords(['PDF', 'ReportLab', 'Python'])"
   ]
  },
  {
   "cell_type": "code",
   "execution_count": null,
   "id": "1b23ce69-80ed-45da-9d0f-6a91e9e7ad77",
   "metadata": {},
   "outputs": [],
   "source": [
    "canvas.setCreator('sch')"
   ]
  },
  {
   "cell_type": "markdown",
   "id": "f9eaa862-dc83-451d-9503-1843a048f327",
   "metadata": {},
   "source": [
    "Technique d'écriture\n",
    "--\n",
    "\n",
    "* Mettre à jour le contexte"
   ]
  },
  {
   "cell_type": "code",
   "execution_count": null,
   "id": "fb190124-8954-40fe-bdb9-284b6007cb45",
   "metadata": {},
   "outputs": [],
   "source": [
    "canvas.setFont(\"Helvetica\", 36)"
   ]
  },
  {
   "cell_type": "markdown",
   "id": "e72a66de-072a-4fb1-9a05-ba2d37cff776",
   "metadata": {},
   "source": [
    "* Créer la donnée et la positionner"
   ]
  },
  {
   "cell_type": "code",
   "execution_count": null,
   "id": "ebf06b31-bcd1-4468-8c2e-97c748d1e675",
   "metadata": {},
   "outputs": [],
   "source": [
    "canvas.drawCentredString(12.0 * cm, 18.0 * cm, \"Hello world\")"
   ]
  },
  {
   "cell_type": "code",
   "execution_count": null,
   "id": "d79574cc-dea9-42bb-93d4-8ee463702155",
   "metadata": {},
   "outputs": [],
   "source": [
    "# canvas.save()"
   ]
  },
  {
   "cell_type": "markdown",
   "id": "4ee14686-80e3-4aae-89eb-7f60d3f13135",
   "metadata": {},
   "source": [
    "### Systèmes de coordonnées"
   ]
  },
  {
   "cell_type": "code",
   "execution_count": null,
   "id": "9def7f44-f8fe-4953-82b5-3bdbd82da82d",
   "metadata": {},
   "outputs": [],
   "source": [
    "canvas.setFont(\"Times-Roman\", 12)"
   ]
  },
  {
   "cell_type": "code",
   "execution_count": null,
   "id": "4ea3c982-52ea-4ff1-875b-dc88f466556d",
   "metadata": {},
   "outputs": [],
   "source": [
    "canvas.drawString(1.0 * cm, 1.0 * cm, \"O\")"
   ]
  },
  {
   "cell_type": "code",
   "execution_count": null,
   "id": "a6a2cd45-b1a2-400f-b91a-995cece1aa17",
   "metadata": {},
   "outputs": [],
   "source": [
    "canvas.drawString(2.0 * cm, 1.0 * cm, \"X\")"
   ]
  },
  {
   "cell_type": "code",
   "execution_count": null,
   "id": "570fccf5-7298-437c-aff1-8151b065584b",
   "metadata": {},
   "outputs": [],
   "source": [
    "canvas.drawString(1.0 * cm, 2.0 * cm, \"Y\")"
   ]
  },
  {
   "cell_type": "code",
   "execution_count": null,
   "id": "a800b9b5-104c-422e-bb90-1d4fcaf2f65c",
   "metadata": {},
   "outputs": [],
   "source": [
    "# canvas.save()"
   ]
  },
  {
   "cell_type": "markdown",
   "id": "3ee5e312-0395-484f-b9c4-3deac0a661c9",
   "metadata": {},
   "source": [
    "Positionnement\n",
    "--"
   ]
  },
  {
   "cell_type": "code",
   "execution_count": null,
   "id": "6f00b30d-9bd7-4256-8c13-69b57d498fcd",
   "metadata": {},
   "outputs": [],
   "source": [
    "canvas.circle(8.5 * cm, 16.0 * cm, 1, stroke=1, fill=0)"
   ]
  },
  {
   "cell_type": "code",
   "execution_count": null,
   "id": "5421c065-4c9a-4d5f-ac2c-874706f3d370",
   "metadata": {},
   "outputs": [],
   "source": [
    "canvas.drawString(8.5 * cm, 16.0 * cm, \"G\")"
   ]
  },
  {
   "cell_type": "code",
   "execution_count": null,
   "id": "7f378ae7-a81b-415e-a45b-11635f69d656",
   "metadata": {},
   "outputs": [],
   "source": [
    "canvas.circle(8.5 * cm, 15.5 * cm, 1, stroke=1, fill=0)"
   ]
  },
  {
   "cell_type": "code",
   "execution_count": null,
   "id": "c618fbf7-3e02-4281-abde-a7bfd227ca70",
   "metadata": {},
   "outputs": [],
   "source": [
    "canvas.drawRightString(8.5 * cm, 15.5 * cm, \"D\")"
   ]
  },
  {
   "cell_type": "code",
   "execution_count": null,
   "id": "876eb1f9-bba8-4147-9be1-21e1a9cb1792",
   "metadata": {},
   "outputs": [],
   "source": [
    "canvas.circle(8.5 * cm, 15.0 * cm, 1, stroke=1, fill=0)"
   ]
  },
  {
   "cell_type": "code",
   "execution_count": null,
   "id": "f0598590-c238-44a4-b936-996432d7ca78",
   "metadata": {},
   "outputs": [],
   "source": [
    "canvas.drawCentredString(8.5 * cm, 15.0 * cm, \"C\")"
   ]
  },
  {
   "cell_type": "code",
   "execution_count": null,
   "id": "30f9dfe3-4900-4a0d-897f-440a8f00aff0",
   "metadata": {},
   "outputs": [],
   "source": [
    "# canvas.save()"
   ]
  },
  {
   "cell_type": "code",
   "execution_count": null,
   "id": "24e949f1-eff7-425d-855c-0b94745706e1",
   "metadata": {},
   "outputs": [],
   "source": [
    "canvas.drawString(12.5 * cm, 16.0 * cm, \"Aligné à gauche\")"
   ]
  },
  {
   "cell_type": "code",
   "execution_count": null,
   "id": "67e376df-3081-4717-9352-f3d55e5aff61",
   "metadata": {},
   "outputs": [],
   "source": [
    "canvas.drawRightString(12.5 * cm, 15.0 * cm, \"Aligné à droite\")"
   ]
  },
  {
   "cell_type": "code",
   "execution_count": null,
   "id": "7d754493-c7bd-4536-841d-59db5f589f82",
   "metadata": {},
   "outputs": [],
   "source": [
    "canvas.drawCentredString(12.5 * cm, 14.0 * cm, \"Aligné au centre\")"
   ]
  },
  {
   "cell_type": "code",
   "execution_count": null,
   "id": "46a454e2-119e-4fbe-9b9c-c52d4c1e5a10",
   "metadata": {},
   "outputs": [],
   "source": [
    "canvas.drawCentredString(10.5 * cm, 10.0 * cm, '\\n'.join([\"Aligné plein centre\"] * 5))"
   ]
  },
  {
   "cell_type": "code",
   "execution_count": null,
   "id": "4677d59d-b2d2-4d05-a9c0-00e433c47c71",
   "metadata": {},
   "outputs": [],
   "source": [
    "canvas.drawString(18.5 * cm, 12.0 * cm, \"Mal Aligné\" * 5)"
   ]
  },
  {
   "cell_type": "code",
   "execution_count": null,
   "id": "0d8c0b86-5275-4efc-a71b-ba373b176511",
   "metadata": {},
   "outputs": [],
   "source": [
    "canvas.drawRightString(2.5 * cm, 12.0 * cm, \"Mal Aligné\" * 5)"
   ]
  },
  {
   "cell_type": "code",
   "execution_count": null,
   "id": "c341640b-7542-4fb7-a839-8300c1401745",
   "metadata": {},
   "outputs": [],
   "source": [
    "# canvas.save()"
   ]
  },
  {
   "cell_type": "markdown",
   "id": "9a491821-891d-4de6-ab5f-a519ab15bb04",
   "metadata": {},
   "source": [
    "Elements graphiques\n",
    "--"
   ]
  },
  {
   "cell_type": "code",
   "execution_count": null,
   "id": "20c4e57b-28e6-4bbd-a22a-98c6922eebc3",
   "metadata": {},
   "outputs": [],
   "source": [
    "from reportlab.lib import colors\n",
    "dir(colors)"
   ]
  },
  {
   "cell_type": "code",
   "execution_count": null,
   "id": "cb33edd0-ac5a-4da0-8414-6da23ce86142",
   "metadata": {},
   "outputs": [],
   "source": [
    "# canvas.grid(xlist, ylist)"
   ]
  },
  {
   "cell_type": "code",
   "execution_count": null,
   "id": "fa9553fa-6d3b-4d12-99a2-71ed6074ee32",
   "metadata": {},
   "outputs": [],
   "source": [
    "# canvas.bezier(x1, y1, x2, y2, x3, y3, x4, y4)\n",
    "canvas.setStrokeColor(colors.blue)\n",
    "canvas.bezier(1 * cm, 8 * cm, 2 * cm, 9 * cm, 4 * cm, 8 * cm, 5.5 * cm, 8.5 * cm)"
   ]
  },
  {
   "attachments": {
    "fb834cd2-62dd-47c5-af6c-4add2bc48ea1.png": {
     "image/png": "[encoded data removed]"
    }
   },
   "cell_type": "markdown",
   "id": "674b8981-aa6d-4b5a-bef9-a1d9a26057fa",
   "metadata": {},
   "source": [
    "La courbe va du point **1**(x1, y1) au point **4**(x4, y4).\n",
    "\n",
    "Le point **2**(x2, y2) est la poignée liée à **1**(x1, y1). Autrement dit, la droite passant par les points **1** et **2** est tangeante à la courbe de béziez au point **1**.\n",
    "\n",
    "Le point **3**(x2, y2) est la poignée liée à **4**(x1, y1).\n",
    "\n",
    "![image.png](attachment:fb834cd2-62dd-47c5-af6c-4add2bc48ea1.png)"
   ]
  },
  {
   "cell_type": "code",
   "execution_count": null,
   "id": "61508bef-71a1-4e74-a989-606c3326f66b",
   "metadata": {},
   "outputs": [],
   "source": [
    "# canvas.arc(x1,y1,x2,y2)\n",
    "canvas.setStrokeColor(colors.red)\n",
    "canvas.arc(4 * cm, 8 * cm, 8 * cm, 9 * cm)"
   ]
  },
  {
   "cell_type": "markdown",
   "id": "31a0529c-5bf8-4533-b221-5431d058f0eb",
   "metadata": {},
   "source": [
    "Un arc est une courbe de bézier ou les tangeantes sont horizontales et verticales."
   ]
  },
  {
   "cell_type": "code",
   "execution_count": null,
   "id": "8b5e935e-6c0e-47fa-842f-57379ecb15e2",
   "metadata": {},
   "outputs": [],
   "source": [
    "colors.turquoise.rgb()"
   ]
  },
  {
   "cell_type": "code",
   "execution_count": null,
   "id": "5e4b975b-78a2-4c9b-8c5f-716f3c1a0952",
   "metadata": {},
   "outputs": [],
   "source": [
    "colors.turquoise.rgba()"
   ]
  },
  {
   "cell_type": "code",
   "execution_count": null,
   "id": "03007ca2-f249-4624-a086-9ff02ea9111d",
   "metadata": {},
   "outputs": [],
   "source": [
    "colors.green.red, colors.green.green, colors.green.blue, colors.green.alpha"
   ]
  },
  {
   "cell_type": "code",
   "execution_count": null,
   "id": "e3de5a3d-d765-452c-89cf-eedebaa03b6d",
   "metadata": {},
   "outputs": [],
   "source": [
    "alpha_green = colors.Color(colors.green.red, colors.green.green, colors.green.blue, 0.1)"
   ]
  },
  {
   "cell_type": "code",
   "execution_count": null,
   "id": "cbef3e78-7083-44f9-8aa8-52eef6710380",
   "metadata": {},
   "outputs": [],
   "source": [
    "alpha_green.rgba()"
   ]
  },
  {
   "cell_type": "code",
   "execution_count": null,
   "id": "db9d2ede-0ba4-4025-a708-f6d8bcab0ec6",
   "metadata": {},
   "outputs": [],
   "source": [
    "# canvas.rect(x, y, width, height, stroke=1, fill=0)\n",
    "canvas.setFillColor(alpha_green)\n",
    "canvas.setStrokeColor(colors.darkgreen)\n",
    "canvas.rect(7 * cm, 8 * cm, 2 * cm, 1 * cm, stroke=1, fill=1)"
   ]
  },
  {
   "cell_type": "code",
   "execution_count": null,
   "id": "363314aa-7f31-4e13-a557-146e14d58866",
   "metadata": {},
   "outputs": [],
   "source": [
    "from reportlab.lib.colors import green\n",
    "# canvas.ellipse(x1,y1, x2,y2, stroke=1, fill=0)\n",
    "canvas.setFillColor(colors.beige)\n",
    "canvas.setStrokeColor(colors.blueviolet)\n",
    "canvas.ellipse(10 * cm, 9 * cm, 12 * cm, 8 * cm, stroke=1, fill=0)"
   ]
  },
  {
   "cell_type": "code",
   "execution_count": null,
   "id": "242a3a84-0eb9-4750-8f94-ff94ae864d95",
   "metadata": {},
   "outputs": [],
   "source": [
    "# canvas.circle(x_cen, y_cen, r, stroke=1, fill=0)\n",
    "canvas.setFillColor(colors.magenta)\n",
    "canvas.setStrokeColor(colors.darkmagenta)\n",
    "canvas.circle(14 * cm, 9 * cm, 1 * cm, stroke=1, fill=1)"
   ]
  },
  {
   "cell_type": "code",
   "execution_count": null,
   "id": "962497e6-6090-4b39-a3d7-972ea28d0048",
   "metadata": {},
   "outputs": [],
   "source": [
    "# canvas.roundRect(x, y, width, height, radius, stroke=1, fill=0)\n",
    "canvas.setFillColor(colors.turquoise)\n",
    "canvas.setStrokeColor(colors.darkturquoise)\n",
    "canvas.roundRect(16 * cm, 8 * cm, 2 * cm, 1 * cm, 0.4 * cm, stroke=1, fill=1)"
   ]
  },
  {
   "cell_type": "markdown",
   "id": "896f4d43-71a2-475d-bbb4-d135e8c36c5d",
   "metadata": {},
   "source": [
    "Il faut comprendre ici un morceau d'ellipse. Les coordonnées permettant d'écrire les positions du rectangle contenant l'image si l'ellipse serait entière"
   ]
  },
  {
   "cell_type": "code",
   "execution_count": null,
   "id": "bee722ec-3f51-4616-9dc1-8cc0042adfdf",
   "metadata": {},
   "outputs": [],
   "source": [
    "# canvas.wedge(x1,y1, x2,y2, startAng, extent, stroke=1, fill=0)\n",
    "canvas.setFillColor(colors.deeppink)\n",
    "canvas.setStrokeColor(colors.deepskyblue)\n",
    "canvas.wedge(2 * cm, 6 * cm, 6 * cm, 7 * cm, 15, 55, stroke=1, fill=1)\n",
    "canvas.wedge(8 * cm, 6 * cm, 12 * cm, 7 * cm, 15, 155, stroke=1, fill=1)\n",
    "canvas.wedge(14 * cm, 6 * cm, 18 * cm, 7 * cm, 15, 255, stroke=1, fill=1)"
   ]
  },
  {
   "cell_type": "code",
   "execution_count": null,
   "id": "6c361557-1bb3-4f32-879f-a25fa0c3ecb1",
   "metadata": {},
   "outputs": [],
   "source": [
    "# canvas.save()"
   ]
  },
  {
   "cell_type": "markdown",
   "id": "cadc663a-85a5-4e65-8264-76ea72103e85",
   "metadata": {},
   "source": [
    "Graphiques avancés\n",
    "--"
   ]
  },
  {
   "cell_type": "code",
   "execution_count": null,
   "id": "1947bb43-8460-490f-af50-7b032df13c5d",
   "metadata": {},
   "outputs": [],
   "source": [
    "from reportlab.graphics.charts.piecharts import Pie\n",
    "from reportlab.graphics.shapes import Drawing\n",
    "\n",
    "d = Drawing(200, 100)\n",
    "\n",
    "pc = Pie()\n",
    "pc.x = 65\n",
    "pc.y = 15\n",
    "pc.width = 70\n",
    "pc.height = 70\n",
    "pc.data = [10,20,30,40,50,60]\n",
    "pc.labels = ['a','b','c','d','e','f']\n",
    "\n",
    "pc.slices.strokeWidth=0.5\n",
    "pc.slices[3].popout = 10\n",
    "pc.slices[3].strokeWidth = 2\n",
    "pc.slices[3].strokeDashArray = [2,2]\n",
    "pc.slices[3].labelRadius = 1.75\n",
    "pc.slices[3].fontColor = colors.red\n",
    "d.add(pc)"
   ]
  },
  {
   "cell_type": "code",
   "execution_count": null,
   "id": "2e05c92d-6958-43b3-b7d9-20052c219430",
   "metadata": {},
   "outputs": [],
   "source": [
    "d.drawOn(canvas, 2 * cm, 16* cm)"
   ]
  },
  {
   "cell_type": "code",
   "execution_count": null,
   "id": "84068c29-a1f1-486b-b0bb-17b6eed4f70f",
   "metadata": {},
   "outputs": [],
   "source": [
    "# canvas.save()"
   ]
  },
  {
   "cell_type": "code",
   "execution_count": null,
   "id": "49262a2d-5aba-408d-8380-c61555cef4e8",
   "metadata": {},
   "outputs": [],
   "source": [
    "from reportlab.lib.validators import Auto\n",
    "from reportlab.graphics.charts.legends import Legend\n",
    "from reportlab.graphics.charts.piecharts import Pie\n",
    "from reportlab.graphics.shapes import Drawing, String\n",
    "\n",
    "\n",
    "data = list(range(15, 105, 15))\n",
    "\n",
    "drawing = Drawing(width=400, height=200)\n",
    "drawing.add(String(170, 40, 'This is a pie chart', fontSize=14))\n",
    "\n",
    "pie = Pie()\n",
    "pie.sideLabels = True\n",
    "pie.x = 150\n",
    "pie.y = 65\n",
    "pie.data = data\n",
    "pie.labels = None\n",
    "pie.slices.strokeWidth = 0.5\n",
    "drawing.add(pie)\n",
    "\n",
    "legend = Legend()\n",
    "legend.alignment = 'right'\n",
    "legend.x = 10\n",
    "legend.y = 70\n",
    "legend.colorNamePairs = Auto(obj=pie)\n",
    "drawing.add(legend)"
   ]
  },
  {
   "cell_type": "code",
   "execution_count": null,
   "id": "5a046b08-0e1b-414b-85f4-a28439d92d3e",
   "metadata": {},
   "outputs": [],
   "source": [
    "drawing.drawOn(canvas, 4 * cm, 0 * cm)"
   ]
  },
  {
   "cell_type": "code",
   "execution_count": null,
   "id": "e7dff941-585a-470c-9161-fc73cc021034",
   "metadata": {},
   "outputs": [],
   "source": [
    "# canvas.save()"
   ]
  },
  {
   "cell_type": "code",
   "execution_count": null,
   "id": "a06d2df4-61af-4b2b-858b-19427c12f897",
   "metadata": {},
   "outputs": [],
   "source": [
    "from reportlab.graphics.shapes import Drawing\n",
    "from reportlab.graphics.charts.barcharts import VerticalBarChart\n",
    "\n",
    "drawing = Drawing(8 * cm, 4 * cm)\n",
    "\n",
    "data = [\n",
    "        (13, 5, 20, 22, 37, 45, 19, 4),\n",
    "        (14, 6, 21, 23, 38, 46, 20, 5)\n",
    "        ]\n",
    "\n",
    "bc = VerticalBarChart()\n",
    "bc.x = 1 * cm\n",
    "bc.y = 1 * cm\n",
    "bc.height = 2.5 * cm\n",
    "bc.width = 6 * cm\n",
    "bc.data = data\n",
    "bc.strokeColor = colors.black\n",
    "\n",
    "bc.valueAxis.valueMin = 0\n",
    "bc.valueAxis.valueMax = 50\n",
    "bc.valueAxis.valueStep = 10\n",
    "\n",
    "bc.categoryAxis.labels.boxAnchor = 'ne'\n",
    "bc.categoryAxis.labels.dx = 8\n",
    "bc.categoryAxis.labels.dy = -2\n",
    "bc.categoryAxis.labels.angle = 30\n",
    "bc.categoryAxis.categoryNames = ['Jan-99','Feb-99','Mar-99', 'Apr-99','May-99','Jun-99','Jul-99','Aug-99']\n",
    "\n",
    "drawing.add(bc)"
   ]
  },
  {
   "cell_type": "code",
   "execution_count": null,
   "id": "9f2aa8fa-fa90-4120-b6cf-6b5cf69c4159",
   "metadata": {},
   "outputs": [],
   "source": [
    "drawing.drawOn(canvas, 1 * cm, 12 * cm)"
   ]
  },
  {
   "cell_type": "code",
   "execution_count": null,
   "id": "6853efba-bffe-4857-8c6e-0b110927c766",
   "metadata": {},
   "outputs": [],
   "source": [
    "# canvas.save()"
   ]
  },
  {
   "cell_type": "code",
   "execution_count": null,
   "id": "5ad845b2-f703-4ef8-a7cc-e408bb3d8c4f",
   "metadata": {},
   "outputs": [],
   "source": [
    "bc.categoryAxis.style = 'stacked'\n",
    "drawing.drawOn(canvas, 10 * cm, 10.5 * cm)"
   ]
  },
  {
   "cell_type": "code",
   "execution_count": null,
   "id": "6db302fa-1a49-4604-bbde-4cb6a4682347",
   "metadata": {},
   "outputs": [],
   "source": [
    "canvas.save()"
   ]
  },
  {
   "cell_type": "markdown",
   "id": "916b2ba9-4359-47de-b715-cba47a1d471e",
   "metadata": {},
   "source": [
    "---"
   ]
  }
 ],
 "metadata": {
  "kernelspec": {
   "display_name": "Python 3 (ipykernel)",
   "language": "python",
   "name": "python3"
  },
  "language_info": {
   "codemirror_mode": {
    "name": "ipython",
    "version": 3
   },
   "file_extension": ".py",
   "mimetype": "text/x-python",
   "name": "python",
   "nbconvert_exporter": "python",
   "pygments_lexer": "ipython3",
   "version": "3.11.8"
  }
 },
 "nbformat": 4,
 "nbformat_minor": 5
}
