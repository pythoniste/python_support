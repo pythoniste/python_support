{
 "cells": [
  {
   "cell_type": "code",
   "execution_count": null,
   "id": "84e4c496-2d6f-41e3-8c11-18f8436b83b8",
   "metadata": {},
   "outputs": [],
   "source": []
  },
  {
   "cell_type": "code",
   "execution_count": null,
   "id": "ee4986ee-cf11-4736-b6d6-74bbfab02e35",
   "metadata": {},
   "outputs": [],
   "source": [
    "# You should execute this line to install drawsvg\n",
    "import subprocess\n",
    "print(subprocess.getstatusoutput(\"pip install drawsvg[all]\"))"
   ]
  },
  {
   "cell_type": "code",
   "execution_count": null,
   "id": "cfcf5d05-5003-4a9f-8052-1ebc2ceb4981",
   "metadata": {},
   "outputs": [],
   "source": [
    "import drawsvg as dw"
   ]
  },
  {
   "cell_type": "code",
   "execution_count": null,
   "id": "5b0be784-85cd-408e-ba28-78847bdd1327",
   "metadata": {},
   "outputs": [],
   "source": [
    "d = dw.Drawing(400, 300, id_prefix='pic')"
   ]
  },
  {
   "cell_type": "code",
   "execution_count": null,
   "id": "01070b96-b61a-42c5-b883-1f7f2a43f608",
   "metadata": {},
   "outputs": [],
   "source": [
    "line = dw.Line(130, 30, 190, 90, stroke='black')"
   ]
  },
  {
   "cell_type": "code",
   "execution_count": null,
   "id": "f089f293-40f4-41e7-a468-bbd8b91e1821",
   "metadata": {},
   "outputs": [],
   "source": [
    "d.append(line)"
   ]
  },
  {
   "cell_type": "code",
   "execution_count": null,
   "id": "094edd09-5082-4c76-ae30-423de3f2dd4a",
   "metadata": {},
   "outputs": [],
   "source": [
    "lines = dw.Lines(10, 190, 10, 110, 80, 190, 80, 110, fill='none', stroke='black')"
   ]
  },
  {
   "cell_type": "code",
   "execution_count": null,
   "id": "510984e3-b543-46d7-88e3-d2e845b6751a",
   "metadata": {},
   "outputs": [],
   "source": [
    "d.append(lines)"
   ]
  },
  {
   "cell_type": "code",
   "execution_count": null,
   "id": "6780c286-bc23-4c12-a4c0-b12631b3111d",
   "metadata": {},
   "outputs": [],
   "source": [
    "x = [150 + x * 10 for x in range(20)]\n",
    "y = [80, 20] * 10\n",
    "xy = [item for sublist in zip(x, y) for item in sublist]\n",
    "d.append(dw.Lines(*xy, stroke='black', stroke_width=5, fill='none'))"
   ]
  },
  {
   "cell_type": "code",
   "execution_count": null,
   "id": "69ae405b-cc13-47f2-8731-8d868c79ce67",
   "metadata": {},
   "outputs": [],
   "source": [
    "polygon = dw.Lines(15, 10, 55, 10, 45, 20, 5, 20, fill='red', stroke='black', close='true')\n",
    "d.append(polygon)"
   ]
  },
  {
   "cell_type": "code",
   "execution_count": null,
   "id": "cda571bc-7416-4638-8c00-b4086a0a79cc",
   "metadata": {},
   "outputs": [],
   "source": [
    "star = dw.Lines(48, 16, 16, 96, 96, 48, 0, 48, 88, 96, stroke='black', fill='none', close='true')\n",
    "d.append(star)"
   ]
  },
  {
   "cell_type": "code",
   "execution_count": null,
   "id": "0af65be6-bb5c-4424-9772-e3fe3a89877a",
   "metadata": {},
   "outputs": [],
   "source": [
    "d"
   ]
  },
  {
   "cell_type": "code",
   "execution_count": null,
   "id": "637787a5-2103-4ccd-931f-3deeeffd8b5e",
   "metadata": {},
   "outputs": [],
   "source": [
    "d.append(dw.Rectangle(10, 210, 10, 20))"
   ]
  },
  {
   "cell_type": "code",
   "execution_count": null,
   "id": "8325634b-801c-4312-b5d8-dd0502a7a2d9",
   "metadata": {},
   "outputs": [],
   "source": [
    "d.append(dw.Rectangle(30, 210, 10, 20, fill='none', stroke='black'))"
   ]
  },
  {
   "cell_type": "code",
   "execution_count": null,
   "id": "b5fdd199-95e1-4a88-9ba4-bd839b08e4a3",
   "metadata": {},
   "outputs": [],
   "source": [
    "d.append(dw.Rectangle(50, 210, 10, 20, fill='#0000ff', stroke='red', stroke_width=7, stroke_opacity=0.5))"
   ]
  },
  {
   "cell_type": "code",
   "execution_count": null,
   "id": "80871b51-4152-4498-bd14-e7b91598a135",
   "metadata": {},
   "outputs": [],
   "source": [
    "d.append(dw.Rectangle(70, 210, 10, 20, fill='yellow', fill_opacity=0.5, stroke='green', stroke_width=2, stroke_dasharray='5,2'))"
   ]
  },
  {
   "cell_type": "code",
   "execution_count": null,
   "id": "39dc5d34-0414-4251-92c6-ec285e71f279",
   "metadata": {},
   "outputs": [],
   "source": [
    "d.append(dw.Rectangle(90, 210, 10, 20, rx='1', ry='1', stroke='black', fill='none'))"
   ]
  },
  {
   "cell_type": "code",
   "execution_count": null,
   "id": "c2e3dd38-7fa5-4f15-9876-c474abbe742d",
   "metadata": {},
   "outputs": [],
   "source": [
    "d.append(dw.Rectangle(110, 210, 10, 20, ry='2', stroke='black', fill='none')) # If only one is given, it applies to both"
   ]
  },
  {
   "cell_type": "code",
   "execution_count": null,
   "id": "b2aa63e4-2cfd-40a8-acb4-408df8500516",
   "metadata": {},
   "outputs": [],
   "source": [
    "d.append(dw.Rectangle(130, 210, 10, 20, rx='4', stroke='black', fill='none'))"
   ]
  },
  {
   "cell_type": "code",
   "execution_count": null,
   "id": "d9271dde-cda0-4762-8327-9050cf90d57a",
   "metadata": {},
   "outputs": [],
   "source": [
    "d.append(dw.Rectangle(150, 210, 10, 20, rx='3', ry='1', stroke='black', fill='none')) # Rx and ry unequal"
   ]
  },
  {
   "cell_type": "code",
   "execution_count": null,
   "id": "cd87846a-f766-404f-933e-d08607882646",
   "metadata": {},
   "outputs": [],
   "source": [
    "d.append(dw.Rectangle(170, 210, 10, 20, rx='1', ry='3', stroke='black', fill='none'))"
   ]
  },
  {
   "cell_type": "code",
   "execution_count": null,
   "id": "4f819300-44ea-4e6c-8a1c-b24ec92ec147",
   "metadata": {},
   "outputs": [],
   "source": [
    "d.append(dw.Circle(200, 210, 10))"
   ]
  },
  {
   "cell_type": "code",
   "execution_count": null,
   "id": "66aa24f9-81db-41d8-a8b8-e77e86f04886",
   "metadata": {},
   "outputs": [],
   "source": [
    "d.append(dw.Circle(235, 210, 10, stroke='black', fill='none'))"
   ]
  },
  {
   "cell_type": "code",
   "execution_count": null,
   "id": "0812979e-e6b9-4f3c-ae68-444923bbb19f",
   "metadata": {},
   "outputs": [],
   "source": [
    "d.append(dw.Circle(270, 210, 10, stroke='black', fill='none', stroke_width=5))"
   ]
  },
  {
   "cell_type": "code",
   "execution_count": null,
   "id": "98617fd6-feaa-419d-b323-0bc6a324e80a",
   "metadata": {},
   "outputs": [],
   "source": [
    "d.append(dw.Ellipse(305, 210, 10, 20))"
   ]
  },
  {
   "cell_type": "code",
   "execution_count": null,
   "id": "0ed985b8-d3d5-4a76-8c8d-23d8b8f9a457",
   "metadata": {},
   "outputs": [],
   "source": [
    "d.append(dw.Ellipse(340, 210, 10, 20, stroke='black', fill='none'))"
   ]
  },
  {
   "cell_type": "code",
   "execution_count": null,
   "id": "adaad67e-cc75-4d91-b425-da5230307ffc",
   "metadata": {},
   "outputs": [],
   "source": [
    "d.append(dw.Ellipse(275, 210, 10, 20, stroke='black',fill='none'))"
   ]
  },
  {
   "cell_type": "code",
   "execution_count": null,
   "id": "6c28231f-6ab6-4dd7-a014-3c6fb4aea851",
   "metadata": {},
   "outputs": [],
   "source": [
    "d.save_svg('test.svg')"
   ]
  },
  {
   "cell_type": "code",
   "execution_count": null,
   "id": "1ad01255-b4a5-44ba-a2c8-ba8ea8bf5ed8",
   "metadata": {},
   "outputs": [],
   "source": [
    "d"
   ]
  },
  {
   "cell_type": "code",
   "execution_count": null,
   "id": "7160d2aa-937e-4de0-8382-35056f57a6a6",
   "metadata": {},
   "outputs": [],
   "source": [
    "import drawsvg as draw\n",
    "\n",
    "# Draw a frame of the animation\n",
    "def draw_frame(t):\n",
    "    d = draw.Drawing(2, 6.05, origin=(-1, -5))\n",
    "    d.set_render_size(h=300)\n",
    "    d.append(draw.Rectangle(-2, -6, 4, 8, fill='white'))\n",
    "    d.append(draw.Rectangle(-1, 1, 2, 0.05, fill='brown'))\n",
    "    t = (t + 1) % 2 - 1\n",
    "    y = t**2 * 4 - 4\n",
    "    d.append(draw.Circle(0, y, 1, fill='lime'))\n",
    "    return d\n",
    "\n",
    "with draw.frame_animate_jupyter(draw_frame, delay=0.05) as anim:\n",
    "# Or:\n",
    "#with draw.frame_animate_video('example6.gif', draw_frame, duration=0.05) as anim:\n",
    "# Or:\n",
    "#with draw.frame_animate_spritesheet('example6.png', draw_frame, row_length=10) as anim:\n",
    "    # Add each frame to the animation\n",
    "    for i in range(20):\n",
    "        anim.draw_frame(i/10)\n",
    "    for i in range(20):\n",
    "        anim.draw_frame(i/10)\n",
    "    for i in range(20):\n",
    "        anim.draw_frame(i/10)"
   ]
  },
  {
   "cell_type": "code",
   "execution_count": null,
   "id": "a60206c0-ed6e-477f-abb5-d9dee6562361",
   "metadata": {},
   "outputs": [],
   "source": [
    "import drawsvg as draw\n",
    "\n",
    "d = draw.Drawing(300, 100)\n",
    "d.set_pixel_scale(2)\n",
    "\n",
    "# Use groups to contain other elements\n",
    "# Children elements of groups inherit the coordinate system (transform)\n",
    "# and attribute values\n",
    "group = draw.Group(fill='orange', transform='rotate(-20)')\n",
    "group.append(draw.Rectangle(0, 10, 20, 40))  # This rectangle will be orange\n",
    "group.append(draw.Circle(30, 40, 10))  # This circle will also be orange\n",
    "group.append(draw.Circle(50, 40, 10, fill='green'))  # This circle will not\n",
    "d.append(group)\n",
    "\n",
    "# Use the Use element to make duplicates of elements\n",
    "# Each duplicate can be placed at an offset (x, y) location and any additional\n",
    "# attributes (like fill color) are inherited if the element didn't specify them.\n",
    "d.append(draw.Use(group, 80, 0, stroke='black', stroke_width=1))\n",
    "d.append(draw.Use(group, 80, 20, stroke='blue', stroke_width=2))\n",
    "d.append(draw.Use(group, 80, 40, stroke='red', stroke_width=3))\n",
    "\n",
    "d.display_inline()"
   ]
  },
  {
   "cell_type": "code",
   "execution_count": null,
   "id": "12727c98-81ff-4a5a-a77c-08b962a8c7e0",
   "metadata": {},
   "outputs": [],
   "source": [
    "import drawsvg as draw\n",
    "\n",
    "d = draw.Drawing(1.5, 0.8, origin='center')\n",
    "\n",
    "# Background pattern (not supported by Cairo, d.rasterize() will not show it)\n",
    "pattern = draw.Pattern(width=0.13, height=0.23)\n",
    "pattern.append(draw.Rectangle(0, 0, .1, .1, fill='yellow'))\n",
    "pattern.append(draw.Rectangle(0, .1, .1, .1, fill='orange'))\n",
    "d.draw(draw.Rectangle(-0.75, -0.5, 1.5, 1, fill=pattern, fill_opacity=0.4))\n",
    "\n",
    "# Create gradient\n",
    "gradient = draw.RadialGradient(0, 0.35, 0.7*10)\n",
    "gradient.add_stop(0.5/0.7/10, 'green', 1)\n",
    "gradient.add_stop(1/10, 'red', 0)\n",
    "\n",
    "# Draw a shape to fill with the gradient\n",
    "p = draw.Path(fill=gradient, stroke='black', stroke_width=0.002)\n",
    "p.arc(0, 0.35, 0.7, -30, -120, cw=False)\n",
    "p.arc(0, 0.35, 0.5, -120, -30, cw=True, include_l=True)\n",
    "p.Z()\n",
    "d.append(p)\n",
    "\n",
    "# Draw another shape to fill with the same gradient\n",
    "p = draw.Path(fill=gradient, stroke='red', stroke_width=0.002)\n",
    "p.arc(0, 0.35, 0.75, -130, -160, cw=False)\n",
    "p.arc(0, 0.35, 0, -160, -130, cw=True, include_l=True)\n",
    "p.Z()\n",
    "d.append(p)\n",
    "\n",
    "# Another gradient\n",
    "gradient2 = draw.LinearGradient(0.1, 0.35, 0.1+0.6, 0.35+0.2)\n",
    "gradient2.add_stop(0, 'green', 1)\n",
    "gradient2.add_stop(1, 'red', 0)\n",
    "d.append(draw.Rectangle(0.1, 0.15, 0.6, 0.2,\n",
    "                        stroke='black', stroke_width=0.002,\n",
    "                        fill=gradient2))\n",
    "\n",
    "# Display\n",
    "d.set_render_size(w=600)\n",
    "d"
   ]
  },
  {
   "cell_type": "code",
   "execution_count": null,
   "id": "acd8181b-6bf6-4d37-a599-8aea175b7091",
   "metadata": {},
   "outputs": [],
   "source": [
    "import drawsvg as draw\n",
    "\n",
    "d = draw.Drawing(200, 100, origin='center')\n",
    "\n",
    "# Draw an irregular polygon\n",
    "d.append(draw.Lines(-80, 45,\n",
    "                     70, 49,\n",
    "                     95, -49,\n",
    "                    -90, -40,\n",
    "                    close=False,\n",
    "            fill='#eeee00',\n",
    "            stroke='black'))\n",
    "\n",
    "# Draw a rectangle\n",
    "r = draw.Rectangle(-80, -50, 40, 50, fill='#1248ff')\n",
    "r.append_title(\"Our first rectangle\")  # Add a tooltip\n",
    "d.append(r)\n",
    "\n",
    "# Draw a circle\n",
    "d.append(draw.Circle(-40, 10, 30,\n",
    "        fill='red', stroke_width=2, stroke='black'))\n",
    "\n",
    "# Draw an arbitrary path (a triangle in this case)\n",
    "p = draw.Path(stroke_width=2, stroke='lime', fill='black', fill_opacity=0.2)\n",
    "p.M(-10, -20)  # Start path at point (-10, -20)\n",
    "p.C(30, 10, 30, -50, 70, -20)  # Draw a curve to (70, -20)\n",
    "d.append(p)\n",
    "\n",
    "# Draw text\n",
    "d.append(draw.Text('Basic text', 8, -10, -35, fill='blue'))  # 8pt text at (-10, -35)\n",
    "d.append(draw.Text('Path text', 8, path=p, text_anchor='start', line_height=1))\n",
    "d.append(draw.Text(['Multi-line', 'text'], 8, path=p, text_anchor='end', center=True))\n",
    "\n",
    "# Draw multiple circular arcs\n",
    "d.append(draw.ArcLine(60, 20, 20, 60, 270,\n",
    "        stroke='red', stroke_width=5, fill='red', fill_opacity=0.2))\n",
    "d.append(draw.Arc(60, 20, 20, 90, -60, cw=True,\n",
    "        stroke='green', stroke_width=3, fill='none'))\n",
    "d.append(draw.Arc(60, 20, 20, -60, 90, cw=False,\n",
    "        stroke='blue', stroke_width=1, fill='black', fill_opacity=0.3))\n",
    "\n",
    "# Draw arrows\n",
    "arrow = draw.Marker(-0.1, -0.51, 0.9, 0.5, scale=4, orient='auto')\n",
    "arrow.append(draw.Lines(-0.1, 0.5, -0.1, -0.5, 0.9, 0, fill='red', close=True))\n",
    "p = draw.Path(stroke='red', stroke_width=2, fill='none',\n",
    "        marker_end=arrow)  # Add an arrow to the end of a path\n",
    "p.M(20, 40).L(20, 27).L(0, 20)  # Chain multiple path commands\n",
    "d.append(p)\n",
    "d.append(draw.Line(30, 20, 0, 10,\n",
    "        stroke='red', stroke_width=2, fill='none',\n",
    "        marker_end=arrow))  # Add an arrow to the end of a line\n",
    "\n",
    "d.set_pixel_scale(2)  # Set number of pixels per geometry unit\n",
    "#d.set_render_size(400, 200)  # Alternative to set_pixel_scale\n",
    "d.save_svg('example.svg')\n",
    "d.save_png('example.png')\n",
    "\n",
    "# Display in Jupyter notebook\n",
    "#d.rasterize()  # Display as PNG\n",
    "d  # Display as SVG"
   ]
  },
  {
   "cell_type": "code",
   "execution_count": null,
   "id": "8bb34259-0164-4ca2-9f34-9f7d17e482c5",
   "metadata": {},
   "outputs": [],
   "source": [
    "import drawsvg as draw\n",
    "\n",
    "d = draw.Drawing(400, 100, origin='center')\n",
    "d.embed_google_font('Permanent Marker', text=set('Text with custom font'))\n",
    "\n",
    "d.append(draw.Text('Text with custom font', 35, 0, 0, center=True,\n",
    "                   font_family='Permanent Marker', font_style='italic'))\n",
    "\n",
    "d.save_svg('font.svg')\n",
    "d  # Custom fonts work in most browsers but not in rasterize(), save_png(), or save_video()"
   ]
  },
  {
   "cell_type": "markdown",
   "id": "c88e0b1d-d688-4c8b-ad27-c3e920e2bbb8",
   "metadata": {},
   "source": [
    "---"
   ]
  }
 ],
 "metadata": {
  "kernelspec": {
   "display_name": "Python 3 (ipykernel)",
   "language": "python",
   "name": "python3"
  },
  "language_info": {
   "codemirror_mode": {
    "name": "ipython",
    "version": 3
   },
   "file_extension": ".py",
   "mimetype": "text/x-python",
   "name": "python",
   "nbconvert_exporter": "python",
   "pygments_lexer": "ipython3",
   "version": "3.11.8"
  }
 },
 "nbformat": 4,
 "nbformat_minor": 5
}
