{
 "cells": [
  {
   "cell_type": "markdown",
   "id": "ce78de45-6bb2-4839-a990-50f671db2c5a",
   "metadata": {},
   "source": [
    "Créer des documents ODT\n",
    "=="
   ]
  },
  {
   "cell_type": "code",
   "execution_count": null,
   "id": "4ebc2978-a56f-403e-aed0-a0b93877c8ea",
   "metadata": {},
   "outputs": [],
   "source": [
    "# You should execute this line to install odfdo\n",
    "import subprocess\n",
    "print(subprocess.getstatusoutput(\"pip install odfdo\"))"
   ]
  },
  {
   "cell_type": "code",
   "execution_count": null,
   "id": "c09646b9-78ff-458a-8ece-80c2969f76fb",
   "metadata": {},
   "outputs": [],
   "source": [
    "from odfdo import Document, Header, Paragraph"
   ]
  },
  {
   "cell_type": "code",
   "execution_count": null,
   "id": "aa537900-bb5c-489c-b389-5f0689b9f8d3",
   "metadata": {},
   "outputs": [],
   "source": [
    "document = Document(\"text\")"
   ]
  },
  {
   "cell_type": "code",
   "execution_count": null,
   "id": "591faaf5-8c05-49a8-88f4-06c6f1cbfcbd",
   "metadata": {},
   "outputs": [],
   "source": [
    "body = document.body"
   ]
  },
  {
   "cell_type": "code",
   "execution_count": null,
   "id": "4f5810d3-1209-493d-853a-a53bfa67b711",
   "metadata": {},
   "outputs": [],
   "source": [
    "body.clear()"
   ]
  },
  {
   "cell_type": "code",
   "execution_count": null,
   "id": "66602d98-f32b-4d53-a8d3-1a4579b61439",
   "metadata": {},
   "outputs": [],
   "source": [
    "body.append(Header(1, \"XML\"))"
   ]
  },
  {
   "cell_type": "code",
   "execution_count": null,
   "id": "dc181f8b-f4c2-4c09-ace9-120a05b93db2",
   "metadata": {},
   "outputs": [],
   "source": [
    "body.append(Header(2, \"DOM\"))"
   ]
  },
  {
   "cell_type": "code",
   "execution_count": null,
   "id": "d31e7d5c-3031-4494-8600-65cf511c8263",
   "metadata": {},
   "outputs": [],
   "source": [
    "body.append(\n",
    "    Paragraph(\n",
    "        \"Comme cela a été signalé, il existe xml.dom.minidom, qui est une implémentation allégée \"\n",
    "        \"de DOM, plus proche de ce que l’on rencontre dans les autres langages de programmation \"\n",
    "        \"et qui est donc potentiellement plus facile à prendre en main pour ceux venant du monde \"\n",
    "        \"de Java ou de PHP, par exemple, alors que lxml est idéale pour ceux qui recherchent efficacité et performance.\"\n",
    "    )\n",
    ")"
   ]
  },
  {
   "cell_type": "code",
   "execution_count": null,
   "id": "586b98cb-60aa-4776-ac28-dc5d8acd9845",
   "metadata": {},
   "outputs": [],
   "source": [
    "body.append(Header(2, \"SAX\"))"
   ]
  },
  {
   "cell_type": "code",
   "execution_count": null,
   "id": "111ec7ad-2f60-46f2-b16f-d14ed134ab32",
   "metadata": {},
   "outputs": [],
   "source": [
    "body.append(\n",
    "    Paragraph(\n",
    "        \"La bibliothèque lxml est, avant toute chose, faite pour parser des fichiers XML et \"\n",
    "        \"construire des arbres DOM. Cependant, elle dispose des outils nécessaires pour appliquer \"\n",
    "        \"les principes de SAX non pas directement sur le fichier XML, mais sur l’arbre DOM.\"\n",
    "    )\n",
    ")"
   ]
  },
  {
   "cell_type": "code",
   "execution_count": null,
   "id": "424b00e1-c08b-428b-b6fe-cbbc421ca948",
   "metadata": {},
   "outputs": [],
   "source": [
    "document.save(\"texte.odt\", pretty=True)"
   ]
  },
  {
   "cell_type": "markdown",
   "id": "a4ed4955-f450-4d1a-ac5f-44a7f2080a60",
   "metadata": {},
   "source": [
    "Listes\n",
    "--"
   ]
  },
  {
   "cell_type": "code",
   "execution_count": null,
   "id": "f6a6f7ea-4f72-4daf-adac-7946f0fe5b07",
   "metadata": {},
   "outputs": [],
   "source": [
    "from odfdo import List, ListItem"
   ]
  },
  {
   "cell_type": "code",
   "execution_count": null,
   "id": "7bd48464-7e7f-4c8e-8101-b55bb33a95e5",
   "metadata": {},
   "outputs": [],
   "source": [
    "body.append(Header(1, \"ODF\"))"
   ]
  },
  {
   "cell_type": "code",
   "execution_count": null,
   "id": "871e7dcc-9d09-4c85-95fc-4614790f0ed3",
   "metadata": {},
   "outputs": [],
   "source": [
    "my_list = List([\"ODT\", \"ODS\"])"
   ]
  },
  {
   "cell_type": "code",
   "execution_count": null,
   "id": "0aa68cdb-0cbc-4383-ae76-03574c618af0",
   "metadata": {},
   "outputs": [],
   "source": [
    "body.append(my_list)"
   ]
  },
  {
   "cell_type": "code",
   "execution_count": null,
   "id": "e5b54a27-8347-443c-916c-a7388392fd76",
   "metadata": {},
   "outputs": [],
   "source": [
    "item = ListItem(\"ODP\")"
   ]
  },
  {
   "cell_type": "code",
   "execution_count": null,
   "id": "d1ce6d50-d0f0-453e-8561-478fc94e958e",
   "metadata": {},
   "outputs": [],
   "source": [
    "my_list.append_item(item)"
   ]
  },
  {
   "cell_type": "code",
   "execution_count": null,
   "id": "f0e17533-5874-4306-971f-cca16e7ec220",
   "metadata": {},
   "outputs": [],
   "source": [
    "document.save(\"texte.odt\", pretty=True)"
   ]
  },
  {
   "cell_type": "code",
   "execution_count": null,
   "id": "79b60970-ace2-4a03-8b7e-ecfa32569def",
   "metadata": {},
   "outputs": [],
   "source": [
    "item.append(List([\"Open\", \"Document\", \"Presentation\"]))"
   ]
  },
  {
   "cell_type": "code",
   "execution_count": null,
   "id": "6fb8b68d-4dd1-4dc7-bf40-118059506919",
   "metadata": {},
   "outputs": [],
   "source": [
    "my_list.get_item(0)"
   ]
  },
  {
   "cell_type": "code",
   "execution_count": null,
   "id": "1843ff7f-0a50-409d-8920-1d610373ca03",
   "metadata": {},
   "outputs": [],
   "source": [
    "odt = my_list.get_item(content=\"ODT\")"
   ]
  },
  {
   "cell_type": "code",
   "execution_count": null,
   "id": "7e61b7f2-5d5a-49fc-acbc-0f5ab1edf3b8",
   "metadata": {},
   "outputs": [],
   "source": [
    "odt"
   ]
  },
  {
   "cell_type": "code",
   "execution_count": null,
   "id": "681ac3ed-7e5c-40f6-ab07-31c5bb72e4c1",
   "metadata": {},
   "outputs": [],
   "source": [
    "my_list.insert_item(\"ODF\", position=1)"
   ]
  },
  {
   "cell_type": "code",
   "execution_count": null,
   "id": "20e7897b-a8df-449e-a284-86409a090a99",
   "metadata": {},
   "outputs": [],
   "source": [
    "my_list.insert_item(\"ODG\", before=odt)"
   ]
  },
  {
   "cell_type": "code",
   "execution_count": null,
   "id": "1d5ee657-306a-4ec6-88d8-a56d37549d3c",
   "metadata": {},
   "outputs": [],
   "source": [
    "document.save(\"texte.odt\", pretty=True)"
   ]
  },
  {
   "cell_type": "markdown",
   "id": "91a8bb97-ea6f-4aa3-9053-51d1f684d8da",
   "metadata": {},
   "source": [
    "Tableaux\n",
    "--"
   ]
  },
  {
   "cell_type": "code",
   "execution_count": null,
   "id": "840654d4-6880-44da-bf91-72135a3cfab8",
   "metadata": {},
   "outputs": [],
   "source": [
    "from odfdo import (\n",
    "    Cell,\n",
    "    Row,\n",
    "    Table,\n",
    ")"
   ]
  },
  {
   "cell_type": "code",
   "execution_count": null,
   "id": "341de5ef-3cc3-4529-a87e-a178e7346588",
   "metadata": {},
   "outputs": [],
   "source": [
    "table = Table(\"Table\")"
   ]
  },
  {
   "cell_type": "code",
   "execution_count": null,
   "id": "5f446eb5-be1b-43a4-9592-47a720eae063",
   "metadata": {},
   "outputs": [],
   "source": [
    "body.append(table)"
   ]
  },
  {
   "cell_type": "code",
   "execution_count": null,
   "id": "c7c93557-384e-41f7-aa6a-643ecb53926b",
   "metadata": {},
   "outputs": [],
   "source": [
    "row = Row()"
   ]
  },
  {
   "cell_type": "code",
   "execution_count": null,
   "id": "ec242044-dd41-47ee-b4c0-5efc13b4f42b",
   "metadata": {},
   "outputs": [],
   "source": [
    "row.set_values(list(\"ABCDE\"))"
   ]
  },
  {
   "cell_type": "code",
   "execution_count": null,
   "id": "09e486c7-4e91-4f94-9494-a79e78c73a84",
   "metadata": {},
   "outputs": [],
   "source": [
    "table.set_row(\"A1\", row)"
   ]
  },
  {
   "cell_type": "code",
   "execution_count": null,
   "id": "6a062528-ee1d-4774-9fe4-64fd49c563bc",
   "metadata": {},
   "outputs": [],
   "source": [
    "for j in range(1, 7):\n",
    "    row = Row()\n",
    "    for i in \"ABCDE\":\n",
    "        cell = Cell()\n",
    "        cell.set_value(f\"Case {i}{j}\")\n",
    "        row.set_cell(i, cell)\n",
    "    table.set_row(j, row)"
   ]
  },
  {
   "cell_type": "code",
   "execution_count": null,
   "id": "593a4ca9-f745-43c0-a9c1-94090705aa5f",
   "metadata": {},
   "outputs": [],
   "source": [
    "document.save(\"texte.odt\", pretty=True)"
   ]
  },
  {
   "cell_type": "markdown",
   "id": "bf02551e-2a75-4979-a748-b73ba4eaad7c",
   "metadata": {},
   "source": [
    "Styles\n",
    "--"
   ]
  },
  {
   "cell_type": "code",
   "execution_count": null,
   "id": "b6368b16-431d-4274-8b90-d6663913784d",
   "metadata": {},
   "outputs": [],
   "source": [
    "from odfdo import Style"
   ]
  },
  {
   "cell_type": "code",
   "execution_count": null,
   "id": "73bc79b8-b316-4dff-a5a0-258e6a6769ec",
   "metadata": {},
   "outputs": [],
   "source": [
    "style = Style(\n",
    "    family=\"paragraph\",\n",
    "    name=\"header_navy\",\n",
    "    display_name=\"header_navy\",\n",
    "    parent_style=\"Heading\",\n",
    "    area=\"text\",\n",
    "    bold=True,\n",
    "    color=\"navy\",\n",
    "    size=\"120%\",\n",
    ")"
   ]
  },
  {
   "cell_type": "code",
   "execution_count": null,
   "id": "bac07cdf-0672-43dd-9dd0-e378003b6cf1",
   "metadata": {},
   "outputs": [],
   "source": [
    "document.insert_style(style)"
   ]
  },
  {
   "cell_type": "code",
   "execution_count": null,
   "id": "f12e5c43-caad-42e7-ae91-333aab44b11d",
   "metadata": {},
   "outputs": [],
   "source": [
    "style.set_attribute(\"style:default-outline-level\", \"2\")"
   ]
  },
  {
   "cell_type": "code",
   "execution_count": null,
   "id": "cab00dcc-b40c-4c85-8853-7f8a3fab8d6a",
   "metadata": {},
   "outputs": [],
   "source": [
    "body.append(Header(1, \"Nouveau style\", style=\"header_navy\"))"
   ]
  },
  {
   "cell_type": "code",
   "execution_count": null,
   "id": "46e5e17d-cc7c-4002-8ef6-401fce5c2681",
   "metadata": {},
   "outputs": [],
   "source": [
    "document.save(\"texte.odt\", pretty=True)"
   ]
  },
  {
   "cell_type": "code",
   "execution_count": null,
   "id": "e52c8fe4-224e-40c6-9082-29dc077939b3",
   "metadata": {},
   "outputs": [],
   "source": [
    "style = Style(\n",
    "    family=\"paragraph\",\n",
    "    area=\"text\",\n",
    "    name=\"steel\",\n",
    "    display_name=\"steel\",\n",
    "    color=\"yellow\",\n",
    "    background_color=\"darkblue\",\n",
    ")\n",
    "style.set_properties(\n",
    "    area=\"graphic\",\n",
    "    properties={\n",
    "        \"draw:fill\": \"solid\",\n",
    "        \"draw:fill-color\": \"darkblue\",\n",
    "    },\n",
    ")\n",
    "document.insert_style(style)"
   ]
  },
  {
   "cell_type": "code",
   "execution_count": null,
   "id": "91304bda-f536-481b-9989-1a3030fbf43f",
   "metadata": {},
   "outputs": [],
   "source": [
    "style = Style(\n",
    "    family=\"text\",\n",
    "    name=\"italic_lime\",\n",
    "    display_name=\"italic_lime\",\n",
    "    italic=True,\n",
    "    size=\"120%\",\n",
    "    color=\"lime\",\n",
    ")\n",
    "document.insert_style(style)"
   ]
  },
  {
   "cell_type": "code",
   "execution_count": null,
   "id": "9df04d2a-0c8f-4c8f-9f77-21d21215daca",
   "metadata": {},
   "outputs": [],
   "source": [
    "paragraph = Paragraph(\n",
    "    \"Python est un langage de programmation interprété, multiparadigme et multiplateformes. \"\n",
    "    \"Il favorise la programmation impérative structurée, fonctionnelle et orientée objet. \"\n",
    "    \"Il est doté d'un typage dynamique fort, d'une gestion automatique de la mémoire par ramasse-miettes \"\n",
    "    \"et d'un système de gestion d'exceptions ; il est ainsi similaire à Perl, Ruby, Scheme, Smalltalk et Tcl.\",\n",
    "    style=\"steel\",\n",
    ")"
   ]
  },
  {
   "cell_type": "code",
   "execution_count": null,
   "id": "9a1d47ec-6a2a-4970-9fd1-df8df1d913f7",
   "metadata": {},
   "outputs": [],
   "source": [
    "paragraph.set_span(\"italic_lime\", regex=\"programmation\")"
   ]
  },
  {
   "cell_type": "code",
   "execution_count": null,
   "id": "9b72f7e7-2175-41f8-9429-6275699cab74",
   "metadata": {},
   "outputs": [],
   "source": [
    "body.append(paragraph)"
   ]
  },
  {
   "cell_type": "code",
   "execution_count": null,
   "id": "8ccb902a-e632-446f-bdc0-2579745e27e8",
   "metadata": {},
   "outputs": [],
   "source": [
    "document.save(\"texte.odt\", pretty=True)"
   ]
  },
  {
   "cell_type": "markdown",
   "id": "72a5fedf-9ca0-4eaf-a337-33e18a2333bc",
   "metadata": {},
   "source": [
    "Table des matières\n",
    "--"
   ]
  },
  {
   "cell_type": "code",
   "execution_count": null,
   "id": "3beff293-ec39-40ec-9b42-63a60d86ce81",
   "metadata": {},
   "outputs": [],
   "source": [
    "from odfdo import TOC"
   ]
  },
  {
   "cell_type": "code",
   "execution_count": null,
   "id": "8a1b3ba4-1846-4bc5-a602-c578d514a60b",
   "metadata": {},
   "outputs": [],
   "source": [
    "toc = TOC(title = \"La table de matière qu'elle est bien\")"
   ]
  },
  {
   "cell_type": "code",
   "execution_count": null,
   "id": "b4807435-7c1f-427f-a213-915ccf6bf3c0",
   "metadata": {},
   "outputs": [],
   "source": [
    "body.append(toc)"
   ]
  },
  {
   "cell_type": "code",
   "execution_count": null,
   "id": "c7e784a5-58c0-4036-80e4-71620cd27706",
   "metadata": {},
   "outputs": [],
   "source": [
    "toc.fill()"
   ]
  },
  {
   "cell_type": "code",
   "execution_count": null,
   "id": "590c6e06-4d80-4374-accb-16374d1805de",
   "metadata": {},
   "outputs": [],
   "source": [
    "document.save(\"texte.odt\", pretty=True)"
   ]
  },
  {
   "cell_type": "code",
   "execution_count": null,
   "id": "55f1514e-a010-4e0e-888c-ed62f3e99779",
   "metadata": {},
   "outputs": [],
   "source": [
    "toc.get_title()"
   ]
  },
  {
   "cell_type": "code",
   "execution_count": null,
   "id": "d41963c4-240f-46d8-9f11-4fd1b11633d4",
   "metadata": {},
   "outputs": [],
   "source": [
    "str(toc)"
   ]
  },
  {
   "cell_type": "markdown",
   "id": "8d0999e6-4fcc-443c-b276-9a476bf2e8c2",
   "metadata": {},
   "source": [
    "Annotations et notes de bas de page\n",
    "--"
   ]
  },
  {
   "cell_type": "code",
   "execution_count": null,
   "id": "96fb2f9b-21c7-4c18-b8a7-9d118e3f0cae",
   "metadata": {},
   "outputs": [],
   "source": [
    "mots = paragraph.text_recursive.split()"
   ]
  },
  {
   "cell_type": "code",
   "execution_count": null,
   "id": "ab2392a8-d117-43ff-8695-dcfa5dc53d41",
   "metadata": {},
   "outputs": [],
   "source": [
    "index = mots.index(\"ramasse-miettes\")"
   ]
  },
  {
   "cell_type": "code",
   "execution_count": null,
   "id": "5a1c2714-301b-4ff3-8dab-7b8474fae54e",
   "metadata": {},
   "outputs": [],
   "source": [
    "mots[index]"
   ]
  },
  {
   "cell_type": "code",
   "execution_count": null,
   "id": "c8715e58-4359-41a6-b8ee-5aa2679f4e94",
   "metadata": {},
   "outputs": [],
   "source": [
    "paragraph.insert_annotation(\n",
    "    after=\"ramasse-miettes\",  # The word after what the annotation is inserted.\n",
    "    body=\"récupérateur de mémoire, ou glaneur de cellules.\",  # The annotation itself, at the end of the page.\n",
    "    creator=\"Seb\",  # The author of the annotation.\n",
    "    # date= xxx              A datetime value, by default datetime.now().\n",
    ")"
   ]
  },
  {
   "cell_type": "code",
   "execution_count": null,
   "id": "c81bc0f6-dc25-4639-ad0c-8ee6280bc49d",
   "metadata": {},
   "outputs": [],
   "source": [
    "paragraph.insert_note(\n",
    "    after=\"d'exceptions\",  # The word after what the “¹” citation is inserted.\n",
    "    note_id=\"note1\",  # The unique identifier of the note in the document.\n",
    "    citation=\"1\",  # The symbol the user sees to follow the footnote.\n",
    "    body=(\n",
    "        \"un système de gestion d'exceptions permet de gérer les conditions exceptionnelles pendant l'exécution du programme. \"\n",
    "        \"Lorsqu'une exception se produit, l'exécution normale du programme est interrompue et l'exception est traitée.\"\n",
    "        # The footnote itself, at the end of the page.\n",
    "    ),\n",
    ")"
   ]
  },
  {
   "cell_type": "code",
   "execution_count": null,
   "id": "0d88be01-8058-4609-a427-1da89482eb62",
   "metadata": {},
   "outputs": [],
   "source": [
    "document.save(\"texte.odt\", pretty=True)"
   ]
  },
  {
   "cell_type": "markdown",
   "id": "d2329548-f6b1-4b00-aca8-0b4d06229a06",
   "metadata": {},
   "source": [
    "---"
   ]
  }
 ],
 "metadata": {
  "kernelspec": {
   "display_name": "Python 3 (ipykernel)",
   "language": "python",
   "name": "python3"
  },
  "language_info": {
   "codemirror_mode": {
    "name": "ipython",
    "version": 3
   },
   "file_extension": ".py",
   "mimetype": "text/x-python",
   "name": "python",
   "nbconvert_exporter": "python",
   "pygments_lexer": "ipython3",
   "version": "3.11.8"
  }
 },
 "nbformat": 4,
 "nbformat_minor": 5
}
