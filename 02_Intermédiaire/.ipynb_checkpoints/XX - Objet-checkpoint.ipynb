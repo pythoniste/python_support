{
 "cells": [
  {
   "cell_type": "markdown",
   "metadata": {},
   "source": [
    "Héritage\n",
    "==\n",
    "\n",
    "L'héritage est une technique permettant d'organiser la sémantique de son code et de capitaliser les fonctionnalités au bon niveau.\n",
    "\n",
    "Dans l'exemple suivant, nous créons une classe `Parallelogramme` avec deux méthodes permettant de calculer son *aire* et son *périmètre*."
   ]
  },
  {
   "cell_type": "code",
   "execution_count": null,
   "metadata": {},
   "outputs": [],
   "source": [
    "class Parallelogramme:\n",
    "    def __init__(self, longueur, largeur, petit_angle):\n",
    "        self.longueur = longueur\n",
    "        self.largeur = largeur\n",
    "        self.petit_angle = petit_angle\n",
    "\n",
    "    def perimetre(self):\n",
    "        return 2 * (self.longueur + self.largeur)\n",
    "\n",
    "    def aire(self):\n",
    "        return self.longueur * self.largeur\n",
    "\n",
    "    def grand_angle(self):\n",
    "        return 180 - self.petit_angle"
   ]
  },
  {
   "cell_type": "code",
   "execution_count": null,
   "metadata": {},
   "outputs": [],
   "source": [
    "parallelogramme = Parallelogramme(5, 2, 60)"
   ]
  },
  {
   "cell_type": "code",
   "execution_count": null,
   "metadata": {},
   "outputs": [],
   "source": [
    "parallelogramme.perimetre()"
   ]
  },
  {
   "cell_type": "code",
   "execution_count": null,
   "metadata": {},
   "outputs": [],
   "source": [
    "parallelogramme.aire()"
   ]
  },
  {
   "cell_type": "code",
   "execution_count": null,
   "metadata": {},
   "outputs": [],
   "source": [
    "parallelogramme.petit_angle, parallelogramme.grand_angle()"
   ]
  },
  {
   "cell_type": "markdown",
   "metadata": {},
   "source": [
    "Nous allons maintenant créer une classe carré. Au niveau sémantique, nous allons modifier la méthode permettant d'initialiser un objet, car pour un carré, la longueur est égale à la largeur, nous ne souhaitons pas répéter la donnée.\n",
    "\n",
    "Mais, nous n'allons pas tout redéfinir, nous allons simplement garder les mécanismes de la classe mère."
   ]
  },
  {
   "cell_type": "code",
   "execution_count": null,
   "metadata": {},
   "outputs": [],
   "source": [
    "class Losange(Parallelogramme):\n",
    "    def __init__(self, cote, petit_angle):\n",
    "        super().__init__(cote, cote, petit_angle)"
   ]
  },
  {
   "cell_type": "code",
   "execution_count": null,
   "metadata": {},
   "outputs": [],
   "source": [
    "losange = Losange(3, 60)"
   ]
  },
  {
   "cell_type": "markdown",
   "metadata": {},
   "source": [
    "Les méthodes définies dans la classe mère peuvent donc fonctionner normalement."
   ]
  },
  {
   "cell_type": "code",
   "execution_count": null,
   "metadata": {},
   "outputs": [],
   "source": [
    "losange.perimetre()"
   ]
  },
  {
   "cell_type": "code",
   "execution_count": null,
   "metadata": {},
   "outputs": [],
   "source": [
    "losange.aire()"
   ]
  },
  {
   "cell_type": "code",
   "execution_count": null,
   "metadata": {},
   "outputs": [],
   "source": [
    "losange.petit_angle, losange.grand_angle()"
   ]
  },
  {
   "cell_type": "markdown",
   "metadata": {},
   "source": [
    "Il est aussi possible de créer une classe `Rectangle` ainsi:"
   ]
  },
  {
   "cell_type": "code",
   "execution_count": null,
   "metadata": {},
   "outputs": [],
   "source": [
    "class Rectangle(Parallelogramme):\n",
    "    def __init__(self, longueur, largeur):\n",
    "        return super().__init__(longueur, largeur, 90)"
   ]
  },
  {
   "cell_type": "code",
   "execution_count": null,
   "metadata": {},
   "outputs": [],
   "source": [
    "rectangle = Rectangle(3, 4)"
   ]
  },
  {
   "cell_type": "code",
   "execution_count": null,
   "metadata": {},
   "outputs": [],
   "source": [
    "rectangle.perimetre()"
   ]
  },
  {
   "cell_type": "code",
   "execution_count": null,
   "metadata": {},
   "outputs": [],
   "source": [
    "rectangle.aire()"
   ]
  },
  {
   "cell_type": "code",
   "execution_count": null,
   "metadata": {},
   "outputs": [],
   "source": [
    "rectangle.petit_angle, rectangle.grand_angle()"
   ]
  },
  {
   "cell_type": "markdown",
   "metadata": {},
   "source": [
    "Enfin, il est également possible d'hériter de plusieurs parents. Voici un exemple:"
   ]
  },
  {
   "cell_type": "code",
   "execution_count": null,
   "metadata": {},
   "outputs": [],
   "source": [
    "class Carre(Rectangle, Losange):\n",
    "    def __init__(self, cote):\n",
    "        Parallelogramme.__init__(self, cote, cote, 90)"
   ]
  },
  {
   "cell_type": "code",
   "execution_count": null,
   "metadata": {},
   "outputs": [],
   "source": [
    "carre = Carre(3)"
   ]
  },
  {
   "cell_type": "code",
   "execution_count": null,
   "metadata": {},
   "outputs": [],
   "source": [
    "carre.perimetre()"
   ]
  },
  {
   "cell_type": "code",
   "execution_count": null,
   "metadata": {},
   "outputs": [],
   "source": [
    "carre.aire()"
   ]
  },
  {
   "cell_type": "code",
   "execution_count": null,
   "metadata": {},
   "outputs": [],
   "source": [
    "carre.petit_angle, carre.grand_angle()"
   ]
  },
  {
   "cell_type": "markdown",
   "metadata": {},
   "source": [
    "Nous avons ici un exemple d'héritage en losange."
   ]
  },
  {
   "cell_type": "markdown",
   "metadata": {},
   "source": [
    "```mermaid\n",
    "---\n",
    "title: Diagramme de classe\n",
    "---\n",
    "classDiagram\n",
    "    Parallelogramme <|-- Losange\n",
    "    Parallelogramme <|-- Rectangle\n",
    "    Losange <|-- Carre\n",
    "    Rectangle <|-- Carre\n",
    "```"
   ]
  },
  {
   "cell_type": "markdown",
   "metadata": {},
   "source": [
    "Il nous faut donc faire un petit point sur les mécanismes de l'héritage pour comprendre exactement ce qu'il se passe."
   ]
  },
  {
   "cell_type": "code",
   "execution_count": null,
   "metadata": {},
   "outputs": [],
   "source": [
    "class TestA:\n",
    "    def methode1(self):\n",
    "        print(\"méthode 1 de la classe testA\")\n",
    "    def methode2(self):\n",
    "        print(\"méthode 2 de la classe testA\")\n",
    "    def methode4(self):\n",
    "        print(\"méthode 4 de la classe testA\")\n",
    "\n",
    "class TestB(object):\n",
    "    def methode1(self):\n",
    "        print(\"méthode 1 de la classe testB\")\n",
    "    def methode3(self):\n",
    "        print(\"méthode 3 de la classe testB\")\n",
    "    def methode4(self):\n",
    "        print(\"méthode 4 de la classe testB\")\n",
    "\n",
    "class TestAB(TestA, TestB):\n",
    "    def methode1(self):\n",
    "        print(\"méthode 1 de la classe testAB\")\n",
    "\n",
    "ab = TestAB()\n",
    "ab.methode1()\n",
    "ab.methode2()\n",
    "ab.methode3()\n",
    "ab.methode4()"
   ]
  },
  {
   "cell_type": "code",
   "execution_count": null,
   "metadata": {},
   "outputs": [],
   "source": [
    "type.mro(TestAB)"
   ]
  },
  {
   "cell_type": "markdown",
   "metadata": {},
   "source": [
    "### Appel statique des méthodes parentes"
   ]
  },
  {
   "cell_type": "code",
   "execution_count": null,
   "metadata": {},
   "outputs": [],
   "source": [
    "class TestA:\n",
    "    def methode1(self):\n",
    "        print(\"méthode 1 de la classe testA\")\n",
    "    def methode2(self):\n",
    "        print(\"méthode 2 de la classe testA\")\n",
    "    def methode4(self):\n",
    "        print(\"méthode 4 de la classe testA\")\n",
    "\n",
    "class TestB(object):\n",
    "    def methode1(self):\n",
    "        print(\"méthode 1 de la classe testB\")\n",
    "    def methode3(self):\n",
    "        print(\"méthode 3 de la classe testB\")\n",
    "    def methode4(self):\n",
    "        print(\"méthode 4 de la classe testB\")\n",
    "\n",
    "class TestAB(TestA, TestB):\n",
    "    def methode1(self):\n",
    "        TestB.methode1(self)\n",
    "        print(\"méthode 1 de la classe testAB\")\n",
    "        TestA.methode1(self)\n",
    "    def methode4(self):\n",
    "        TestA.methode4(self)\n",
    "        TestB.methode4(self)\n",
    "        print(\"méthode 4 de la classe testAB\")\n",
    "\n",
    "ab = TestAB()\n",
    "ab.methode1()\n",
    "print(\"-------------\")\n",
    "ab.methode2()\n",
    "print(\"-------------\")\n",
    "ab.methode3()\n",
    "print(\"-------------\")\n",
    "ab.methode4()"
   ]
  },
  {
   "cell_type": "markdown",
   "metadata": {},
   "source": [
    "### Utilisation de super"
   ]
  },
  {
   "cell_type": "code",
   "execution_count": null,
   "metadata": {},
   "outputs": [],
   "source": [
    "class A:\n",
    "    def methode_d_instance(self):\n",
    "        print(\"je suis une méthode de l'instance %s (A)\" % self)"
   ]
  },
  {
   "cell_type": "code",
   "execution_count": null,
   "metadata": {},
   "outputs": [],
   "source": [
    "class B(A):\n",
    "    def methode_d_instance(self):\n",
    "        super().methode_d_instance()\n",
    "        print(\"je suis une méthode de l'instance %s (B)\" % self)\n",
    "\n",
    "b = B()\n",
    "b.methode_d_instance()"
   ]
  },
  {
   "cell_type": "code",
   "execution_count": null,
   "metadata": {},
   "outputs": [],
   "source": [
    "class C(A):\n",
    "    def methode_d_instance(self):\n",
    "        super().methode_d_instance()\n",
    "        print(\"je suis une méthode de l'instance %s (C)\" % self)\n",
    "\n",
    "class D(B, C):\n",
    "    def methode_d_instance(self):\n",
    "        super().methode_d_instance()\n",
    "        print(\"je suis une méthode de l'instance %s (D)\" % self)\n",
    "\n",
    "print(type(D()))\n",
    "type.mro(D)"
   ]
  },
  {
   "cell_type": "code",
   "execution_count": null,
   "metadata": {},
   "outputs": [],
   "source": [
    "d = D()\n",
    "d.methode_d_instance()"
   ]
  },
  {
   "cell_type": "markdown",
   "metadata": {},
   "source": [
    "---"
   ]
  }
 ],
 "metadata": {
  "kernelspec": {
   "display_name": "Python 3 (ipykernel)",
   "language": "python",
   "name": "python3"
  },
  "language_info": {
   "codemirror_mode": {
    "name": "ipython",
    "version": 3
   },
   "file_extension": ".py",
   "mimetype": "text/x-python",
   "name": "python",
   "nbconvert_exporter": "python",
   "pygments_lexer": "ipython3",
   "version": "3.11.8"
  }
 },
 "nbformat": 4,
 "nbformat_minor": 4
}
