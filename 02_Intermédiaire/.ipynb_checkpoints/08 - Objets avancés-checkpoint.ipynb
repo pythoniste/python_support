{
 "cells": [
  {
   "cell_type": "markdown",
   "id": "9af22711-3047-4c26-98cf-fcfa32eba486",
   "metadata": {},
   "source": [
    "Enumerations\n",
    "==\n",
    "\n",
    "Les énumération sont un outil essentiellement sémantique. Ils permettent :\n",
    "\n",
    "* de décrire une liste de mots représentant les différentes valeurs attendues d'une notion particulière.\n",
    "* de donner éventuellement une valeur à chaque donnée\n",
    "\n",
    "Dans l'exemple qui suit, la valeur n'est absolument pas utile. La seule chose qui nous intéresse est la sémantique.\n",
    "Dans le code, on utilise de la sémantique et non pas des entiers ou des chaînes de caractères."
   ]
  },
  {
   "cell_type": "code",
   "execution_count": null,
   "id": "f236bcf6-4879-4ac6-9f70-e189c97fa769",
   "metadata": {},
   "outputs": [],
   "source": [
    "from enum import Enum, auto, unique\n",
    "\n",
    "@unique\n",
    "class Phase(Enum):\n",
    "    SOLIDE = auto()\n",
    "    LIQUIDE = auto()\n",
    "    GAZEUSE = auto()\n",
    "\n",
    "class Element:\n",
    "    def __init__(self, numero, nom, phase_standard):\n",
    "        self.numero = numero  # Numéro atomique de l'élément\n",
    "        self.nom = nom\n",
    "        self.phase_standard = phase_standard  # Phase de l'élément dans des conditions standard (25°C, 1 atm)\n",
    "\n",
    "hydrogene = Element(1, \"Hydrogène\", Phase.GAZEUSE)"
   ]
  },
  {
   "cell_type": "code",
   "execution_count": null,
   "id": "7222cf2a-2cf3-4420-9e29-2a10ea5f6967",
   "metadata": {},
   "outputs": [],
   "source": [
    "hydrogene.phase_standard"
   ]
  },
  {
   "cell_type": "code",
   "execution_count": null,
   "id": "d6cf9081-f95a-4353-ac12-8de3d442ceb9",
   "metadata": {},
   "outputs": [],
   "source": [
    "hydrogene.phase_standard == Phase.SOLIDE"
   ]
  },
  {
   "cell_type": "markdown",
   "id": "65b4e64c-d311-4d59-a57d-a955d27e70aa",
   "metadata": {},
   "source": [
    "Dans l'exemple qui suit, la sémantique est importante, mais les valeurs aussi."
   ]
  },
  {
   "cell_type": "code",
   "execution_count": null,
   "id": "1cb0655a-0f9e-4473-b636-a73707bcdfa6",
   "metadata": {},
   "outputs": [],
   "source": [
    "class PolygonesAutorises(Enum):\n",
    "    TRIANGLE = 3\n",
    "    QUADRILATERE = 4\n",
    "    HEXAGONE = 6\n",
    "    OCTOGONE = 8\n",
    "    DODECAGONE = 12"
   ]
  },
  {
   "cell_type": "markdown",
   "id": "4baa7263-6f97-4077-8033-ed6e63d557b3",
   "metadata": {},
   "source": [
    "Ici, clairement, la sémantique de chaque polygone est explicite et la valeur représente le nombre de cotés."
   ]
  },
  {
   "cell_type": "code",
   "execution_count": null,
   "id": "70a9bfc8-4737-48cf-8722-8cc7256c9e45",
   "metadata": {},
   "outputs": [],
   "source": [
    "for polygone in PolygonesAutorises:\n",
    "    print(f\"{polygone.name}: {polygone.value}\")"
   ]
  },
  {
   "cell_type": "code",
   "execution_count": null,
   "id": "fe58c18f-30cc-4beb-8a56-eb5cf6be9c29",
   "metadata": {},
   "outputs": [],
   "source": [
    "PolygonesAutorises.TRIANGLE in (PolygonesAutorises)"
   ]
  },
  {
   "cell_type": "code",
   "execution_count": null,
   "id": "641aa07f-2914-4112-b6a4-c23f87796e00",
   "metadata": {},
   "outputs": [],
   "source": [
    "12 in (p.value for p in PolygonesAutorises)"
   ]
  },
  {
   "cell_type": "code",
   "execution_count": null,
   "id": "12df8f34-482b-4ded-a687-126362499265",
   "metadata": {},
   "outputs": [],
   "source": [
    "10 in (p.value for p in PolygonesAutorises)"
   ]
  },
  {
   "cell_type": "code",
   "execution_count": null,
   "id": "e4da600e-16a1-4d02-b4af-a124ab360b1e",
   "metadata": {},
   "outputs": [],
   "source": [
    "class PolygonesAutorises(Enum):\n",
    "    TRIANGLE = 3\n",
    "    QUADRILATERE = 4\n",
    "    HEXAGONE = 6\n",
    "    OCTOGONE = 8\n",
    "    DODECAGONE = 12\n",
    "\n",
    "    @classmethod\n",
    "    def get_valid_values(self):\n",
    "        return [p.value for p in PolygonesAutorises]\n",
    "\n",
    "    @classmethod\n",
    "    def is_ok(self, nb_cotes: int):\n",
    "        return nb_cotes in (p.value for p in PolygonesAutorises)\n",
    "\n",
    "for polygone in PolygonesAutorises:\n",
    "    print(f\"{polygone.name}: {polygone.value}\")"
   ]
  },
  {
   "cell_type": "code",
   "execution_count": null,
   "id": "7dcb6a2b-4bb0-4c8b-8692-08fcebed2b88",
   "metadata": {},
   "outputs": [],
   "source": [
    "PolygonesAutorises.get_valid_values()"
   ]
  },
  {
   "cell_type": "code",
   "execution_count": null,
   "id": "a42ced86-bc78-4e95-bef4-e29e0993b940",
   "metadata": {},
   "outputs": [],
   "source": [
    "PolygonesAutorises.is_ok(12)"
   ]
  },
  {
   "cell_type": "code",
   "execution_count": null,
   "id": "f6766ed0-36a7-4abb-ac95-8ade55d1a562",
   "metadata": {},
   "outputs": [],
   "source": [
    "PolygonesAutorises.is_ok(10)"
   ]
  },
  {
   "cell_type": "code",
   "execution_count": null,
   "id": "3306bdc6-f838-4650-a0af-9cdc640175dc",
   "metadata": {},
   "outputs": [],
   "source": [
    "class Reponse(Enum):\n",
    "    oui = True\n",
    "    non = False\n",
    "    na = None\n",
    "\n",
    "for reponse in Reponse:\n",
    "    print(f\"{reponse.name}: {reponse.value}\")"
   ]
  },
  {
   "cell_type": "code",
   "execution_count": null,
   "id": "9b0ada43-fc7f-4d34-897a-a3798e4f1da2",
   "metadata": {},
   "outputs": [],
   "source": [
    "from enum import unique, IntEnum, auto\n",
    "\n",
    "@unique\n",
    "class Status(IntEnum):\n",
    "    pending = auto()\n",
    "    started = auto()\n",
    "    finished = auto()\n",
    "\n",
    "print(Status.started, Status.started.value)\n",
    "\n",
    "for item in Status:\n",
    "    print(f\"{item.name}: {item.value}\")"
   ]
  },
  {
   "cell_type": "code",
   "execution_count": null,
   "id": "567e2964-02e1-4689-9bf9-1dabb8a8c61f",
   "metadata": {},
   "outputs": [],
   "source": [
    "print(PolygonesAutorises.TRIANGLE, PolygonesAutorises.TRIANGLE.value)"
   ]
  },
  {
   "cell_type": "code",
   "execution_count": null,
   "id": "d292266e-461d-413d-8a77-4b70ae7aefda",
   "metadata": {},
   "outputs": [],
   "source": [
    "from enum import unique, StrEnum, auto\n",
    "\n",
    "@unique\n",
    "class Status(StrEnum):\n",
    "    pending = auto()\n",
    "    started = auto()\n",
    "    finished = auto()\n",
    "\n",
    "print(Status.started, Status.started.value)\n",
    "\n",
    "for item in Status:\n",
    "    print(f\"{item.name}: {item.value}\")"
   ]
  },
  {
   "cell_type": "code",
   "execution_count": null,
   "id": "d774f95b-cf6e-4f33-8b2e-45257258cb7e",
   "metadata": {},
   "outputs": [],
   "source": [
    "from enum import Flag, auto\n",
    "class Perm(Flag):\n",
    "    x = auto()\n",
    "    w = auto()\n",
    "    r = auto()\n",
    "\n",
    "for perm in Perm:\n",
    "    print(f\"{perm.name}: {perm.value}\")"
   ]
  },
  {
   "cell_type": "code",
   "execution_count": null,
   "id": "e93ca36a-1651-4767-a664-4e72c79c9f3a",
   "metadata": {},
   "outputs": [],
   "source": [
    "Perm.x & Perm.r"
   ]
  },
  {
   "cell_type": "code",
   "execution_count": null,
   "id": "f7156b97-67d4-4050-aa4a-87bbb8c71acb",
   "metadata": {},
   "outputs": [],
   "source": [
    "Perm.x | Perm.r"
   ]
  },
  {
   "cell_type": "code",
   "execution_count": null,
   "id": "4e00c328-e19a-400d-a56e-386bbd375419",
   "metadata": {},
   "outputs": [],
   "source": [
    "Perm.w | Perm.r"
   ]
  },
  {
   "cell_type": "code",
   "execution_count": null,
   "id": "d07ea069-1391-48d1-934f-4a518c2b4bcf",
   "metadata": {},
   "outputs": [],
   "source": [
    "~Perm.x"
   ]
  },
  {
   "cell_type": "code",
   "execution_count": null,
   "id": "16ca6edf-1587-4af8-9f1a-6423207abcb9",
   "metadata": {},
   "outputs": [],
   "source": [
    "~Perm.w"
   ]
  },
  {
   "cell_type": "code",
   "execution_count": null,
   "id": "427b75b6-c5a1-44ed-a610-9655e2d18dfc",
   "metadata": {},
   "outputs": [],
   "source": [
    "(Perm.w | Perm.r) ^ (Perm.x | Perm.r)"
   ]
  },
  {
   "cell_type": "code",
   "execution_count": null,
   "id": "2d9e9132-e7e2-4697-b44b-be522a784881",
   "metadata": {},
   "outputs": [],
   "source": [
    "(Perm.w | Perm.r) & (Perm.x | Perm.r)"
   ]
  },
  {
   "cell_type": "markdown",
   "id": "6f17e61d-de28-4ddc-85bf-5b0a3a4ccea1",
   "metadata": {},
   "source": [
    "---\n",
    "\n",
    "NamedTuples\n",
    "==\n",
    "\n",
    "Plutôt que de créer des objets, il est possible d'utiliser des n-uplets améliorer (et de leur injecter des méthodes)."
   ]
  },
  {
   "cell_type": "code",
   "execution_count": null,
   "id": "b64660f7-2179-4feb-a2da-a56732c4130e",
   "metadata": {},
   "outputs": [],
   "source": [
    "from collections import namedtuple\n",
    "Point = namedtuple(\"Point\", [\"x\", \"y\"])\n",
    "\n",
    "p1 = Point(1, 0)\n",
    "p2 = Point(x=1, y=2)\n",
    "\n",
    "print(p1, p2)\n",
    "print(p1[0], p1.y)\n",
    "print(p1 + p2)"
   ]
  },
  {
   "cell_type": "code",
   "execution_count": null,
   "id": "cf7fb920-7b43-4361-b363-3332840ec0b6",
   "metadata": {},
   "outputs": [],
   "source": [
    "Point.__add__ = lambda self, other: Point(self.x + other.x, self.y + other.y)\n",
    "p1 + p2"
   ]
  },
  {
   "cell_type": "code",
   "execution_count": null,
   "id": "7a128551-0a40-494f-991f-9421abf2b5ac",
   "metadata": {},
   "outputs": [],
   "source": [
    "def point_sub(self, other):\n",
    "    return Point(self.x - other.x, self.y - other.y)\n",
    "\n",
    "Point.__sub__ = point_sub\n",
    "p1 - p2"
   ]
  },
  {
   "cell_type": "markdown",
   "id": "33602c18-7dac-4362-be13-2de36f088768",
   "metadata": {},
   "source": [
    "Deque\n",
    "==\n",
    "\n",
    "Cet objet a pour principale avantage sa performance. Alors que beaucoup d'opérations sont **O(n)** pour la liste, comme `pop` ou `insert`, le dequee permet d'avoir des opérations en **O(1)**.\n",
    "\n",
    "L'accès et l'ajout suppression d'éléments par le début ou la fin sera plus performant avec un dequee. Par contre, un accès par le milieu sera plus lent.\n",
    "\n",
    "Le dequee est donc parfait pour créer des **piles** ou des **files**."
   ]
  },
  {
   "cell_type": "code",
   "execution_count": null,
   "id": "bd2e928e-42c8-4b01-b40c-a3b81c5df669",
   "metadata": {},
   "outputs": [],
   "source": [
    "from collections import deque\n",
    "\n",
    "pile = deque()"
   ]
  },
  {
   "cell_type": "code",
   "execution_count": null,
   "id": "34fd354f-e3c7-4d37-9b29-ab3fbd1f1bd2",
   "metadata": {},
   "outputs": [],
   "source": [
    "pile.append('a')"
   ]
  },
  {
   "cell_type": "code",
   "execution_count": null,
   "id": "84587d49-6682-490b-9a4a-370b88297cb0",
   "metadata": {},
   "outputs": [],
   "source": [
    "pile.append('b')"
   ]
  },
  {
   "cell_type": "code",
   "execution_count": null,
   "id": "e22500e4-87de-4c29-9ebf-19a793058b07",
   "metadata": {},
   "outputs": [],
   "source": [
    "print(pile)"
   ]
  },
  {
   "cell_type": "code",
   "execution_count": null,
   "id": "2055682d-2b8d-45ac-8e01-8731d594d73e",
   "metadata": {},
   "outputs": [],
   "source": [
    "pile.pop()"
   ]
  },
  {
   "cell_type": "code",
   "execution_count": null,
   "id": "89a61883-e251-437a-a248-d6909e0f0758",
   "metadata": {},
   "outputs": [],
   "source": [
    "print(pile)"
   ]
  },
  {
   "cell_type": "code",
   "execution_count": null,
   "id": "b88f63ef-9b25-4f46-a1e5-426b8a06a661",
   "metadata": {},
   "outputs": [],
   "source": [
    "pile_inverse = deque(['a', 'b'])"
   ]
  },
  {
   "cell_type": "code",
   "execution_count": null,
   "id": "640c4e1e-222b-4043-9126-a06f90adca7f",
   "metadata": {},
   "outputs": [],
   "source": [
    "pile_inverse.appendleft('c')"
   ]
  },
  {
   "cell_type": "code",
   "execution_count": null,
   "id": "86628188-a3a2-4452-ae73-2a18d52e1584",
   "metadata": {},
   "outputs": [],
   "source": [
    "print(pile_inverse)"
   ]
  },
  {
   "cell_type": "code",
   "execution_count": null,
   "id": "3106c5a4-f734-4a67-ab4a-ad6e804aa972",
   "metadata": {},
   "outputs": [],
   "source": [
    "pile_inverse.popleft()"
   ]
  },
  {
   "cell_type": "code",
   "execution_count": null,
   "id": "8b378f93-4b95-4e09-8acc-a2175d17677c",
   "metadata": {},
   "outputs": [],
   "source": [
    "pile_inverse.popleft()"
   ]
  },
  {
   "cell_type": "code",
   "execution_count": null,
   "id": "b5e86ae6-db48-4e35-b58e-65db92de0185",
   "metadata": {},
   "outputs": [],
   "source": [
    "print(pile_inverse)"
   ]
  },
  {
   "cell_type": "code",
   "execution_count": null,
   "id": "a250b6a0-b730-4301-a6b3-df610b5c5c91",
   "metadata": {},
   "outputs": [],
   "source": [
    "file = deque([1, 2, 3])"
   ]
  },
  {
   "cell_type": "code",
   "execution_count": null,
   "id": "07f1cab5-5185-41d5-853f-12156a6c7436",
   "metadata": {},
   "outputs": [],
   "source": [
    "file.appendleft(42)"
   ]
  },
  {
   "cell_type": "code",
   "execution_count": null,
   "id": "8f3a87ad-2c43-4dec-ad08-8cdc890e256b",
   "metadata": {},
   "outputs": [],
   "source": [
    "print(file)"
   ]
  },
  {
   "cell_type": "code",
   "execution_count": null,
   "id": "a688e890-b71c-4ef1-af1d-ad01a95d211f",
   "metadata": {},
   "outputs": [],
   "source": [
    "file.pop()"
   ]
  },
  {
   "cell_type": "code",
   "execution_count": null,
   "id": "cbe13204-0112-4464-b16d-ba4c783e41cd",
   "metadata": {},
   "outputs": [],
   "source": [
    "print(file)"
   ]
  },
  {
   "cell_type": "code",
   "execution_count": null,
   "id": "e880251f-134e-4dce-9792-1d2c36929d34",
   "metadata": {},
   "outputs": [],
   "source": [
    "file2 = deque()"
   ]
  },
  {
   "cell_type": "code",
   "execution_count": null,
   "id": "ef14a2ed-ca16-4ef6-8b8d-1d6fbf7ee7d2",
   "metadata": {},
   "outputs": [],
   "source": [
    "file2.append(\"a\")"
   ]
  },
  {
   "cell_type": "code",
   "execution_count": null,
   "id": "5a474118-fc57-474a-8c03-0fb0ce2afeef",
   "metadata": {},
   "outputs": [],
   "source": [
    "file2.append(\"b\")"
   ]
  },
  {
   "cell_type": "code",
   "execution_count": null,
   "id": "4eb72aa8-5cc4-47ce-ae8a-635854d7a9bc",
   "metadata": {},
   "outputs": [],
   "source": [
    "file2.popleft()"
   ]
  },
  {
   "cell_type": "code",
   "execution_count": null,
   "id": "4fd1912f-482c-4a77-9b36-b7e2802dd01d",
   "metadata": {},
   "outputs": [],
   "source": [
    "print(file)"
   ]
  },
  {
   "cell_type": "code",
   "execution_count": null,
   "id": "6178b127-8256-49b5-b53f-57be9b637291",
   "metadata": {},
   "outputs": [],
   "source": [
    "exemple = deque(range(10))"
   ]
  },
  {
   "cell_type": "code",
   "execution_count": null,
   "id": "5eeddc2c-7e15-4ec7-864d-bf7fe5bb4e2a",
   "metadata": {},
   "outputs": [],
   "source": [
    "exemple.extend((10, 11, 12))"
   ]
  },
  {
   "cell_type": "code",
   "execution_count": null,
   "id": "785063d0-b9bd-445d-b746-d36ba890b3c7",
   "metadata": {},
   "outputs": [],
   "source": [
    "print(exemple)"
   ]
  },
  {
   "cell_type": "code",
   "execution_count": null,
   "id": "28700597-6976-41e2-a6bc-59b3d89bd3d7",
   "metadata": {},
   "outputs": [],
   "source": [
    "exemple.extendleft((-1, -2, -3, -4, -5))"
   ]
  },
  {
   "cell_type": "code",
   "execution_count": null,
   "id": "fe4e9076-05df-4d1b-9364-8bb16da9dc3c",
   "metadata": {},
   "outputs": [],
   "source": [
    "print(exemple)"
   ]
  },
  {
   "cell_type": "code",
   "execution_count": null,
   "id": "6d1fbb10-1fab-45b2-8f0d-299f30bc1854",
   "metadata": {},
   "outputs": [],
   "source": [
    "len(exemple)"
   ]
  },
  {
   "cell_type": "code",
   "execution_count": null,
   "id": "a5a913e2-dcfd-4963-8a53-8f8e391dd4bb",
   "metadata": {},
   "outputs": [],
   "source": [
    "exemple.clear()"
   ]
  },
  {
   "cell_type": "code",
   "execution_count": null,
   "id": "8aed02da-e8ad-4036-964c-ecc1124615e6",
   "metadata": {},
   "outputs": [],
   "source": [
    "print(exemple)"
   ]
  },
  {
   "cell_type": "markdown",
   "id": "2cf3df07-6962-4aa6-873c-ee308cd3167f",
   "metadata": {},
   "source": [
    "On évitera d'utiliser l'opérateur crochet, de lire ou d'insérer des valeurs au milieu de l'objet et donc d'utiliser les méthodes `insert`, `remove`.\n",
    "Si vous avez vraiment besoin d'utiliser ces méthodes ou l'opérateur crochet, il faudra se poser la question de la pertinence d'utiliser un `deque`."
   ]
  },
  {
   "cell_type": "markdown",
   "id": "6a26d271-85a9-41dc-bf68-954f0fa6701a",
   "metadata": {},
   "source": [
    "Tas\n",
    "==\n",
    "\n",
    "Implemente l'algorithme *priority queue algorithm*.\n",
    "\n",
    "Le mot **heap** désigne un arbre binaire où chaque noeud est plus petit ou égal que ses enfants.\n",
    "\n",
    "La propriété intéressante de l'algorithme est que, par construction, la racine est l'élément le plus petit.\n",
    "\n",
    "La heap queue est une représentation de cet arbre sous forme de liste. le premier élément de la liste est la racine (donc toujours le plus petit) et les éléments suivants sont ordonnés en parcourant l'arbre."
   ]
  },
  {
   "cell_type": "code",
   "execution_count": null,
   "id": "b4ba71b6-43fe-43a3-af95-7b56e724628f",
   "metadata": {},
   "outputs": [],
   "source": [
    "import random\n",
    "data = random.sample(range(100), 10)\n",
    "print(data)"
   ]
  },
  {
   "cell_type": "code",
   "execution_count": null,
   "id": "80c181f1-644c-4f5e-93dc-bac0ca66cd01",
   "metadata": {},
   "outputs": [],
   "source": [
    "import heapq\n",
    "heapq.heapify(data)\n",
    "print(data)"
   ]
  },
  {
   "cell_type": "code",
   "execution_count": null,
   "id": "50f39fd1-f4d4-44f9-922b-120743b43af9",
   "metadata": {},
   "outputs": [],
   "source": [
    "heapq.heappush(data, 42)\n",
    "print(data)"
   ]
  },
  {
   "cell_type": "code",
   "execution_count": null,
   "id": "281284ff-2615-466d-9a12-06d1a6b091da",
   "metadata": {},
   "outputs": [],
   "source": [
    "heapq.heappop(data)"
   ]
  },
  {
   "cell_type": "code",
   "execution_count": null,
   "id": "d9ba87a6-cca4-4f7b-9dd2-9c1c8367c494",
   "metadata": {},
   "outputs": [],
   "source": [
    "print(data)"
   ]
  },
  {
   "cell_type": "code",
   "execution_count": null,
   "id": "d0d8fce7-f82e-4fa2-b139-cac1ddb7f0d4",
   "metadata": {},
   "outputs": [],
   "source": [
    "heapq.heappushpop(data, 34)"
   ]
  },
  {
   "cell_type": "code",
   "execution_count": null,
   "id": "8cd9b0b1-badc-4521-9a24-489d24abcae7",
   "metadata": {},
   "outputs": [],
   "source": [
    "print(data)"
   ]
  },
  {
   "cell_type": "markdown",
   "id": "9a7fea52-592f-4029-82b0-3d3a460af57b",
   "metadata": {},
   "source": [
    "---"
   ]
  }
 ],
 "metadata": {
  "kernelspec": {
   "display_name": "Python 3 (ipykernel)",
   "language": "python",
   "name": "python3"
  },
  "language_info": {
   "codemirror_mode": {
    "name": "ipython",
    "version": 3
   },
   "file_extension": ".py",
   "mimetype": "text/x-python",
   "name": "python",
   "nbconvert_exporter": "python",
   "pygments_lexer": "ipython3",
   "version": "3.11.8"
  }
 },
 "nbformat": 4,
 "nbformat_minor": 5
}
