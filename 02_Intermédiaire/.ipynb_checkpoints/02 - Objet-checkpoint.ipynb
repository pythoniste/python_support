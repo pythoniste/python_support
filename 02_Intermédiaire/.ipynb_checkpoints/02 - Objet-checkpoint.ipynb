{
 "cells": [
  {
   "cell_type": "markdown",
   "metadata": {},
   "source": [
    "Objet\n",
    "=====\n",
    "\n",
    "Classe versus objet\n",
    "-------------------\n",
    "\n",
    "Les classes sont la description de concepts et sont avant tout destinées à encapsuler les données relatives à ces concepts.\n",
    "\n",
    "Les objets sont des instances d'une classe, sa classe est son modèle de données.\n",
    "\n",
    "Chaque objet dispose d'attributs permettant de porter ses données, de se représenter.\n",
    "\n",
    "Chaque objet dispose de méthodes permettant de donner des renseignements sur elle ou de se modifier ou encore de créer une nouvelle instance de sa classe."
   ]
  },
  {
   "cell_type": "code",
   "execution_count": 49,
   "metadata": {},
   "outputs": [],
   "source": [
    "class A:\n",
    "    \"\"\"docstring\"\"\"\n",
    "\n",
    "    attribut = 4 # attribut de notre classe A dont voici la description.\n",
    "\n",
    "    def methode(self):\n",
    "        \"\"\"\n",
    "        Une méthode est une fonction encapsulée dans une classe.\n",
    "        Une méthode d'instance a toujours un premier attribut qui est self et qui représente l'instance courante de l'instance\n",
    "        \"\"\"\n",
    "        return True"
   ]
  },
  {
   "cell_type": "code",
   "execution_count": 50,
   "metadata": {},
   "outputs": [
    {
     "data": {
      "text/plain": [
       "['__class__',\n",
       " '__delattr__',\n",
       " '__dict__',\n",
       " '__dir__',\n",
       " '__doc__',\n",
       " '__eq__',\n",
       " '__format__',\n",
       " '__ge__',\n",
       " '__getattribute__',\n",
       " '__gt__',\n",
       " '__hash__',\n",
       " '__init__',\n",
       " '__init_subclass__',\n",
       " '__le__',\n",
       " '__lt__',\n",
       " '__module__',\n",
       " '__ne__',\n",
       " '__new__',\n",
       " '__reduce__',\n",
       " '__reduce_ex__',\n",
       " '__repr__',\n",
       " '__setattr__',\n",
       " '__sizeof__',\n",
       " '__str__',\n",
       " '__subclasshook__',\n",
       " '__weakref__',\n",
       " 'attribut',\n",
       " 'methode']"
      ]
     },
     "execution_count": 50,
     "metadata": {},
     "output_type": "execute_result"
    }
   ],
   "source": [
    "dir(A)"
   ]
  },
  {
   "cell_type": "code",
   "execution_count": 51,
   "metadata": {},
   "outputs": [
    {
     "name": "stdout",
     "output_type": "stream",
     "text": [
      "Help on class A in module __main__:\n",
      "\n",
      "class A(builtins.object)\n",
      " |  docstring\n",
      " |  \n",
      " |  Methods defined here:\n",
      " |  \n",
      " |  methode(self)\n",
      " |      Une méthode est une fonction encapsulée dans une classe.\n",
      " |      Une méthode d'instance a toujours un premier attribut qui est self et qui représente l'instance courante de l'instance\n",
      " |  \n",
      " |  ----------------------------------------------------------------------\n",
      " |  Data descriptors defined here:\n",
      " |  \n",
      " |  __dict__\n",
      " |      dictionary for instance variables (if defined)\n",
      " |  \n",
      " |  __weakref__\n",
      " |      list of weak references to the object (if defined)\n",
      " |  \n",
      " |  ----------------------------------------------------------------------\n",
      " |  Data and other attributes defined here:\n",
      " |  \n",
      " |  attribut = 4\n",
      "\n"
     ]
    }
   ],
   "source": [
    "help(A)"
   ]
  },
  {
   "cell_type": "markdown",
   "metadata": {},
   "source": [
    "Créer une instance\n",
    "------------------"
   ]
  },
  {
   "cell_type": "code",
   "execution_count": 52,
   "metadata": {},
   "outputs": [],
   "source": [
    "a = A()"
   ]
  },
  {
   "cell_type": "code",
   "execution_count": 53,
   "metadata": {},
   "outputs": [
    {
     "name": "stdout",
     "output_type": "stream",
     "text": [
      "4\n"
     ]
    }
   ],
   "source": [
    "print(a.attribut)"
   ]
  },
  {
   "cell_type": "code",
   "execution_count": 54,
   "metadata": {},
   "outputs": [
    {
     "name": "stdout",
     "output_type": "stream",
     "text": [
      "True\n"
     ]
    }
   ],
   "source": [
    "print(a.methode())"
   ]
  },
  {
   "cell_type": "markdown",
   "metadata": {},
   "source": [
    "Ce qui appartient à la *classe* versus ce qui appartient à l'*instance*\n",
    "-----------------------------------------------------------------------"
   ]
  },
  {
   "cell_type": "markdown",
   "metadata": {},
   "source": [
    "l'objet **A** est une *classe* et l'objet **a** est une de ses *instances*.\n",
    "\n",
    "l'objet **attribut** est un *attribut* de la *classe* A:"
   ]
  },
  {
   "cell_type": "code",
   "execution_count": 7,
   "metadata": {},
   "outputs": [
    {
     "data": {
      "text/plain": [
       "4"
      ]
     },
     "execution_count": 7,
     "metadata": {},
     "output_type": "execute_result"
    }
   ],
   "source": [
    "A.attribut"
   ]
  },
  {
   "cell_type": "markdown",
   "metadata": {},
   "source": [
    "Toutes les *instances* d'une classe disposent des *attributs* de leur *classe* :"
   ]
  },
  {
   "cell_type": "code",
   "execution_count": 8,
   "metadata": {},
   "outputs": [
    {
     "data": {
      "text/plain": [
       "4"
      ]
     },
     "execution_count": 8,
     "metadata": {},
     "output_type": "execute_result"
    }
   ],
   "source": [
    "a.attribut"
   ]
  },
  {
   "cell_type": "markdown",
   "metadata": {},
   "source": [
    "Si la valeur de l'attribut de la classe est modifié, la valeur de l'attribut de toutes les instance est aussi modifié:"
   ]
  },
  {
   "cell_type": "code",
   "execution_count": 9,
   "metadata": {},
   "outputs": [
    {
     "data": {
      "text/plain": [
       "42"
      ]
     },
     "execution_count": 9,
     "metadata": {},
     "output_type": "execute_result"
    }
   ],
   "source": [
    "A.attribut = 42\n",
    "a.attribut"
   ]
  },
  {
   "cell_type": "markdown",
   "metadata": {},
   "source": [
    "L'*attribut* d'une *instance* peut aussi être changé:"
   ]
  },
  {
   "cell_type": "code",
   "execution_count": 10,
   "metadata": {},
   "outputs": [
    {
     "name": "stdout",
     "output_type": "stream",
     "text": [
      "A.attribut = 42\n",
      "a.attribut = 42\n",
      "a2.attribut = 34\n"
     ]
    }
   ],
   "source": [
    "a2 = A()\n",
    "a2.attribut = 34\n",
    "\n",
    "print(\"A.attribut = %s\" % A.attribut)\n",
    "print(\"a.attribut = %s\" % a.attribut)\n",
    "print(\"a2.attribut = %s\" % a2.attribut)"
   ]
  },
  {
   "cell_type": "code",
   "execution_count": 11,
   "metadata": {},
   "outputs": [
    {
     "name": "stdout",
     "output_type": "stream",
     "text": [
      "A.attribut = 42\n",
      "a.attribut = 42\n",
      "a2.attribut = 42\n"
     ]
    }
   ],
   "source": [
    "del a2.attribut\n",
    "\n",
    "print(\"A.attribut = %s\" % A.attribut)\n",
    "print(\"a.attribut = %s\" % a.attribut)\n",
    "print(\"a2.attribut = %s\" % a2.attribut)"
   ]
  },
  {
   "cell_type": "markdown",
   "metadata": {},
   "source": [
    "Lorsque l'on demande un *attribut* d'une *instance*, on va chercher dans l'*instance*. Si l'*instance* ne dispose pas d'un *attribut* qui lui est directement rattaché, on va alors regarder dans la *classe*."
   ]
  },
  {
   "cell_type": "code",
   "execution_count": 12,
   "metadata": {},
   "outputs": [],
   "source": [
    "class A:\n",
    "    attr = \"attr de classe\"\n",
    "    def __init__(self, param=None):\n",
    "        if param is not None:\n",
    "            self.attr = param\n",
    "a1 = A(\"Attr d'instance\")\n",
    "a2 = A()"
   ]
  },
  {
   "cell_type": "code",
   "execution_count": 13,
   "metadata": {},
   "outputs": [
    {
     "data": {
      "text/plain": [
       "'attr de classe'"
      ]
     },
     "execution_count": 13,
     "metadata": {},
     "output_type": "execute_result"
    }
   ],
   "source": [
    "A.attr"
   ]
  },
  {
   "cell_type": "code",
   "execution_count": 14,
   "metadata": {},
   "outputs": [
    {
     "data": {
      "text/plain": [
       "\"Attr d'instance\""
      ]
     },
     "execution_count": 14,
     "metadata": {},
     "output_type": "execute_result"
    }
   ],
   "source": [
    "a1.attr"
   ]
  },
  {
   "cell_type": "code",
   "execution_count": 15,
   "metadata": {},
   "outputs": [
    {
     "data": {
      "text/plain": [
       "'attr de classe'"
      ]
     },
     "execution_count": 15,
     "metadata": {},
     "output_type": "execute_result"
    }
   ],
   "source": [
    "a2.attr"
   ]
  },
  {
   "cell_type": "markdown",
   "metadata": {},
   "source": [
    "Méthodes\n",
    "--------"
   ]
  },
  {
   "cell_type": "code",
   "execution_count": 16,
   "metadata": {},
   "outputs": [],
   "source": [
    "class A:\n",
    "    def methode_d_instance(self):\n",
    "        print(\"je suis une méthode de l'instance %s\" % self)\n",
    "\n",
    "    @classmethod\n",
    "    def methode_de_classe(cls):\n",
    "        print('je suis une méthode de la classe %s' % cls)\n",
    "\n",
    "    @staticmethod\n",
    "    def methode_statique():\n",
    "        print(\"je suis une méthode statique\")\n",
    "\n",
    "a = A()"
   ]
  },
  {
   "cell_type": "code",
   "execution_count": 17,
   "metadata": {},
   "outputs": [
    {
     "name": "stdout",
     "output_type": "stream",
     "text": [
      "je suis une méthode de l'instance <__main__.A object at 0x7fc4912f39d0>\n"
     ]
    }
   ],
   "source": [
    "a.methode_d_instance() # appel classique d'une méthode d'instance (ou méthode)"
   ]
  },
  {
   "cell_type": "code",
   "execution_count": 18,
   "metadata": {},
   "outputs": [
    {
     "name": "stdout",
     "output_type": "stream",
     "text": [
      "je suis une méthode de l'instance <__main__.A object at 0x7fc4912f39d0>\n"
     ]
    }
   ],
   "source": [
    "A.methode_d_instance(a) # appel statique d'une méthode d'instance"
   ]
  },
  {
   "cell_type": "code",
   "execution_count": 19,
   "metadata": {},
   "outputs": [
    {
     "name": "stdout",
     "output_type": "stream",
     "text": [
      "je suis une méthode de la classe <class '__main__.A'>\n"
     ]
    }
   ],
   "source": [
    "a.methode_de_classe() # appel d'une méthode de classe à partir d'un instance"
   ]
  },
  {
   "cell_type": "code",
   "execution_count": 20,
   "metadata": {},
   "outputs": [
    {
     "name": "stdout",
     "output_type": "stream",
     "text": [
      "je suis une méthode de la classe <class '__main__.A'>\n"
     ]
    }
   ],
   "source": [
    "A.methode_de_classe() # appel d'une méthode de classe à partir de la classe"
   ]
  },
  {
   "cell_type": "code",
   "execution_count": 21,
   "metadata": {},
   "outputs": [
    {
     "name": "stdout",
     "output_type": "stream",
     "text": [
      "je suis une méthode statique\n"
     ]
    }
   ],
   "source": [
    "A.methode_statique() # les méthodes statiques peuvent être considérées comme une fonction aggrégées à une classe."
   ]
  },
  {
   "cell_type": "code",
   "execution_count": 22,
   "metadata": {},
   "outputs": [
    {
     "name": "stdout",
     "output_type": "stream",
     "text": [
      "je suis une méthode statique\n"
     ]
    }
   ],
   "source": [
    "a.methode_statique() # les méthodes statiques ne sont liées ni à la classe ni à l'instance, elle sont juste encapsulées."
   ]
  },
  {
   "cell_type": "markdown",
   "metadata": {},
   "source": [
    "L'air de rien, on a utilisé ici des **décorateurs**, un patron de conception qui trouve une application très courante et simplifiée en Python, grace à l'utilisation de l'**@**."
   ]
  },
  {
   "cell_type": "code",
   "execution_count": 23,
   "metadata": {},
   "outputs": [],
   "source": [
    "class A(object):\n",
    "    def methode_d_instance(self):\n",
    "        print(\"je suis une méthode de l'instance %s\" % self)\n",
    "    def methode_de_classe(cls):\n",
    "        print('je suis une méthode de la classe %s' % cls)\n",
    "    methode_de_classe = classmethod(methode_de_classe)\n",
    "    @staticmethod\n",
    "    def methode_statique():\n",
    "        print(\"je suis une méthode statique\")\n",
    "a = A()"
   ]
  },
  {
   "cell_type": "markdown",
   "metadata": {},
   "source": [
    "Héritage\n",
    "--------"
   ]
  },
  {
   "cell_type": "code",
   "execution_count": 24,
   "metadata": {},
   "outputs": [
    {
     "name": "stdout",
     "output_type": "stream",
     "text": [
      "méthode 1 de la classe testAB\n",
      "méthode 2 de la classe testA\n",
      "méthode 3 de la classe testB\n",
      "méthode 4 de la classe testA\n"
     ]
    }
   ],
   "source": [
    "class TestA:\n",
    "    def methode1(self):\n",
    "        print(\"méthode 1 de la classe testA\")\n",
    "    def methode2(self):\n",
    "        print(\"méthode 2 de la classe testA\")\n",
    "    def methode4(self):\n",
    "        print(\"méthode 4 de la classe testA\")\n",
    "\n",
    "class TestB(object):\n",
    "    def methode1(self):\n",
    "        print(\"méthode 1 de la classe testB\")\n",
    "    def methode3(self):\n",
    "        print(\"méthode 3 de la classe testB\")\n",
    "    def methode4(self):\n",
    "        print(\"méthode 4 de la classe testB\")\n",
    "\n",
    "class TestAB(TestA, TestB):\n",
    "    def methode1(self):\n",
    "        print(\"méthode 1 de la classe testAB\")\n",
    "\n",
    "ab = TestAB()\n",
    "ab.methode1()\n",
    "ab.methode2()\n",
    "ab.methode3()\n",
    "ab.methode4()"
   ]
  },
  {
   "cell_type": "code",
   "execution_count": 27,
   "metadata": {},
   "outputs": [
    {
     "name": "stdout",
     "output_type": "stream",
     "text": [
      "méthode 1 de la classe testB\n",
      "méthode 1 de la classe testAB\n",
      "méthode 1 de la classe testA\n",
      "-------------\n",
      "méthode 2 de la classe testA\n",
      "-------------\n",
      "méthode 3 de la classe testB\n",
      "-------------\n",
      "méthode 4 de la classe testA\n",
      "méthode 4 de la classe testB\n",
      "méthode 4 de la classe testAB\n"
     ]
    }
   ],
   "source": [
    "class TestA:\n",
    "    def methode1(self):\n",
    "        print(\"méthode 1 de la classe testA\")\n",
    "    def methode2(self):\n",
    "        print(\"méthode 2 de la classe testA\")\n",
    "    def methode4(self):\n",
    "        print(\"méthode 4 de la classe testA\")\n",
    "\n",
    "class TestB(object):\n",
    "    def methode1(self):\n",
    "        print(\"méthode 1 de la classe testB\")\n",
    "    def methode3(self):\n",
    "        print(\"méthode 3 de la classe testB\")\n",
    "    def methode4(self):\n",
    "        print(\"méthode 4 de la classe testB\")\n",
    "\n",
    "class TestAB(TestA, TestB):\n",
    "    def methode1(self):\n",
    "        TestB.methode1(self)\n",
    "        print(\"méthode 1 de la classe testAB\")\n",
    "        TestA.methode1(self)\n",
    "    def methode4(self):\n",
    "        TestA.methode4(self)\n",
    "        TestB.methode4(self)\n",
    "        print(\"méthode 4 de la classe testAB\")\n",
    "\n",
    "ab = TestAB()\n",
    "ab.methode1()\n",
    "print(\"-------------\")\n",
    "ab.methode2()\n",
    "print(\"-------------\")\n",
    "ab.methode3()\n",
    "print(\"-------------\")\n",
    "ab.methode4()"
   ]
  },
  {
   "cell_type": "code",
   "execution_count": 28,
   "metadata": {},
   "outputs": [
    {
     "name": "stdout",
     "output_type": "stream",
     "text": [
      "je suis une méthode de l'instance <__main__.B object at 0x7fc4912fac70>\n",
      "je suis une méthode de l'instance <__main__.B object at 0x7fc4912fac70> (B)\n"
     ]
    }
   ],
   "source": [
    "class B(A):\n",
    "    def methode_d_instance(self):\n",
    "        super().methode_d_instance()\n",
    "        print(\"je suis une méthode de l'instance %s (B)\" % self)\n",
    "\n",
    "b = B()\n",
    "b.methode_d_instance()"
   ]
  },
  {
   "cell_type": "code",
   "execution_count": 30,
   "metadata": {},
   "outputs": [
    {
     "name": "stdout",
     "output_type": "stream",
     "text": [
      "<class '__main__.D'>\n",
      "<class 'type'>\n"
     ]
    },
    {
     "data": {
      "text/plain": [
       "[__main__.D, __main__.B, __main__.C, __main__.A, object]"
      ]
     },
     "execution_count": 30,
     "metadata": {},
     "output_type": "execute_result"
    }
   ],
   "source": [
    "class C(A):\n",
    "    def methode_d_instance(self):\n",
    "        super().methode_d_instance()\n",
    "        print(\"je suis une méthode de l'instance %s (C)\" % self)\n",
    "\n",
    "class D(B, C):\n",
    "    def methode_d_instance(self):\n",
    "        super().methode_d_instance()\n",
    "        print(\"je suis une méthode de l'instance %s (D)\" % self)\n",
    "\n",
    "print(type(D()))\n",
    "type.mro(D)"
   ]
  },
  {
   "cell_type": "code",
   "execution_count": 31,
   "metadata": {},
   "outputs": [
    {
     "name": "stdout",
     "output_type": "stream",
     "text": [
      "je suis une méthode de la classe <class '__main__.D'>\n"
     ]
    }
   ],
   "source": [
    "D.methode_de_classe()"
   ]
  },
  {
   "cell_type": "code",
   "execution_count": 32,
   "metadata": {},
   "outputs": [
    {
     "name": "stdout",
     "output_type": "stream",
     "text": [
      "je suis une méthode de l'instance <__main__.D object at 0x7fc4912fa490>\n",
      "je suis une méthode de l'instance <__main__.D object at 0x7fc4912fa490> (C)\n",
      "je suis une méthode de l'instance <__main__.D object at 0x7fc4912fa490> (B)\n",
      "je suis une méthode de l'instance <__main__.D object at 0x7fc4912fa490> (D)\n"
     ]
    }
   ],
   "source": [
    "d = D()\n",
    "d.methode_d_instance()"
   ]
  },
  {
   "cell_type": "markdown",
   "metadata": {},
   "source": [
    "---"
   ]
  },
  {
   "cell_type": "markdown",
   "metadata": {},
   "source": [
    "----\n",
    "\n",
    "Exercice\n",
    "========\n",
    "\n",
    "Le but de l'exercice consiste à écrire une classe nommée **Personnage** disposant de 4 attributs et de quelques méthodes :\n",
    "\n",
    "    nom = \"Nom du joueur, argument passé en paramètre lors de la construction\"\n",
    "    niveau = \"Niveau du joueur, argument initialisé à 1 automatiquement\"\n",
    "    compétences = \"Nom et niveau des compétences du joueur, vide\"\n",
    "    partenaires = \"Joueurs associés au joueur courant, vide\"\n",
    "\n",
    "1. Créez la classe et initialisez les 4 attributs en trouvant pour chacun le type de donnée le plus adapté (entier, réel, complexe, chaîne de caractère, liste, n-uplet, ensemble, dictionnaire).\n",
    "1. Créez une méthode **get_level** permettant de renvoyer le niveau.\n",
    "1. Rajoutez une nouvelle méthode **ajouter_compétence** permettant de rajouter une nouvelle **compétence** au personnage. Le niveau de départ de cette **compétence** sera de 10 par défaut.\n",
    "1. Rajoutez une méthode **mettre_a_jour_compétence** qui permette d'augmenter ou de diminuer la **compétence** désignée (par défaut, elle est augmentée de 1). Si elle n'existe pas, lever une exception\n",
    "1. Rajoutez une méthode **mettre_a_jour_niveau** qui va augmenter le *niveau* de *1* et augmenter toutes les *compétences* de *10%*, arrondi au supérieur.\n",
    "1. Rajouter un attribut de classe représentant un multiplicateur (nombre réel) qui, par défaut, vaut 1.\n",
    "1. Créer une méthode **reinitialiser** qui remette à 1 le multiplicateur.\n",
    "1. Créer une méthode **bonus** qui rajoute 10% au multiplicateur.\n",
    "1. Créer une méthode **malus** qui divise de moitié le multiplicateur.\n",
    "1. Modifier la méthode **get_level** pour qu'elle prenne en compte ce multiplicateur.\n",
    "1. Tous les **Personnages** ont 4 compétences **Force**, **Mana**, **Dextérité** et **Charisme** qui sont initialisées par défaut à 10.\n",
    "1. Créer trois classes filles suivant les conditions suivantes :\n",
    "  * Le **Guerrier** commence avec une **Force** à 25\n",
    "  * Le **Mage** commence avec un **Mana** à 25\n",
    "  * L'**Archer** commence avec une **Dextérité** à 25"
   ]
  },
  {
   "cell_type": "code",
   "execution_count": 40,
   "metadata": {},
   "outputs": [
    {
     "name": "stdout",
     "output_type": "stream",
     "text": [
      "1\n",
      "{}\n",
      "{'ecrire': 5}\n",
      "{'ecrire': 5, 'lire': 10}\n",
      "{'ecrire': 15, 'lire': 10}\n"
     ]
    }
   ],
   "source": [
    "class Personnage:\n",
    "\n",
    "    \"\"\"Docstring pour la classe Personnage \"\"\"\n",
    "\n",
    "    def __init__(self, nom):\n",
    "        \"\"\"Nom du joueur\"\"\"\n",
    "        self.nom = nom\n",
    "        self.niveau = 1\n",
    "        self.competences = {}\n",
    "        self.partenaires = set()\n",
    "    \n",
    "    def ajouter_competence(self, nom, niveau=10):\n",
    "        self.competences[nom] = niveau\n",
    "\n",
    "    def get_level(self):\n",
    "        return self.niveau\n",
    "\n",
    "p = Personnage(\"John\")\n",
    "print(p.get_level())\n",
    "\n",
    "print(p.competences)\n",
    "p.ajouter_competence(\"ecrire\", 5)\n",
    "print(p.competences)\n",
    "p.ajouter_competence(\"lire\")\n",
    "print(p.competences)\n",
    "p.ajouter_competence(\"ecrire\", 15)\n",
    "print(p.competences)\n"
   ]
  },
  {
   "cell_type": "code",
   "execution_count": 44,
   "metadata": {},
   "outputs": [
    {
     "name": "stdout",
     "output_type": "stream",
     "text": [
      "{'ecrire': 5, 'lire': 10}\n",
      "Une exception s'est produite: La compétence 'existe pas' n'existe pas\n",
      "{'ecrire': 10, 'lire': 11}\n",
      "1\n",
      "2\n",
      "{'ecrire': 11, 'lire': 13}\n"
     ]
    }
   ],
   "source": [
    "from math import ceil\n",
    "\n",
    "class Personnage:\n",
    "\n",
    "    \"\"\"Docstring pour la classe Personnage \"\"\"\n",
    "\n",
    "    def __init__(self, nom):\n",
    "        \"\"\"Nom du joueur\"\"\"\n",
    "        self.nom = nom\n",
    "        self.niveau = 1\n",
    "        self.competences = {}\n",
    "        self.partenaires = set()\n",
    "    \n",
    "    def get_level(self):\n",
    "        return self.niveau\n",
    "\n",
    "    def ajouter_competence(self, nom, niveau=10):\n",
    "        self.competences[nom] = niveau\n",
    "\n",
    "    def mettre_a_jour_competence(self, nom, increment=1):\n",
    "        # Ici, on vérifie que la compétence existe en tant que clé dans le dictionnaire de compétences\n",
    "        if nom not in self.competences:\n",
    "            raise Exception(\"La compétence '{}' n'existe pas\".format(nom))\n",
    "        # Ici, on la met à jour.\n",
    "        self.competences[nom] += increment\n",
    "        # self.competences[nom] = self.competences[nom] + increment\n",
    "\n",
    "    def mettre_a_jour_niveau(self):\n",
    "        self.niveau += 1\n",
    "        for k, v in self.competences.items():\n",
    "            self.competences[k] = ceil(v * 1.1)\n",
    "\n",
    "p = Personnage(\"Charles\")\n",
    "p.ajouter_competence(\"ecrire\", 5)\n",
    "p.ajouter_competence(\"lire\", 10)\n",
    "print(p.competences)\n",
    "try:\n",
    "    p.mettre_a_jour_competence(\"existe pas\", 5)\n",
    "except Exception as e:\n",
    "    print(\"Une exception s'est produite:\", e)\n",
    "p.mettre_a_jour_competence(\"lire\")\n",
    "p.mettre_a_jour_competence(\"ecrire\", 5)\n",
    "print(p.competences)\n",
    "print(p.get_level())\n",
    "p.mettre_a_jour_niveau()\n",
    "print(p.get_level())\n",
    "print(p.competences)\n"
   ]
  },
  {
   "cell_type": "code",
   "execution_count": 60,
   "metadata": {},
   "outputs": [
    {
     "name": "stdout",
     "output_type": "stream",
     "text": [
      "1 5\n",
      "1.1 5.5\n",
      "1 5\n",
      "0.5 2.5\n",
      "1 5\n",
      "1.2100000000000002 6.050000000000001\n",
      "0.6050000000000001 3.0250000000000004\n",
      "0.7320500000000003 3.6602500000000013\n",
      "1 5\n"
     ]
    }
   ],
   "source": [
    "from math import ceil\n",
    "\n",
    "class Personnage:\n",
    "    \"\"\"Docstring pour la classe Personnage \"\"\"\n",
    "\n",
    "    multiplicateur = 1\n",
    "\n",
    "    def __init__(self, nom):\n",
    "        \"\"\"Nom du joueur\"\"\"\n",
    "        self.nom = nom\n",
    "        self.niveau = 1\n",
    "        self.competences = {}\n",
    "        self.partenaires = set()\n",
    "\n",
    "    def get_level(self):\n",
    "        return self.niveau * self.multiplicateur\n",
    "\n",
    "    def ajouter_competence(self, nom, niveau=10):\n",
    "        self.competences[nom] = niveau\n",
    "\n",
    "    def mettre_a_jour_competence(self, nom, increment=1):\n",
    "        if nom not in self.competences:\n",
    "            raise Exception(\"La compétence '{}' n'existe pas\".format(nom))\n",
    "        self.competences[nom] += increment\n",
    "\n",
    "    def mettre_a_jour_niveau(self):\n",
    "        self.niveau += 1\n",
    "        for k, v in self.competences.items():\n",
    "            self.competences[k] = ceil(v * 1.1)\n",
    "\n",
    "    @classmethod\n",
    "    def reinitialiser(cls):\n",
    "        cls.multiplicateur = 1\n",
    "\n",
    "    @classmethod\n",
    "    def bonus(cls):\n",
    "        cls.multiplicateur *= 1.1\n",
    "    \n",
    "    @classmethod\n",
    "    def malus(cls):\n",
    "        cls.multiplicateur /= 2\n",
    "\n",
    "p1 = Personnage(\"Alfred\")\n",
    "p2 = Personnage(\"Alicia\")\n",
    "for _ in range(4):\n",
    "    p2.mettre_a_jour_niveau()\n",
    "print(p1.get_level(), p2.get_level())\n",
    "p1.bonus()\n",
    "print(p1.get_level(), p2.get_level())\n",
    "p1.reinitialiser()\n",
    "print(p1.get_level(), p2.get_level())\n",
    "p2.malus()\n",
    "print(p1.get_level(), p2.get_level())\n",
    "p1.reinitialiser()\n",
    "print(p1.get_level(), p2.get_level())\n",
    "Personnage.bonus()\n",
    "Personnage.bonus()\n",
    "print(p1.get_level(), p2.get_level())\n",
    "Personnage.malus()\n",
    "print(p1.get_level(), p2.get_level())\n",
    "p1.bonus()\n",
    "p2.bonus()\n",
    "print(p1.get_level(), p2.get_level())\n",
    "p1.reinitialiser()\n",
    "print(p1.get_level(), p2.get_level())\n"
   ]
  },
  {
   "cell_type": "code",
   "execution_count": 67,
   "metadata": {},
   "outputs": [
    {
     "name": "stdout",
     "output_type": "stream",
     "text": [
      "{'Force': 10, 'Mana': 10, 'Dextérité': 10, 'Charisme': 10}\n",
      "{'Force': 25, 'Mana': 10, 'Dextérité': 10, 'Charisme': 10}\n",
      "{'Force': 10, 'Mana': 25, 'Dextérité': 10, 'Charisme': 10}\n",
      "{'Force': 10, 'Mana': 10, 'Dextérité': 25, 'Charisme': 10}\n",
      "1 1 1 1\n",
      "1 1 1.1 1\n",
      "0.5 0.5 1.1 0.5\n"
     ]
    }
   ],
   "source": [
    "from math import ceil\n",
    "\n",
    "class Personnage:\n",
    "    \"\"\"Docstring pour la classe Personnage \"\"\"\n",
    "\n",
    "    multiplicateur = 1\n",
    "\n",
    "    def __init__(self, nom):\n",
    "        \"\"\"Nom du joueur\"\"\"\n",
    "        self.nom = nom\n",
    "        self.niveau = 1\n",
    "        self.competences = {\"Force\": 10, \"Mana\": 10, \"Dextérité\": 10, \"Charisme\": 10}\n",
    "        self.partenaires = set()\n",
    "\n",
    "    def get_level(self):\n",
    "        return self.niveau * self.multiplicateur\n",
    "\n",
    "    def ajouter_competence(self, nom, niveau=10):\n",
    "        self.competences[nom] = niveau\n",
    "\n",
    "    def mettre_a_jour_competence(self, nom, increment=1):\n",
    "        if nom not in self.competences:\n",
    "            raise Exception(\"La compétence '{}' n'existe pas\".format(nom))\n",
    "        self.competences[nom] += increment\n",
    "\n",
    "    def mettre_a_jour_niveau(self):\n",
    "        self.niveau += 1\n",
    "        for k, v in self.competences.items():\n",
    "            self.competences[k] = ceil(v * 1.1)\n",
    "\n",
    "    @classmethod\n",
    "    def reinitialiser(cls):\n",
    "        cls.multiplicateur = 1\n",
    "\n",
    "    @classmethod\n",
    "    def bonus(cls):\n",
    "        cls.multiplicateur *= 1.1\n",
    "    \n",
    "    @classmethod\n",
    "    def malus(cls):\n",
    "        cls.multiplicateur /= 2\n",
    "\n",
    "class Guerrier(Personnage):\n",
    "    def __init__(self, nom):\n",
    "        super().__init__(nom)\n",
    "        self.competences[\"Force\"] = 25\n",
    "\n",
    "class Mage(Personnage):\n",
    "    def __init__(self, nom):\n",
    "        super().__init__(nom)\n",
    "        self.mettre_a_jour_competence(\"Mana\", 15)\n",
    "\n",
    "class Archer(Personnage):\n",
    "    def __init__(self, nom):\n",
    "        super().__init__(nom)\n",
    "        self.ajouter_competence(\"Dextérité\", 25)\n",
    "\n",
    "p = Personnage(\"Julius\")\n",
    "g = Guerrier(\"Julia\")\n",
    "m = Mage(\"Jules\")\n",
    "a = Archer(\"Julie\")\n",
    "\n",
    "print(p.competences)\n",
    "print(g.competences)\n",
    "print(m.competences)\n",
    "print(a.competences)\n",
    "\n",
    "\n",
    "print(p.get_level(), g.get_level(), m.get_level(), a.get_level())\n",
    "Mage.bonus()\n",
    "print(p.get_level(), g.get_level(), m.get_level(), a.get_level())\n",
    "Personnage.malus()\n",
    "print(p.get_level(), g.get_level(), m.get_level(), a.get_level())\n"
   ]
  },
  {
   "cell_type": "code",
   "execution_count": 68,
   "metadata": {},
   "outputs": [
    {
     "name": "stdout",
     "output_type": "stream",
     "text": [
      "{'Force': 10, 'Mana': 10, 'Dextérité': 10, 'Charisme': 10}\n",
      "{'Force': 25, 'Mana': 10, 'Dextérité': 10, 'Charisme': 10}\n",
      "{'Force': 10, 'Mana': 25, 'Dextérité': 10, 'Charisme': 10}\n",
      "{'Force': 10, 'Mana': 10, 'Dextérité': 25, 'Charisme': 10}\n",
      "1 1 1 1\n",
      "1.1 1.1 1.1 1.1\n",
      "0.55 0.55 0.55 0.55\n"
     ]
    }
   ],
   "source": [
    "from math import ceil\n",
    "\n",
    "class Personnage:\n",
    "    \"\"\"Docstring pour la classe Personnage \"\"\"\n",
    "\n",
    "    multiplicateur = 1\n",
    "\n",
    "    def __init__(self, nom):\n",
    "        \"\"\"Nom du joueur\"\"\"\n",
    "        self.nom = nom\n",
    "        self.niveau = 1\n",
    "        self.competences = {\"Force\": 10, \"Mana\": 10, \"Dextérité\": 10, \"Charisme\": 10}\n",
    "        self.partenaires = set()\n",
    "\n",
    "    def get_level(self):\n",
    "        return self.niveau * self.multiplicateur\n",
    "\n",
    "    def ajouter_competence(self, nom, niveau=10):\n",
    "        self.competences[nom] = niveau\n",
    "\n",
    "    def mettre_a_jour_competence(self, nom, increment=1):\n",
    "        if nom not in self.competences:\n",
    "            raise Exception(\"La compétence '{}' n'existe pas\".format(nom))\n",
    "        self.competences[nom] += increment\n",
    "\n",
    "    def mettre_a_jour_niveau(self):\n",
    "        self.niveau += 1\n",
    "        for k, v in self.competences.items():\n",
    "            self.competences[k] = ceil(v * 1.1)\n",
    "\n",
    "    @classmethod\n",
    "    def reinitialiser(cls):\n",
    "        Personnage.multiplicateur = 1\n",
    "\n",
    "    @classmethod\n",
    "    def bonus(cls):\n",
    "        Personnage.multiplicateur *= 1.1\n",
    "    \n",
    "    @classmethod\n",
    "    def malus(cls):\n",
    "        Personnage.multiplicateur /= 2\n",
    "\n",
    "class Guerrier(Personnage):\n",
    "    def __init__(self, nom):\n",
    "        super().__init__(nom)\n",
    "        self.competences[\"Force\"] = 25\n",
    "\n",
    "class Mage(Personnage):\n",
    "    def __init__(self, nom):\n",
    "        super().__init__(nom)\n",
    "        self.mettre_a_jour_competence(\"Mana\", 15)\n",
    "\n",
    "class Archer(Personnage):\n",
    "    def __init__(self, nom):\n",
    "        super().__init__(nom)\n",
    "        self.ajouter_competence(\"Dextérité\", 25)\n",
    "\n",
    "p = Personnage(\"Julius\")\n",
    "g = Guerrier(\"Julia\")\n",
    "m = Mage(\"Jules\")\n",
    "a = Archer(\"Julie\")\n",
    "\n",
    "print(p.competences)\n",
    "print(g.competences)\n",
    "print(m.competences)\n",
    "print(a.competences)\n",
    "\n",
    "\n",
    "print(p.get_level(), g.get_level(), m.get_level(), a.get_level())\n",
    "Mage.bonus()\n",
    "print(p.get_level(), g.get_level(), m.get_level(), a.get_level())\n",
    "Personnage.malus()\n",
    "print(p.get_level(), g.get_level(), m.get_level(), a.get_level())\n"
   ]
  },
  {
   "cell_type": "code",
   "execution_count": null,
   "metadata": {},
   "outputs": [],
   "source": []
  }
 ],
 "metadata": {
  "kernelspec": {
   "display_name": "Python 3",
   "language": "python",
   "name": "python3"
  },
  "language_info": {
   "codemirror_mode": {
    "name": "ipython",
    "version": 3
   },
   "file_extension": ".py",
   "mimetype": "text/x-python",
   "name": "python",
   "nbconvert_exporter": "python",
   "pygments_lexer": "ipython3",
   "version": "3.8.2"
  }
 },
 "nbformat": 4,
 "nbformat_minor": 1
}
