{
 "cells": [
  {
   "cell_type": "markdown",
   "id": "3fb533b3-59d1-4f87-b7e8-ec1f8c7cbd57",
   "metadata": {},
   "source": [
    "test unitaire\n",
    "==\n",
    "\n",
    "A partir des documentations\n",
    "--"
   ]
  },
  {
   "cell_type": "code",
   "execution_count": null,
   "id": "59a16d5d-1e75-4353-b865-1c5dc4a265df",
   "metadata": {},
   "outputs": [],
   "source": [
    "def moyenne(*args):\n",
    "    \"\"\"Permet de calculer la moyenne des nombres données en paramètres\"\"\"\n",
    "    return sum(args) / len(args)"
   ]
  },
  {
   "cell_type": "code",
   "execution_count": null,
   "id": "40cc4952-99bb-4bd8-9845-ed13a0846a29",
   "metadata": {},
   "outputs": [],
   "source": [
    "moyenne(9, 10, 11)"
   ]
  },
  {
   "cell_type": "code",
   "execution_count": null,
   "id": "0fadf9eb-2987-407b-bed7-4f17af5b3163",
   "metadata": {},
   "outputs": [],
   "source": [
    "moyenne()"
   ]
  },
  {
   "cell_type": "code",
   "execution_count": null,
   "id": "acfc4ffa-6a4e-47b4-bb02-f3646bea9fd1",
   "metadata": {},
   "outputs": [],
   "source": [
    "def moyenne(*args):\n",
    "    \"\"\"\n",
    "    Permet de calculer la moyenne des nombres données en paramètres\n",
    "\n",
    "    >>> moyenne(9, 10, 11)\n",
    "    10.0\n",
    "    >>>\n",
    "    moyenne()\n",
    "    Traceback (most recent call last):\n",
    "        ...\n",
    "    ZeroDivisionError: division by zero\n",
    "    \"\"\"\n",
    "    return sum(args) / len(args)"
   ]
  },
  {
   "cell_type": "code",
   "execution_count": null,
   "id": "18273ae3-0e18-4d10-b245-3c5f5ba48286",
   "metadata": {},
   "outputs": [],
   "source": [
    "import doctest"
   ]
  },
  {
   "cell_type": "code",
   "execution_count": null,
   "id": "a8b90846-67a7-44b8-8175-9a805c937682",
   "metadata": {},
   "outputs": [],
   "source": [
    "doctest.testmod()"
   ]
  },
  {
   "cell_type": "code",
   "execution_count": null,
   "id": "de212c90-dce8-4d7e-a9e4-cf542e29ada7",
   "metadata": {},
   "outputs": [],
   "source": [
    "def mal_testé():\n",
    "    \"\"\"\n",
    "    Fonction mal testée\n",
    "\n",
    "    >>> mal_testé()\n",
    "    0\n",
    "    \"\"\"\n",
    "    return 42"
   ]
  },
  {
   "cell_type": "code",
   "execution_count": null,
   "id": "ea155687-6302-4851-84b8-bbf7bf888f3d",
   "metadata": {},
   "outputs": [],
   "source": [
    "doctest.testmod()"
   ]
  },
  {
   "cell_type": "code",
   "execution_count": null,
   "id": "e344674d-4595-47b1-a0c6-c51d8060c196",
   "metadata": {},
   "outputs": [],
   "source": [
    "code = '''\n",
    "def moyenne(*args):\n",
    "    \"\"\"\n",
    "    Permet de calculer la moyenne des nombres données en paramètres\n",
    "\n",
    "    >>> moyenne(9, 10, 11)\n",
    "    10.0\n",
    "    >>>\n",
    "    moyenne()\n",
    "    Traceback (most recent call last):\n",
    "        ...\n",
    "    ZeroDivisionError: division by zero\n",
    "    \"\"\"\n",
    "    return sum(args) / len(args)\n",
    "\n",
    "if __name__ == \"__main__\":\n",
    "    import doctest\n",
    "    doctest.testmod()\n",
    "'''\n",
    "with open(\"essai.py\", \"w\") as f:\n",
    "    f.write(code)\n",
    "\n",
    "import subprocess\n",
    "print(subprocess.getstatusoutput(\"python essai.py\"))"
   ]
  },
  {
   "cell_type": "code",
   "execution_count": null,
   "id": "15d9ef58-c413-4b03-97ae-85f720107469",
   "metadata": {},
   "outputs": [],
   "source": [
    "code = '''\n",
    "def moyenne(*args):\n",
    "    \"\"\"\n",
    "    Permet de calculer la moyenne des nombres données en paramètres\n",
    "\n",
    "    >>> moyenne(9, 10, 11)\n",
    "    10.0\n",
    "    >>>\n",
    "    moyenne()\n",
    "    Traceback (most recent call last):\n",
    "        ...\n",
    "    ZeroDivisionError: division by zero\n",
    "    \"\"\"\n",
    "    return sum(args) / len(args)\n",
    "\n",
    "def mal_testé():\n",
    "    \"\"\"\n",
    "    Fonction mal testée\n",
    "\n",
    "    >>> mal_testé()\n",
    "    0\n",
    "    \"\"\"\n",
    "    return 42\n",
    "\n",
    "if __name__ == \"__main__\":\n",
    "    import doctest\n",
    "    doctest.testmod()\n",
    "'''\n",
    "with open(\"essai.py\", \"w\") as f:\n",
    "    f.write(code)\n",
    "\n",
    "import subprocess\n",
    "status, output = subprocess.getstatusoutput(\"python essai.py\")\n",
    "\n",
    "from pprint import pprint\n",
    "print(status)\n",
    "pprint(output)"
   ]
  },
  {
   "cell_type": "markdown",
   "id": "dae38e3a-d18d-4bd4-84fa-61643223d4fc",
   "metadata": {},
   "source": [
    "scénarios de tests\n",
    "--"
   ]
  },
  {
   "cell_type": "code",
   "execution_count": null,
   "id": "c32ac7a1-19cd-4088-9b8b-21020dac4bc7",
   "metadata": {},
   "outputs": [],
   "source": [
    "import unittest\n",
    "\n",
    "class TestFonctionMoyenne(unittest.TestCase):\n",
    "    def test_moyenne_nombres_differents(self):\n",
    "        self.assertEqual(moyenne(8, 10, 12), 10)\n",
    "\n",
    "    def test_moyenne_nombres_egauxs(self):\n",
    "        self.assertEqual(moyenne(10, 10, 10), 10)\n",
    "\n",
    "    def test_moyenne_sans_nombres(self):\n",
    "        with self.assertRaises(ZeroDivisionError):\n",
    "            moyenne()\n"
   ]
  },
  {
   "cell_type": "code",
   "execution_count": null,
   "id": "f1590f16-a92f-4d7b-a7d9-e79f28975e34",
   "metadata": {},
   "outputs": [],
   "source": [
    "dir(TestFonctionMoyenne)"
   ]
  },
  {
   "cell_type": "markdown",
   "id": "2ffc39d9-b6a3-4a36-bce3-115c06aa25a7",
   "metadata": {},
   "source": [
    "| Methode | Vérifie que |\n",
    "| ---: | :--- |\n",
    "| assertEqual(a, b) | a == b |\n",
    "| assertNotEqual(a, b) | a != b |\n",
    "| assertTrue(x) | bool(x) is True |\n",
    "| assertFalse(x) | bool(x) is False |\n",
    "| assertIs(a, b) | a is b |\n",
    "| assertIsNot(a, b) | a is not b |\n",
    "| assertIsNone(x) | x is None |\n",
    "| assertIsNotNone(x) | x is not None |\n",
    "| assertIn(a, b) | a in b |\n",
    "| assertNotIn(a, b) | a not in b |\n",
    "| assertIsInstance(a, b) | isinstance(a, b) |\n",
    "| assertNotIsInstance(a, b) | not isinstance(a, b) |"
   ]
  },
  {
   "cell_type": "code",
   "execution_count": null,
   "id": "c29ccc1b-6232-4f74-bcca-ff2f936eb6dd",
   "metadata": {},
   "outputs": [],
   "source": [
    "code = '''\n",
    "\n",
    "def moyenne(*args):\n",
    "    return sum(args) / len(args)\n",
    "\n",
    "\n",
    "import unittest\n",
    "\n",
    "class TestFonctionMoyenne(unittest.TestCase):\n",
    "    def test_moyenne_nombres_differents(self):\n",
    "        self.assertEqual(moyenne(8, 10, 12), 10)\n",
    "\n",
    "    def test_moyenne_nombres_egauxs(self):\n",
    "        self.assertEqual(moyenne(10, 10, 10), 10)\n",
    "\n",
    "    def test_moyenne_sans_nombres(self):\n",
    "        with self.assertRaises(ZeroDivisionError):\n",
    "            moyenne()\n",
    "\n",
    "if __name__ == \"__main__\":\n",
    "    unittest.main()\n",
    "'''\n",
    "\n",
    "with open(\"essai.py\", \"w\") as f:\n",
    "    f.write(code)\n",
    "\n",
    "import subprocess\n",
    "status, output = subprocess.getstatusoutput(\"python -m unittest essai\")\n",
    "\n",
    "from pprint import pprint\n",
    "print(status)\n",
    "pprint(output)"
   ]
  },
  {
   "cell_type": "code",
   "execution_count": null,
   "id": "4f3bdf5e-9493-4e98-b040-6898838eb3dd",
   "metadata": {},
   "outputs": [],
   "source": [
    "def afficher(*args):\n",
    "    print(f\"les nombres sont {args}\")\n",
    "    moyenne = moyenne(*args)\n",
    "    print(f\"la moyenne est {moyenne}\")"
   ]
  },
  {
   "cell_type": "code",
   "execution_count": null,
   "id": "f42673a9-58f2-44f0-9b5b-57a6da6b7e76",
   "metadata": {},
   "outputs": [],
   "source": [
    "with open(\"calcul.py\", \"w\") as f:\n",
    "    f.write('''\n",
    "\n",
    "def moyenne(*args):\n",
    "    return sum(args) / len(args)\n",
    "''')\n",
    "\n",
    "with open(\"ecran.py\", \"w\") as f:\n",
    "    f.write('''\n",
    "from calcul import moyenne\n",
    "\n",
    "def afficher(*args):\n",
    "    print(f\"les nombres sont {args}\")\n",
    "    calcul = moyenne(*args)\n",
    "    print(f\"la moyenne est {calcul}\")\n",
    "\n",
    "''')\n",
    "\n",
    "code = '''\n",
    "import unittest\n",
    "from unittest.mock import patch\n",
    "\n",
    "from ecran import afficher\n",
    "\n",
    "class TestModuleEcran(unittest.TestCase):\n",
    "\n",
    "    @patch(\"ecran.moyenne\", return_value=42)\n",
    "    def test_afficher(self, mock_moyenne):\n",
    "        afficher(1, 2, 3)\n",
    "        mock_moyenne.assert_called_once_with(1, 2, 3)\n",
    "\n",
    "if __name__ == \"__main__\":\n",
    "    unittest.main()\n",
    "'''\n",
    "\n",
    "with open(\"test.py\", \"w\") as f:\n",
    "    f.write(code)\n",
    "\n",
    "import subprocess\n",
    "status, output = subprocess.getstatusoutput(\"python -m unittest test\")\n",
    "\n",
    "from pprint import pprint\n",
    "print(status)\n",
    "pprint(output)"
   ]
  },
  {
   "cell_type": "code",
   "execution_count": null,
   "id": "5012f4da-6931-49eb-ab5e-370119891f3b",
   "metadata": {},
   "outputs": [],
   "source": [
    "code = '''\n",
    "import sys\n",
    "import unittest\n",
    "\n",
    "class SkipTestExample(unittest.TestCase):\n",
    "    @unittest.skip(\"Unconditionally skipped test\")\n",
    "    def test_unimportant(self):\n",
    "        self.fail(\"The test should be skipped\")\n",
    "\n",
    "    @unittest.skipIf(sys.version_info < (3, 12), \"Requires Python >= 3.12\")\n",
    "    def test_using_calendar_constants(self):\n",
    "        import calendar\n",
    "\n",
    "        self.assertEqual(calendar.Month(10), calendar.OCTOBER)\n",
    "\n",
    "    @unittest.skipUnless(sys.platform.startswith(\"win\"), \"Requires Windows\")\n",
    "    def test_windows_support(self):\n",
    "        from ctypes import WinDLL, windll\n",
    "\n",
    "        self.assertIsInstance(windll.kernel32, WinDLL)\n",
    "\n",
    "if __name__ == \"__main__\":\n",
    "    unittest.main(verbosity=2)\n",
    "'''\n",
    "\n",
    "with open(\"test_skipped.py\", \"w\") as f:\n",
    "    f.write(code)\n",
    "\n",
    "import subprocess\n",
    "status, output = subprocess.getstatusoutput(\"python -m unittest test_skipped\")\n",
    "\n",
    "from pprint import pprint\n",
    "print(status)\n",
    "pprint(output)"
   ]
  },
  {
   "cell_type": "code",
   "execution_count": null,
   "id": "94f392d3-03fb-49b1-b47f-b007d8c97774",
   "metadata": {},
   "outputs": [],
   "source": []
  }
 ],
 "metadata": {
  "kernelspec": {
   "display_name": "Python 3 (ipykernel)",
   "language": "python",
   "name": "python3"
  },
  "language_info": {
   "codemirror_mode": {
    "name": "ipython",
    "version": 3
   },
   "file_extension": ".py",
   "mimetype": "text/x-python",
   "name": "python",
   "nbconvert_exporter": "python",
   "pygments_lexer": "ipython3",
   "version": "3.11.8"
  }
 },
 "nbformat": 4,
 "nbformat_minor": 5
}
