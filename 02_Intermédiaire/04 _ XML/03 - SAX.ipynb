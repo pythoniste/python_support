{
 "cells": [
  {
   "cell_type": "markdown",
   "id": "7dfe4240-1cf6-4b07-ba9c-b90d90e4c2ef",
   "metadata": {},
   "source": [
    "SAX\n",
    "==\n",
    "\n",
    "La bibliothèque *lxml* est, avant toute chose, faite pour *parser des fichiers XML* et construire des arbres **DOM**.\n",
    "\n",
    "Cependant, elle dispose des outils nécessaires pour appliquer les principes de SAX non pas directement sur le fichier XML, mais sur l’arbre DOM. Du coup, on perd l’avantage de SAX qui est de n’utiliser que peu de mémoire, puisqu’il ne devrait charger que la balise courante, mais on profite de la méthodologie SAX, le tout étant vu comme de la programmation événementielle.\n",
    "\n",
    "Chargement d'un document XML\n",
    "--"
   ]
  },
  {
   "cell_type": "code",
   "execution_count": null,
   "id": "517c842a-985a-42aa-af12-63b5a8e46534",
   "metadata": {},
   "outputs": [],
   "source": [
    "with open('document.xml') as f:\n",
    "    print(f.read())"
   ]
  },
  {
   "cell_type": "code",
   "execution_count": null,
   "id": "93147470-9258-4e86-8c77-a9ff3bbf35fe",
   "metadata": {},
   "outputs": [],
   "source": [
    "from lxml import etree"
   ]
  },
  {
   "cell_type": "code",
   "execution_count": null,
   "id": "bf280d6d-b284-44bb-ab5b-ac5b46b39b65",
   "metadata": {},
   "outputs": [],
   "source": [
    "with open('document.xml') as f:\n",
    "    tree = etree.parse(f)"
   ]
  },
  {
   "cell_type": "markdown",
   "id": "16e699de-baa6-4292-9b27-61381c504d94",
   "metadata": {},
   "source": [
    "Définition du Handler\n",
    "--"
   ]
  },
  {
   "cell_type": "code",
   "execution_count": null,
   "id": "ddf74b35-569f-484e-bee1-c60d9929291b",
   "metadata": {},
   "outputs": [],
   "source": [
    "from xml.sax.handler import ContentHandler"
   ]
  },
  {
   "cell_type": "code",
   "execution_count": null,
   "id": "ab775f70-9a30-44b2-a029-faa986323c78",
   "metadata": {},
   "outputs": [],
   "source": [
    "class MyHandler(ContentHandler):\n",
    "\n",
    "    def __init__(self):\n",
    "        self.nb = 0\n",
    "        self.personnes = []\n",
    "\n",
    "    def startElementNS(self, name, qname, attributes):\n",
    "        print('Noeud trouvé: %s' % qname)\n",
    "        if qname == 'personne':\n",
    "            self.nb += 1\n",
    "            self.personnes.append(dict(attributes.items()))\n",
    "\n",
    "    def characters(self, data):\n",
    "        pass"
   ]
  },
  {
   "cell_type": "code",
   "execution_count": null,
   "id": "9291bb68-69c9-4b17-8bf3-edb9ec5a3eca",
   "metadata": {},
   "outputs": [],
   "source": [
    "handler = MyHandler()"
   ]
  },
  {
   "cell_type": "markdown",
   "id": "635f394f-8db7-4bfe-8006-422162bd0033",
   "metadata": {},
   "source": [
    "Parsing\n",
    "--"
   ]
  },
  {
   "cell_type": "code",
   "execution_count": null,
   "id": "168eaa30-30b0-4d99-9349-25d648cffe83",
   "metadata": {},
   "outputs": [],
   "source": [
    "from lxml.sax import saxify"
   ]
  },
  {
   "cell_type": "code",
   "execution_count": null,
   "id": "54b4fac2-121e-4403-ba43-af4703df9973",
   "metadata": {},
   "outputs": [],
   "source": [
    "saxify(tree, handler)"
   ]
  },
  {
   "cell_type": "code",
   "execution_count": null,
   "id": "2a293c30-90e2-4ebe-9d86-1e33eeef8c60",
   "metadata": {},
   "outputs": [],
   "source": [
    "handler.nb"
   ]
  },
  {
   "cell_type": "code",
   "execution_count": null,
   "id": "597ba63f-9797-44ae-bd2b-a372a73ec7a1",
   "metadata": {},
   "outputs": [],
   "source": [
    "handler.personnes"
   ]
  },
  {
   "cell_type": "markdown",
   "id": "138df231-6f4e-4ab7-842c-7b8b352caec5",
   "metadata": {},
   "source": [
    "Sax allégé\n",
    "--"
   ]
  },
  {
   "cell_type": "code",
   "execution_count": null,
   "id": "1a020734-7127-4816-bd64-1523dc81ca03",
   "metadata": {},
   "outputs": [],
   "source": [
    "class Donnees:\n",
    "    nb = 0\n",
    "    personnes = []\n",
    "\n",
    "donnees = Donnees()"
   ]
  },
  {
   "cell_type": "code",
   "execution_count": null,
   "id": "37bb291a-b9ec-4849-9294-87bdacc2a967",
   "metadata": {},
   "outputs": [],
   "source": [
    "def start_element(name, attributes):\n",
    "    if name == 'personne':\n",
    "        donnees.nb += 1\n",
    "        donnees.personnes.append(dict(attributes.items()))"
   ]
  },
  {
   "cell_type": "code",
   "execution_count": null,
   "id": "85def159-1718-4e30-8e64-0a41841fae68",
   "metadata": {},
   "outputs": [],
   "source": [
    "from xml.parsers.expat import ParserCreate"
   ]
  },
  {
   "cell_type": "code",
   "execution_count": null,
   "id": "ffd1a009-37f1-4106-a120-510d3c506375",
   "metadata": {},
   "outputs": [],
   "source": [
    "parser = ParserCreate()"
   ]
  },
  {
   "cell_type": "code",
   "execution_count": null,
   "id": "a7fe6834-10ed-4d0e-9163-92ef1d52fac7",
   "metadata": {},
   "outputs": [],
   "source": [
    "parser.StartElementHandler = start_element"
   ]
  },
  {
   "cell_type": "code",
   "execution_count": null,
   "id": "93b4e5f1-8eca-4544-b479-0c80d346f231",
   "metadata": {},
   "outputs": [],
   "source": [
    "with open('document.xml', 'rb') as f:\n",
    "    parser.ParseFile(f)"
   ]
  },
  {
   "cell_type": "code",
   "execution_count": null,
   "id": "4bf66a81-d7b3-4dbc-96a5-7b5e56d7bb95",
   "metadata": {},
   "outputs": [],
   "source": [
    "donnees.nb"
   ]
  },
  {
   "cell_type": "code",
   "execution_count": null,
   "id": "87404fd5-51b0-4e44-8ed6-212338595fa2",
   "metadata": {},
   "outputs": [],
   "source": [
    "donnees.personnes"
   ]
  },
  {
   "cell_type": "markdown",
   "id": "04c5643b-3d8b-4f65-a0f4-9693459810d5",
   "metadata": {},
   "source": [
    "---"
   ]
  }
 ],
 "metadata": {
  "kernelspec": {
   "display_name": "Python 3 (ipykernel)",
   "language": "python",
   "name": "python3"
  },
  "language_info": {
   "codemirror_mode": {
    "name": "ipython",
    "version": 3
   },
   "file_extension": ".py",
   "mimetype": "text/x-python",
   "name": "python",
   "nbconvert_exporter": "python",
   "pygments_lexer": "ipython3",
   "version": "3.11.8"
  }
 },
 "nbformat": 4,
 "nbformat_minor": 5
}
