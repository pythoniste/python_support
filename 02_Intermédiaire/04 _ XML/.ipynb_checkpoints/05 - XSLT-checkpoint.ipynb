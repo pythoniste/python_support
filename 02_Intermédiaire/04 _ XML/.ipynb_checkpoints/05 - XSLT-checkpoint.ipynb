{
 "cells": [
  {
   "cell_type": "markdown",
   "id": "8ff9ca1a-fe7c-467a-8c54-87ed562394a0",
   "metadata": {},
   "source": [
    "XPath et XSLT\n",
    "==\n",
    "\n",
    "**XPath** est un langage permettant une interrogation simplifiée d’un document XML.\n",
    "\n",
    "Toute la puissance de **XPath** se révèle lorsque le développeur maîtrise bien la formulation de ses interrogations et recense tous les cas possibles décrits par son expression.\n",
    "\n",
    "**XSLT** est l’acronyme de *eXtensible Stylesheet Language Transformations* et, comme son nom le laisse supposer, il s’agit d’un langage **XML** qui permet d'opérer des *transformations de style* afin de traduire un document XML respectant un certain schéma en un autre document XML respectant un autre schéma.\n",
    "\n",
    "Le document XML d’entrée ou de sortie peut être des utilisations particulières de langages, comme *(X)HTML* ou *SVG*, mais dans tous les cas ces documents doivent être bien formés, sans quoi la transformation est impossible.\n",
    "\n",
    "Chargement d'un document XML\n",
    "--"
   ]
  },
  {
   "cell_type": "code",
   "execution_count": null,
   "id": "c70cb999-91e3-4193-9231-bdbc4c8183f3",
   "metadata": {},
   "outputs": [],
   "source": [
    "with open('document.xml') as f:\n",
    "    print(f.read())"
   ]
  },
  {
   "cell_type": "code",
   "execution_count": null,
   "id": "057a99ff-36d6-4cda-8071-fbf6bb11a4aa",
   "metadata": {},
   "outputs": [],
   "source": [
    "from lxml import etree"
   ]
  },
  {
   "cell_type": "code",
   "execution_count": null,
   "id": "5ccab377-c909-4510-9adc-3d301401b155",
   "metadata": {},
   "outputs": [],
   "source": [
    "with open('document.xml') as f:\n",
    "    tree = etree.parse(f)"
   ]
  },
  {
   "cell_type": "markdown",
   "id": "d7a3eb8e-08c5-4971-aa20-8d6539b348bd",
   "metadata": {},
   "source": [
    "XPath\n",
    "--"
   ]
  },
  {
   "cell_type": "code",
   "execution_count": null,
   "id": "e996caad-b8cd-4e6c-8056-3aa903121c7e",
   "metadata": {},
   "outputs": [],
   "source": [
    "tree.getpath(tree.getroot().getchildren()[1])"
   ]
  },
  {
   "cell_type": "code",
   "execution_count": null,
   "id": "ef49117e-893e-46d5-972c-484ff4455b5b",
   "metadata": {},
   "outputs": [],
   "source": [
    "personnes = tree.xpath('/liste/personne')"
   ]
  },
  {
   "cell_type": "code",
   "execution_count": null,
   "id": "c7f17f0f-8841-442f-b3ca-be9c8889ec52",
   "metadata": {},
   "outputs": [],
   "source": [
    "len(personnes)"
   ]
  },
  {
   "cell_type": "code",
   "execution_count": null,
   "id": "69c407d9-3caa-4636-b9a0-b0a101150ddd",
   "metadata": {},
   "outputs": [],
   "source": [
    "personnes[0].tag"
   ]
  },
  {
   "cell_type": "code",
   "execution_count": null,
   "id": "4ff90d76-f26e-425a-83bc-e2b685faa602",
   "metadata": {},
   "outputs": [],
   "source": [
    "tree.xpath('count(/*/personne)')"
   ]
  },
  {
   "cell_type": "code",
   "execution_count": null,
   "id": "79f2f179-8aa3-4cae-81eb-7ffeab1d71ae",
   "metadata": {},
   "outputs": [],
   "source": [
    "for i in range(1, 4):\n",
    "    expr = f\"/*/personne[{i}]\"\n",
    "    print(f\"{expr}: {tree.xpath(expr)}\")"
   ]
  },
  {
   "cell_type": "code",
   "execution_count": null,
   "id": "915b7da6-fc8c-43f3-9a46-dab079c8e4c2",
   "metadata": {},
   "outputs": [],
   "source": [
    "tree.xpath(\"/*/personne[@id]\")"
   ]
  },
  {
   "cell_type": "code",
   "execution_count": null,
   "id": "ce192630-242b-4760-a9ef-9a845670cea1",
   "metadata": {},
   "outputs": [],
   "source": [
    "tree.xpath(\"/*/personne[@nom]\")"
   ]
  },
  {
   "cell_type": "code",
   "execution_count": null,
   "id": "0f27b252-f0cb-4427-af98-33d4a8c6bdf6",
   "metadata": {},
   "outputs": [],
   "source": [
    "tree.xpath(\"/*/personne[@id=2]\")"
   ]
  },
  {
   "cell_type": "code",
   "execution_count": null,
   "id": "21e4fe06-f661-40a7-af59-896f33948716",
   "metadata": {},
   "outputs": [],
   "source": [
    "tree.xpath(\"/*/personne[@id=$id]\", id=2)"
   ]
  },
  {
   "cell_type": "markdown",
   "id": "18cd2d87-cf26-4934-b345-ccc3b36ecf93",
   "metadata": {},
   "source": [
    "Fichiers OpenDocument\n",
    "--"
   ]
  },
  {
   "cell_type": "code",
   "execution_count": null,
   "id": "884bb894-c212-4fe4-b10a-750e632ec86d",
   "metadata": {},
   "outputs": [],
   "source": [
    "import zipfile\n",
    "with zipfile.ZipFile('document.odt') as f:\n",
    "    content = f.read('content.xml')"
   ]
  },
  {
   "cell_type": "code",
   "execution_count": null,
   "id": "edb50db1-d62c-462e-8e5f-82ddaf8953e6",
   "metadata": {},
   "outputs": [],
   "source": [
    "document_tree = etree.fromstring(content)"
   ]
  },
  {
   "cell_type": "code",
   "execution_count": null,
   "id": "b72b968e-c3eb-4662-bea0-2ff0b20ddbe3",
   "metadata": {},
   "outputs": [],
   "source": [
    "namespaces = {\n",
    "    \"table\": \"urn:oasis:names:tc:opendocument:xmlns:table:1.0\",\n",
    "    \"fo\": \"urn:oasis:names:tc:opendocument:xmlns:xsl-fo-compatible:1.0\",\n",
    "    \"manifest\": \"urn:oasis:names:tc:opendocument:xmlns:manifest:1.0\",\n",
    "    \"presentation\": \"urn:oasis:names:tc:opendocument:xmlns:presentation:1.0\",\n",
    "    \"meta\": \"urn:oasis:names:tc:opendocument:xmlns:meta:1.0\",\n",
    "    \"style\": \"urn:oasis:names:tc:opendocument:xmlns:style:1.0\",\n",
    "    \"draw\": \"urn:oasis:names:tc:opendocument:xmlns:drawing:1.0\",\n",
    "    \"text\": \"urn:oasis:names:tc:opendocument:xmlns:text:1.0\",\n",
    "    \"office\": \"urn:oasis:names:tc:opendocument:xmlns:office:1.0\",\n",
    "}"
   ]
  },
  {
   "cell_type": "code",
   "execution_count": null,
   "id": "b28a3f03-fd6b-4d44-984a-aed65b5b3fe5",
   "metadata": {},
   "outputs": [],
   "source": [
    "titres = [(n.get('{urn:oasis:names:tc:opendocument:xmlns:text:1.0}outline-level'), n.text) for n in document_tree.xpath('//text:h', namespaces=namespaces)]"
   ]
  },
  {
   "cell_type": "code",
   "execution_count": null,
   "id": "4d973346-7f60-4679-b6ac-48557b9c4290",
   "metadata": {},
   "outputs": [],
   "source": [
    "from pprint import pprint\n",
    "pprint(titres)"
   ]
  },
  {
   "cell_type": "markdown",
   "id": "a77ccf54-09a6-4d3e-adff-c517a13f1625",
   "metadata": {},
   "source": [
    "XSLT\n",
    "--"
   ]
  },
  {
   "cell_type": "code",
   "execution_count": null,
   "id": "9d769d8e-9c30-4c64-99fb-f3272e848091",
   "metadata": {},
   "outputs": [],
   "source": [
    "with open('document.xslt') as f:\n",
    "    print(f.read())"
   ]
  },
  {
   "cell_type": "code",
   "execution_count": null,
   "id": "fae06efc-88da-4304-b242-875ba37f1ccf",
   "metadata": {},
   "outputs": [],
   "source": [
    "with open('document.xslt') as f:\n",
    "    xslt = etree.XSLT(etree.parse(f))"
   ]
  },
  {
   "cell_type": "code",
   "execution_count": null,
   "id": "d8173142-b384-4e74-b74a-93d8837c8f90",
   "metadata": {},
   "outputs": [],
   "source": [
    "new_tree = xslt(tree, **{'date': '20110901'})"
   ]
  },
  {
   "cell_type": "code",
   "execution_count": null,
   "id": "ad472be1-17e0-4d64-9e40-37da789c386c",
   "metadata": {},
   "outputs": [],
   "source": [
    "print(etree.tostring(new_tree, pretty_print=True).decode())"
   ]
  },
  {
   "cell_type": "code",
   "execution_count": null,
   "id": "7d77bbf4-3d7d-4c87-9f68-6c98c0e10bee",
   "metadata": {},
   "outputs": [],
   "source": [
    "print(etree.tostring(tree, pretty_print=True).decode())"
   ]
  },
  {
   "cell_type": "code",
   "execution_count": null,
   "id": "04921da4-fa2d-46e3-9167-ef2eaba2fa0d",
   "metadata": {},
   "outputs": [],
   "source": [
    "with open('transforme.xml', 'wb') as f:\n",
    "    f.write(etree.tostring(new_tree, pretty_print=True))"
   ]
  },
  {
   "cell_type": "code",
   "execution_count": null,
   "id": "93afb5d6-822e-45a0-bb2a-eba327f2fada",
   "metadata": {},
   "outputs": [],
   "source": [
    "with open('transforme.xml') as f:\n",
    "    print(f.read())"
   ]
  },
  {
   "cell_type": "markdown",
   "id": "21763c0a-fad9-4a61-9201-b80427d5f7fa",
   "metadata": {},
   "source": [
    "---"
   ]
  }
 ],
 "metadata": {
  "kernelspec": {
   "display_name": "Python 3 (ipykernel)",
   "language": "python",
   "name": "python3"
  },
  "language_info": {
   "codemirror_mode": {
    "name": "ipython",
    "version": 3
   },
   "file_extension": ".py",
   "mimetype": "text/x-python",
   "name": "python",
   "nbconvert_exporter": "python",
   "pygments_lexer": "ipython3",
   "version": "3.11.8"
  }
 },
 "nbformat": 4,
 "nbformat_minor": 5
}
