{
 "cells": [
  {
   "cell_type": "markdown",
   "id": "394b3154-3020-436a-ac5d-888b269071d7",
   "metadata": {},
   "source": [
    "Validation\n",
    "==\n",
    "\n",
    "Définition\n",
    "--\n",
    "\n",
    "*XML est un langage déclaratif de balisage générique et extensible dont le vocabulaire et la grammaire ne sont pas définis a priori.*\n",
    "\n",
    "Un Schéma est un document permettant de décrire le format d'une donnée particulière qui pourra, en suivant ce schéma être décrit par des fichiers XML\n",
    "\n",
    "**DSDL  apporte simplement cette définition et est une norme (ISO/CEI 19757).**\n",
    "\n",
    "Il existe :\n",
    "\n",
    "Format | Signification | description\n",
    "---: | :---: | :---\n",
    "DTD | Document Type Definition | Spécifié par le W3C, décrit les noeuds un à un\n",
    "XSD | Xml Schema Definition | fichier XML décrivant un fichier XML\n",
    "RelaxNG | REgular LAnguage for Xml Next Generation | Gérée par l'OASIS, Fichier XML ou sous une forme plus compacte, utilisé par OpenDocument\n",
    "Schematron | Schematron | Repose sur l'utilisation d'un nombre réduit d'élément XPath\n",
    "\n",
    "Chargement du document XML\n",
    "--"
   ]
  },
  {
   "cell_type": "code",
   "execution_count": null,
   "id": "38d929c2-4096-4073-ad33-d2bd8b08f434",
   "metadata": {},
   "outputs": [],
   "source": [
    "with open('document.xml') as f:\n",
    "    print(f.read())"
   ]
  },
  {
   "cell_type": "code",
   "execution_count": null,
   "id": "7eba08f2-0256-4010-874e-0746494cc360",
   "metadata": {},
   "outputs": [],
   "source": [
    "from lxml import etree"
   ]
  },
  {
   "cell_type": "code",
   "execution_count": null,
   "id": "35dfb033-dc0c-44ec-a5df-35f7a8f63c44",
   "metadata": {},
   "outputs": [],
   "source": [
    "with open('document.xml') as f:\n",
    "    tree = etree.parse(f)"
   ]
  },
  {
   "cell_type": "code",
   "execution_count": null,
   "id": "8605552f-8a4b-401b-b8a9-6ae96fc3a6d2",
   "metadata": {},
   "outputs": [],
   "source": [
    "root = tree.getroot()"
   ]
  },
  {
   "cell_type": "markdown",
   "id": "7a77ec79-34b9-41e8-a074-1e745615ac4c",
   "metadata": {},
   "source": [
    "DTD\n",
    "--"
   ]
  },
  {
   "cell_type": "code",
   "execution_count": null,
   "id": "facedcb8-6021-4217-b5a1-4c7bf6a34d3e",
   "metadata": {},
   "outputs": [],
   "source": [
    "with open('document.dtd') as f:\n",
    "    print(f.read())"
   ]
  },
  {
   "cell_type": "code",
   "execution_count": null,
   "id": "4d424bf2-af62-483d-82aa-5e16dafabb21",
   "metadata": {},
   "outputs": [],
   "source": [
    "from io import StringIO"
   ]
  },
  {
   "cell_type": "code",
   "execution_count": null,
   "id": "f5e0f253-29a5-4205-af31-0848bb329f27",
   "metadata": {},
   "outputs": [],
   "source": [
    "with open('document.dtd', 'r') as f:\n",
    "    dtd = etree.DTD(StringIO(f.read()))"
   ]
  },
  {
   "cell_type": "code",
   "execution_count": null,
   "id": "d9cd8453-5742-4177-a5ba-af8b0e7aa865",
   "metadata": {},
   "outputs": [],
   "source": [
    "dtd.elements()"
   ]
  },
  {
   "cell_type": "code",
   "execution_count": null,
   "id": "f9aefc84-5c36-4f67-ab3a-b3a525000be9",
   "metadata": {},
   "outputs": [],
   "source": [
    "element_liste, element_personne = dtd.elements()"
   ]
  },
  {
   "cell_type": "code",
   "execution_count": null,
   "id": "8b61d166-3989-4a3f-82be-e08bd648eecc",
   "metadata": {},
   "outputs": [],
   "source": [
    "print(element_liste.attributes())\n",
    "print(element_liste.content)\n",
    "print(element_liste.name)\n",
    "print(element_liste.prefix)\n",
    "print(element_liste.type)"
   ]
  },
  {
   "cell_type": "code",
   "execution_count": null,
   "id": "7be376ec-7e77-49ed-a182-6dbc68ca3a35",
   "metadata": {},
   "outputs": [],
   "source": [
    "print(element_personne.attributes())\n",
    "print(element_personne.content)\n",
    "print(element_personne.name)\n",
    "print(element_personne.prefix)\n",
    "print(element_personne.type)"
   ]
  },
  {
   "cell_type": "code",
   "execution_count": null,
   "id": "af006e95-9c5e-4f6a-8295-fa2c970fc39d",
   "metadata": {},
   "outputs": [],
   "source": [
    "dtd.validate(root)"
   ]
  },
  {
   "cell_type": "markdown",
   "id": "c560085f-9226-4e5a-b7e1-d49bbff5a841",
   "metadata": {},
   "source": [
    "XSD\n",
    "--"
   ]
  },
  {
   "cell_type": "code",
   "execution_count": null,
   "id": "2e203eb5-8d15-474d-a514-fe9ca1bd5a8a",
   "metadata": {},
   "outputs": [],
   "source": [
    "with open('document.xsd') as f:\n",
    "    print(f.read())"
   ]
  },
  {
   "cell_type": "code",
   "execution_count": null,
   "id": "231671fd-b59f-4a47-a611-bbd7a1e0525e",
   "metadata": {},
   "outputs": [],
   "source": [
    "with open('document.xsd') as f:\n",
    "    xsd = etree.XMLSchema(etree.parse(f))"
   ]
  },
  {
   "cell_type": "code",
   "execution_count": null,
   "id": "27830719-139f-40c0-b0b3-443d7d71ce78",
   "metadata": {},
   "outputs": [],
   "source": [
    "xsd.validate(root)"
   ]
  },
  {
   "cell_type": "code",
   "execution_count": null,
   "id": "2e2112da-0dd9-4059-90ea-54632b06b424",
   "metadata": {},
   "outputs": [],
   "source": [
    "xsd.validate(tree)"
   ]
  },
  {
   "cell_type": "markdown",
   "id": "369bafcb-2386-401b-af76-1fc6b63b85c2",
   "metadata": {},
   "source": [
    "RNG\n",
    "--"
   ]
  },
  {
   "cell_type": "code",
   "execution_count": null,
   "id": "68899aeb-56a7-4206-a8fc-c118eb6733bf",
   "metadata": {},
   "outputs": [],
   "source": [
    "with open('document.rng') as f:\n",
    "    print(f.read())"
   ]
  },
  {
   "cell_type": "code",
   "execution_count": null,
   "id": "3368660d-3266-4ae1-a07e-821be9e9d130",
   "metadata": {},
   "outputs": [],
   "source": [
    "with open('document.rng', 'r') as f:\n",
    "    rng = etree.RelaxNG(etree.parse(f))"
   ]
  },
  {
   "cell_type": "code",
   "execution_count": null,
   "id": "37328393-fc13-438f-9fe3-1cedf951fa24",
   "metadata": {},
   "outputs": [],
   "source": [
    "rng.validate(root)"
   ]
  },
  {
   "cell_type": "code",
   "execution_count": null,
   "id": "2a225d0c-3bdb-414d-9938-44955ff48a0d",
   "metadata": {},
   "outputs": [],
   "source": [
    "rng.validate(tree)"
   ]
  },
  {
   "cell_type": "markdown",
   "id": "bb38715b-8c70-469d-921a-d21062b4966d",
   "metadata": {},
   "source": [
    "Schematron\n",
    "--"
   ]
  },
  {
   "cell_type": "code",
   "execution_count": null,
   "id": "c4a0210b-03be-4c11-9aed-0cb087c464c4",
   "metadata": {},
   "outputs": [],
   "source": [
    "with open('document.sch') as f:\n",
    "    print(f.read())"
   ]
  },
  {
   "cell_type": "code",
   "execution_count": null,
   "id": "717633c1-6bad-4fb8-8360-91cf74b3624e",
   "metadata": {},
   "outputs": [],
   "source": [
    "with open('document.sch', 'r') as f:\n",
    "    sch = etree.Schematron(etree.parse(StringIO(f.read())))"
   ]
  },
  {
   "cell_type": "code",
   "execution_count": null,
   "id": "7b25b500-d61d-4226-a666-530b16eead90",
   "metadata": {},
   "outputs": [],
   "source": [
    "sch.validate(root)"
   ]
  },
  {
   "cell_type": "code",
   "execution_count": null,
   "id": "8d79614d-c21e-4a2a-98d8-46c728bb12ff",
   "metadata": {},
   "outputs": [],
   "source": [
    "sch.validate(tree)"
   ]
  },
  {
   "cell_type": "markdown",
   "id": "9c6aefab-64bb-4305-8a4f-040ae8ba7c9c",
   "metadata": {},
   "source": [
    "---"
   ]
  }
 ],
 "metadata": {
  "kernelspec": {
   "display_name": "Python 3 (ipykernel)",
   "language": "python",
   "name": "python3"
  },
  "language_info": {
   "codemirror_mode": {
    "name": "ipython",
    "version": 3
   },
   "file_extension": ".py",
   "mimetype": "text/x-python",
   "name": "python",
   "nbconvert_exporter": "python",
   "pygments_lexer": "ipython3",
   "version": "3.11.8"
  }
 },
 "nbformat": 4,
 "nbformat_minor": 5
}
