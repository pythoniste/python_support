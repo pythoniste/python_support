{
 "cells": [
  {
   "cell_type": "markdown",
   "id": "f4ebf608-5ba5-4843-84b3-a592cb2324a0",
   "metadata": {},
   "source": [
    "Définition de XML\n",
    "==\n",
    "\n",
    "Terminologie\n",
    "--\n",
    "\n",
    "**XML** est le sigle de **eXtensible Markup Language**, soit le langage de balisage générique extensible.\n",
    "\n",
    "Il a été conçu pour permettre le stockage d’informations de toute nature dans des fichiers *structurés en arborescence* via l’utilisation de **balises** qui forment les nœuds de l'arbre (</balise></balise>, <balise />).\n",
    "\n",
    "`<a><b></b></a>` est valide, mais pas `<a><b></a></b>`.\n",
    "\n",
    "Exemple : `<a><b></b><c></c></a>`\n",
    "\n",
    "* les nœuds b et c sont **frères**\n",
    "* les nœuds b et c sont **fils** de a\n",
    "* le nœuds est le **père** de b et de c\n",
    "* les nœuds b et c sont des **feuilles**, car il s’agit de nœuds ne contenant pas d’autres nœuds\n",
    "* le nœuds a est la **racine** de l'arbre (il ne peut y en avoir qu'une)\n",
    "\n",
    "*XML est un langage déclaratif de balisage générique et extensible dont le vocabulaire et la grammaire ne sont pas définis a priori.*\n",
    "\n",
    "Chargement d'un document XML\n",
    "--"
   ]
  },
  {
   "cell_type": "code",
   "execution_count": null,
   "id": "5756f353-2201-4535-861d-db125ce86157",
   "metadata": {},
   "outputs": [],
   "source": [
    "# You should execute this line to install pydantic and factory_boy\n",
    "import subprocess\n",
    "print(subprocess.getstatusoutput(\"pip install lxml\"))"
   ]
  },
  {
   "cell_type": "code",
   "execution_count": null,
   "id": "38d929c2-4096-4073-ad33-d2bd8b08f434",
   "metadata": {},
   "outputs": [],
   "source": [
    "with open('document.xml') as f:\n",
    "    print(f.read())"
   ]
  },
  {
   "cell_type": "code",
   "execution_count": null,
   "id": "7eba08f2-0256-4010-874e-0746494cc360",
   "metadata": {},
   "outputs": [],
   "source": [
    "from lxml import etree"
   ]
  },
  {
   "cell_type": "code",
   "execution_count": null,
   "id": "35dfb033-dc0c-44ec-a5df-35f7a8f63c44",
   "metadata": {},
   "outputs": [],
   "source": [
    "with open('document.xml') as f:\n",
    "    tree = etree.parse(f)"
   ]
  },
  {
   "cell_type": "code",
   "execution_count": null,
   "id": "8605552f-8a4b-401b-b8a9-6ae96fc3a6d2",
   "metadata": {},
   "outputs": [],
   "source": [
    "root = tree.getroot()"
   ]
  },
  {
   "cell_type": "code",
   "execution_count": null,
   "id": "37629c0b-fd8e-4d66-9be7-e09e9575ef69",
   "metadata": {},
   "outputs": [],
   "source": [
    "print(root)"
   ]
  },
  {
   "cell_type": "code",
   "execution_count": null,
   "id": "0657518b-2b67-4300-ad34-756564e608f2",
   "metadata": {},
   "outputs": [],
   "source": [
    "root.items()"
   ]
  },
  {
   "cell_type": "code",
   "execution_count": null,
   "id": "633601fb-41ce-4731-8409-bec5dadba8d4",
   "metadata": {},
   "outputs": [],
   "source": [
    "root.getchildren()"
   ]
  },
  {
   "cell_type": "code",
   "execution_count": null,
   "id": "94d0b849-7e3a-4316-b61f-00f61db12503",
   "metadata": {},
   "outputs": [],
   "source": [
    "p1, p2, p3 = root.getchildren()"
   ]
  },
  {
   "cell_type": "code",
   "execution_count": null,
   "id": "23bc01bd-6483-4213-bf8b-83cf5014ff47",
   "metadata": {},
   "outputs": [],
   "source": [
    "print(p1)"
   ]
  },
  {
   "cell_type": "code",
   "execution_count": null,
   "id": "94dcc992-04b8-456f-86f4-b011fd757e1e",
   "metadata": {},
   "outputs": [],
   "source": [
    "p1.getchildren()"
   ]
  },
  {
   "cell_type": "code",
   "execution_count": null,
   "id": "849cffc4-04f7-47a0-9f89-1372e4695222",
   "metadata": {},
   "outputs": [],
   "source": [
    "p1.keys()"
   ]
  },
  {
   "cell_type": "code",
   "execution_count": null,
   "id": "31a21bc9-c531-4e78-8668-88217d284c7b",
   "metadata": {},
   "outputs": [],
   "source": [
    "p1.values()"
   ]
  },
  {
   "cell_type": "code",
   "execution_count": null,
   "id": "9ac35d70-dbdc-480c-aec8-87d4bfa47358",
   "metadata": {},
   "outputs": [],
   "source": [
    "p1.items()"
   ]
  },
  {
   "cell_type": "code",
   "execution_count": null,
   "id": "4e13c9aa-3f74-4a5e-9dfc-2f92d506c28f",
   "metadata": {},
   "outputs": [],
   "source": [
    "p3.keys()"
   ]
  },
  {
   "cell_type": "code",
   "execution_count": null,
   "id": "9a86c8a7-6f55-4d2d-951f-d4392cc8364a",
   "metadata": {},
   "outputs": [],
   "source": [
    "p3.values()"
   ]
  },
  {
   "cell_type": "code",
   "execution_count": null,
   "id": "51b31f77-5950-4965-90b5-3243a9b547a9",
   "metadata": {},
   "outputs": [],
   "source": [
    "p3.items()"
   ]
  },
  {
   "cell_type": "code",
   "execution_count": null,
   "id": "8e82b28a-4b96-4086-853a-de3de8ed3d15",
   "metadata": {},
   "outputs": [],
   "source": [
    "p2.text"
   ]
  },
  {
   "cell_type": "code",
   "execution_count": null,
   "id": "91bdb30d-0705-4c7d-9ea6-8d93b46105cc",
   "metadata": {},
   "outputs": [],
   "source": [
    "{node.get('id'): node.get('nom') for node in root.getchildren()}"
   ]
  },
  {
   "cell_type": "markdown",
   "id": "0f4e3468-9449-4707-9ee3-11743f482ed2",
   "metadata": {},
   "source": [
    "Mini-DOM\n",
    "--"
   ]
  },
  {
   "cell_type": "code",
   "execution_count": null,
   "id": "12acf2bb-37d7-441f-afa9-df57dd51f487",
   "metadata": {},
   "outputs": [],
   "source": [
    "from xml.dom.minidom import parse, Node"
   ]
  },
  {
   "cell_type": "code",
   "execution_count": null,
   "id": "f51cd7f8-f7e6-445d-b1dd-5b2464c42113",
   "metadata": {},
   "outputs": [],
   "source": [
    "document = parse('document.xml')"
   ]
  },
  {
   "cell_type": "code",
   "execution_count": null,
   "id": "fb2d911d-df46-443b-abf7-1fa2f929e9e7",
   "metadata": {},
   "outputs": [],
   "source": [
    "print(document)"
   ]
  },
  {
   "cell_type": "code",
   "execution_count": null,
   "id": "24a2d751-7f12-448b-b65a-3c24301e9957",
   "metadata": {},
   "outputs": [],
   "source": [
    "[dict(n.attributes.items()) for n in document.documentElement.childNodes if n.nodeType == Node.ELEMENT_NODE]"
   ]
  },
  {
   "cell_type": "markdown",
   "id": "99370bff-c0d9-4b61-bc77-007e096e82bd",
   "metadata": {},
   "source": [
    "Modification d'un document XML\n",
    "--"
   ]
  },
  {
   "cell_type": "code",
   "execution_count": null,
   "id": "49be939b-32c6-47bd-8d30-d6fd2a10c5e6",
   "metadata": {},
   "outputs": [],
   "source": [
    "p3.attrib.update({\"nom\": \"Slash\"})"
   ]
  },
  {
   "cell_type": "code",
   "execution_count": null,
   "id": "c86a13d0-9a01-419c-a181-91e2589dc287",
   "metadata": {},
   "outputs": [],
   "source": [
    "p3.items()"
   ]
  },
  {
   "cell_type": "code",
   "execution_count": null,
   "id": "55e3c73c-bf48-41fd-b73d-afe7a9956984",
   "metadata": {},
   "outputs": [],
   "source": [
    "{node.get('id'): node.get('nom') for node in root.getchildren()}"
   ]
  },
  {
   "cell_type": "code",
   "execution_count": null,
   "id": "934c638c-9804-432c-af3e-e2beb787247a",
   "metadata": {},
   "outputs": [],
   "source": [
    "help(root.makeelement)"
   ]
  },
  {
   "cell_type": "code",
   "execution_count": null,
   "id": "8da21062-23a8-43f1-b01a-2d775f6b20a4",
   "metadata": {},
   "outputs": [],
   "source": [
    "p4 = root.makeelement(\"personne\", {\"id\": \"4\", \"nom\": \"Brian May\"})"
   ]
  },
  {
   "cell_type": "code",
   "execution_count": null,
   "id": "3a71d568-b133-45fd-b545-e43d9995f530",
   "metadata": {},
   "outputs": [],
   "source": [
    "p4"
   ]
  },
  {
   "cell_type": "code",
   "execution_count": null,
   "id": "1a210432-102a-41c6-b4ba-553e080938d7",
   "metadata": {},
   "outputs": [],
   "source": [
    "p4.items()"
   ]
  },
  {
   "cell_type": "code",
   "execution_count": null,
   "id": "09cd61da-9a07-467c-9695-885758eaebc3",
   "metadata": {},
   "outputs": [],
   "source": [
    "root.append(p4)"
   ]
  },
  {
   "cell_type": "code",
   "execution_count": null,
   "id": "0ccfba74-136d-4724-a4ac-0f24d2943d2b",
   "metadata": {},
   "outputs": [],
   "source": [
    "root.getchildren()"
   ]
  },
  {
   "cell_type": "code",
   "execution_count": null,
   "id": "eef85c38-d28f-4647-890b-c42a21f38163",
   "metadata": {},
   "outputs": [],
   "source": [
    "{node.get('id'): node.get('nom') for node in root.getchildren()}"
   ]
  },
  {
   "cell_type": "code",
   "execution_count": null,
   "id": "cd7a3534-66c3-4f36-a5c7-0291b96d76e7",
   "metadata": {},
   "outputs": [],
   "source": [
    "etree.indent(root, space=\"    \")\n",
    "print(etree.tostring(root, pretty_print=True).decode())"
   ]
  },
  {
   "cell_type": "code",
   "execution_count": null,
   "id": "1dd5213d-c1e6-42b4-88f9-5e1db2849d24",
   "metadata": {},
   "outputs": [],
   "source": [
    "with open(\"document_2.xml\", \"w\") as f:\n",
    "    f.write(etree.tostring(root, pretty_print=True).decode())"
   ]
  },
  {
   "cell_type": "code",
   "execution_count": null,
   "id": "8732a1e8-8225-4515-ac0f-56f6af05c693",
   "metadata": {},
   "outputs": [],
   "source": [
    "with open(\"document_2.xml\") as f:\n",
    "    print(f.read())"
   ]
  },
  {
   "cell_type": "markdown",
   "id": "f659967e-e316-47a8-83b1-49c7d8047af6",
   "metadata": {},
   "source": [
    "Création d'un document avec mini-DOM\n",
    "--"
   ]
  },
  {
   "cell_type": "code",
   "execution_count": null,
   "id": "f5e24471-400c-42a8-afdf-9c511b4bcd33",
   "metadata": {},
   "outputs": [],
   "source": [
    "from xml.dom.minidom import Document"
   ]
  },
  {
   "cell_type": "code",
   "execution_count": null,
   "id": "2a7d6807-d1cc-4502-b687-6be21acbb2f8",
   "metadata": {},
   "outputs": [],
   "source": [
    "document = Document()"
   ]
  },
  {
   "cell_type": "code",
   "execution_count": null,
   "id": "303f2326-6c51-4178-a898-bc77fd8463ad",
   "metadata": {},
   "outputs": [],
   "source": [
    "root = document.createElement(\"liste\")"
   ]
  },
  {
   "cell_type": "code",
   "execution_count": null,
   "id": "42905937-3d31-48b2-94a9-01973a75be82",
   "metadata": {},
   "outputs": [],
   "source": [
    "child = document.createElement('personne')"
   ]
  },
  {
   "cell_type": "code",
   "execution_count": null,
   "id": "199d0351-fdd9-4c74-9c07-eba71733a0aa",
   "metadata": {},
   "outputs": [],
   "source": [
    "child.setAttribute('id', '5')"
   ]
  },
  {
   "cell_type": "code",
   "execution_count": null,
   "id": "192a500d-1a81-4dbc-be28-b0cb0b605663",
   "metadata": {},
   "outputs": [],
   "source": [
    "child.setAttribute('nom', 'Frank Zappa')"
   ]
  },
  {
   "cell_type": "code",
   "execution_count": null,
   "id": "ff38a479-af57-4774-84a3-3e85159751d8",
   "metadata": {},
   "outputs": [],
   "source": [
    "root.appendChild(child)"
   ]
  },
  {
   "cell_type": "code",
   "execution_count": null,
   "id": "43088625-eee2-49cf-af77-fd2212c11e60",
   "metadata": {},
   "outputs": [],
   "source": [
    "document.appendChild(root)"
   ]
  },
  {
   "cell_type": "code",
   "execution_count": null,
   "id": "63e82893-ee79-496c-a8aa-a3412ac9ad8a",
   "metadata": {},
   "outputs": [],
   "source": [
    "print(document.toprettyxml())"
   ]
  },
  {
   "cell_type": "code",
   "execution_count": null,
   "id": "ba3aee7e-e24d-4eb0-9589-6cb2aa17c2f8",
   "metadata": {},
   "outputs": [],
   "source": [
    "with open(\"document_2.xml\", \"w\") as f:\n",
    "    f.write(document.toprettyxml())"
   ]
  },
  {
   "cell_type": "code",
   "execution_count": null,
   "id": "0df5def1-efbd-478a-a74d-2ab4c0364d03",
   "metadata": {},
   "outputs": [],
   "source": [
    "with open(\"document_2.xml\") as f:\n",
    "    print(f.read())"
   ]
  },
  {
   "cell_type": "markdown",
   "id": "9c6aefab-64bb-4305-8a4f-040ae8ba7c9c",
   "metadata": {},
   "source": [
    "---"
   ]
  }
 ],
 "metadata": {
  "kernelspec": {
   "display_name": "Python 3 (ipykernel)",
   "language": "python",
   "name": "python3"
  },
  "language_info": {
   "codemirror_mode": {
    "name": "ipython",
    "version": 3
   },
   "file_extension": ".py",
   "mimetype": "text/x-python",
   "name": "python",
   "nbconvert_exporter": "python",
   "pygments_lexer": "ipython3",
   "version": "3.11.8"
  }
 },
 "nbformat": 4,
 "nbformat_minor": 5
}
